{
 "cells": [
  {
   "cell_type": "markdown",
   "metadata": {},
   "source": [
    "# Matrix Factorisation\n",
    "\n",
    "In this short post, we'll look at how we can factorise a matrix transform.\n",
    "\n",
    "As a matrix multiplication is a linear transformation, we can decompose it into a series of separate smaller multiplications."
   ]
  },
  {
   "cell_type": "code",
   "execution_count": 1,
   "metadata": {},
   "outputs": [],
   "source": [
    "import numpy as np"
   ]
  },
  {
   "cell_type": "code",
   "execution_count": 2,
   "metadata": {},
   "outputs": [
    {
     "name": "stdout",
     "output_type": "stream",
     "text": [
      "[[118 110  51 202  31  86 194 131]\n",
      " [ 96  87 182  40 108  49   4 203]\n",
      " [151 190 101 118 131  27 202 102]\n",
      " [158  41  28  51 145 203 227 198]\n",
      " [ 32 167  95 223  65 170  57  24]\n",
      " [ 55 102 160 179  72 181  71 208]\n",
      " [ 64   7  55  13  37 197  55 121]\n",
      " [243  10  11 247  16 234  15 108]]\n"
     ]
    }
   ],
   "source": [
    "# Generate random 8 by 8 matrix\n",
    "rand_mat = np.random.randint(255, size=(8, 8))\n",
    "print(rand_mat)"
   ]
  },
  {
   "cell_type": "code",
   "execution_count": 7,
   "metadata": {},
   "outputs": [],
   "source": [
    "# Function to partition a matrix by reshaping and swapping axes\n",
    "def partition_matrix(matrix, vec_len):\n",
    "    \"\"\"Partition a matrix to clustered blocks of size vec_len^2.\"\"\"\n",
    "    rows = matrix.shape[0] // vec_len\n",
    "    cols = matrix.shape[1] // vec_len\n",
    "    return matrix.reshape(rows, vec_len, cols, vec_len).swapaxes(2, 1)"
   ]
  },
  {
   "cell_type": "code",
   "execution_count": 8,
   "metadata": {
    "scrolled": true
   },
   "outputs": [
    {
     "name": "stdout",
     "output_type": "stream",
     "text": [
      "[[[[118 110]\n",
      "   [ 96  87]]\n",
      "\n",
      "  [[ 51 202]\n",
      "   [182  40]]\n",
      "\n",
      "  [[ 31  86]\n",
      "   [108  49]]\n",
      "\n",
      "  [[194 131]\n",
      "   [  4 203]]]\n",
      "\n",
      "\n",
      " [[[151 190]\n",
      "   [158  41]]\n",
      "\n",
      "  [[101 118]\n",
      "   [ 28  51]]\n",
      "\n",
      "  [[131  27]\n",
      "   [145 203]]\n",
      "\n",
      "  [[202 102]\n",
      "   [227 198]]]\n",
      "\n",
      "\n",
      " [[[ 32 167]\n",
      "   [ 55 102]]\n",
      "\n",
      "  [[ 95 223]\n",
      "   [160 179]]\n",
      "\n",
      "  [[ 65 170]\n",
      "   [ 72 181]]\n",
      "\n",
      "  [[ 57  24]\n",
      "   [ 71 208]]]\n",
      "\n",
      "\n",
      " [[[ 64   7]\n",
      "   [243  10]]\n",
      "\n",
      "  [[ 55  13]\n",
      "   [ 11 247]]\n",
      "\n",
      "  [[ 37 197]\n",
      "   [ 16 234]]\n",
      "\n",
      "  [[ 55 121]\n",
      "   [ 15 108]]]]\n"
     ]
    }
   ],
   "source": [
    "# Partition into 16 2x2 matrices\n",
    "partitioned = partition_matrix(rand_mat, 2); print(partitioned)"
   ]
  },
  {
   "cell_type": "code",
   "execution_count": 9,
   "metadata": {},
   "outputs": [
    {
     "data": {
      "text/plain": [
       "(4, 4, 2, 2)"
      ]
     },
     "execution_count": 9,
     "metadata": {},
     "output_type": "execute_result"
    }
   ],
   "source": [
    "# So we have a 4x4 matrix of 2x2 matrices\n",
    "partitioned.shape"
   ]
  },
  {
   "cell_type": "code",
   "execution_count": 13,
   "metadata": {},
   "outputs": [
    {
     "name": "stdout",
     "output_type": "stream",
     "text": [
      "[[226]\n",
      " [ 26]\n",
      " [ 21]\n",
      " [219]\n",
      " [103]\n",
      " [153]\n",
      " [144]\n",
      " [164]]\n"
     ]
    }
   ],
   "source": [
    "# Generate an X vector of length 8\n",
    "X = np.random.randint(255, size=(8, 1)); print(X)"
   ]
  },
  {
   "cell_type": "code",
   "execution_count": 15,
   "metadata": {},
   "outputs": [
    {
     "name": "stdout",
     "output_type": "stream",
     "text": [
      "[[140608]\n",
      " [ 89029]\n",
      " [130469]\n",
      " [159685]\n",
      " [107255]\n",
      " [137088]\n",
      " [ 80364]\n",
      " [166824]]\n"
     ]
    }
   ],
   "source": [
    "# Determine M*X\n",
    "product = np.dot(rand_mat, X); print(product)"
   ]
  },
  {
   "cell_type": "code",
   "execution_count": 32,
   "metadata": {},
   "outputs": [
    {
     "name": "stdout",
     "output_type": "stream",
     "text": [
      "[[151 190]\n",
      " [158  41]]\n",
      "[[226]\n",
      " [ 26]]\n",
      "[[39066]\n",
      " [36774]]\n",
      "\n",
      "[[101 118]\n",
      " [ 28  51]]\n",
      "[[ 21]\n",
      " [219]]\n",
      "[[27963]\n",
      " [11757]]\n",
      "\n",
      "[[131  27]\n",
      " [145 203]]\n",
      "[[103]\n",
      " [153]]\n",
      "[[17624]\n",
      " [45994]]\n",
      "\n",
      "[[202 102]\n",
      " [227 198]]\n",
      "[[144]\n",
      " [164]]\n",
      "[[45816]\n",
      " [65160]]\n",
      "\n",
      "[[130469.]\n",
      " [159685.]]\n"
     ]
    }
   ],
   "source": [
    "first_sum = np.zeros(shape=(2, 1))\n",
    "for i in range(4):\n",
    "    sub_M = partitioned[1, i, :, :]\n",
    "    sub_X = X[2*i:2*i+2]\n",
    "    product = np.dot(sub_M, sub_X)\n",
    "    first_sum += product\n",
    "    print(sub_M, sub_X, product, sep=\"\\n\", end=\"\\n\\n\")\n",
    "print(first_sum)"
   ]
  },
  {
   "cell_type": "code",
   "execution_count": 23,
   "metadata": {},
   "outputs": [
    {
     "data": {
      "text/plain": [
       "array([[118, 110],\n",
       "       [ 96,  87]])"
      ]
     },
     "execution_count": 23,
     "metadata": {},
     "output_type": "execute_result"
    }
   ],
   "source": [
    "partitioned[0, 0, :, :]"
   ]
  },
  {
   "cell_type": "code",
   "execution_count": 24,
   "metadata": {},
   "outputs": [
    {
     "data": {
      "text/plain": [
       "array([[226],\n",
       "       [ 26]])"
      ]
     },
     "execution_count": 24,
     "metadata": {},
     "output_type": "execute_result"
    }
   ],
   "source": [
    "X[0:2]"
   ]
  },
  {
   "cell_type": "code",
   "execution_count": 25,
   "metadata": {},
   "outputs": [
    {
     "data": {
      "text/plain": [
       "array([[47250],\n",
       "       [ 6182]])"
      ]
     },
     "execution_count": 25,
     "metadata": {},
     "output_type": "execute_result"
    }
   ],
   "source": [
    "np.dot(sub_M, X[0:2])"
   ]
  },
  {
   "cell_type": "code",
   "execution_count": 26,
   "metadata": {},
   "outputs": [
    {
     "data": {
      "text/plain": [
       "array([[ 51, 202],\n",
       "       [182,  40]])"
      ]
     },
     "execution_count": 26,
     "metadata": {},
     "output_type": "execute_result"
    }
   ],
   "source": [
    "partitioned[0, 1, :, :]"
   ]
  },
  {
   "cell_type": "code",
   "execution_count": null,
   "metadata": {},
   "outputs": [],
   "source": []
  }
 ],
 "metadata": {
  "kernelspec": {
   "display_name": "Python 3",
   "language": "python",
   "name": "python3"
  },
  "language_info": {
   "codemirror_mode": {
    "name": "ipython",
    "version": 3
   },
   "file_extension": ".py",
   "mimetype": "text/x-python",
   "name": "python",
   "nbconvert_exporter": "python",
   "pygments_lexer": "ipython3",
   "version": "3.6.8"
  }
 },
 "nbformat": 4,
 "nbformat_minor": 2
}
