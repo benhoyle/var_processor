{
 "cells": [
  {
   "cell_type": "code",
   "execution_count": 2,
   "metadata": {},
   "outputs": [],
   "source": [
    "import numpy as np\n",
    "from src.var_processor.vpu import VPUBinaryZM\n",
    "from src.tests.vpu_wrapper import VPUWrapper, signal_pre_processor"
   ]
  },
  {
   "cell_type": "code",
   "execution_count": 3,
   "metadata": {},
   "outputs": [
    {
     "name": "stderr",
     "output_type": "stream",
     "text": [
      "/home/ben/projects/var_processor/src/var_processor/power_iterator.py:39: RuntimeWarning: invalid value encountered in true_divide\n",
      "  self.ev = self.ev / np.linalg.norm(self.ev)\n",
      "/home/ben/projects/var_processor/src/var_processor/vpu.py:212: RuntimeWarning: invalid value encountered in greater\n",
      "  binary_values = np.where(np.abs(pred_inputs) > rand_val, 1, 0)\n"
     ]
    },
    {
     "name": "stdout",
     "output_type": "stream",
     "text": [
      "\n",
      "  _     ._   __/__   _ _  _  _ _/_   Recorded: 13:51:04  Samples:  94487\n",
      " /_//_/// /_\\ / //_// / //_'/ //     Duration: 94.800    CPU time: 94.775\n",
      "/   _/                      v3.1.3\n",
      "\n",
      "Program: /home/ben/anaconda3/envs/var_processor/lib/python3.6/site-packages/ipykernel_launcher.py -f /run/user/1000/jupyter/kernel-47ca8525-9056-407b-9c53-6a974db90f3b.json\n",
      "\n",
      "\u001b[31m94.800\u001b[0m run_code\u001b[0m  \u001b[2mIPython/core/interactiveshell.py:3254\u001b[0m\n",
      "└─ \u001b[31m94.800\u001b[0m \u001b[48;5;24m\u001b[38;5;15m<module>\u001b[0m  \u001b[2m<ipython-input-3-796c5b4397d9>:11\u001b[0m\n",
      "   ├─ \u001b[31m90.140\u001b[0m \u001b[48;5;24m\u001b[38;5;15miterate\u001b[0m  \u001b[2msrc/tests/vpu_wrapper.py:63\u001b[0m\n",
      "   │  ├─ \u001b[33m46.502\u001b[0m \u001b[48;5;24m\u001b[38;5;15madd_to_array\u001b[0m  \u001b[2msrc/tests/vpu_wrapper.py:8\u001b[0m\n",
      "   │  │  ├─ \u001b[33m38.779\u001b[0m roll\u001b[0m  \u001b[2mnumpy/core/numeric.py:1401\u001b[0m\n",
      "   │  │  │     [10 frames hidden]  \u001b[2mnumpy\u001b[0m\n",
      "   │  │  │        \u001b[33m32.591\u001b[0m [self]\u001b[0m  \u001b[2m\u001b[0m\n",
      "   │  │  └─ \u001b[32m7.723\u001b[0m [self]\u001b[0m  \u001b[2m\u001b[0m\n",
      "   │  ├─ \u001b[33m19.319\u001b[0m \u001b[48;5;24m\u001b[38;5;15mupdate_cov\u001b[0m  \u001b[2msrc/var_processor/vpu.py:104\u001b[0m\n",
      "   │  │  ├─ \u001b[32m12.002\u001b[0m \u001b[48;5;24m\u001b[38;5;15miterate\u001b[0m  \u001b[2msrc/var_processor/power_iterator.py:25\u001b[0m\n",
      "   │  │  │  ├─ \u001b[32m5.054\u001b[0m [self]\u001b[0m  \u001b[2m\u001b[0m\n",
      "   │  │  │  ├─ \u001b[92m\u001b[2m4.286\u001b[0m norm\u001b[0m  \u001b[2mnumpy/linalg/linalg.py:2293\u001b[0m\n",
      "   │  │  │  │     [6 frames hidden]  \u001b[2mnumpy\u001b[0m\n",
      "   │  │  │  └─ \u001b[92m\u001b[2m2.518\u001b[0m _any\u001b[0m  \u001b[2mnumpy/core/_methods.py:42\u001b[0m\n",
      "   │  │  │        [2 frames hidden]  \u001b[2mnumpy\u001b[0m\n",
      "   │  │  ├─ \u001b[32m4.968\u001b[0m \u001b[48;5;24m\u001b[38;5;15mupdate\u001b[0m  \u001b[2msrc/var_processor/covariance.py:68\u001b[0m\n",
      "   │  │  └─ \u001b[92m\u001b[2m1.495\u001b[0m \u001b[48;5;24m\u001b[38;5;15mcovariance\u001b[0m  \u001b[2msrc/var_processor/covariance.py:89\u001b[0m\n",
      "   │  ├─ \u001b[32m9.978\u001b[0m \u001b[48;5;24m\u001b[38;5;15mforward\u001b[0m  \u001b[2msrc/var_processor/vpu.py:67\u001b[0m\n",
      "   │  │  └─ \u001b[32m8.025\u001b[0m \u001b[48;5;24m\u001b[38;5;15mr_forward_processing\u001b[0m  \u001b[2msrc/var_processor/vpu.py:191\u001b[0m\n",
      "   │  ├─ \u001b[32m9.654\u001b[0m \u001b[48;5;24m\u001b[38;5;15mbackward\u001b[0m  \u001b[2msrc/var_processor/vpu.py:85\u001b[0m\n",
      "   │  │  ├─ \u001b[32m6.001\u001b[0m \u001b[48;5;24m\u001b[38;5;15mpred_input_processing\u001b[0m  \u001b[2msrc/var_processor/vpu.py:208\u001b[0m\n",
      "   │  │  └─ \u001b[92m\u001b[2m1.274\u001b[0m \u001b[48;5;24m\u001b[38;5;15mr_backward_processing\u001b[0m  \u001b[2msrc/var_processor/vpu.py:202\u001b[0m\n",
      "   │  └─ \u001b[92m\u001b[2m4.687\u001b[0m [self]\u001b[0m  \u001b[2m\u001b[0m\n",
      "   ├─ \u001b[92m\u001b[2m2.698\u001b[0m \u001b[48;5;24m\u001b[38;5;15msignal_pre_processor\u001b[0m  \u001b[2msrc/tests/vpu_wrapper.py:24\u001b[0m\n",
      "   └─ \u001b[92m\u001b[2m1.933\u001b[0m [self]\u001b[0m  \u001b[2m\u001b[0m\n",
      "\n",
      "\n"
     ]
    }
   ],
   "source": [
    "from pyinstrument import Profiler\n",
    "\n",
    "profiler = Profiler()\n",
    "profiler.start()\n",
    "\n",
    "# code you want to profile ----- #\n",
    "# Try four VPUs with L = 4\n",
    "size = 4\n",
    "residual_array = np.zeros(shape=(size, 100, size))\n",
    "sum_err = np.zeros(shape=(size, 100))\n",
    "for i in range(0, 100):\n",
    "    # Initialise two VPUs and wrappers\n",
    "    data_in = np.random.randint(255, size=(size, 1))\n",
    "    mean = np.asarray([128]*size).reshape(-1, 1)\n",
    "    vpus = [VPUBinaryZM(size) for _ in range(0, size)]\n",
    "    wrappers = [VPUWrapper(vpu) for vpu in vpus]\n",
    "    for _ in range(0, 1000):\n",
    "        # First VPU\n",
    "        input_signal = signal_pre_processor(data_in, mean)\n",
    "        for w, wrapper in enumerate(wrappers):\n",
    "            _, _, residual = wrapper.iterate(input_signal)\n",
    "            residual_array[:, i, w] = residual.flatten()\n",
    "            input_signal = residual\n",
    "    pred_sum = 0\n",
    "    for wrapper in wrappers:\n",
    "        pred_sum\n",
    "    pred_estimate_sum = np.asarray([wrap.pred_estimate for wrap in wrappers]).sum(axis=0)\n",
    "    scale_factor = np.minimum(mean, 255-mean)\n",
    "    est = (mean+pred_estimate_sum*scale_factor).astype(np.uint8)\n",
    "    sum_err[:, i] = (data_in - est).flatten()\n",
    "    # print(f\"Data: {data_in} - Estimate: {est}\\n\")\n",
    "MSE = np.abs(sum_err.astype(np.int8)).mean(axis=1); MSE\n",
    "\n",
    "# ----- #\n",
    "\n",
    "profiler.stop()\n",
    "\n",
    "print(profiler.output_text(unicode=True, color=True))"
   ]
  },
  {
   "cell_type": "markdown",
   "metadata": {},
   "source": [
    "Interesting:\n",
    "* Adding to the array takes up about half the time. \n",
    "* Forward takes longer than backward.\n",
    "* Linalg takes 4 seconds on each power iteration.\n",
    "* The non_linearity is not needed on the wrapper.\n",
    "* Update cov takes the same time as the backward and forward passes - we can half iteration time by not constantly updating the cov and the eigenvector."
   ]
  },
  {
   "cell_type": "code",
   "execution_count": null,
   "metadata": {},
   "outputs": [],
   "source": [
    "# Generate random length 4 array\n",
    "rand_vec = np.random.uniform(size=(4, 1)); rand_vec"
   ]
  },
  {
   "cell_type": "code",
   "execution_count": null,
   "metadata": {},
   "outputs": [],
   "source": [
    "%%timeit\n",
    "a = np.sqrt((rand_vec**2).sum())"
   ]
  },
  {
   "cell_type": "code",
   "execution_count": null,
   "metadata": {},
   "outputs": [],
   "source": [
    "%%timeit\n",
    "b = np.abs(rand_vec).sum()"
   ]
  },
  {
   "cell_type": "code",
   "execution_count": null,
   "metadata": {},
   "outputs": [],
   "source": [
    "%%timeit\n",
    "c = np.linalg.norm(rand_vec)"
   ]
  },
  {
   "cell_type": "code",
   "execution_count": null,
   "metadata": {},
   "outputs": [],
   "source": [
    "a = np.sqrt((rand_vec**2).sum())\n",
    "b = np.abs(rand_vec).sum()\n",
    "c = np.linalg.norm(rand_vec)\n",
    "print(a, b, c)"
   ]
  },
  {
   "cell_type": "code",
   "execution_count": 4,
   "metadata": {},
   "outputs": [],
   "source": [
    "from src.var_processor.vpu8bit import BinaryVPU"
   ]
  },
  {
   "cell_type": "code",
   "execution_count": 5,
   "metadata": {},
   "outputs": [
    {
     "name": "stdout",
     "output_type": "stream",
     "text": [
      "\n",
      "  _     ._   __/__   _ _  _  _ _/_   Recorded: 13:54:01  Samples:  122883\n",
      " /_//_/// /_\\ / //_// / //_'/ //     Duration: 123.346   CPU time: 123.341\n",
      "/   _/                      v3.1.3\n",
      "\n",
      "Program: /home/ben/anaconda3/envs/var_processor/lib/python3.6/site-packages/ipykernel_launcher.py -f /run/user/1000/jupyter/kernel-47ca8525-9056-407b-9c53-6a974db90f3b.json\n",
      "\n",
      "\u001b[31m123.346\u001b[0m run_code\u001b[0m  \u001b[2mIPython/core/interactiveshell.py:3254\u001b[0m\n",
      "└─ \u001b[31m123.346\u001b[0m \u001b[48;5;24m\u001b[38;5;15m<module>\u001b[0m  \u001b[2m<ipython-input-5-de7830707d60>:11\u001b[0m\n",
      "   ├─ \u001b[31m118.745\u001b[0m \u001b[48;5;24m\u001b[38;5;15miterate\u001b[0m  \u001b[2msrc/tests/vpu_wrapper.py:63\u001b[0m\n",
      "   │  ├─ \u001b[33m47.088\u001b[0m \u001b[48;5;24m\u001b[38;5;15madd_to_array\u001b[0m  \u001b[2msrc/tests/vpu_wrapper.py:8\u001b[0m\n",
      "   │  │  ├─ \u001b[33m39.215\u001b[0m roll\u001b[0m  \u001b[2mnumpy/core/numeric.py:1401\u001b[0m\n",
      "   │  │  │     [10 frames hidden]  \u001b[2mnumpy\u001b[0m\n",
      "   │  │  │        \u001b[33m33.178\u001b[0m [self]\u001b[0m  \u001b[2m\u001b[0m\n",
      "   │  │  └─ \u001b[32m7.873\u001b[0m [self]\u001b[0m  \u001b[2m\u001b[0m\n",
      "   │  ├─ \u001b[33m31.751\u001b[0m \u001b[48;5;24m\u001b[38;5;15mupdate_cov\u001b[0m  \u001b[2msrc/var_processor/vpu8bit.py:107\u001b[0m\n",
      "   │  │  ├─ \u001b[32m14.978\u001b[0m \u001b[48;5;24m\u001b[38;5;15mupdate_cov\u001b[0m  \u001b[2msrc/var_processor/covariance8bit.py:34\u001b[0m\n",
      "   │  │  │  ├─ \u001b[32m12.880\u001b[0m [self]\u001b[0m  \u001b[2m\u001b[0m\n",
      "   │  │  │  └─ \u001b[92m\u001b[2m2.098\u001b[0m \u001b[48;5;24m\u001b[38;5;15mrecursive_update\u001b[0m  \u001b[2msrc/var_processor/covariance8bit.py:51\u001b[0m\n",
      "   │  │  │     └─ \u001b[92m\u001b[2m2.028\u001b[0m [self]\u001b[0m  \u001b[2m\u001b[0m\n",
      "   │  │  └─ \u001b[32m14.369\u001b[0m \u001b[48;5;24m\u001b[38;5;15miterate\u001b[0m  \u001b[2msrc/var_processor/power_iterator8bit.py:53\u001b[0m\n",
      "   │  │     ├─ \u001b[32m10.035\u001b[0m \u001b[48;5;24m\u001b[38;5;15mnormalise\u001b[0m  \u001b[2msrc/var_processor/power_iterator8bit.py:6\u001b[0m\n",
      "   │  │     │  ├─ \u001b[32m7.861\u001b[0m [self]\u001b[0m  \u001b[2m\u001b[0m\n",
      "   │  │     │  └─ \u001b[92m\u001b[2m2.174\u001b[0m _sum\u001b[0m  \u001b[2mnumpy/core/_methods.py:34\u001b[0m\n",
      "   │  │     │        [2 frames hidden]  \u001b[2mnumpy\u001b[0m\n",
      "   │  │     ├─ \u001b[92m\u001b[2m2.247\u001b[0m [self]\u001b[0m  \u001b[2m\u001b[0m\n",
      "   │  │     └─ \u001b[92m\u001b[2m2.088\u001b[0m _any\u001b[0m  \u001b[2mnumpy/core/_methods.py:42\u001b[0m\n",
      "   │  │           [2 frames hidden]  \u001b[2mnumpy\u001b[0m\n",
      "   │  ├─ \u001b[32m22.532\u001b[0m \u001b[48;5;24m\u001b[38;5;15mforward\u001b[0m  \u001b[2msrc/var_processor/vpu8bit.py:70\u001b[0m\n",
      "   │  │  ├─ \u001b[32m10.136\u001b[0m \u001b[48;5;24m\u001b[38;5;15mr_forward_processing\u001b[0m  \u001b[2msrc/var_processor/vpu8bit.py:151\u001b[0m\n",
      "   │  │  │  ├─ \u001b[32m8.306\u001b[0m \u001b[48;5;24m\u001b[38;5;15mternary_pbt\u001b[0m  \u001b[2msrc/var_processor/pb_threshold.py:56\u001b[0m\n",
      "   │  │  │  └─ \u001b[92m\u001b[2m1.830\u001b[0m [self]\u001b[0m  \u001b[2m\u001b[0m\n",
      "   │  │  ├─ \u001b[32m9.011\u001b[0m \u001b[48;5;24m\u001b[38;5;15mforward_processing\u001b[0m  \u001b[2msrc/var_processor/vpu8bit.py:145\u001b[0m\n",
      "   │  │  │  ├─ \u001b[92m\u001b[2m3.867\u001b[0m norm\u001b[0m  \u001b[2mnumpy/linalg/linalg.py:2293\u001b[0m\n",
      "   │  │  │  │     [6 frames hidden]  \u001b[2mnumpy\u001b[0m\n",
      "   │  │  │  ├─ \u001b[92m\u001b[2m3.399\u001b[0m [self]\u001b[0m  \u001b[2m\u001b[0m\n",
      "   │  │  │  └─ \u001b[92m\u001b[2m1.745\u001b[0m _any\u001b[0m  \u001b[2mnumpy/core/_methods.py:42\u001b[0m\n",
      "   │  │  │        [2 frames hidden]  \u001b[2mnumpy\u001b[0m\n",
      "   │  │  └─ \u001b[92m\u001b[2m1.243\u001b[0m \u001b[48;5;24m\u001b[38;5;15meigenvector\u001b[0m  \u001b[2msrc/var_processor/power_iterator8bit.py:73\u001b[0m\n",
      "   │  ├─ \u001b[32m13.632\u001b[0m \u001b[48;5;24m\u001b[38;5;15mbackward\u001b[0m  \u001b[2msrc/var_processor/vpu8bit.py:88\u001b[0m\n",
      "   │  │  ├─ \u001b[32m10.118\u001b[0m \u001b[48;5;24m\u001b[38;5;15mpred_input_processing\u001b[0m  \u001b[2msrc/var_processor/vpu8bit.py:158\u001b[0m\n",
      "   │  │  │  ├─ \u001b[32m6.442\u001b[0m \u001b[48;5;24m\u001b[38;5;15mternary_pbt\u001b[0m  \u001b[2msrc/var_processor/pb_threshold.py:56\u001b[0m\n",
      "   │  │  │  └─ \u001b[92m\u001b[2m2.749\u001b[0m [self]\u001b[0m  \u001b[2m\u001b[0m\n",
      "   │  │  └─ \u001b[92m\u001b[2m1.521\u001b[0m \u001b[48;5;24m\u001b[38;5;15mproject\u001b[0m  \u001b[2msrc/var_processor/vpu8bit.py:9\u001b[0m\n",
      "   │  └─ \u001b[92m\u001b[2m3.742\u001b[0m [self]\u001b[0m  \u001b[2m\u001b[0m\n",
      "   ├─ \u001b[92m\u001b[2m2.580\u001b[0m \u001b[48;5;24m\u001b[38;5;15msignal_pre_processor\u001b[0m  \u001b[2msrc/tests/vpu_wrapper.py:24\u001b[0m\n",
      "   └─ \u001b[92m\u001b[2m1.978\u001b[0m [self]\u001b[0m  \u001b[2m\u001b[0m\n",
      "\n",
      "\n"
     ]
    }
   ],
   "source": [
    "from pyinstrument import Profiler\n",
    "\n",
    "profiler = Profiler()\n",
    "profiler.start()\n",
    "\n",
    "# code you want to profile ----- #\n",
    "# Try four VPUs with L = 4\n",
    "size = 4\n",
    "residual_array = np.zeros(shape=(size, 100, size))\n",
    "sum_err = np.zeros(shape=(size, 100))\n",
    "for i in range(0, 100):\n",
    "    # Initialise two VPUs and wrappers\n",
    "    data_in = np.random.randint(254, size=(size, 1))\n",
    "    mean = np.asarray([127]*size).reshape(-1, 1)\n",
    "    vpus = [BinaryVPU(size) for _ in range(0, size)]\n",
    "    wrappers = [VPUWrapper(vpu) for vpu in vpus]\n",
    "    for _ in range(0, 1000):\n",
    "        # First VPU\n",
    "        input_signal = signal_pre_processor(data_in, mean)\n",
    "        for w, wrapper in enumerate(wrappers):\n",
    "            _, _, residual = wrapper.iterate(input_signal)\n",
    "            residual_array[:, i, w] = residual.flatten()\n",
    "            input_signal = residual\n",
    "    pred_sum = 0\n",
    "    for wrapper in wrappers:\n",
    "        pred_sum\n",
    "    pred_estimate_sum = np.asarray([wrap.pred_estimate for wrap in wrappers]).sum(axis=0)\n",
    "    scale_factor = np.minimum(mean, 254-mean)\n",
    "    est = (mean+pred_estimate_sum*scale_factor).astype(np.uint8)\n",
    "    sum_err[:, i] = (data_in - est).flatten()\n",
    "    # print(f\"Data: {data_in} - Estimate: {est}\\n\")\n",
    "MSE = np.abs(sum_err.astype(np.int8)).mean(axis=1); MSE\n",
    "\n",
    "# ----- #\n",
    "\n",
    "profiler.stop()\n",
    "\n",
    "print(profiler.output_text(unicode=True, color=True))"
   ]
  },
  {
   "cell_type": "markdown",
   "metadata": {},
   "source": [
    "Made it longer by 30 units! 128 vs 94. Mainly on the forward processing (22 vs 10) and update_cov (34 vs 19).\n",
    "\n",
    "Normalise and ternary PBT first options for speed-up.\n",
    "\n",
    "But at least now we are more accurate and better suited to convert directly to c-functions."
   ]
  }
 ],
 "metadata": {
  "kernelspec": {
   "display_name": "Python 3",
   "language": "python",
   "name": "python3"
  },
  "language_info": {
   "codemirror_mode": {
    "name": "ipython",
    "version": 3
   },
   "file_extension": ".py",
   "mimetype": "text/x-python",
   "name": "python",
   "nbconvert_exporter": "python",
   "pygments_lexer": "ipython3",
   "version": "3.6.8"
  }
 },
 "nbformat": 4,
 "nbformat_minor": 2
}
