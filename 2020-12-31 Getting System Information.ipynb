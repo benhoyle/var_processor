{
 "cells": [
  {
   "cell_type": "markdown",
   "metadata": {},
   "source": [
    "# Getting System Information\n",
    "\n",
    "We can do this using the [psutil](https://psutil.readthedocs.io/en/latest/) library.\n",
    "\n",
    "These recipes are quite good too - https://psutil.readthedocs.io/en/latest/#recipes."
   ]
  },
  {
   "cell_type": "code",
   "execution_count": 1,
   "metadata": {},
   "outputs": [],
   "source": [
    "import psutil"
   ]
  },
  {
   "cell_type": "code",
   "execution_count": 2,
   "metadata": {},
   "outputs": [
    {
     "data": {
      "text/plain": [
       "scputimes(user=182.24, nice=2.14, system=87.35, idle=14077.68, iowait=10.86, irq=0.0, softirq=10.43, steal=0.0, guest=0.0, guest_nice=0.0)"
      ]
     },
     "execution_count": 2,
     "metadata": {},
     "output_type": "execute_result"
    }
   ],
   "source": [
    "psutil.cpu_times()"
   ]
  },
  {
   "cell_type": "code",
   "execution_count": 3,
   "metadata": {},
   "outputs": [
    {
     "data": {
      "text/plain": [
       "33.3"
      ]
     },
     "execution_count": 3,
     "metadata": {},
     "output_type": "execute_result"
    }
   ],
   "source": [
    "psutil.cpu_percent()"
   ]
  },
  {
   "cell_type": "code",
   "execution_count": 29,
   "metadata": {},
   "outputs": [
    {
     "data": {
      "text/plain": [
       "[2.2, 1.8, 1.8, 2.1, 2.1, 2.3, 1.8, 1.7, 1.8, 3.1, 2.0, 2.2]"
      ]
     },
     "execution_count": 29,
     "metadata": {},
     "output_type": "execute_result"
    }
   ],
   "source": [
    "psutil.cpu_percent(percpu=True)"
   ]
  },
  {
   "cell_type": "code",
   "execution_count": 4,
   "metadata": {},
   "outputs": [
    {
     "data": {
      "text/plain": [
       "12"
      ]
     },
     "execution_count": 4,
     "metadata": {},
     "output_type": "execute_result"
    }
   ],
   "source": [
    "psutil.cpu_count()"
   ]
  },
  {
   "cell_type": "code",
   "execution_count": 5,
   "metadata": {},
   "outputs": [
    {
     "data": {
      "text/plain": [
       "scpufreq(current=2149.459083333333, min=2200.0, max=3600.0)"
      ]
     },
     "execution_count": 5,
     "metadata": {},
     "output_type": "execute_result"
    }
   ],
   "source": [
    "psutil.cpu_freq()"
   ]
  },
  {
   "cell_type": "code",
   "execution_count": 22,
   "metadata": {},
   "outputs": [
    {
     "data": {
      "text/plain": [
       "[scpufreq(current=2195.819, min=2200.0, max=3600.0),\n",
       " scpufreq(current=2740.326, min=2200.0, max=3600.0),\n",
       " scpufreq(current=1862.957, min=2200.0, max=3600.0),\n",
       " scpufreq(current=2203.779, min=2200.0, max=3600.0),\n",
       " scpufreq(current=2195.373, min=2200.0, max=3600.0),\n",
       " scpufreq(current=2196.327, min=2200.0, max=3600.0),\n",
       " scpufreq(current=2193.139, min=2200.0, max=3600.0),\n",
       " scpufreq(current=2195.644, min=2200.0, max=3600.0),\n",
       " scpufreq(current=2196.01, min=2200.0, max=3600.0),\n",
       " scpufreq(current=2195.908, min=2200.0, max=3600.0),\n",
       " scpufreq(current=2195.176, min=2200.0, max=3600.0),\n",
       " scpufreq(current=2195.764, min=2200.0, max=3600.0)]"
      ]
     },
     "execution_count": 22,
     "metadata": {},
     "output_type": "execute_result"
    }
   ],
   "source": [
    "psutil.cpu_freq(percpu=True)"
   ]
  },
  {
   "cell_type": "code",
   "execution_count": 6,
   "metadata": {},
   "outputs": [
    {
     "data": {
      "text/plain": [
       "(0.25, 0.25, 0.19)"
      ]
     },
     "execution_count": 6,
     "metadata": {},
     "output_type": "execute_result"
    }
   ],
   "source": [
    "psutil.getloadavg()"
   ]
  },
  {
   "cell_type": "code",
   "execution_count": 7,
   "metadata": {},
   "outputs": [
    {
     "data": {
      "text/plain": [
       "svmem(total=16766754816, available=13501743104, percent=19.5, used=2616754176, free=10433867776, active=3846717440, inactive=1793224704, buffers=259063808, cached=3457069056, shared=304218112, slab=442703872)"
      ]
     },
     "execution_count": 7,
     "metadata": {},
     "output_type": "execute_result"
    }
   ],
   "source": [
    "psutil.virtual_memory()"
   ]
  },
  {
   "cell_type": "code",
   "execution_count": 8,
   "metadata": {},
   "outputs": [
    {
     "data": {
      "text/plain": [
       "sswap(total=1023406080, used=0, free=1023406080, percent=0.0, sin=0, sout=0)"
      ]
     },
     "execution_count": 8,
     "metadata": {},
     "output_type": "execute_result"
    }
   ],
   "source": [
    "psutil.swap_memory()"
   ]
  },
  {
   "cell_type": "code",
   "execution_count": 9,
   "metadata": {},
   "outputs": [
    {
     "data": {
      "text/plain": [
       "sdiskio(read_count=279242, write_count=110316, read_bytes=4425995264, write_bytes=2341286912, read_time=57283, write_time=66397, read_merged_count=17351, write_merged_count=27962, busy_time=67748)"
      ]
     },
     "execution_count": 9,
     "metadata": {},
     "output_type": "execute_result"
    }
   ],
   "source": [
    "psutil.disk_io_counters()"
   ]
  },
  {
   "cell_type": "code",
   "execution_count": 23,
   "metadata": {},
   "outputs": [
    {
     "data": {
      "text/plain": [
       "sdiskusage(total=249405239296, used=48280555520, free=188384276480, percent=20.4)"
      ]
     },
     "execution_count": 23,
     "metadata": {},
     "output_type": "execute_result"
    }
   ],
   "source": [
    "psutil.disk_usage('/')"
   ]
  },
  {
   "cell_type": "code",
   "execution_count": 10,
   "metadata": {},
   "outputs": [
    {
     "data": {
      "text/plain": [
       "{'lo': snetio(bytes_sent=7051968, bytes_recv=7051968, packets_sent=4065, packets_recv=4065, errin=0, errout=0, dropin=0, dropout=0),\n",
       " 'enp7s0': snetio(bytes_sent=94563678, bytes_recv=771107243, packets_sent=265488, packets_recv=546217, errin=0, errout=0, dropin=87, dropout=0)}"
      ]
     },
     "execution_count": 10,
     "metadata": {},
     "output_type": "execute_result"
    }
   ],
   "source": [
    "psutil.net_io_counters(pernic=True)"
   ]
  },
  {
   "cell_type": "code",
   "execution_count": 11,
   "metadata": {},
   "outputs": [
    {
     "data": {
      "text/plain": [
       "snetio(bytes_sent=101622155, bytes_recv=778165720, packets_sent=269567, packets_recv=550296, errin=0, errout=0, dropin=87, dropout=0)"
      ]
     },
     "execution_count": 11,
     "metadata": {},
     "output_type": "execute_result"
    }
   ],
   "source": [
    "psutil.net_io_counters()"
   ]
  },
  {
   "cell_type": "code",
   "execution_count": 12,
   "metadata": {
    "scrolled": true
   },
   "outputs": [
    {
     "data": {
      "text/plain": [
       "[sconn(fd=-1, family=<AddressFamily.AF_INET: 2>, type=<SocketKind.SOCK_DGRAM: 2>, laddr=addr(ip='0.0.0.0', port=5353), raddr=(), status='NONE', pid=None),\n",
       " sconn(fd=26, family=<AddressFamily.AF_INET: 2>, type=<SocketKind.SOCK_STREAM: 1>, laddr=addr(ip='127.0.0.1', port=51596), raddr=addr(ip='127.0.0.1', port=59099), status='ESTABLISHED', pid=5717),\n",
       " sconn(fd=-1, family=<AddressFamily.AF_INET: 2>, type=<SocketKind.SOCK_STREAM: 1>, laddr=addr(ip='192.168.4.83', port=50836), raddr=addr(ip='13.35.193.64', port=443), status='TIME_WAIT', pid=None),\n",
       " sconn(fd=172, family=<AddressFamily.AF_INET: 2>, type=<SocketKind.SOCK_STREAM: 1>, laddr=addr(ip='192.168.4.83', port=59816), raddr=addr(ip='35.186.224.25', port=443), status='CLOSE_WAIT', pid=4922),\n",
       " sconn(fd=31, family=<AddressFamily.AF_INET: 2>, type=<SocketKind.SOCK_STREAM: 1>, laddr=addr(ip='127.0.0.1', port=60107), raddr=(), status='LISTEN', pid=7347),\n",
       " sconn(fd=33, family=<AddressFamily.AF_INET: 2>, type=<SocketKind.SOCK_STREAM: 1>, laddr=addr(ip='127.0.0.1', port=40996), raddr=addr(ip='127.0.0.1', port=58449), status='ESTABLISHED', pid=5717),\n",
       " sconn(fd=-1, family=<AddressFamily.AF_INET: 2>, type=<SocketKind.SOCK_STREAM: 1>, laddr=addr(ip='127.0.0.1', port=57426), raddr=addr(ip='127.0.0.1', port=8888), status='TIME_WAIT', pid=None),\n",
       " sconn(fd=-1, family=<AddressFamily.AF_INET6: 10>, type=<SocketKind.SOCK_STREAM: 1>, laddr=addr(ip='::1', port=631), raddr=(), status='LISTEN', pid=None),\n",
       " sconn(fd=89, family=<AddressFamily.AF_INET: 2>, type=<SocketKind.SOCK_STREAM: 1>, laddr=addr(ip='192.168.4.83', port=52626), raddr=addr(ip='162.247.243.147', port=443), status='CLOSE_WAIT', pid=5067),\n",
       " sconn(fd=56, family=<AddressFamily.AF_INET: 2>, type=<SocketKind.SOCK_STREAM: 1>, laddr=addr(ip='192.168.4.83', port=57070), raddr=addr(ip='151.101.62.248', port=443), status='ESTABLISHED', pid=5067),\n",
       " sconn(fd=125, family=<AddressFamily.AF_INET: 2>, type=<SocketKind.SOCK_DGRAM: 2>, laddr=addr(ip='224.0.0.251', port=5353), raddr=(), status='NONE', pid=4922),\n",
       " sconn(fd=95, family=<AddressFamily.AF_INET: 2>, type=<SocketKind.SOCK_STREAM: 1>, laddr=addr(ip='192.168.4.83', port=54208), raddr=addr(ip='172.67.149.185', port=443), status='ESTABLISHED', pid=5193),\n",
       " sconn(fd=52, family=<AddressFamily.AF_INET: 2>, type=<SocketKind.SOCK_STREAM: 1>, laddr=addr(ip='192.168.4.83', port=57084), raddr=addr(ip='151.101.62.248', port=443), status='ESTABLISHED', pid=5067),\n",
       " sconn(fd=-1, family=<AddressFamily.AF_INET: 2>, type=<SocketKind.SOCK_STREAM: 1>, laddr=addr(ip='127.0.0.1', port=57442), raddr=addr(ip='127.0.0.1', port=8888), status='TIME_WAIT', pid=None),\n",
       " sconn(fd=122, family=<AddressFamily.AF_INET: 2>, type=<SocketKind.SOCK_DGRAM: 2>, laddr=addr(ip='0.0.0.0', port=1900), raddr=(), status='NONE', pid=4922),\n",
       " sconn(fd=-1, family=<AddressFamily.AF_INET: 2>, type=<SocketKind.SOCK_STREAM: 1>, laddr=addr(ip='192.168.4.83', port=49064), raddr=addr(ip='172.217.20.142', port=443), status='TIME_WAIT', pid=None),\n",
       " sconn(fd=69, family=<AddressFamily.AF_INET: 2>, type=<SocketKind.SOCK_STREAM: 1>, laddr=addr(ip='192.168.4.83', port=57078), raddr=addr(ip='151.101.62.248', port=443), status='ESTABLISHED', pid=5067),\n",
       " sconn(fd=65, family=<AddressFamily.AF_INET: 2>, type=<SocketKind.SOCK_STREAM: 1>, laddr=addr(ip='192.168.4.83', port=57102), raddr=addr(ip='151.101.62.248', port=443), status='ESTABLISHED', pid=5067),\n",
       " sconn(fd=-1, family=<AddressFamily.AF_INET: 2>, type=<SocketKind.SOCK_STREAM: 1>, laddr=addr(ip='127.0.0.1', port=59175), raddr=addr(ip='127.0.0.1', port=42094), status='TIME_WAIT', pid=None),\n",
       " sconn(fd=32, family=<AddressFamily.AF_INET: 2>, type=<SocketKind.SOCK_STREAM: 1>, laddr=addr(ip='127.0.0.1', port=37888), raddr=addr(ip='127.0.0.1', port=55375), status='ESTABLISHED', pid=5717),\n",
       " sconn(fd=56, family=<AddressFamily.AF_INET: 2>, type=<SocketKind.SOCK_STREAM: 1>, laddr=addr(ip='192.168.4.83', port=44172), raddr=addr(ip='151.101.130.219', port=443), status='ESTABLISHED', pid=5193),\n",
       " sconn(fd=39, family=<AddressFamily.AF_INET: 2>, type=<SocketKind.SOCK_STREAM: 1>, laddr=addr(ip='127.0.0.1', port=59099), raddr=addr(ip='127.0.0.1', port=51598), status='ESTABLISHED', pid=7347),\n",
       " sconn(fd=-1, family=<AddressFamily.AF_INET: 2>, type=<SocketKind.SOCK_STREAM: 1>, laddr=addr(ip='127.0.0.1', port=55375), raddr=addr(ip='127.0.0.1', port=37836), status='TIME_WAIT', pid=None),\n",
       " sconn(fd=72, family=<AddressFamily.AF_INET: 2>, type=<SocketKind.SOCK_STREAM: 1>, laddr=addr(ip='192.168.4.83', port=57090), raddr=addr(ip='151.101.62.248', port=443), status='ESTABLISHED', pid=5067),\n",
       " sconn(fd=112, family=<AddressFamily.AF_INET: 2>, type=<SocketKind.SOCK_STREAM: 1>, laddr=addr(ip='192.168.4.83', port=35132), raddr=addr(ip='173.194.76.188', port=5228), status='ESTABLISHED', pid=5193),\n",
       " sconn(fd=87, family=<AddressFamily.AF_INET: 2>, type=<SocketKind.SOCK_STREAM: 1>, laddr=addr(ip='192.168.4.83', port=49326), raddr=addr(ip='151.101.61.16', port=443), status='ESTABLISHED', pid=5193),\n",
       " sconn(fd=34, family=<AddressFamily.AF_INET: 2>, type=<SocketKind.SOCK_STREAM: 1>, laddr=addr(ip='192.168.4.83', port=59784), raddr=addr(ip='35.186.224.25', port=443), status='ESTABLISHED', pid=5067),\n",
       " sconn(fd=5, family=<AddressFamily.AF_INET: 2>, type=<SocketKind.SOCK_STREAM: 1>, laddr=addr(ip='127.0.0.1', port=8888), raddr=(), status='LISTEN', pid=5717),\n",
       " sconn(fd=67, family=<AddressFamily.AF_INET: 2>, type=<SocketKind.SOCK_STREAM: 1>, laddr=addr(ip='192.168.4.83', port=57086), raddr=addr(ip='151.101.62.248', port=443), status='ESTABLISHED', pid=5067),\n",
       " sconn(fd=-1, family=<AddressFamily.AF_INET: 2>, type=<SocketKind.SOCK_STREAM: 1>, laddr=addr(ip='127.0.0.1', port=8888), raddr=addr(ip='127.0.0.1', port=57452), status='TIME_WAIT', pid=None),\n",
       " sconn(fd=-1, family=<AddressFamily.AF_INET: 2>, type=<SocketKind.SOCK_STREAM: 1>, laddr=addr(ip='192.168.4.83', port=52830), raddr=addr(ip='216.58.213.14', port=443), status='TIME_WAIT', pid=None),\n",
       " sconn(fd=-1, family=<AddressFamily.AF_INET: 2>, type=<SocketKind.SOCK_STREAM: 1>, laddr=addr(ip='127.0.0.53', port=53), raddr=(), status='LISTEN', pid=None),\n",
       " sconn(fd=47, family=<AddressFamily.AF_INET: 2>, type=<SocketKind.SOCK_STREAM: 1>, laddr=addr(ip='192.168.4.83', port=57058), raddr=addr(ip='151.101.62.248', port=443), status='ESTABLISHED', pid=5067),\n",
       " sconn(fd=63, family=<AddressFamily.AF_INET: 2>, type=<SocketKind.SOCK_STREAM: 1>, laddr=addr(ip='192.168.4.83', port=57080), raddr=addr(ip='151.101.62.248', port=443), status='ESTABLISHED', pid=5067),\n",
       " sconn(fd=-1, family=<AddressFamily.AF_INET: 2>, type=<SocketKind.SOCK_STREAM: 1>, laddr=addr(ip='127.0.0.1', port=32890), raddr=addr(ip='127.0.0.1', port=44099), status='TIME_WAIT', pid=None),\n",
       " sconn(fd=-1, family=<AddressFamily.AF_INET: 2>, type=<SocketKind.SOCK_STREAM: 1>, laddr=addr(ip='127.0.0.1', port=59099), raddr=addr(ip='127.0.0.1', port=51562), status='TIME_WAIT', pid=None),\n",
       " sconn(fd=74, family=<AddressFamily.AF_INET: 2>, type=<SocketKind.SOCK_STREAM: 1>, laddr=addr(ip='192.168.4.83', port=57098), raddr=addr(ip='151.101.62.248', port=443), status='ESTABLISHED', pid=5067),\n",
       " sconn(fd=12, family=<AddressFamily.AF_INET: 2>, type=<SocketKind.SOCK_STREAM: 1>, laddr=addr(ip='127.0.0.1', port=58449), raddr=(), status='LISTEN', pid=7347),\n",
       " sconn(fd=58, family=<AddressFamily.AF_INET: 2>, type=<SocketKind.SOCK_STREAM: 1>, laddr=addr(ip='192.168.4.83', port=48912), raddr=addr(ip='62.253.3.201', port=80), status='CLOSE_WAIT', pid=5067),\n",
       " sconn(fd=133, family=<AddressFamily.AF_INET: 2>, type=<SocketKind.SOCK_DGRAM: 2>, laddr=addr(ip='0.0.0.0', port=5353), raddr=(), status='NONE', pid=4922),\n",
       " sconn(fd=-1, family=<AddressFamily.AF_INET: 2>, type=<SocketKind.SOCK_DGRAM: 2>, laddr=addr(ip='192.168.4.83', port=68), raddr=addr(ip='192.168.4.1', port=67), status='NONE', pid=None),\n",
       " sconn(fd=18, family=<AddressFamily.AF_INET: 2>, type=<SocketKind.SOCK_STREAM: 1>, laddr=addr(ip='127.0.0.1', port=59099), raddr=(), status='LISTEN', pid=7347),\n",
       " sconn(fd=12, family=<AddressFamily.AF_INET: 2>, type=<SocketKind.SOCK_STREAM: 1>, laddr=addr(ip='127.0.0.1', port=8888), raddr=addr(ip='127.0.0.1', port=57580), status='ESTABLISHED', pid=5717),\n",
       " sconn(fd=34, family=<AddressFamily.AF_INET: 2>, type=<SocketKind.SOCK_DGRAM: 2>, laddr=addr(ip='192.168.4.83', port=60527), raddr=addr(ip='216.58.212.202', port=443), status='NONE', pid=5193),\n",
       " sconn(fd=-1, family=<AddressFamily.AF_INET: 2>, type=<SocketKind.SOCK_STREAM: 1>, laddr=addr(ip='127.0.0.1', port=46202), raddr=addr(ip='127.0.0.1', port=45105), status='TIME_WAIT', pid=None),\n",
       " sconn(fd=10, family=<AddressFamily.AF_INET: 2>, type=<SocketKind.SOCK_STREAM: 1>, laddr=addr(ip='127.0.0.1', port=8888), raddr=addr(ip='127.0.0.1', port=57572), status='ESTABLISHED', pid=5717),\n",
       " sconn(fd=44, family=<AddressFamily.AF_INET: 2>, type=<SocketKind.SOCK_STREAM: 1>, laddr=addr(ip='127.0.0.1', port=57572), raddr=addr(ip='127.0.0.1', port=8888), status='ESTABLISHED', pid=5193),\n",
       " sconn(fd=47, family=<AddressFamily.AF_INET: 2>, type=<SocketKind.SOCK_STREAM: 1>, laddr=addr(ip='127.0.0.1', port=57422), raddr=addr(ip='127.0.0.1', port=8888), status='ESTABLISHED', pid=5193),\n",
       " sconn(fd=-1, family=<AddressFamily.AF_INET: 2>, type=<SocketKind.SOCK_STREAM: 1>, laddr=addr(ip='127.0.0.1', port=57294), raddr=addr(ip='127.0.0.1', port=37045), status='TIME_WAIT', pid=None),\n",
       " sconn(fd=129, family=<AddressFamily.AF_INET: 2>, type=<SocketKind.SOCK_STREAM: 1>, laddr=addr(ip='192.168.4.83', port=49330), raddr=addr(ip='151.101.61.16', port=443), status='ESTABLISHED', pid=5193),\n",
       " sconn(fd=-1, family=<AddressFamily.AF_INET: 2>, type=<SocketKind.SOCK_STREAM: 1>, laddr=addr(ip='127.0.0.1', port=59099), raddr=addr(ip='127.0.0.1', port=51566), status='TIME_WAIT', pid=None),\n",
       " sconn(fd=123, family=<AddressFamily.AF_INET: 2>, type=<SocketKind.SOCK_DGRAM: 2>, laddr=addr(ip='192.168.4.83', port=49843), raddr=(), status='NONE', pid=4922),\n",
       " sconn(fd=-1, family=<AddressFamily.AF_INET6: 10>, type=<SocketKind.SOCK_DGRAM: 2>, laddr=addr(ip='::', port=5353), raddr=(), status='NONE', pid=None),\n",
       " sconn(fd=42, family=<AddressFamily.AF_INET: 2>, type=<SocketKind.SOCK_STREAM: 1>, laddr=addr(ip='127.0.0.1', port=55375), raddr=addr(ip='127.0.0.1', port=37888), status='ESTABLISHED', pid=7347),\n",
       " sconn(fd=79, family=<AddressFamily.AF_INET: 2>, type=<SocketKind.SOCK_DGRAM: 2>, laddr=addr(ip='192.168.4.83', port=45091), raddr=addr(ip='74.125.133.189', port=443), status='NONE', pid=5193),\n",
       " sconn(fd=73, family=<AddressFamily.AF_INET: 2>, type=<SocketKind.SOCK_STREAM: 1>, laddr=addr(ip='192.168.4.83', port=57092), raddr=addr(ip='151.101.62.248', port=443), status='ESTABLISHED', pid=5067),\n",
       " sconn(fd=64, family=<AddressFamily.AF_INET: 2>, type=<SocketKind.SOCK_STREAM: 1>, laddr=addr(ip='192.168.4.83', port=57076), raddr=addr(ip='151.101.62.248', port=443), status='ESTABLISHED', pid=5067),\n",
       " sconn(fd=-1, family=<AddressFamily.AF_INET: 2>, type=<SocketKind.SOCK_STREAM: 1>, laddr=addr(ip='127.0.0.1', port=55375), raddr=addr(ip='127.0.0.1', port=37842), status='TIME_WAIT', pid=None),\n",
       " sconn(fd=-1, family=<AddressFamily.AF_INET: 2>, type=<SocketKind.SOCK_STREAM: 1>, laddr=addr(ip='192.168.4.83', port=39922), raddr=addr(ip='34.107.165.220', port=443), status='TIME_WAIT', pid=None),\n",
       " sconn(fd=132, family=<AddressFamily.AF_INET: 2>, type=<SocketKind.SOCK_STREAM: 1>, laddr=addr(ip='127.0.0.1', port=57438), raddr=addr(ip='127.0.0.1', port=8888), status='ESTABLISHED', pid=5193),\n",
       " sconn(fd=37, family=<AddressFamily.AF_INET: 2>, type=<SocketKind.SOCK_STREAM: 1>, laddr=addr(ip='127.0.0.1', port=59099), raddr=addr(ip='127.0.0.1', port=51596), status='ESTABLISHED', pid=7347),\n",
       " sconn(fd=-1, family=<AddressFamily.AF_INET: 2>, type=<SocketKind.SOCK_STREAM: 1>, laddr=addr(ip='127.0.0.1', port=42102), raddr=addr(ip='127.0.0.1', port=59175), status='TIME_WAIT', pid=None),\n",
       " sconn(fd=46, family=<AddressFamily.AF_INET: 2>, type=<SocketKind.SOCK_STREAM: 1>, laddr=addr(ip='192.168.4.83', port=57082), raddr=addr(ip='151.101.62.248', port=443), status='ESTABLISHED', pid=5067),\n",
       " sconn(fd=-1, family=<AddressFamily.AF_INET: 2>, type=<SocketKind.SOCK_STREAM: 1>, laddr=addr(ip='192.168.4.83', port=59420), raddr=addr(ip='172.217.169.14', port=443), status='TIME_WAIT', pid=None),\n",
       " sconn(fd=94, family=<AddressFamily.AF_INET: 2>, type=<SocketKind.SOCK_STREAM: 1>, laddr=addr(ip='192.168.4.83', port=37832), raddr=addr(ip='34.243.35.102', port=443), status='ESTABLISHED', pid=5193),\n",
       " sconn(fd=-1, family=<AddressFamily.AF_INET: 2>, type=<SocketKind.SOCK_STREAM: 1>, laddr=addr(ip='127.0.0.1', port=58449), raddr=addr(ip='127.0.0.1', port=40946), status='TIME_WAIT', pid=None),\n",
       " sconn(fd=-1, family=<AddressFamily.AF_INET: 2>, type=<SocketKind.SOCK_STREAM: 1>, laddr=addr(ip='127.0.0.1', port=40988), raddr=addr(ip='127.0.0.1', port=58449), status='TIME_WAIT', pid=None),\n",
       " sconn(fd=-1, family=<AddressFamily.AF_INET: 2>, type=<SocketKind.SOCK_STREAM: 1>, laddr=addr(ip='127.0.0.1', port=57430), raddr=addr(ip='127.0.0.1', port=8888), status='TIME_WAIT', pid=None),\n",
       " sconn(fd=76, family=<AddressFamily.AF_INET: 2>, type=<SocketKind.SOCK_STREAM: 1>, laddr=addr(ip='192.168.4.83', port=57094), raddr=addr(ip='151.101.62.248', port=443), status='ESTABLISHED', pid=5067),\n",
       " sconn(fd=23, family=<AddressFamily.AF_INET: 2>, type=<SocketKind.SOCK_STREAM: 1>, laddr=addr(ip='127.0.0.1', port=40693), raddr=(), status='LISTEN', pid=7347),\n",
       " sconn(fd=35, family=<AddressFamily.AF_INET: 2>, type=<SocketKind.SOCK_STREAM: 1>, laddr=addr(ip='192.168.4.83', port=46144), raddr=addr(ip='151.101.194.219', port=443), status='ESTABLISHED', pid=5193),\n",
       " sconn(fd=70, family=<AddressFamily.AF_INET: 2>, type=<SocketKind.SOCK_STREAM: 1>, laddr=addr(ip='192.168.4.83', port=57104), raddr=addr(ip='151.101.62.248', port=443), status='ESTABLISHED', pid=5067),\n",
       " sconn(fd=124, family=<AddressFamily.AF_INET: 2>, type=<SocketKind.SOCK_STREAM: 1>, laddr=addr(ip='192.168.4.83', port=45848), raddr=addr(ip='35.190.243.160', port=4070), status='ESTABLISHED', pid=4922),\n",
       " sconn(fd=53, family=<AddressFamily.AF_INET: 2>, type=<SocketKind.SOCK_STREAM: 1>, laddr=addr(ip='127.0.0.1', port=57576), raddr=addr(ip='127.0.0.1', port=8888), status='ESTABLISHED', pid=5193),\n",
       " sconn(fd=75, family=<AddressFamily.AF_INET: 2>, type=<SocketKind.SOCK_STREAM: 1>, laddr=addr(ip='192.168.4.83', port=57096), raddr=addr(ip='151.101.62.248', port=443), status='ESTABLISHED', pid=5067),\n",
       " sconn(fd=22, family=<AddressFamily.AF_INET: 2>, type=<SocketKind.SOCK_STREAM: 1>, laddr=addr(ip='127.0.0.1', port=36706), raddr=addr(ip='127.0.0.1', port=38745), status='ESTABLISHED', pid=5717),\n",
       " sconn(fd=116, family=<AddressFamily.AF_INET: 2>, type=<SocketKind.SOCK_STREAM: 1>, laddr=addr(ip='0.0.0.0', port=45767), raddr=(), status='LISTEN', pid=4922),\n",
       " sconn(fd=-1, family=<AddressFamily.AF_INET6: 10>, type=<SocketKind.SOCK_DGRAM: 2>, laddr=addr(ip='::', port=35740), raddr=(), status='NONE', pid=None),\n",
       " sconn(fd=28, family=<AddressFamily.AF_INET: 2>, type=<SocketKind.SOCK_STREAM: 1>, laddr=addr(ip='127.0.0.1', port=51598), raddr=addr(ip='127.0.0.1', port=59099), status='ESTABLISHED', pid=5717),\n",
       " sconn(fd=-1, family=<AddressFamily.AF_INET: 2>, type=<SocketKind.SOCK_DGRAM: 2>, laddr=addr(ip='0.0.0.0', port=631), raddr=(), status='NONE', pid=None),\n",
       " sconn(fd=25, family=<AddressFamily.AF_INET: 2>, type=<SocketKind.SOCK_STREAM: 1>, laddr=addr(ip='127.0.0.1', port=8888), raddr=addr(ip='127.0.0.1', port=57618), status='ESTABLISHED', pid=5717),\n",
       " sconn(fd=30, family=<AddressFamily.AF_INET: 2>, type=<SocketKind.SOCK_STREAM: 1>, laddr=addr(ip='127.0.0.1', port=37886), raddr=addr(ip='127.0.0.1', port=55375), status='ESTABLISHED', pid=5717),\n",
       " sconn(fd=9, family=<AddressFamily.AF_INET: 2>, type=<SocketKind.SOCK_STREAM: 1>, laddr=addr(ip='127.0.0.1', port=8888), raddr=addr(ip='127.0.0.1', port=57422), status='ESTABLISHED', pid=5717),\n",
       " sconn(fd=87, family=<AddressFamily.AF_INET: 2>, type=<SocketKind.SOCK_STREAM: 1>, laddr=addr(ip='192.168.4.83', port=41182), raddr=addr(ip='151.101.62.110', port=443), status='ESTABLISHED', pid=5067),\n",
       " sconn(fd=40, family=<AddressFamily.AF_INET: 2>, type=<SocketKind.SOCK_STREAM: 1>, laddr=addr(ip='127.0.0.1', port=38745), raddr=addr(ip='127.0.0.1', port=36706), status='ESTABLISHED', pid=7347),\n",
       " sconn(fd=183, family=<AddressFamily.AF_INET: 2>, type=<SocketKind.SOCK_DGRAM: 2>, laddr=addr(ip='224.0.0.251', port=5353), raddr=(), status='NONE', pid=5151),\n",
       " sconn(fd=62, family=<AddressFamily.AF_INET: 2>, type=<SocketKind.SOCK_STREAM: 1>, laddr=addr(ip='192.168.4.83', port=57074), raddr=addr(ip='151.101.62.248', port=443), status='ESTABLISHED', pid=5067),\n",
       " sconn(fd=80, family=<AddressFamily.AF_INET: 2>, type=<SocketKind.SOCK_DGRAM: 2>, laddr=addr(ip='0.0.0.0', port=57621), raddr=(), status='NONE', pid=4922),\n",
       " sconn(fd=-1, family=<AddressFamily.AF_INET: 2>, type=<SocketKind.SOCK_STREAM: 1>, laddr=addr(ip='127.0.0.1', port=8888), raddr=addr(ip='127.0.0.1', port=57588), status='TIME_WAIT', pid=None),\n",
       " sconn(fd=-1, family=<AddressFamily.AF_INET: 2>, type=<SocketKind.SOCK_STREAM: 1>, laddr=addr(ip='127.0.0.1', port=38745), raddr=addr(ip='127.0.0.1', port=36668), status='TIME_WAIT', pid=None),\n",
       " sconn(fd=43, family=<AddressFamily.AF_INET: 2>, type=<SocketKind.SOCK_STREAM: 1>, laddr=addr(ip='127.0.0.1', port=58449), raddr=addr(ip='127.0.0.1', port=40996), status='ESTABLISHED', pid=7347),\n",
       " sconn(fd=11, family=<AddressFamily.AF_INET: 2>, type=<SocketKind.SOCK_STREAM: 1>, laddr=addr(ip='127.0.0.1', port=8888), raddr=addr(ip='127.0.0.1', port=57576), status='ESTABLISHED', pid=5717),\n",
       " sconn(fd=-1, family=<AddressFamily.AF_INET: 2>, type=<SocketKind.SOCK_STREAM: 1>, laddr=addr(ip='127.0.0.1', port=32898), raddr=addr(ip='127.0.0.1', port=44099), status='TIME_WAIT', pid=None),\n",
       " sconn(fd=13, family=<AddressFamily.AF_INET: 2>, type=<SocketKind.SOCK_STREAM: 1>, laddr=addr(ip='127.0.0.1', port=8888), raddr=addr(ip='127.0.0.1', port=57438), status='ESTABLISHED', pid=5717),\n",
       " sconn(fd=57, family=<AddressFamily.AF_INET: 2>, type=<SocketKind.SOCK_STREAM: 1>, laddr=addr(ip='127.0.0.1', port=57580), raddr=addr(ip='127.0.0.1', port=8888), status='ESTABLISHED', pid=5193),\n",
       " sconn(fd=-1, family=<AddressFamily.AF_INET: 2>, type=<SocketKind.SOCK_STREAM: 1>, laddr=addr(ip='127.0.0.1', port=40944), raddr=addr(ip='127.0.0.1', port=58449), status='TIME_WAIT', pid=None),\n",
       " sconn(fd=32, family=<AddressFamily.AF_INET: 2>, type=<SocketKind.SOCK_DGRAM: 2>, laddr=addr(ip='192.168.4.83', port=48131), raddr=addr(ip='216.58.204.238', port=443), status='NONE', pid=5193),\n",
       " sconn(fd=-1, family=<AddressFamily.AF_INET: 2>, type=<SocketKind.SOCK_STREAM: 1>, laddr=addr(ip='127.0.0.1', port=631), raddr=(), status='LISTEN', pid=None),\n",
       " sconn(fd=57, family=<AddressFamily.AF_INET: 2>, type=<SocketKind.SOCK_STREAM: 1>, laddr=addr(ip='192.168.4.83', port=57072), raddr=addr(ip='151.101.62.248', port=443), status='ESTABLISHED', pid=5067),\n",
       " sconn(fd=16, family=<AddressFamily.AF_INET: 2>, type=<SocketKind.SOCK_STREAM: 1>, laddr=addr(ip='127.0.0.1', port=55375), raddr=(), status='LISTEN', pid=7347),\n",
       " sconn(fd=14, family=<AddressFamily.AF_INET: 2>, type=<SocketKind.SOCK_STREAM: 1>, laddr=addr(ip='127.0.0.1', port=38745), raddr=(), status='LISTEN', pid=7347),\n",
       " sconn(fd=41, family=<AddressFamily.AF_INET: 2>, type=<SocketKind.SOCK_STREAM: 1>, laddr=addr(ip='127.0.0.1', port=55375), raddr=addr(ip='127.0.0.1', port=37886), status='ESTABLISHED', pid=7347),\n",
       " sconn(fd=-1, family=<AddressFamily.AF_INET: 2>, type=<SocketKind.SOCK_STREAM: 1>, laddr=addr(ip='127.0.0.1', port=57434), raddr=addr(ip='127.0.0.1', port=8888), status='TIME_WAIT', pid=None),\n",
       " sconn(fd=40, family=<AddressFamily.AF_INET: 2>, type=<SocketKind.SOCK_STREAM: 1>, laddr=addr(ip='127.0.0.1', port=57618), raddr=addr(ip='127.0.0.1', port=8888), status='ESTABLISHED', pid=5193),\n",
       " sconn(fd=-1, family=<AddressFamily.AF_INET: 2>, type=<SocketKind.SOCK_DGRAM: 2>, laddr=addr(ip='0.0.0.0', port=57812), raddr=(), status='NONE', pid=None),\n",
       " sconn(fd=81, family=<AddressFamily.AF_INET: 2>, type=<SocketKind.SOCK_STREAM: 1>, laddr=addr(ip='0.0.0.0', port=57621), raddr=(), status='LISTEN', pid=4922),\n",
       " sconn(fd=-1, family=<AddressFamily.AF_INET: 2>, type=<SocketKind.SOCK_DGRAM: 2>, laddr=addr(ip='127.0.0.53', port=53), raddr=(), status='NONE', pid=None),\n",
       " sconn(fd=154, family=<AddressFamily.AF_INET: 2>, type=<SocketKind.SOCK_STREAM: 1>, laddr=addr(ip='192.168.4.83', port=47744), raddr=addr(ip='35.186.224.47', port=443), status='ESTABLISHED', pid=4922)]"
      ]
     },
     "execution_count": 12,
     "metadata": {},
     "output_type": "execute_result"
    }
   ],
   "source": [
    "psutil.net_connections()"
   ]
  },
  {
   "cell_type": "code",
   "execution_count": 13,
   "metadata": {},
   "outputs": [
    {
     "data": {
      "text/plain": [
       "{'k10temp': [shwtemp(label='Tdie', current=38.0, high=70.0, critical=70.0),\n",
       "  shwtemp(label='Tctl', current=38.0, high=None, critical=None)]}"
      ]
     },
     "execution_count": 13,
     "metadata": {},
     "output_type": "execute_result"
    }
   ],
   "source": [
    "psutil.sensors_temperatures()"
   ]
  },
  {
   "cell_type": "code",
   "execution_count": 24,
   "metadata": {},
   "outputs": [
    {
     "data": {
      "text/plain": [
       "{}"
      ]
     },
     "execution_count": 24,
     "metadata": {},
     "output_type": "execute_result"
    }
   ],
   "source": [
    "psutil.sensors_fans()"
   ]
  },
  {
   "cell_type": "code",
   "execution_count": 14,
   "metadata": {},
   "outputs": [],
   "source": [
    "psutil.sensors_battery()"
   ]
  },
  {
   "cell_type": "code",
   "execution_count": 15,
   "metadata": {},
   "outputs": [
    {
     "data": {
      "text/plain": [
       "[suser(name='ben', terminal=':0', host='localhost', started=1609408512.0, pid=1060)]"
      ]
     },
     "execution_count": 15,
     "metadata": {},
     "output_type": "execute_result"
    }
   ],
   "source": [
    "psutil.users()"
   ]
  },
  {
   "cell_type": "code",
   "execution_count": 16,
   "metadata": {},
   "outputs": [
    {
     "name": "stdout",
     "output_type": "stream",
     "text": [
      "{'pid': 1, 'name': 'systemd', 'username': 'root'}\n",
      "{'pid': 2, 'name': 'kthreadd', 'username': 'root'}\n",
      "{'pid': 3, 'name': 'rcu_gp', 'username': 'root'}\n",
      "{'pid': 4, 'name': 'rcu_par_gp', 'username': 'root'}\n",
      "{'pid': 6, 'name': 'kworker/0:0H', 'username': 'root'}\n",
      "{'pid': 9, 'name': 'mm_percpu_wq', 'username': 'root'}\n",
      "{'pid': 10, 'name': 'ksoftirqd/0', 'username': 'root'}\n",
      "{'pid': 11, 'name': 'rcu_sched', 'username': 'root'}\n",
      "{'pid': 12, 'name': 'migration/0', 'username': 'root'}\n",
      "{'pid': 13, 'name': 'idle_inject/0', 'username': 'root'}\n",
      "{'pid': 14, 'name': 'cpuhp/0', 'username': 'root'}\n",
      "{'pid': 15, 'name': 'cpuhp/1', 'username': 'root'}\n",
      "{'pid': 16, 'name': 'idle_inject/1', 'username': 'root'}\n",
      "{'pid': 17, 'name': 'migration/1', 'username': 'root'}\n",
      "{'pid': 18, 'name': 'ksoftirqd/1', 'username': 'root'}\n",
      "{'pid': 20, 'name': 'kworker/1:0H-kblockd', 'username': 'root'}\n",
      "{'pid': 21, 'name': 'cpuhp/2', 'username': 'root'}\n",
      "{'pid': 22, 'name': 'idle_inject/2', 'username': 'root'}\n",
      "{'pid': 23, 'name': 'migration/2', 'username': 'root'}\n",
      "{'pid': 24, 'name': 'ksoftirqd/2', 'username': 'root'}\n",
      "{'pid': 26, 'name': 'kworker/2:0H-kblockd', 'username': 'root'}\n",
      "{'pid': 27, 'name': 'cpuhp/3', 'username': 'root'}\n",
      "{'pid': 28, 'name': 'idle_inject/3', 'username': 'root'}\n",
      "{'pid': 29, 'name': 'migration/3', 'username': 'root'}\n",
      "{'pid': 30, 'name': 'ksoftirqd/3', 'username': 'root'}\n",
      "{'pid': 32, 'name': 'kworker/3:0H-kblockd', 'username': 'root'}\n",
      "{'pid': 33, 'name': 'cpuhp/4', 'username': 'root'}\n",
      "{'pid': 34, 'name': 'idle_inject/4', 'username': 'root'}\n",
      "{'pid': 35, 'name': 'migration/4', 'username': 'root'}\n",
      "{'pid': 36, 'name': 'ksoftirqd/4', 'username': 'root'}\n",
      "{'pid': 38, 'name': 'kworker/4:0H-kblockd', 'username': 'root'}\n",
      "{'pid': 39, 'name': 'cpuhp/5', 'username': 'root'}\n",
      "{'pid': 40, 'name': 'idle_inject/5', 'username': 'root'}\n",
      "{'pid': 41, 'name': 'migration/5', 'username': 'root'}\n",
      "{'pid': 42, 'name': 'ksoftirqd/5', 'username': 'root'}\n",
      "{'pid': 44, 'name': 'kworker/5:0H-kblockd', 'username': 'root'}\n",
      "{'pid': 45, 'name': 'cpuhp/6', 'username': 'root'}\n",
      "{'pid': 46, 'name': 'idle_inject/6', 'username': 'root'}\n",
      "{'pid': 47, 'name': 'migration/6', 'username': 'root'}\n",
      "{'pid': 48, 'name': 'ksoftirqd/6', 'username': 'root'}\n",
      "{'pid': 50, 'name': 'kworker/6:0H-kblockd', 'username': 'root'}\n",
      "{'pid': 51, 'name': 'cpuhp/7', 'username': 'root'}\n",
      "{'pid': 52, 'name': 'idle_inject/7', 'username': 'root'}\n",
      "{'pid': 53, 'name': 'migration/7', 'username': 'root'}\n",
      "{'pid': 54, 'name': 'ksoftirqd/7', 'username': 'root'}\n",
      "{'pid': 56, 'name': 'kworker/7:0H-kblockd', 'username': 'root'}\n",
      "{'pid': 57, 'name': 'cpuhp/8', 'username': 'root'}\n",
      "{'pid': 58, 'name': 'idle_inject/8', 'username': 'root'}\n",
      "{'pid': 59, 'name': 'migration/8', 'username': 'root'}\n",
      "{'pid': 60, 'name': 'ksoftirqd/8', 'username': 'root'}\n",
      "{'pid': 62, 'name': 'kworker/8:0H-kblockd', 'username': 'root'}\n",
      "{'pid': 63, 'name': 'cpuhp/9', 'username': 'root'}\n",
      "{'pid': 64, 'name': 'idle_inject/9', 'username': 'root'}\n",
      "{'pid': 65, 'name': 'migration/9', 'username': 'root'}\n",
      "{'pid': 66, 'name': 'ksoftirqd/9', 'username': 'root'}\n",
      "{'pid': 68, 'name': 'kworker/9:0H-kblockd', 'username': 'root'}\n",
      "{'pid': 69, 'name': 'cpuhp/10', 'username': 'root'}\n",
      "{'pid': 70, 'name': 'idle_inject/10', 'username': 'root'}\n",
      "{'pid': 71, 'name': 'migration/10', 'username': 'root'}\n",
      "{'pid': 72, 'name': 'ksoftirqd/10', 'username': 'root'}\n",
      "{'pid': 74, 'name': 'kworker/10:0H-kblockd', 'username': 'root'}\n",
      "{'pid': 75, 'name': 'cpuhp/11', 'username': 'root'}\n",
      "{'pid': 76, 'name': 'idle_inject/11', 'username': 'root'}\n",
      "{'pid': 77, 'name': 'migration/11', 'username': 'root'}\n",
      "{'pid': 78, 'name': 'ksoftirqd/11', 'username': 'root'}\n",
      "{'pid': 80, 'name': 'kworker/11:0H-kblockd', 'username': 'root'}\n",
      "{'pid': 81, 'name': 'kdevtmpfs', 'username': 'root'}\n",
      "{'pid': 82, 'name': 'netns', 'username': 'root'}\n",
      "{'pid': 83, 'name': 'rcu_tasks_kthre', 'username': 'root'}\n",
      "{'pid': 84, 'name': 'kauditd', 'username': 'root'}\n",
      "{'pid': 88, 'name': 'khungtaskd', 'username': 'root'}\n",
      "{'pid': 89, 'name': 'oom_reaper', 'username': 'root'}\n",
      "{'pid': 90, 'name': 'writeback', 'username': 'root'}\n",
      "{'pid': 91, 'name': 'kcompactd0', 'username': 'root'}\n",
      "{'pid': 92, 'name': 'ksmd', 'username': 'root'}\n",
      "{'pid': 93, 'name': 'khugepaged', 'username': 'root'}\n",
      "{'pid': 140, 'name': 'kintegrityd', 'username': 'root'}\n",
      "{'pid': 141, 'name': 'kblockd', 'username': 'root'}\n",
      "{'pid': 142, 'name': 'blkcg_punt_bio', 'username': 'root'}\n",
      "{'pid': 144, 'name': 'kworker/2:2-events', 'username': 'root'}\n",
      "{'pid': 145, 'name': 'tpm_dev_wq', 'username': 'root'}\n",
      "{'pid': 146, 'name': 'ata_sff', 'username': 'root'}\n",
      "{'pid': 147, 'name': 'md', 'username': 'root'}\n",
      "{'pid': 148, 'name': 'edac-poller', 'username': 'root'}\n",
      "{'pid': 149, 'name': 'devfreq_wq', 'username': 'root'}\n",
      "{'pid': 150, 'name': 'watchdogd', 'username': 'root'}\n",
      "{'pid': 152, 'name': 'irq/25-AMD-Vi', 'username': 'root'}\n",
      "{'pid': 154, 'name': 'kswapd0', 'username': 'root'}\n",
      "{'pid': 155, 'name': 'ecryptfs-kthrea', 'username': 'root'}\n",
      "{'pid': 157, 'name': 'kthrotld', 'username': 'root'}\n",
      "{'pid': 158, 'name': 'irq/26-aerdrv', 'username': 'root'}\n",
      "{'pid': 159, 'name': 'irq/27-aerdrv', 'username': 'root'}\n",
      "{'pid': 160, 'name': 'irq/29-aerdrv', 'username': 'root'}\n",
      "{'pid': 161, 'name': 'irq/30-aerdrv', 'username': 'root'}\n",
      "{'pid': 162, 'name': 'irq/31-aerdrv', 'username': 'root'}\n",
      "{'pid': 163, 'name': 'irq/32-aerdrv', 'username': 'root'}\n",
      "{'pid': 172, 'name': 'acpi_thermal_pm', 'username': 'root'}\n",
      "{'pid': 173, 'name': 'vfio-irqfd-clea', 'username': 'root'}\n",
      "{'pid': 174, 'name': 'kworker/0:3-events', 'username': 'root'}\n",
      "{'pid': 176, 'name': 'ipv6_addrconf', 'username': 'root'}\n",
      "{'pid': 185, 'name': 'kstrp', 'username': 'root'}\n",
      "{'pid': 203, 'name': 'charger_manager', 'username': 'root'}\n",
      "{'pid': 269, 'name': 'scsi_eh_0', 'username': 'root'}\n",
      "{'pid': 270, 'name': 'scsi_tmf_0', 'username': 'root'}\n",
      "{'pid': 271, 'name': 'scsi_eh_1', 'username': 'root'}\n",
      "{'pid': 272, 'name': 'scsi_tmf_1', 'username': 'root'}\n",
      "{'pid': 273, 'name': 'scsi_eh_2', 'username': 'root'}\n",
      "{'pid': 274, 'name': 'scsi_tmf_2', 'username': 'root'}\n",
      "{'pid': 276, 'name': 'scsi_eh_3', 'username': 'root'}\n",
      "{'pid': 279, 'name': 'scsi_tmf_3', 'username': 'root'}\n",
      "{'pid': 283, 'name': 'scsi_eh_4', 'username': 'root'}\n",
      "{'pid': 284, 'name': 'scsi_tmf_4', 'username': 'root'}\n",
      "{'pid': 286, 'name': 'scsi_eh_5', 'username': 'root'}\n",
      "{'pid': 288, 'name': 'scsi_tmf_5', 'username': 'root'}\n",
      "{'pid': 289, 'name': 'scsi_eh_6', 'username': 'root'}\n",
      "{'pid': 291, 'name': 'scsi_tmf_6', 'username': 'root'}\n",
      "{'pid': 292, 'name': 'scsi_eh_7', 'username': 'root'}\n",
      "{'pid': 293, 'name': 'scsi_tmf_7', 'username': 'root'}\n",
      "{'pid': 300, 'name': 'scsi_eh_8', 'username': 'root'}\n",
      "{'pid': 301, 'name': 'scsi_tmf_8', 'username': 'root'}\n",
      "{'pid': 302, 'name': 'kworker/u64:9-events_unbound', 'username': 'root'}\n",
      "{'pid': 303, 'name': 'scsi_eh_9', 'username': 'root'}\n",
      "{'pid': 304, 'name': 'scsi_tmf_9', 'username': 'root'}\n",
      "{'pid': 308, 'name': 'kworker/5:1H-events_highpri', 'username': 'root'}\n",
      "{'pid': 309, 'name': 'kworker/7:2-events', 'username': 'root'}\n",
      "{'pid': 310, 'name': 'kworker/4:2-rcu_par_gp', 'username': 'root'}\n",
      "{'pid': 313, 'name': 'kworker/2:1H-kblockd', 'username': 'root'}\n",
      "{'pid': 315, 'name': 'kdmflush', 'username': 'root'}\n",
      "{'pid': 316, 'name': 'kdmflush', 'username': 'root'}\n",
      "{'pid': 355, 'name': 'kworker/10:1H-kblockd', 'username': 'root'}\n",
      "{'pid': 356, 'name': 'jbd2/dm-0-8', 'username': 'root'}\n",
      "{'pid': 357, 'name': 'ext4-rsv-conver', 'username': 'root'}\n",
      "{'pid': 358, 'name': 'kworker/4:1H-kblockd', 'username': 'root'}\n",
      "{'pid': 369, 'name': 'kworker/6:1H-kblockd', 'username': 'root'}\n",
      "{'pid': 373, 'name': 'kworker/3:1H-kblockd', 'username': 'root'}\n",
      "{'pid': 376, 'name': 'kworker/8:1H-events_highpri', 'username': 'root'}\n",
      "{'pid': 379, 'name': 'kworker/11:1H-kblockd', 'username': 'root'}\n",
      "{'pid': 383, 'name': 'kworker/9:1H-events_highpri', 'username': 'root'}\n",
      "{'pid': 401, 'name': 'kworker/1:1H-kblockd', 'username': 'root'}\n",
      "{'pid': 403, 'name': 'kworker/0:1H-kblockd', 'username': 'root'}\n",
      "{'pid': 409, 'name': 'systemd-journald', 'username': 'root'}\n",
      "{'pid': 437, 'name': 'systemd-udevd', 'username': 'root'}\n",
      "{'pid': 442, 'name': 'loop0', 'username': 'root'}\n",
      "{'pid': 498, 'name': 'loop1', 'username': 'root'}\n",
      "{'pid': 499, 'name': 'kworker/7:1H-kblockd', 'username': 'root'}\n",
      "{'pid': 501, 'name': 'kworker/9:2-rcu_par_gp', 'username': 'root'}\n",
      "{'pid': 502, 'name': 'loop2', 'username': 'root'}\n",
      "{'pid': 503, 'name': 'ccp-1-q0', 'username': 'root'}\n",
      "{'pid': 504, 'name': 'ccp-1-q1', 'username': 'root'}\n",
      "{'pid': 505, 'name': 'ccp-1-q2', 'username': 'root'}\n",
      "{'pid': 508, 'name': 'ccp-1-q3', 'username': 'root'}\n",
      "{'pid': 513, 'name': 'ccp-1-q4', 'username': 'root'}\n",
      "{'pid': 540, 'name': 'loop3', 'username': 'root'}\n",
      "{'pid': 594, 'name': 'cryptd', 'username': 'root'}\n",
      "{'pid': 597, 'name': 'led_workqueue', 'username': 'root'}\n",
      "{'pid': 608, 'name': 'loop4', 'username': 'root'}\n",
      "{'pid': 644, 'name': 'loop5', 'username': 'root'}\n",
      "{'pid': 645, 'name': 'loop6', 'username': 'root'}\n",
      "{'pid': 646, 'name': 'loop7', 'username': 'root'}\n",
      "{'pid': 675, 'name': 'kworker/5:3-mm_percpu_wq', 'username': 'root'}\n",
      "{'pid': 712, 'name': 'kworker/6:2-events', 'username': 'root'}\n",
      "{'pid': 729, 'name': 'loop8', 'username': 'root'}\n",
      "{'pid': 730, 'name': 'nv_queue', 'username': 'root'}\n",
      "{'pid': 731, 'name': 'nv_queue', 'username': 'root'}\n",
      "{'pid': 739, 'name': 'loop9', 'username': 'root'}\n",
      "{'pid': 741, 'name': 'loop10', 'username': 'root'}\n",
      "{'pid': 742, 'name': 'nvidia-modeset/', 'username': 'root'}\n",
      "{'pid': 743, 'name': 'nvidia-modeset/', 'username': 'root'}\n",
      "{'pid': 761, 'name': 'UVM global queu', 'username': 'root'}\n",
      "{'pid': 762, 'name': 'UVM deferred re', 'username': 'root'}\n",
      "{'pid': 763, 'name': 'UVM Tools Event', 'username': 'root'}\n",
      "{'pid': 767, 'name': 'loop11', 'username': 'root'}\n",
      "{'pid': 768, 'name': 'loop12', 'username': 'root'}\n",
      "{'pid': 769, 'name': 'loop13', 'username': 'root'}\n",
      "{'pid': 770, 'name': 'loop14', 'username': 'root'}\n",
      "{'pid': 797, 'name': 'systemd-resolved', 'username': 'systemd-resolve'}\n",
      "{'pid': 798, 'name': 'systemd-timesyncd', 'username': 'systemd-timesync'}\n",
      "{'pid': 829, 'name': 'accounts-daemon', 'username': 'root'}\n",
      "{'pid': 830, 'name': 'acpid', 'username': 'root'}\n",
      "{'pid': 833, 'name': 'avahi-daemon', 'username': 'avahi'}\n",
      "{'pid': 834, 'name': 'cron', 'username': 'root'}\n",
      "{'pid': 837, 'name': 'dbus-daemon', 'username': 'messagebus'}\n",
      "{'pid': 840, 'name': 'NetworkManager', 'username': 'root'}\n",
      "{'pid': 848, 'name': 'irqbalance', 'username': 'root'}\n",
      "{'pid': 851, 'name': 'networkd-dispat', 'username': 'root'}\n",
      "{'pid': 858, 'name': 'polkitd', 'username': 'root'}\n",
      "{'pid': 861, 'name': 'rsyslogd', 'username': 'syslog'}\n",
      "{'pid': 865, 'name': 'nvidia-persistenced', 'username': 'root'}\n",
      "{'pid': 868, 'name': 'snapd', 'username': 'root'}\n",
      "{'pid': 871, 'name': 'switcheroo-control', 'username': 'root'}\n",
      "{'pid': 875, 'name': 'systemd-logind', 'username': 'root'}\n",
      "{'pid': 878, 'name': 'udisksd', 'username': 'root'}\n",
      "{'pid': 879, 'name': 'wpa_supplicant', 'username': 'root'}\n",
      "{'pid': 881, 'name': 'irq/64-nvidia', 'username': 'root'}\n",
      "{'pid': 882, 'name': 'nvidia', 'username': 'root'}\n",
      "{'pid': 886, 'name': 'nv_queue', 'username': 'root'}\n",
      "{'pid': 889, 'name': 'avahi-daemon', 'username': 'avahi'}\n",
      "{'pid': 931, 'name': 'cupsd', 'username': 'root'}\n",
      "{'pid': 938, 'name': 'cups-browsed', 'username': 'root'}\n",
      "{'pid': 948, 'name': 'ModemManager', 'username': 'root'}\n",
      "{'pid': 951, 'name': 'canonical-livepatchd', 'username': 'root'}\n",
      "{'pid': 998, 'name': 'gdm3', 'username': 'root'}\n",
      "{'pid': 1016, 'name': 'unattended-upgr', 'username': 'root'}\n",
      "{'pid': 1017, 'name': 'gdm-session-worker', 'username': 'root'}\n",
      "{'pid': 1025, 'name': 'systemd', 'username': 'ben'}\n",
      "{'pid': 1033, 'name': '(sd-pam)', 'username': 'ben'}\n",
      "{'pid': 1050, 'name': 'pulseaudio', 'username': 'ben'}\n",
      "{'pid': 1052, 'name': 'tracker-miner-fs', 'username': 'ben'}\n",
      "{'pid': 1055, 'name': 'gnome-keyring-daemon', 'username': 'ben'}\n",
      "{'pid': 1060, 'name': 'gdm-x-session', 'username': 'ben'}\n",
      "{'pid': 1074, 'name': 'Xorg', 'username': 'ben'}\n",
      "{'pid': 1091, 'name': 'dbus-daemon', 'username': 'ben'}\n",
      "{'pid': 1092, 'name': 'rtkit-daemon', 'username': 'rtkit'}\n",
      "{'pid': 1097, 'name': 'gvfsd', 'username': 'ben'}\n",
      "{'pid': 1107, 'name': 'gvfsd-fuse', 'username': 'ben'}\n",
      "{'pid': 1125, 'name': 'gvfs-udisks2-volume-monitor', 'username': 'ben'}\n",
      "{'pid': 1140, 'name': 'gvfs-afc-volume-monitor', 'username': 'ben'}\n",
      "{'pid': 1145, 'name': 'gvfs-mtp-volume-monitor', 'username': 'ben'}\n",
      "{'pid': 1152, 'name': 'gvfs-gphoto2-volume-monitor', 'username': 'ben'}\n",
      "{'pid': 1157, 'name': 'gvfs-goa-volume-monitor', 'username': 'ben'}\n",
      "{'pid': 1161, 'name': 'goa-daemon', 'username': 'ben'}\n",
      "{'pid': 1176, 'name': 'goa-identity-service', 'username': 'ben'}\n",
      "{'pid': 1185, 'name': 'upowerd', 'username': 'root'}\n",
      "{'pid': 1288, 'name': 'gnome-session-binary', 'username': 'ben'}\n",
      "{'pid': 1355, 'name': 'ssh-agent', 'username': 'ben'}\n",
      "{'pid': 1374, 'name': 'at-spi-bus-launcher', 'username': 'ben'}\n",
      "{'pid': 1379, 'name': 'dbus-daemon', 'username': 'ben'}\n",
      "{'pid': 1385, 'name': 'gnome-session-ctl', 'username': 'ben'}\n",
      "{'pid': 1392, 'name': 'gnome-session-binary', 'username': 'ben'}\n",
      "{'pid': 1406, 'name': 'gnome-shell', 'username': 'ben'}\n",
      "{'pid': 1429, 'name': 'at-spi2-registryd', 'username': 'ben'}\n",
      "{'pid': 1440, 'name': 'ibus-daemon', 'username': 'ben'}\n",
      "{'pid': 1444, 'name': 'ibus-dconf', 'username': 'ben'}\n",
      "{'pid': 1445, 'name': 'ibus-extension-gtk3', 'username': 'ben'}\n",
      "{'pid': 1447, 'name': 'ibus-x11', 'username': 'ben'}\n",
      "{'pid': 1450, 'name': 'ibus-portal', 'username': 'ben'}\n",
      "{'pid': 1462, 'name': 'xdg-permission-store', 'username': 'ben'}\n",
      "{'pid': 1464, 'name': 'gnome-shell-calendar-server', 'username': 'ben'}\n",
      "{'pid': 1473, 'name': 'evolution-source-registry', 'username': 'ben'}\n",
      "{'pid': 1481, 'name': 'dconf-service', 'username': 'ben'}\n",
      "{'pid': 1484, 'name': 'geoclue', 'username': 'geoclue'}\n",
      "{'pid': 1485, 'name': 'gvfsd-metadata', 'username': 'ben'}\n",
      "{'pid': 1504, 'name': 'evolution-calendar-factory', 'username': 'ben'}\n",
      "{'pid': 1522, 'name': 'evolution-addressbook-factory', 'username': 'ben'}\n",
      "{'pid': 1558, 'name': 'gjs', 'username': 'ben'}\n",
      "{'pid': 1574, 'name': 'gvfsd-trash', 'username': 'ben'}\n",
      "{'pid': 1587, 'name': 'gsd-a11y-settings', 'username': 'ben'}\n",
      "{'pid': 1588, 'name': 'gsd-color', 'username': 'ben'}\n",
      "{'pid': 1589, 'name': 'gsd-datetime', 'username': 'ben'}\n",
      "{'pid': 1590, 'name': 'gsd-housekeeping', 'username': 'ben'}\n",
      "{'pid': 1591, 'name': 'gsd-keyboard', 'username': 'ben'}\n",
      "{'pid': 1593, 'name': 'gsd-media-keys', 'username': 'ben'}\n",
      "{'pid': 1595, 'name': 'gsd-power', 'username': 'ben'}\n",
      "{'pid': 1596, 'name': 'gsd-print-notifications', 'username': 'ben'}\n",
      "{'pid': 1597, 'name': 'gsd-rfkill', 'username': 'ben'}\n",
      "{'pid': 1598, 'name': 'gsd-screensaver-proxy', 'username': 'ben'}\n",
      "{'pid': 1603, 'name': 'gsd-sharing', 'username': 'ben'}\n",
      "{'pid': 1605, 'name': 'gsd-smartcard', 'username': 'ben'}\n",
      "{'pid': 1606, 'name': 'gsd-sound', 'username': 'ben'}\n",
      "{'pid': 1607, 'name': 'gsd-usb-protection', 'username': 'ben'}\n",
      "{'pid': 1608, 'name': 'gsd-wacom', 'username': 'ben'}\n",
      "{'pid': 1609, 'name': 'gsd-wwan', 'username': 'ben'}\n",
      "{'pid': 1611, 'name': 'gsd-xsettings', 'username': 'ben'}\n",
      "{'pid': 1629, 'name': 'ibus-engine-simple', 'username': 'ben'}\n",
      "{'pid': 1657, 'name': 'gsd-printer', 'username': 'ben'}\n",
      "{'pid': 1683, 'name': 'colord', 'username': 'colord'}\n",
      "{'pid': 1760, 'name': 'kworker/11:3-rcu_par_gp', 'username': 'root'}\n",
      "{'pid': 1765, 'name': 'evolution-alarm-notify', 'username': 'ben'}\n",
      "{'pid': 1768, 'name': 'gsd-disk-utility-notify', 'username': 'ben'}\n",
      "{'pid': 1794, 'name': 'snap-store', 'username': 'ben'}\n",
      "{'pid': 1811, 'name': 'xdg-document-portal', 'username': 'ben'}\n",
      "{'pid': 1965, 'name': 'whoopsie', 'username': 'whoopsie'}\n",
      "{'pid': 1968, 'name': 'kerneloops', 'username': 'kernoops'}\n",
      "{'pid': 1970, 'name': 'kerneloops', 'username': 'kernoops'}\n",
      "{'pid': 1978, 'name': 'iprt-VBoxWQueue', 'username': 'root'}\n",
      "{'pid': 1980, 'name': 'iprt-VBoxTscThr', 'username': 'root'}\n",
      "{'pid': 1990, 'name': 'fwupd', 'username': 'root'}\n",
      "{'pid': 3788, 'name': 'loop15', 'username': 'root'}\n",
      "{'pid': 3890, 'name': 'update-notifier', 'username': 'ben'}\n",
      "{'pid': 4351, 'name': 'kworker/9:3-events', 'username': 'root'}\n",
      "{'pid': 4355, 'name': 'kworker/u64:0-events_unbound', 'username': 'root'}\n",
      "{'pid': 4367, 'name': 'kworker/6:0-events', 'username': 'root'}\n",
      "{'pid': 4370, 'name': 'kworker/1:0-events', 'username': 'root'}\n",
      "{'pid': 4376, 'name': 'kworker/7:0-events', 'username': 'root'}\n",
      "{'pid': 4469, 'name': 'kworker/10:0-events', 'username': 'root'}\n",
      "{'pid': 4536, 'name': 'kworker/u65:1-hci0', 'username': 'root'}\n",
      "{'pid': 4537, 'name': 'kworker/u65:2-hci0', 'username': 'root'}\n",
      "{'pid': 4545, 'name': 'bluetoothd', 'username': 'root'}\n",
      "{'pid': 4551, 'name': 'kworker/8:0-events', 'username': 'root'}\n",
      "{'pid': 4559, 'name': 'krfcommd', 'username': 'root'}\n",
      "{'pid': 4579, 'name': 'gnome-calendar', 'username': 'ben'}\n",
      "{'pid': 4812, 'name': 'kworker/5:0-events', 'username': 'root'}\n",
      "{'pid': 4813, 'name': 'obexd', 'username': 'ben'}\n",
      "{'pid': 4855, 'name': 'kworker/4:0-events', 'username': 'root'}\n",
      "{'pid': 4856, 'name': 'kworker/3:0-events', 'username': 'root'}\n",
      "{'pid': 4863, 'name': 'kworker/3:1-events', 'username': 'root'}\n",
      "{'pid': 4869, 'name': 'kworker/0:2-rcu_par_gp', 'username': 'root'}\n",
      "{'pid': 4919, 'name': 'kworker/2:1-events', 'username': 'root'}\n",
      "{'pid': 4921, 'name': 'kworker/6:1-events', 'username': 'root'}\n",
      "{'pid': 4922, 'name': 'spotify', 'username': 'ben'}\n",
      "{'pid': 5036, 'name': 'spotify', 'username': 'ben'}\n",
      "{'pid': 5037, 'name': 'spotify', 'username': 'ben'}\n",
      "{'pid': 5051, 'name': 'spotify', 'username': 'ben'}\n",
      "{'pid': 5067, 'name': 'spotify', 'username': 'ben'}\n",
      "{'pid': 5091, 'name': 'spotify', 'username': 'ben'}\n",
      "{'pid': 5151, 'name': 'chrome', 'username': 'ben'}\n",
      "{'pid': 5158, 'name': 'cat', 'username': 'ben'}\n",
      "{'pid': 5159, 'name': 'cat', 'username': 'ben'}\n",
      "{'pid': 5163, 'name': 'chrome', 'username': 'ben'}\n",
      "{'pid': 5165, 'name': 'chrome', 'username': 'ben'}\n",
      "{'pid': 5167, 'name': 'nacl_helper', 'username': 'ben'}\n",
      "{'pid': 5170, 'name': 'chrome', 'username': 'ben'}\n",
      "{'pid': 5189, 'name': 'chrome', 'username': 'ben'}\n",
      "{'pid': 5193, 'name': 'chrome', 'username': 'ben'}\n",
      "{'pid': 5208, 'name': 'chrome', 'username': 'ben'}\n",
      "{'pid': 5226, 'name': 'chrome', 'username': 'ben'}\n",
      "{'pid': 5233, 'name': 'chrome', 'username': 'ben'}\n",
      "{'pid': 5261, 'name': 'chrome', 'username': 'ben'}\n",
      "{'pid': 5317, 'name': 'chrome', 'username': 'ben'}\n",
      "{'pid': 5338, 'name': 'chrome', 'username': 'ben'}\n",
      "{'pid': 5344, 'name': 'chrome', 'username': 'ben'}\n",
      "{'pid': 5357, 'name': 'chrome', 'username': 'ben'}\n",
      "{'pid': 5377, 'name': 'chrome', 'username': 'ben'}\n",
      "{'pid': 5439, 'name': 'chrome', 'username': 'ben'}\n",
      "{'pid': 5482, 'name': 'chrome', 'username': 'ben'}\n",
      "{'pid': 5497, 'name': 'chrome', 'username': 'ben'}\n",
      "{'pid': 5531, 'name': 'chrome', 'username': 'ben'}\n",
      "{'pid': 5681, 'name': 'kworker/7:1-events', 'username': 'root'}\n",
      "{'pid': 5690, 'name': 'gnome-terminal-server', 'username': 'ben'}\n",
      "{'pid': 5698, 'name': 'bash', 'username': 'ben'}\n",
      "{'pid': 5717, 'name': 'jupyter-noteboo', 'username': 'ben'}\n",
      "{'pid': 5782, 'name': 'chrome', 'username': 'ben'}\n",
      "{'pid': 5809, 'name': 'kworker/11:1-memcg_kmem_cache', 'username': 'root'}\n",
      "{'pid': 5825, 'name': 'kworker/10:1-events', 'username': 'root'}\n",
      "{'pid': 5893, 'name': 'kworker/0:0-events', 'username': 'root'}\n",
      "{'pid': 5900, 'name': 'kworker/0:4-events', 'username': 'root'}\n",
      "{'pid': 5905, 'name': 'kworker/8:1-events', 'username': 'root'}\n",
      "{'pid': 5971, 'name': 'kworker/1:3-events', 'username': 'root'}\n",
      "{'pid': 6039, 'name': 'bash', 'username': 'ben'}\n",
      "{'pid': 6573, 'name': 'kworker/u64:1-events_power_efficient', 'username': 'root'}\n",
      "{'pid': 6666, 'name': 'kworker/6:3-events', 'username': 'root'}\n",
      "{'pid': 6684, 'name': 'chrome', 'username': 'ben'}\n",
      "{'pid': 6701, 'name': 'kworker/7:3-events', 'username': 'root'}\n",
      "{'pid': 6737, 'name': 'kworker/5:1-rcu_par_gp', 'username': 'root'}\n",
      "{'pid': 6739, 'name': 'chrome', 'username': 'ben'}\n",
      "{'pid': 6796, 'name': 'chrome', 'username': 'ben'}\n",
      "{'pid': 6809, 'name': 'chrome', 'username': 'ben'}\n",
      "{'pid': 6824, 'name': 'chrome', 'username': 'ben'}\n",
      "{'pid': 7034, 'name': 'nautilus', 'username': 'ben'}\n",
      "{'pid': 7045, 'name': 'kworker/11:0-events', 'username': 'root'}\n",
      "{'pid': 7099, 'name': 'kworker/2:0-events', 'username': 'root'}\n",
      "{'pid': 7119, 'name': 'kworker/9:0-events', 'username': 'root'}\n",
      "{'pid': 7122, 'name': 'kworker/8:2-events', 'username': 'root'}\n",
      "{'pid': 7134, 'name': 'kworker/8:3-events', 'username': 'root'}\n",
      "{'pid': 7145, 'name': 'chrome', 'username': 'ben'}\n",
      "{'pid': 7327, 'name': 'chrome', 'username': 'ben'}\n",
      "{'pid': 7347, 'name': 'python', 'username': 'ben'}\n"
     ]
    }
   ],
   "source": [
    "for proc in psutil.process_iter():\n",
    "    try:\n",
    "        pinfo = proc.as_dict(attrs=['pid', 'name', 'username'])\n",
    "    except psutil.NoSuchProcess:\n",
    "        pass\n",
    "    else:\n",
    "        print(pinfo)"
   ]
  },
  {
   "cell_type": "code",
   "execution_count": 17,
   "metadata": {},
   "outputs": [
    {
     "name": "stdout",
     "output_type": "stream",
     "text": [
      "[(5782, 'chrome', 24.06), (5189, 'chrome', 27.56), (1406, 'gnome-shell', 28.49)]\n"
     ]
    }
   ],
   "source": [
    "from pprint import pprint as pp\n",
    "pp([(p.pid, p.info['name'], sum(p.info['cpu_times'])) for p in sorted(psutil.process_iter(attrs=['name', 'cpu_times']), key=lambda p: sum(p.info['cpu_times'][:2]))][-3:])"
   ]
  },
  {
   "cell_type": "code",
   "execution_count": 18,
   "metadata": {},
   "outputs": [
    {
     "name": "stdout",
     "output_type": "stream",
     "text": [
      "[(7347, {'name': 'python', 'status': 'running'})]\n"
     ]
    }
   ],
   "source": [
    "pp([(p.pid, p.info) for p in psutil.process_iter(attrs=['name', 'status']) if p.info['status'] == psutil.STATUS_RUNNING])"
   ]
  },
  {
   "cell_type": "code",
   "execution_count": 19,
   "metadata": {},
   "outputs": [
    {
     "name": "stdout",
     "output_type": "stream",
     "text": [
      "[(4922, {'memory_percent': 1.5433451424545481, 'name': 'spotify'}),\n",
      " (1406, {'memory_percent': 2.131480420164331, 'name': 'gnome-shell'}),\n",
      " (5151, {'memory_percent': 2.514434048965102, 'name': 'chrome'})]\n"
     ]
    }
   ],
   "source": [
    "pp([(p.pid, p.info) for p in sorted(psutil.process_iter(attrs=['name', 'memory_percent']), key=lambda p: p.info['memory_percent'])][-3:])"
   ]
  },
  {
   "cell_type": "markdown",
   "metadata": {},
   "source": [
    "Also checkout one_shot() which may be faster when gathering multiple information sources - https://psutil.readthedocs.io/en/latest/#psutil.Process.oneshot.\n",
    "\n",
    "Actually as_dict() looks like what we want - https://psutil.readthedocs.io/en/latest/#psutil.Process.as_dict.\n",
    "\n",
    "But actually these just relate to a particular process rather than the global system state?"
   ]
  },
  {
   "cell_type": "code",
   "execution_count": 25,
   "metadata": {},
   "outputs": [
    {
     "data": {
      "text/plain": [
       "['nice',\n",
       " 'connections',\n",
       " 'threads',\n",
       " 'cpu_percent',\n",
       " 'status',\n",
       " 'create_time',\n",
       " 'ionice',\n",
       " 'name',\n",
       " 'cpu_num',\n",
       " 'username',\n",
       " 'cpu_times',\n",
       " 'num_fds',\n",
       " 'cpu_affinity',\n",
       " 'pid',\n",
       " 'io_counters',\n",
       " 'uids',\n",
       " 'memory_maps',\n",
       " 'exe',\n",
       " 'memory_full_info',\n",
       " 'memory_info',\n",
       " 'ppid',\n",
       " 'environ',\n",
       " 'open_files',\n",
       " 'cwd',\n",
       " 'num_threads',\n",
       " 'terminal',\n",
       " 'num_ctx_switches',\n",
       " 'gids',\n",
       " 'memory_percent',\n",
       " 'cmdline']"
      ]
     },
     "execution_count": 25,
     "metadata": {},
     "output_type": "execute_result"
    }
   ],
   "source": [
    "p = psutil.Process()\n",
    "# get a list of valid attrs names\n",
    "list(psutil.Process().as_dict().keys())"
   ]
  },
  {
   "cell_type": "code",
   "execution_count": 27,
   "metadata": {},
   "outputs": [
    {
     "data": {
      "text/plain": [
       "{'nice': 0,\n",
       " 'connections': [pconn(fd=40, family=<AddressFamily.AF_INET: 2>, type=<SocketKind.SOCK_STREAM: 1>, laddr=addr(ip='127.0.0.1', port=38745), raddr=addr(ip='127.0.0.1', port=36706), status='ESTABLISHED'),\n",
       "  pconn(fd=18, family=<AddressFamily.AF_INET: 2>, type=<SocketKind.SOCK_STREAM: 1>, laddr=addr(ip='127.0.0.1', port=59099), raddr=(), status='LISTEN'),\n",
       "  pconn(fd=39, family=<AddressFamily.AF_INET: 2>, type=<SocketKind.SOCK_STREAM: 1>, laddr=addr(ip='127.0.0.1', port=59099), raddr=addr(ip='127.0.0.1', port=51598), status='ESTABLISHED'),\n",
       "  pconn(fd=43, family=<AddressFamily.AF_INET: 2>, type=<SocketKind.SOCK_STREAM: 1>, laddr=addr(ip='127.0.0.1', port=58449), raddr=addr(ip='127.0.0.1', port=40996), status='ESTABLISHED'),\n",
       "  pconn(fd=23, family=<AddressFamily.AF_INET: 2>, type=<SocketKind.SOCK_STREAM: 1>, laddr=addr(ip='127.0.0.1', port=40693), raddr=(), status='LISTEN'),\n",
       "  pconn(fd=31, family=<AddressFamily.AF_INET: 2>, type=<SocketKind.SOCK_STREAM: 1>, laddr=addr(ip='127.0.0.1', port=60107), raddr=(), status='LISTEN'),\n",
       "  pconn(fd=14, family=<AddressFamily.AF_INET: 2>, type=<SocketKind.SOCK_STREAM: 1>, laddr=addr(ip='127.0.0.1', port=38745), raddr=(), status='LISTEN'),\n",
       "  pconn(fd=37, family=<AddressFamily.AF_INET: 2>, type=<SocketKind.SOCK_STREAM: 1>, laddr=addr(ip='127.0.0.1', port=59099), raddr=addr(ip='127.0.0.1', port=51596), status='ESTABLISHED'),\n",
       "  pconn(fd=16, family=<AddressFamily.AF_INET: 2>, type=<SocketKind.SOCK_STREAM: 1>, laddr=addr(ip='127.0.0.1', port=55375), raddr=(), status='LISTEN'),\n",
       "  pconn(fd=12, family=<AddressFamily.AF_INET: 2>, type=<SocketKind.SOCK_STREAM: 1>, laddr=addr(ip='127.0.0.1', port=58449), raddr=(), status='LISTEN'),\n",
       "  pconn(fd=41, family=<AddressFamily.AF_INET: 2>, type=<SocketKind.SOCK_STREAM: 1>, laddr=addr(ip='127.0.0.1', port=55375), raddr=addr(ip='127.0.0.1', port=37886), status='ESTABLISHED'),\n",
       "  pconn(fd=42, family=<AddressFamily.AF_INET: 2>, type=<SocketKind.SOCK_STREAM: 1>, laddr=addr(ip='127.0.0.1', port=55375), raddr=addr(ip='127.0.0.1', port=37888), status='ESTABLISHED')],\n",
       " 'threads': [pthread(id=7347, user_time=0.43, system_time=0.09),\n",
       "  pthread(id=7351, user_time=0.0, system_time=0.0),\n",
       "  pthread(id=7352, user_time=0.0, system_time=0.0),\n",
       "  pthread(id=7353, user_time=0.05, system_time=0.0),\n",
       "  pthread(id=7354, user_time=0.0, system_time=0.0),\n",
       "  pthread(id=7355, user_time=0.0, system_time=0.0),\n",
       "  pthread(id=7356, user_time=0.0, system_time=0.0),\n",
       "  pthread(id=7357, user_time=0.01, system_time=0.0),\n",
       "  pthread(id=7358, user_time=0.01, system_time=0.01)],\n",
       " 'cpu_percent': 0.0,\n",
       " 'status': 'running',\n",
       " 'create_time': 1609409659.02,\n",
       " 'ionice': pionice(ioclass=<IOPriority.IOPRIO_CLASS_NONE: 0>, value=0),\n",
       " 'name': 'python',\n",
       " 'cpu_num': 10,\n",
       " 'username': 'ben',\n",
       " 'cpu_times': pcputimes(user=0.5, system=0.12, children_user=0.0, children_system=0.0, iowait=0.0),\n",
       " 'num_fds': 47,\n",
       " 'cpu_affinity': [0, 1, 2, 3, 4, 5, 6, 7, 8, 9, 10, 11],\n",
       " 'pid': 7347,\n",
       " 'io_counters': pio(read_count=10603, write_count=1118, read_bytes=16384, write_bytes=905216, read_chars=10635598, write_chars=697644),\n",
       " 'uids': puids(real=1000, effective=1000, saved=1000),\n",
       " 'memory_maps': [pmmap_grouped(path='/home/ben/anaconda3/envs/ml_platform_3_7/bin/python3.7', rss=3158016, size=3461120, pss=1718272, shared_clean=2879488, shared_dirty=0, private_clean=4096, private_dirty=274432, referenced=3158016, anonymous=274432, swap=0),\n",
       "  pmmap_grouped(path='[anon]', rss=30375936, size=499421184, pss=30375936, shared_clean=0, shared_dirty=0, private_clean=0, private_dirty=30375936, referenced=30375936, anonymous=30375936, swap=0),\n",
       "  pmmap_grouped(path='[heap]', rss=9568256, size=9777152, pss=9568256, shared_clean=0, shared_dirty=0, private_clean=0, private_dirty=9568256, referenced=9568256, anonymous=9568256, swap=0),\n",
       "  pmmap_grouped(path='/usr/lib/x86_64-linux-gnu/libnss_files-2.31.so', rss=57344, size=57344, pss=8192, shared_clean=49152, shared_dirty=0, private_clean=0, private_dirty=8192, referenced=57344, anonymous=8192, swap=0),\n",
       "  pmmap_grouped(path='/home/ben/anaconda3/envs/ml_platform_3_7/lib/python3.7/site-packages/psutil/_psutil_posix.cpython-37m-x86_64-linux-gnu.so', rss=24576, size=24576, pss=24576, shared_clean=0, shared_dirty=0, private_clean=16384, private_dirty=8192, referenced=24576, anonymous=8192, swap=0),\n",
       "  pmmap_grouped(path='/home/ben/anaconda3/envs/ml_platform_3_7/lib/python3.7/site-packages/psutil/_psutil_linux.cpython-37m-x86_64-linux-gnu.so', rss=32768, size=32768, pss=32768, shared_clean=0, shared_dirty=0, private_clean=24576, private_dirty=8192, referenced=32768, anonymous=8192, swap=0),\n",
       "  pmmap_grouped(path='/home/ben/anaconda3/envs/ml_platform_3_7/lib/python3.7/lib-dynload/_decimal.cpython-37m-x86_64-linux-gnu.so', rss=323584, size=327680, pss=172032, shared_clean=303104, shared_dirty=0, private_clean=0, private_dirty=20480, referenced=323584, anonymous=20480, swap=0),\n",
       "  pmmap_grouped(path='/home/ben/anaconda3/envs/ml_platform_3_7/lib/libtinfow.so.6.2', rss=188416, size=258048, pss=104448, shared_clean=167936, shared_dirty=0, private_clean=0, private_dirty=20480, referenced=188416, anonymous=20480, swap=0),\n",
       "  pmmap_grouped(path='/home/ben/anaconda3/envs/ml_platform_3_7/lib/libncursesw.so.6.2', rss=172032, size=249856, pss=112640, shared_clean=118784, shared_dirty=0, private_clean=45056, private_dirty=8192, referenced=172032, anonymous=8192, swap=0),\n",
       "  pmmap_grouped(path='/home/ben/anaconda3/envs/ml_platform_3_7/lib/python3.7/lib-dynload/_curses.cpython-37m-x86_64-linux-gnu.so', rss=90112, size=90112, pss=51200, shared_clean=77824, shared_dirty=0, private_clean=0, private_dirty=12288, referenced=90112, anonymous=12288, swap=0),\n",
       "  pmmap_grouped(path='/home/ben/anaconda3/envs/ml_platform_3_7/lib/python3.7/site-packages/zmq/backend/cython/_proxy_steerable.cpython-37m-x86_64-linux-gnu.so', rss=49152, size=49152, pss=28672, shared_clean=40960, shared_dirty=0, private_clean=0, private_dirty=8192, referenced=49152, anonymous=8192, swap=0),\n",
       "  pmmap_grouped(path='/home/ben/anaconda3/envs/ml_platform_3_7/lib/python3.7/site-packages/zmq/backend/cython/_device.cpython-37m-x86_64-linux-gnu.so', rss=53248, size=53248, pss=30720, shared_clean=45056, shared_dirty=0, private_clean=0, private_dirty=8192, referenced=53248, anonymous=8192, swap=0),\n",
       "  pmmap_grouped(path='/home/ben/anaconda3/envs/ml_platform_3_7/lib/python3.7/site-packages/zmq/backend/cython/_version.cpython-37m-x86_64-linux-gnu.so', rss=32768, size=36864, pss=20480, shared_clean=24576, shared_dirty=0, private_clean=0, private_dirty=8192, referenced=32768, anonymous=8192, swap=0),\n",
       "  pmmap_grouped(path='/home/ben/anaconda3/envs/ml_platform_3_7/lib/python3.7/site-packages/zmq/backend/cython/_poll.cpython-37m-x86_64-linux-gnu.so', rss=77824, size=81920, pss=45056, shared_clean=65536, shared_dirty=0, private_clean=0, private_dirty=12288, referenced=77824, anonymous=12288, swap=0),\n",
       "  pmmap_grouped(path='/home/ben/anaconda3/envs/ml_platform_3_7/lib/python3.7/site-packages/zmq/backend/cython/utils.cpython-37m-x86_64-linux-gnu.so', rss=49152, size=49152, pss=28672, shared_clean=40960, shared_dirty=0, private_clean=0, private_dirty=8192, referenced=49152, anonymous=8192, swap=0),\n",
       "  pmmap_grouped(path='/home/ben/anaconda3/envs/ml_platform_3_7/lib/python3.7/site-packages/zmq/backend/cython/socket.cpython-37m-x86_64-linux-gnu.so', rss=143360, size=147456, pss=81920, shared_clean=122880, shared_dirty=0, private_clean=0, private_dirty=20480, referenced=143360, anonymous=20480, swap=0),\n",
       "  pmmap_grouped(path='/home/ben/anaconda3/envs/ml_platform_3_7/lib/python3.7/site-packages/zmq/backend/cython/context.cpython-37m-x86_64-linux-gnu.so', rss=77824, size=77824, pss=45056, shared_clean=65536, shared_dirty=0, private_clean=0, private_dirty=12288, referenced=77824, anonymous=12288, swap=0),\n",
       "  pmmap_grouped(path='/home/ben/anaconda3/envs/ml_platform_3_7/lib/python3.7/site-packages/zmq/backend/cython/message.cpython-37m-x86_64-linux-gnu.so', rss=102400, size=106496, pss=59392, shared_clean=86016, shared_dirty=0, private_clean=0, private_dirty=16384, referenced=102400, anonymous=16384, swap=0),\n",
       "  pmmap_grouped(path='/home/ben/anaconda3/envs/ml_platform_3_7/lib/libgcc_s.so.1', rss=81920, size=81920, pss=45056, shared_clean=73728, shared_dirty=0, private_clean=0, private_dirty=8192, referenced=81920, anonymous=8192, swap=0),\n",
       "  pmmap_grouped(path='/home/ben/anaconda3/envs/ml_platform_3_7/lib/libstdc++.so.6.0.26', rss=1224704, size=1511424, pss=645120, shared_clean=1159168, shared_dirty=0, private_clean=4096, private_dirty=61440, referenced=1224704, anonymous=61440, swap=0),\n",
       "  pmmap_grouped(path='/home/ben/anaconda3/envs/ml_platform_3_7/lib/libsodium.so.23.3.0', rss=294912, size=372736, pss=153600, shared_clean=282624, shared_dirty=0, private_clean=4096, private_dirty=8192, referenced=294912, anonymous=8192, swap=0),\n",
       "  pmmap_grouped(path='/home/ben/anaconda3/envs/ml_platform_3_7/lib/libzmq.so.5.2.3', rss=598016, size=643072, pss=323584, shared_clean=548864, shared_dirty=0, private_clean=12288, private_dirty=36864, referenced=598016, anonymous=36864, swap=0),\n",
       "  pmmap_grouped(path='/home/ben/anaconda3/envs/ml_platform_3_7/lib/python3.7/site-packages/zmq/backend/cython/error.cpython-37m-x86_64-linux-gnu.so', rss=40960, size=40960, pss=24576, shared_clean=32768, shared_dirty=0, private_clean=0, private_dirty=8192, referenced=40960, anonymous=8192, swap=0),\n",
       "  pmmap_grouped(path='/home/ben/anaconda3/envs/ml_platform_3_7/lib/python3.7/site-packages/zmq/backend/cython/constants.cpython-37m-x86_64-linux-gnu.so', rss=81920, size=81920, pss=49152, shared_clean=65536, shared_dirty=0, private_clean=0, private_dirty=16384, referenced=81920, anonymous=16384, swap=0),\n",
       "  pmmap_grouped(path='/home/ben/anaconda3/envs/ml_platform_3_7/lib/python3.7/lib-dynload/_ctypes.cpython-37m-x86_64-linux-gnu.so', rss=155648, size=155648, pss=88064, shared_clean=135168, shared_dirty=0, private_clean=0, private_dirty=20480, referenced=155648, anonymous=20480, swap=0),\n",
       "  pmmap_grouped(path='/home/ben/anaconda3/envs/ml_platform_3_7/lib/python3.7/lib-dynload/unicodedata.cpython-37m-x86_64-linux-gnu.so', rss=159744, size=1077248, pss=86016, shared_clean=147456, shared_dirty=0, private_clean=0, private_dirty=12288, referenced=159744, anonymous=12288, swap=0),\n",
       "  pmmap_grouped(path='/home/ben/anaconda3/envs/ml_platform_3_7/lib/python3.7/lib-dynload/array.cpython-37m-x86_64-linux-gnu.so', rss=73728, size=77824, pss=45056, shared_clean=57344, shared_dirty=0, private_clean=0, private_dirty=16384, referenced=73728, anonymous=16384, swap=0),\n",
       "  pmmap_grouped(path='/home/ben/anaconda3/envs/ml_platform_3_7/lib/python3.7/lib-dynload/_asyncio.cpython-37m-x86_64-linux-gnu.so', rss=90112, size=90112, pss=55296, shared_clean=69632, shared_dirty=0, private_clean=0, private_dirty=20480, referenced=90112, anonymous=20480, swap=0),\n",
       "  pmmap_grouped(path='/home/ben/anaconda3/envs/ml_platform_3_7/lib/libssl.so.1.1', rss=303104, size=589824, pss=178176, shared_clean=249856, shared_dirty=0, private_clean=0, private_dirty=53248, referenced=303104, anonymous=53248, swap=0),\n",
       "  pmmap_grouped(path='/home/ben/anaconda3/envs/ml_platform_3_7/lib/python3.7/lib-dynload/_ssl.cpython-37m-x86_64-linux-gnu.so', rss=135168, size=139264, pss=79872, shared_clean=110592, shared_dirty=0, private_clean=0, private_dirty=24576, referenced=135168, anonymous=24576, swap=0),\n",
       "  pmmap_grouped(path='/home/ben/anaconda3/envs/ml_platform_3_7/lib/python3.7/lib-dynload/_socket.cpython-37m-x86_64-linux-gnu.so', rss=122880, size=122880, pss=67584, shared_clean=110592, shared_dirty=0, private_clean=0, private_dirty=12288, referenced=122880, anonymous=12288, swap=0),\n",
       "  pmmap_grouped(path='/home/ben/anaconda3/envs/ml_platform_3_7/lib/libsqlite3.so.0.8.6', rss=966656, size=1200128, pss=499712, shared_clean=933888, shared_dirty=0, private_clean=4096, private_dirty=28672, referenced=966656, anonymous=28672, swap=0),\n",
       "  pmmap_grouped(path='/home/ben/anaconda3/envs/ml_platform_3_7/lib/python3.7/lib-dynload/_sqlite3.cpython-37m-x86_64-linux-gnu.so', rss=102400, size=106496, pss=57344, shared_clean=90112, shared_dirty=0, private_clean=0, private_dirty=12288, referenced=102400, anonymous=12288, swap=0),\n",
       "  pmmap_grouped(path='/home/ben/anaconda3/envs/ml_platform_3_7/lib/python3.7/lib-dynload/_pickle.cpython-37m-x86_64-linux-gnu.so', rss=131072, size=131072, pss=73728, shared_clean=114688, shared_dirty=0, private_clean=0, private_dirty=16384, referenced=131072, anonymous=16384, swap=0),\n",
       "  pmmap_grouped(path='/home/ben/anaconda3/envs/ml_platform_3_7/lib/python3.7/site-packages/tornado/speedups.cpython-37m-x86_64-linux-gnu.so', rss=20480, size=20480, pss=14336, shared_clean=12288, shared_dirty=0, private_clean=0, private_dirty=8192, referenced=20480, anonymous=8192, swap=0),\n",
       "  pmmap_grouped(path='/home/ben/anaconda3/envs/ml_platform_3_7/lib/libffi.so.7.1.0', rss=45056, size=49152, pss=26624, shared_clean=36864, shared_dirty=0, private_clean=0, private_dirty=8192, referenced=45056, anonymous=8192, swap=0),\n",
       "  pmmap_grouped(path='/home/ben/anaconda3/envs/ml_platform_3_7/lib/python3.7/lib-dynload/resource.cpython-37m-x86_64-linux-gnu.so', rss=24576, size=24576, pss=16384, shared_clean=16384, shared_dirty=0, private_clean=0, private_dirty=8192, referenced=24576, anonymous=8192, swap=0),\n",
       "  pmmap_grouped(path='/home/ben/anaconda3/envs/ml_platform_3_7/lib/python3.7/lib-dynload/fcntl.cpython-37m-x86_64-linux-gnu.so', rss=24576, size=24576, pss=16384, shared_clean=16384, shared_dirty=0, private_clean=0, private_dirty=8192, referenced=24576, anonymous=8192, swap=0),\n",
       "  pmmap_grouped(path='/home/ben/anaconda3/envs/ml_platform_3_7/lib/python3.7/lib-dynload/termios.cpython-37m-x86_64-linux-gnu.so', rss=32768, size=32768, pss=22528, shared_clean=20480, shared_dirty=0, private_clean=0, private_dirty=12288, referenced=32768, anonymous=12288, swap=0),\n",
       "  pmmap_grouped(path='/home/ben/anaconda3/envs/ml_platform_3_7/lib/python3.7/lib-dynload/_random.cpython-37m-x86_64-linux-gnu.so', rss=28672, size=28672, pss=18432, shared_clean=20480, shared_dirty=0, private_clean=0, private_dirty=8192, referenced=28672, anonymous=8192, swap=0),\n",
       "  pmmap_grouped(path='/home/ben/anaconda3/envs/ml_platform_3_7/lib/python3.7/lib-dynload/_bisect.cpython-37m-x86_64-linux-gnu.so', rss=20480, size=20480, pss=14336, shared_clean=12288, shared_dirty=0, private_clean=0, private_dirty=8192, referenced=20480, anonymous=8192, swap=0),\n",
       "  pmmap_grouped(path='/home/ben/anaconda3/envs/ml_platform_3_7/lib/python3.7/lib-dynload/_sha3.cpython-37m-x86_64-linux-gnu.so', rss=102400, size=110592, pss=57344, shared_clean=90112, shared_dirty=0, private_clean=0, private_dirty=12288, referenced=102400, anonymous=12288, swap=0),\n",
       "  pmmap_grouped(path='/home/ben/anaconda3/envs/ml_platform_3_7/lib/python3.7/lib-dynload/_blake2.cpython-37m-x86_64-linux-gnu.so', rss=53248, size=57344, pss=30720, shared_clean=45056, shared_dirty=0, private_clean=0, private_dirty=8192, referenced=53248, anonymous=8192, swap=0),\n",
       "  pmmap_grouped(path='/home/ben/anaconda3/envs/ml_platform_3_7/lib/libcrypto.so.1.1', rss=1798144, size=2916352, pss=991232, shared_clean=1613824, shared_dirty=0, private_clean=0, private_dirty=184320, referenced=1798144, anonymous=184320, swap=0),\n",
       "  pmmap_grouped(path='/home/ben/anaconda3/envs/ml_platform_3_7/lib/python3.7/lib-dynload/_hashlib.cpython-37m-x86_64-linux-gnu.so', rss=36864, size=36864, pss=22528, shared_clean=28672, shared_dirty=0, private_clean=0, private_dirty=8192, referenced=36864, anonymous=8192, swap=0),\n",
       "  pmmap_grouped(path='/home/ben/anaconda3/envs/ml_platform_3_7/lib/python3.7/lib-dynload/_opcode.cpython-37m-x86_64-linux-gnu.so', rss=20480, size=20480, pss=14336, shared_clean=12288, shared_dirty=0, private_clean=0, private_dirty=8192, referenced=20480, anonymous=8192, swap=0),\n",
       "  pmmap_grouped(path='/home/ben/anaconda3/envs/ml_platform_3_7/lib/python3.7/lib-dynload/grp.cpython-37m-x86_64-linux-gnu.so', rss=24576, size=24576, pss=16384, shared_clean=16384, shared_dirty=0, private_clean=0, private_dirty=8192, referenced=24576, anonymous=8192, swap=0),\n",
       "  pmmap_grouped(path='/home/ben/anaconda3/envs/ml_platform_3_7/lib/liblzma.so.5.2.5', rss=118784, size=167936, pss=69632, shared_clean=98304, shared_dirty=0, private_clean=12288, private_dirty=8192, referenced=118784, anonymous=8192, swap=0),\n",
       "  pmmap_grouped(path='/home/ben/anaconda3/envs/ml_platform_3_7/lib/python3.7/lib-dynload/_lzma.cpython-37m-x86_64-linux-gnu.so', rss=49152, size=49152, pss=30720, shared_clean=36864, shared_dirty=0, private_clean=0, private_dirty=12288, referenced=49152, anonymous=12288, swap=0),\n",
       "  pmmap_grouped(path='/home/ben/anaconda3/envs/ml_platform_3_7/lib/libz.so.1.2.11', rss=114688, size=131072, pss=63488, shared_clean=102400, shared_dirty=0, private_clean=4096, private_dirty=8192, referenced=114688, anonymous=8192, swap=0),\n",
       "  pmmap_grouped(path='/home/ben/anaconda3/envs/ml_platform_3_7/lib/python3.7/lib-dynload/_lsprof.cpython-37m-x86_64-linux-gnu.so', rss=28672, size=28672, pss=18432, shared_clean=20480, shared_dirty=0, private_clean=0, private_dirty=8192, referenced=28672, anonymous=8192, swap=0),\n",
       "  pmmap_grouped(path='/home/ben/anaconda3/envs/ml_platform_3_7/lib/python3.7/lib-dynload/_queue.cpython-37m-x86_64-linux-gnu.so', rss=24576, size=24576, pss=16384, shared_clean=16384, shared_dirty=0, private_clean=0, private_dirty=8192, referenced=24576, anonymous=8192, swap=0),\n",
       "  pmmap_grouped(path='/home/ben/anaconda3/envs/ml_platform_3_7/lib/python3.7/lib-dynload/_contextvars.cpython-37m-x86_64-linux-gnu.so', rss=20480, size=20480, pss=14336, shared_clean=12288, shared_dirty=0, private_clean=0, private_dirty=8192, referenced=20480, anonymous=8192, swap=0),\n",
       "  pmmap_grouped(path='/home/ben/anaconda3/envs/ml_platform_3_7/lib/python3.7/lib-dynload/_datetime.cpython-37m-x86_64-linux-gnu.so', rss=122880, size=122880, pss=67584, shared_clean=110592, shared_dirty=0, private_clean=0, private_dirty=12288, referenced=122880, anonymous=12288, swap=0),\n",
       "  pmmap_grouped(path='/home/ben/anaconda3/envs/ml_platform_3_7/lib/python3.7/lib-dynload/binascii.cpython-37m-x86_64-linux-gnu.so', rss=36864, size=36864, pss=22528, shared_clean=28672, shared_dirty=0, private_clean=0, private_dirty=8192, referenced=36864, anonymous=8192, swap=0),\n",
       "  pmmap_grouped(path='/home/ben/anaconda3/envs/ml_platform_3_7/lib/python3.7/lib-dynload/_struct.cpython-37m-x86_64-linux-gnu.so', rss=57344, size=61440, pss=34816, shared_clean=45056, shared_dirty=0, private_clean=0, private_dirty=12288, referenced=57344, anonymous=12288, swap=0),\n",
       "  pmmap_grouped(path='/home/ben/anaconda3/envs/ml_platform_3_7/lib/python3.7/lib-dynload/math.cpython-37m-x86_64-linux-gnu.so', rss=57344, size=57344, pss=34816, shared_clean=45056, shared_dirty=0, private_clean=0, private_dirty=12288, referenced=57344, anonymous=12288, swap=0),\n",
       "  pmmap_grouped(path='/home/ben/anaconda3/envs/ml_platform_3_7/lib/python3.7/lib-dynload/select.cpython-37m-x86_64-linux-gnu.so', rss=40960, size=40960, pss=26624, shared_clean=28672, shared_dirty=0, private_clean=0, private_dirty=12288, referenced=40960, anonymous=12288, swap=0),\n",
       "  pmmap_grouped(path='/home/ben/anaconda3/envs/ml_platform_3_7/lib/python3.7/lib-dynload/_json.cpython-37m-x86_64-linux-gnu.so', rss=81920, size=81920, pss=45056, shared_clean=73728, shared_dirty=0, private_clean=0, private_dirty=8192, referenced=81920, anonymous=8192, swap=0),\n",
       "  pmmap_grouped(path='/home/ben/anaconda3/envs/ml_platform_3_7/lib/python3.7/lib-dynload/_bz2.cpython-37m-x86_64-linux-gnu.so', rss=94208, size=98304, pss=53248, shared_clean=81920, shared_dirty=0, private_clean=0, private_dirty=12288, referenced=94208, anonymous=12288, swap=0),\n",
       "  pmmap_grouped(path='/home/ben/anaconda3/envs/ml_platform_3_7/lib/python3.7/lib-dynload/zlib.cpython-37m-x86_64-linux-gnu.so', rss=40960, size=45056, pss=26624, shared_clean=28672, shared_dirty=0, private_clean=0, private_dirty=12288, referenced=40960, anonymous=12288, swap=0),\n",
       "  pmmap_grouped(path='/usr/lib/locale/locale-archive', rss=442368, size=5701632, pss=8192, shared_clean=442368, shared_dirty=0, private_clean=0, private_dirty=0, referenced=442368, anonymous=0, swap=0),\n",
       "  pmmap_grouped(path='/usr/lib/x86_64-linux-gnu/libm-2.31.so', rss=655360, size=1372160, pss=21504, shared_clean=647168, shared_dirty=0, private_clean=0, private_dirty=8192, referenced=655360, anonymous=8192, swap=0),\n",
       "  pmmap_grouped(path='/usr/lib/x86_64-linux-gnu/librt-2.31.so', rss=36864, size=45056, pss=8192, shared_clean=28672, shared_dirty=0, private_clean=0, private_dirty=8192, referenced=36864, anonymous=8192, swap=0),\n",
       "  pmmap_grouped(path='/usr/lib/x86_64-linux-gnu/libutil-2.31.so', rss=16384, size=20480, pss=10240, shared_clean=8192, shared_dirty=0, private_clean=0, private_dirty=8192, referenced=16384, anonymous=8192, swap=0),\n",
       "  pmmap_grouped(path='/usr/lib/x86_64-linux-gnu/libdl-2.31.so', rss=24576, size=24576, pss=8192, shared_clean=16384, shared_dirty=0, private_clean=0, private_dirty=8192, referenced=24576, anonymous=8192, swap=0),\n",
       "  pmmap_grouped(path='/usr/lib/x86_64-linux-gnu/libc-2.31.so', rss=1687552, size=2023424, pss=38912, shared_clean=1662976, shared_dirty=0, private_clean=0, private_dirty=24576, referenced=1687552, anonymous=24576, swap=0),\n",
       "  pmmap_grouped(path='/usr/lib/x86_64-linux-gnu/libpthread-2.31.so', rss=126976, size=126976, pss=8192, shared_clean=118784, shared_dirty=0, private_clean=0, private_dirty=8192, referenced=126976, anonymous=8192, swap=0),\n",
       "  pmmap_grouped(path='/home/ben/anaconda3/envs/ml_platform_3_7/lib/python3.7/lib-dynload/_posixsubprocess.cpython-37m-x86_64-linux-gnu.so', rss=28672, size=28672, pss=18432, shared_clean=20480, shared_dirty=0, private_clean=0, private_dirty=8192, referenced=28672, anonymous=8192, swap=0),\n",
       "  pmmap_grouped(path='/home/ben/anaconda3/envs/ml_platform_3_7/lib/python3.7/lib-dynload/_heapq.cpython-37m-x86_64-linux-gnu.so', rss=28672, size=28672, pss=20480, shared_clean=16384, shared_dirty=0, private_clean=0, private_dirty=12288, referenced=28672, anonymous=12288, swap=0),\n",
       "  pmmap_grouped(path='/usr/lib/x86_64-linux-gnu/gconv/gconv-modules.cache', rss=28672, size=28672, pss=0, shared_clean=28672, shared_dirty=0, private_clean=0, private_dirty=0, referenced=28672, anonymous=0, swap=0),\n",
       "  pmmap_grouped(path='/usr/lib/x86_64-linux-gnu/ld-2.31.so', rss=188416, size=188416, pss=9216, shared_clean=180224, shared_dirty=0, private_clean=0, private_dirty=8192, referenced=188416, anonymous=8192, swap=0),\n",
       "  pmmap_grouped(path='[stack]', rss=94208, size=135168, pss=94208, shared_clean=0, shared_dirty=0, private_clean=0, private_dirty=94208, referenced=94208, anonymous=94208, swap=0),\n",
       "  pmmap_grouped(path='[vvar]', rss=0, size=12288, pss=0, shared_clean=0, shared_dirty=0, private_clean=0, private_dirty=0, referenced=0, anonymous=0, swap=0),\n",
       "  pmmap_grouped(path='[vdso]', rss=4096, size=4096, pss=0, shared_clean=4096, shared_dirty=0, private_clean=0, private_dirty=0, referenced=4096, anonymous=0, swap=0),\n",
       "  pmmap_grouped(path='[vsyscall]', rss=0, size=4096, pss=0, shared_clean=0, shared_dirty=0, private_clean=0, private_dirty=0, referenced=0, anonymous=0, swap=0)],\n",
       " 'exe': '/home/ben/anaconda3/envs/ml_platform_3_7/bin/python3.7',\n",
       " 'memory_full_info': pfullmem(rss=55341056, vms=535060480, shared=14245888, text=2330624, lib=0, data=109449216, dirty=0, uss=41508864, pss=47011840, swap=0),\n",
       " 'memory_info': pmem(rss=55341056, vms=535060480, shared=14245888, text=2330624, lib=0, data=109449216, dirty=0),\n",
       " 'ppid': 5717,\n",
       " 'environ': {'SHELL': '/bin/bash',\n",
       "  'SESSION_MANAGER': 'local/ben-ubuntu:@/tmp/.ICE-unix/1392,unix/ben-ubuntu:/tmp/.ICE-unix/1392',\n",
       "  'QT_ACCESSIBILITY': '1',\n",
       "  'COLORTERM': 'truecolor',\n",
       "  'XDG_CONFIG_DIRS': '/etc/xdg/xdg-ubuntu:/etc/xdg',\n",
       "  'XDG_MENU_PREFIX': 'gnome-',\n",
       "  'GNOME_DESKTOP_SESSION_ID': 'this-is-deprecated',\n",
       "  'CONDA_EXE': '/home/ben/anaconda3/bin/conda',\n",
       "  '_CE_M': '',\n",
       "  'LANGUAGE': 'en_GB:en',\n",
       "  'GNOME_SHELL_SESSION_MODE': 'ubuntu',\n",
       "  'SSH_AUTH_SOCK': '/run/user/1000/keyring/ssh',\n",
       "  'XMODIFIERS': '@im=ibus',\n",
       "  'DESKTOP_SESSION': 'ubuntu',\n",
       "  'SSH_AGENT_PID': '1355',\n",
       "  'GTK_MODULES': 'gail:atk-bridge',\n",
       "  'PWD': '/home/ben',\n",
       "  'LOGNAME': 'ben',\n",
       "  'XDG_SESSION_DESKTOP': 'ubuntu',\n",
       "  'XDG_SESSION_TYPE': 'x11',\n",
       "  'CONDA_PREFIX': '/home/ben/anaconda3/envs/ml_platform_3_7',\n",
       "  'GPG_AGENT_INFO': '/run/user/1000/gnupg/S.gpg-agent:0:1',\n",
       "  'XAUTHORITY': '/run/user/1000/gdm/Xauthority',\n",
       "  'GJS_DEBUG_TOPICS': 'JS ERROR;JS LOG',\n",
       "  'WINDOWPATH': '2',\n",
       "  'HOME': '/home/ben',\n",
       "  'USERNAME': 'ben',\n",
       "  'IM_CONFIG_PHASE': '1',\n",
       "  'LANG': 'en_GB.UTF-8',\n",
       "  'LS_COLORS': 'rs=0:di=01;34:ln=01;36:mh=00:pi=40;33:so=01;35:do=01;35:bd=40;33;01:cd=40;33;01:or=40;31;01:mi=00:su=37;41:sg=30;43:ca=30;41:tw=30;42:ow=34;42:st=37;44:ex=01;32:*.tar=01;31:*.tgz=01;31:*.arc=01;31:*.arj=01;31:*.taz=01;31:*.lha=01;31:*.lz4=01;31:*.lzh=01;31:*.lzma=01;31:*.tlz=01;31:*.txz=01;31:*.tzo=01;31:*.t7z=01;31:*.zip=01;31:*.z=01;31:*.dz=01;31:*.gz=01;31:*.lrz=01;31:*.lz=01;31:*.lzo=01;31:*.xz=01;31:*.zst=01;31:*.tzst=01;31:*.bz2=01;31:*.bz=01;31:*.tbz=01;31:*.tbz2=01;31:*.tz=01;31:*.deb=01;31:*.rpm=01;31:*.jar=01;31:*.war=01;31:*.ear=01;31:*.sar=01;31:*.rar=01;31:*.alz=01;31:*.ace=01;31:*.zoo=01;31:*.cpio=01;31:*.7z=01;31:*.rz=01;31:*.cab=01;31:*.wim=01;31:*.swm=01;31:*.dwm=01;31:*.esd=01;31:*.jpg=01;35:*.jpeg=01;35:*.mjpg=01;35:*.mjpeg=01;35:*.gif=01;35:*.bmp=01;35:*.pbm=01;35:*.pgm=01;35:*.ppm=01;35:*.tga=01;35:*.xbm=01;35:*.xpm=01;35:*.tif=01;35:*.tiff=01;35:*.png=01;35:*.svg=01;35:*.svgz=01;35:*.mng=01;35:*.pcx=01;35:*.mov=01;35:*.mpg=01;35:*.mpeg=01;35:*.m2v=01;35:*.mkv=01;35:*.webm=01;35:*.ogm=01;35:*.mp4=01;35:*.m4v=01;35:*.mp4v=01;35:*.vob=01;35:*.qt=01;35:*.nuv=01;35:*.wmv=01;35:*.asf=01;35:*.rm=01;35:*.rmvb=01;35:*.flc=01;35:*.avi=01;35:*.fli=01;35:*.flv=01;35:*.gl=01;35:*.dl=01;35:*.xcf=01;35:*.xwd=01;35:*.yuv=01;35:*.cgm=01;35:*.emf=01;35:*.ogv=01;35:*.ogx=01;35:*.aac=00;36:*.au=00;36:*.flac=00;36:*.m4a=00;36:*.mid=00;36:*.midi=00;36:*.mka=00;36:*.mp3=00;36:*.mpc=00;36:*.ogg=00;36:*.ra=00;36:*.wav=00;36:*.oga=00;36:*.opus=00;36:*.spx=00;36:*.xspf=00;36:',\n",
       "  'XDG_CURRENT_DESKTOP': 'ubuntu:GNOME',\n",
       "  'VTE_VERSION': '6003',\n",
       "  'CONDA_PROMPT_MODIFIER': '(ml_platform_3_7) ',\n",
       "  'GNOME_TERMINAL_SCREEN': '/org/gnome/Terminal/screen/47b5aec3_d7da_4c26_bf62_97ed0fd5d285',\n",
       "  'INVOCATION_ID': '5b50071cf9a142219511906d79f8bb9d',\n",
       "  'MANAGERPID': '1025',\n",
       "  'GJS_DEBUG_OUTPUT': 'stderr',\n",
       "  'LESSCLOSE': '/usr/bin/lesspipe %s %s',\n",
       "  'XDG_SESSION_CLASS': 'user',\n",
       "  'TERM': 'xterm-256color',\n",
       "  '_CE_CONDA': '',\n",
       "  'LESSOPEN': '| /usr/bin/lesspipe %s',\n",
       "  'USER': 'ben',\n",
       "  'GNOME_TERMINAL_SERVICE': ':1.151',\n",
       "  'CONDA_SHLVL': '2',\n",
       "  'DISPLAY': ':0',\n",
       "  'SHLVL': '1',\n",
       "  'QT_IM_MODULE': 'ibus',\n",
       "  'CONDA_PYTHON_EXE': '/home/ben/anaconda3/bin/python',\n",
       "  'LD_LIBRARY_PATH': '/usr/local/cuda-11.1/lib64',\n",
       "  'XDG_RUNTIME_DIR': '/run/user/1000',\n",
       "  'CONDA_DEFAULT_ENV': 'ml_platform_3_7',\n",
       "  'JOURNAL_STREAM': '9:45142',\n",
       "  'XDG_DATA_DIRS': '/usr/share/ubuntu:/usr/local/share/:/usr/share/:/var/lib/snapd/desktop',\n",
       "  'PATH': '/home/ben/anaconda3/envs/ml_platform_3_7/bin:/home/ben/anaconda3/condabin:/usr/local/cuda-11.1/bin:/usr/local/sbin:/usr/local/bin:/usr/sbin:/usr/bin:/sbin:/bin:/usr/games:/usr/local/games:/snap/bin',\n",
       "  'GDMSESSION': 'ubuntu',\n",
       "  'DBUS_SESSION_BUS_ADDRESS': 'unix:path=/run/user/1000/bus',\n",
       "  'CONDA_PREFIX_1': '/home/ben/anaconda3',\n",
       "  '_': '/home/ben/anaconda3/envs/ml_platform_3_7/bin/jupyter',\n",
       "  'JPY_PARENT_PID': '5717'},\n",
       " 'open_files': [popenfile(path='/home/ben/.ipython/profile_default/history.sqlite', fd=35, position=864256, mode='r+', flags=688130),\n",
       "  popenfile(path='/home/ben/.ipython/profile_default/history.sqlite', fd=36, position=1007616, mode='r+', flags=688130)],\n",
       " 'cwd': '/home/ben/Projects/var_processor',\n",
       " 'num_threads': 9,\n",
       " 'terminal': None,\n",
       " 'num_ctx_switches': pctxsw(voluntary=2551, involuntary=55),\n",
       " 'gids': pgids(real=1000, effective=1000, saved=1000),\n",
       " 'memory_percent': 0.33006420507318285,\n",
       " 'cmdline': ['/home/ben/anaconda3/envs/ml_platform_3_7/bin/python',\n",
       "  '-m',\n",
       "  'ipykernel_launcher',\n",
       "  '-f',\n",
       "  '/home/ben/.local/share/jupyter/runtime/kernel-724aea36-52d6-45a6-9bb0-b2043ca4defb.json']}"
      ]
     },
     "execution_count": 27,
     "metadata": {},
     "output_type": "execute_result"
    }
   ],
   "source": [
    "psutil.Process().as_dict()"
   ]
  },
  {
   "cell_type": "code",
   "execution_count": 30,
   "metadata": {},
   "outputs": [
    {
     "name": "stdout",
     "output_type": "stream",
     "text": [
      "pcputimes(user=0.54, system=0.13, children_user=0.0, children_system=0.0, iowait=0.0) scputimes(user=429.67, nice=2.69, system=184.57, idle=31144.76, iowait=14.25, irq=0.0, softirq=18.3, steal=0.0, guest=0.0, guest_nice=0.0)\n"
     ]
    }
   ],
   "source": [
    "print(p.as_dict()['cpu_times'], psutil.cpu_times())"
   ]
  },
  {
   "cell_type": "code",
   "execution_count": 28,
   "metadata": {},
   "outputs": [
    {
     "data": {
      "text/plain": [
       "pmem(rss=55341056, vms=535060480, shared=14245888, text=2330624, lib=0, data=109449216, dirty=0)"
      ]
     },
     "execution_count": 28,
     "metadata": {},
     "output_type": "execute_result"
    }
   ],
   "source": [
    "p.memory_info()"
   ]
  },
  {
   "cell_type": "markdown",
   "metadata": {},
   "source": [
    "The above is for a specific process.\n",
    "\n",
    "So for global information we *actually* want the following:\n",
    "* psutil.cpu_percent() - with or without percpu=True\n",
    "* psutil.cpu_freq() - with or without percpu=True - only need \"current\"\n",
    "* psutil.getloadavg()\n",
    "* psutil.virtual_memory()\n",
    "* psutil.swap_memory()\n",
    "* psutil.disk_io_counters()\n",
    "* psutil.net_io_counters() - with or without per nic\n",
    "* psutil.sensors_temperatures()\n",
    "\n",
    "This excludes any per process information."
   ]
  },
  {
   "cell_type": "code",
   "execution_count": 34,
   "metadata": {},
   "outputs": [
    {
     "data": {
      "text/plain": [
       "float"
      ]
     },
     "execution_count": 34,
     "metadata": {},
     "output_type": "execute_result"
    }
   ],
   "source": [
    "type(psutil.cpu_percent())"
   ]
  },
  {
   "cell_type": "code",
   "execution_count": 48,
   "metadata": {},
   "outputs": [
    {
     "data": {
      "text/plain": [
       "1.2"
      ]
     },
     "execution_count": 48,
     "metadata": {},
     "output_type": "execute_result"
    }
   ],
   "source": [
    "psutil.cpu_percent(percpu=True)[0]"
   ]
  },
  {
   "cell_type": "code",
   "execution_count": 38,
   "metadata": {},
   "outputs": [
    {
     "name": "stdout",
     "output_type": "stream",
     "text": [
      "OrderedDict([('current', 2176.0213333333336), ('min', 2200.0), ('max', 3600.0)])\n"
     ]
    },
    {
     "data": {
      "text/plain": [
       "psutil._common.scpufreq"
      ]
     },
     "execution_count": 38,
     "metadata": {},
     "output_type": "execute_result"
    }
   ],
   "source": [
    "print(psutil.cpu_freq()._asdict())\n",
    "type(psutil.cpu_freq())"
   ]
  },
  {
   "cell_type": "code",
   "execution_count": 39,
   "metadata": {},
   "outputs": [
    {
     "name": "stdout",
     "output_type": "stream",
     "text": [
      "614 µs ± 41.2 µs per loop (mean ± std. dev. of 7 runs, 1 loop each)\n"
     ]
    }
   ],
   "source": [
    "%%timeit\n",
    "psutil.cpu_freq()._asdict().values()"
   ]
  },
  {
   "cell_type": "code",
   "execution_count": 46,
   "metadata": {},
   "outputs": [
    {
     "data": {
      "text/plain": [
       "2195.804"
      ]
     },
     "execution_count": 46,
     "metadata": {},
     "output_type": "execute_result"
    }
   ],
   "source": [
    "psutil.cpu_freq(percpu=True)[0][0]"
   ]
  },
  {
   "cell_type": "code",
   "execution_count": 44,
   "metadata": {},
   "outputs": [
    {
     "name": "stdout",
     "output_type": "stream",
     "text": [
      "595 µs ± 27.7 µs per loop (mean ± std. dev. of 7 runs, 1 loop each)\n"
     ]
    }
   ],
   "source": [
    "%%timeit\n",
    "psutil.cpu_freq()[0]"
   ]
  },
  {
   "cell_type": "code",
   "execution_count": 52,
   "metadata": {},
   "outputs": [
    {
     "data": {
      "text/plain": [
       "[0.02, 0.1, 0.18]"
      ]
     },
     "execution_count": 52,
     "metadata": {},
     "output_type": "execute_result"
    }
   ],
   "source": [
    "list(psutil.getloadavg())"
   ]
  },
  {
   "cell_type": "code",
   "execution_count": 53,
   "metadata": {},
   "outputs": [
    {
     "data": {
      "text/plain": [
       "svmem(total=16766754816, available=11376029696, percent=32.2, used=4497821696, free=7124045824, active=6161760256, inactive=2650976256, buffers=515891200, cached=4628996096, shared=549953536, slab=544505856)"
      ]
     },
     "execution_count": 53,
     "metadata": {},
     "output_type": "execute_result"
    }
   ],
   "source": [
    "psutil.virtual_memory()"
   ]
  },
  {
   "cell_type": "code",
   "execution_count": 55,
   "metadata": {},
   "outputs": [
    {
     "data": {
      "text/plain": [
       "[16766754816,\n",
       " 11381145600,\n",
       " 32.1,\n",
       " 4493504512,\n",
       " 7128973312,\n",
       " 6155182080,\n",
       " 2650152960,\n",
       " 515981312,\n",
       " 4628295680,\n",
       " 549142528,\n",
       " 544514048]"
      ]
     },
     "execution_count": 55,
     "metadata": {},
     "output_type": "execute_result"
    }
   ],
   "source": [
    "list(psutil.virtual_memory())"
   ]
  },
  {
   "cell_type": "code",
   "execution_count": 57,
   "metadata": {},
   "outputs": [
    {
     "data": {
      "text/plain": [
       "[518954, 464642, 4867041280, 5389607936, 69036, 135397, 18177, 51633, 124404]"
      ]
     },
     "execution_count": 57,
     "metadata": {},
     "output_type": "execute_result"
    }
   ],
   "source": [
    "list(psutil.disk_io_counters())"
   ]
  },
  {
   "cell_type": "code",
   "execution_count": 77,
   "metadata": {},
   "outputs": [
    {
     "data": {
      "text/plain": [
       "{'k10temp': [shwtemp(label='Tdie', current=30.25, high=70.0, critical=70.0),\n",
       "  shwtemp(label='Tctl', current=30.25, high=None, critical=None)]}"
      ]
     },
     "execution_count": 77,
     "metadata": {},
     "output_type": "execute_result"
    }
   ],
   "source": [
    "psutil.sensors_temperatures()"
   ]
  },
  {
   "cell_type": "code",
   "execution_count": 78,
   "metadata": {},
   "outputs": [
    {
     "data": {
      "text/plain": [
       "27.125"
      ]
     },
     "execution_count": 78,
     "metadata": {},
     "output_type": "execute_result"
    }
   ],
   "source": [
    "list(psutil.sensors_temperatures().values())[0][0][1]"
   ]
  },
  {
   "cell_type": "code",
   "execution_count": 80,
   "metadata": {},
   "outputs": [
    {
     "data": {
      "text/plain": [
       "[[11081295, 11081295, 8606, 8606, 0, 0, 0, 0],\n",
       " [105808494, 892725109, 310813, 649576, 0, 0, 378, 0]]"
      ]
     },
     "execution_count": 80,
     "metadata": {},
     "output_type": "execute_result"
    }
   ],
   "source": [
    "[list(nic) for nic in psutil.net_io_counters(pernic=True).values()] "
   ]
  },
  {
   "cell_type": "code",
   "execution_count": 81,
   "metadata": {},
   "outputs": [],
   "source": [
    "def system_as_vector(percpu=True, pernic=False):\n",
    "    \"\"\"Get system information as a numeric vector.\"\"\"\n",
    "    # First add all numeric values to blank list\n",
    "    system_stats = list()\n",
    "    if percpu:\n",
    "        # Get cpu % for all CPUs \n",
    "        system_stats += [p for p in psutil.cpu_percent(percpu=percpu)]\n",
    "        # Get \"current\" value for each CPU\n",
    "        system_stats += [p[0] for p in psutil.cpu_freq(percpu=percpu)]\n",
    "    else:\n",
    "        # Get single cpu %\n",
    "        system_stats.append(psutil.cpu_percent(percpu=percpu))\n",
    "        # Get current value for freq\n",
    "        system_stats.append(psutil.cpu_freq(percpu=percpu)[0])\n",
    "    system_stats += list(psutil.getloadavg())\n",
    "    system_stats += list(psutil.virtual_memory())\n",
    "    system_stats += list(psutil.swap_memory())\n",
    "    system_stats += list(psutil.disk_io_counters())\n",
    "    if pernic:\n",
    "        # list per nic in nic dict\n",
    "        system_stats += [list(nic) for nic in psutil.net_io_counters(pernic=True).values()]\n",
    "    else:\n",
    "        system_stats += list(psutil.net_io_counters())\n",
    "    # Temps are provided as a dict with Tdie and Tctl values on my OS, which are the same\n",
    "    system_stats.append(list(psutil.sensors_temperatures().values())[0][0][1])\n",
    "    return system_stats"
   ]
  },
  {
   "cell_type": "code",
   "execution_count": 84,
   "metadata": {
    "scrolled": true
   },
   "outputs": [
    {
     "data": {
      "text/plain": [
       "[1.5,\n",
       " 0.9,\n",
       " 0.7,\n",
       " 0.9,\n",
       " 0.9,\n",
       " 1.4,\n",
       " 0.9,\n",
       " 1.3,\n",
       " 0.9,\n",
       " 1.3,\n",
       " 0.7,\n",
       " 1.8,\n",
       " 2042.249,\n",
       " 2195.249,\n",
       " 2197.105,\n",
       " 2195.446,\n",
       " 2194.738,\n",
       " 2195.934,\n",
       " 2193.528,\n",
       " 2195.215,\n",
       " 2195.543,\n",
       " 2194.617,\n",
       " 2195.928,\n",
       " 2191.953,\n",
       " 0.28,\n",
       " 0.2,\n",
       " 0.18,\n",
       " 16766754816,\n",
       " 11324874752,\n",
       " 32.5,\n",
       " 4535050240,\n",
       " 7064805376,\n",
       " 6205566976,\n",
       " 2656456704,\n",
       " 518049792,\n",
       " 4648849408,\n",
       " 564404224,\n",
       " 549027840,\n",
       " 1023406080,\n",
       " 0,\n",
       " 1023406080,\n",
       " 0.0,\n",
       " 0,\n",
       " 0,\n",
       " 519072,\n",
       " 481685,\n",
       " 4872726528,\n",
       " 5890368512,\n",
       " 69075,\n",
       " 146843,\n",
       " 18208,\n",
       " 57709,\n",
       " 129136,\n",
       " 117180933,\n",
       " 904391161,\n",
       " 319808,\n",
       " 658895,\n",
       " 0,\n",
       " 0,\n",
       " 388,\n",
       " 0,\n",
       " 31.5]"
      ]
     },
     "execution_count": 84,
     "metadata": {},
     "output_type": "execute_result"
    }
   ],
   "source": [
    "system_as_vector()"
   ]
  },
  {
   "cell_type": "code",
   "execution_count": 85,
   "metadata": {
    "scrolled": true
   },
   "outputs": [
    {
     "name": "stdout",
     "output_type": "stream",
     "text": [
      "<class 'float'>\n"
     ]
    },
    {
     "ename": "TypeError",
     "evalue": "'float' object cannot be interpreted as an integer",
     "output_type": "error",
     "traceback": [
      "\u001b[0;31m---------------------------------------------------------------------------\u001b[0m",
      "\u001b[0;31mTypeError\u001b[0m                                 Traceback (most recent call last)",
      "\u001b[0;32m<ipython-input-85-1fbc5658626a>\u001b[0m in \u001b[0;36m<module>\u001b[0;34m\u001b[0m\n\u001b[1;32m      1\u001b[0m \u001b[0;32mfor\u001b[0m \u001b[0mentry\u001b[0m \u001b[0;32min\u001b[0m \u001b[0msystem_as_vector\u001b[0m\u001b[0;34m(\u001b[0m\u001b[0;34m)\u001b[0m\u001b[0;34m:\u001b[0m\u001b[0;34m\u001b[0m\u001b[0;34m\u001b[0m\u001b[0m\n\u001b[1;32m      2\u001b[0m     \u001b[0mprint\u001b[0m\u001b[0;34m(\u001b[0m\u001b[0mtype\u001b[0m\u001b[0;34m(\u001b[0m\u001b[0mentry\u001b[0m\u001b[0;34m)\u001b[0m\u001b[0;34m)\u001b[0m\u001b[0;34m\u001b[0m\u001b[0;34m\u001b[0m\u001b[0m\n\u001b[0;32m----> 3\u001b[0;31m     \u001b[0mprint\u001b[0m\u001b[0;34m(\u001b[0m\u001b[0mbin\u001b[0m\u001b[0;34m(\u001b[0m\u001b[0mentry\u001b[0m\u001b[0;34m)\u001b[0m\u001b[0;34m)\u001b[0m\u001b[0;34m\u001b[0m\u001b[0;34m\u001b[0m\u001b[0m\n\u001b[0m",
      "\u001b[0;31mTypeError\u001b[0m: 'float' object cannot be interpreted as an integer"
     ]
    }
   ],
   "source": [
    "for entry in system_as_vector():\n",
    "    print(type(entry))"
   ]
  },
  {
   "cell_type": "markdown",
   "metadata": {},
   "source": [
    "We need to normalise to a common order of magnitude. But we want to do this without knowing the max and min...\n",
    "\n",
    "We can use bin(...) for integer values to convert to a binary value but this doesn't work for floats."
   ]
  },
  {
   "cell_type": "markdown",
   "metadata": {},
   "source": [
    "## Building a Sensor Object"
   ]
  },
  {
   "cell_type": "code",
   "execution_count": 21,
   "metadata": {},
   "outputs": [],
   "source": [
    "from src.sources.abstract import SensorSource"
   ]
  },
  {
   "cell_type": "code",
   "execution_count": null,
   "metadata": {},
   "outputs": [],
   "source": [
    "class SystemSource(SensorSource):\n",
    "    \"\"\"Build a module to return system information as a numpy array.\"\"\"\n",
    "        \n",
    "    def update(self):\n",
    "        \"\"\"Update based on new video data.\"\"\"\n",
    "        while self.started:\n",
    "            # Get data\n",
    "            with self.read_lock:\n",
    "                # Add to buffer\n",
    "                pass\n",
    "                \n",
    "    def read(self):\n",
    "        \"\"\"Read video.\"\"\"\n",
    "        with self.read_lock:\n",
    "            # frame = self.frame.copy()\n",
    "            # grabbed = self.grabbed\n",
    "        return True, data"
   ]
  }
 ],
 "metadata": {
  "kernelspec": {
   "display_name": "Python 3",
   "language": "python",
   "name": "python3"
  },
  "language_info": {
   "codemirror_mode": {
    "name": "ipython",
    "version": 3
   },
   "file_extension": ".py",
   "mimetype": "text/x-python",
   "name": "python",
   "nbconvert_exporter": "python",
   "pygments_lexer": "ipython3",
   "version": "3.7.9"
  }
 },
 "nbformat": 4,
 "nbformat_minor": 2
}
