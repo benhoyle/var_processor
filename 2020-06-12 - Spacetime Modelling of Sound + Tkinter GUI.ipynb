{
 "cells": [
  {
   "cell_type": "code",
   "execution_count": 1,
   "metadata": {},
   "outputs": [],
   "source": [
    "import numpy as np\n",
    "from src.sources.fft import FFTSource"
   ]
  },
  {
   "cell_type": "code",
   "execution_count": 2,
   "metadata": {},
   "outputs": [
    {
     "data": {
      "text/plain": [
       "<src.sources.fft.FFTSource at 0x7f6242e79a20>"
      ]
     },
     "execution_count": 2,
     "metadata": {},
     "output_type": "execute_result"
    }
   ],
   "source": [
    "fftsource = FFTSource()\n",
    "fftsource.start()"
   ]
  },
  {
   "cell_type": "code",
   "execution_count": 3,
   "metadata": {},
   "outputs": [
    {
     "data": {
      "text/plain": [
       "[<matplotlib.lines.Line2D at 0x7f622550f5c0>]"
      ]
     },
     "execution_count": 3,
     "metadata": {},
     "output_type": "execute_result"
    }
   ],
   "source": [
    "import matplotlib.pyplot as plt\n",
    "_, data = fftsource.read()\n",
    "plt.plot(data)"
   ]
  },
  {
   "cell_type": "code",
   "execution_count": 4,
   "metadata": {},
   "outputs": [
    {
     "data": {
      "text/plain": [
       "(137,)"
      ]
     },
     "execution_count": 4,
     "metadata": {},
     "output_type": "execute_result"
    }
   ],
   "source": [
    "data.shape"
   ]
  },
  {
   "cell_type": "markdown",
   "metadata": {},
   "source": [
    "This shows how to use masks to create an image from a 1D array - https://stackoverflow.com/questions/49188161/how-to-slice-numpy-rows-using-start-and-end-index"
   ]
  },
  {
   "cell_type": "code",
   "execution_count": 5,
   "metadata": {},
   "outputs": [],
   "source": [
    "array = data[:, None] >= np.arange(256)"
   ]
  },
  {
   "cell_type": "code",
   "execution_count": 6,
   "metadata": {},
   "outputs": [
    {
     "data": {
      "text/plain": [
       "(137, 256)"
      ]
     },
     "execution_count": 6,
     "metadata": {},
     "output_type": "execute_result"
    }
   ],
   "source": [
    "array.shape"
   ]
  },
  {
   "cell_type": "code",
   "execution_count": 7,
   "metadata": {
    "scrolled": true
   },
   "outputs": [],
   "source": [
    "blank_image = np.ones(shape=(256, data.shape[0]))*255"
   ]
  },
  {
   "cell_type": "code",
   "execution_count": 8,
   "metadata": {},
   "outputs": [],
   "source": [
    "blank_image[array.T] = 0"
   ]
  },
  {
   "cell_type": "code",
   "execution_count": 9,
   "metadata": {},
   "outputs": [
    {
     "data": {
      "text/plain": [
       "<matplotlib.image.AxesImage at 0x7f622668d240>"
      ]
     },
     "execution_count": 9,
     "metadata": {},
     "output_type": "execute_result"
    },
    {
     "data": {
      "image/png": "[encoded data removed]",
      "text/plain": [
       "<Figure size 432x288 with 1 Axes>"
      ]
     },
     "metadata": {
      "needs_background": "light"
     },
     "output_type": "display_data"
    }
   ],
   "source": [
    "plt.imshow(np.flipud(blank_image))"
   ]
  },
  {
   "cell_type": "code",
   "execution_count": 10,
   "metadata": {},
   "outputs": [],
   "source": [
    "def convert_to_chart(array, max_value=256):\n",
    "    \"\"\"Convert 1D numpy array to a chart image.\"\"\"\n",
    "    # Create a \"blank\", i.e. white with 255, image array\n",
    "    blank_image = np.ones(shape=(max_value, array.shape[0]))*255\n",
    "    # Create a 2D mask from the data\n",
    "    mask = array[:, None] >= np.arange(max_value)\n",
    "    # Then flip the mask to align with the image and set to 0 (black)\n",
    "    blank_image[mask.T] = 0\n",
    "    # We then just need to flip the output again to get back to the original \n",
    "    chart_image = np.flipud(blank_image)\n",
    "    return chart_image"
   ]
  },
  {
   "cell_type": "code",
   "execution_count": 11,
   "metadata": {},
   "outputs": [],
   "source": [
    "chart = convert_to_chart(data)"
   ]
  },
  {
   "cell_type": "code",
   "execution_count": 12,
   "metadata": {},
   "outputs": [
    {
     "data": {
      "text/plain": [
       "<matplotlib.image.AxesImage at 0x7f622540c4a8>"
      ]
     },
     "execution_count": 12,
     "metadata": {},
     "output_type": "execute_result"
    },
    {
     "data": {
      "image/png": "[encoded data removed]",
      "text/plain": [
       "<Figure size 432x288 with 1 Axes>"
      ]
     },
     "metadata": {
      "needs_background": "light"
     },
     "output_type": "display_data"
    }
   ],
   "source": [
    "plt.imshow(chart)"
   ]
  },
  {
   "cell_type": "code",
   "execution_count": 13,
   "metadata": {},
   "outputs": [],
   "source": [
    "from collections import deque\n",
    "import cv2\n",
    "import time\n",
    "import tkinter as tk\n",
    "from PIL import Image, ImageTk"
   ]
  },
  {
   "cell_type": "code",
   "execution_count": 14,
   "metadata": {},
   "outputs": [],
   "source": [
    "pil_image = Image.fromarray(chart)"
   ]
  },
  {
   "cell_type": "code",
   "execution_count": 15,
   "metadata": {},
   "outputs": [
    {
     "data": {
      "text/plain": [
       "(137, 256)"
      ]
     },
     "execution_count": 15,
     "metadata": {},
     "output_type": "execute_result"
    }
   ],
   "source": [
    "pil_image.size"
   ]
  },
  {
   "cell_type": "code",
   "execution_count": 16,
   "metadata": {},
   "outputs": [],
   "source": [
    "resized = pil_image.resize((512, 256))"
   ]
  },
  {
   "cell_type": "code",
   "execution_count": 17,
   "metadata": {},
   "outputs": [
    {
     "data": {
      "text/plain": [
       "(512, 256)"
      ]
     },
     "execution_count": 17,
     "metadata": {},
     "output_type": "execute_result"
    }
   ],
   "source": [
    "resized.size"
   ]
  },
  {
   "cell_type": "code",
   "execution_count": 18,
   "metadata": {},
   "outputs": [
    {
     "ename": "RuntimeError",
     "evalue": "Too early to create image",
     "output_type": "error",
     "traceback": [
      "\u001b[0;31m---------------------------------------------------------------------------\u001b[0m",
      "\u001b[0;31mRuntimeError\u001b[0m                              Traceback (most recent call last)",
      "\u001b[0;32m<ipython-input-18-da57ffdd8cd3>\u001b[0m in \u001b[0;36m<module>\u001b[0;34m\u001b[0m\n\u001b[0;32m----> 1\u001b[0;31m \u001b[0mphoto_image\u001b[0m \u001b[0;34m=\u001b[0m \u001b[0mImageTk\u001b[0m\u001b[0;34m.\u001b[0m\u001b[0mPhotoImage\u001b[0m\u001b[0;34m(\u001b[0m\u001b[0mimage\u001b[0m\u001b[0;34m=\u001b[0m\u001b[0mresized\u001b[0m\u001b[0;34m)\u001b[0m\u001b[0;34m\u001b[0m\u001b[0;34m\u001b[0m\u001b[0m\n\u001b[0m",
      "\u001b[0;32m~/anaconda3/envs/var_processor/lib/python3.6/site-packages/PIL/ImageTk.py\u001b[0m in \u001b[0;36m__init__\u001b[0;34m(self, image, size, **kw)\u001b[0m\n\u001b[1;32m    115\u001b[0m         \u001b[0mself\u001b[0m\u001b[0;34m.\u001b[0m\u001b[0m__mode\u001b[0m \u001b[0;34m=\u001b[0m \u001b[0mmode\u001b[0m\u001b[0;34m\u001b[0m\u001b[0;34m\u001b[0m\u001b[0m\n\u001b[1;32m    116\u001b[0m         \u001b[0mself\u001b[0m\u001b[0;34m.\u001b[0m\u001b[0m__size\u001b[0m \u001b[0;34m=\u001b[0m \u001b[0msize\u001b[0m\u001b[0;34m\u001b[0m\u001b[0;34m\u001b[0m\u001b[0m\n\u001b[0;32m--> 117\u001b[0;31m         \u001b[0mself\u001b[0m\u001b[0;34m.\u001b[0m\u001b[0m__photo\u001b[0m \u001b[0;34m=\u001b[0m \u001b[0mtkinter\u001b[0m\u001b[0;34m.\u001b[0m\u001b[0mPhotoImage\u001b[0m\u001b[0;34m(\u001b[0m\u001b[0;34m**\u001b[0m\u001b[0mkw\u001b[0m\u001b[0;34m)\u001b[0m\u001b[0;34m\u001b[0m\u001b[0;34m\u001b[0m\u001b[0m\n\u001b[0m\u001b[1;32m    118\u001b[0m         \u001b[0mself\u001b[0m\u001b[0;34m.\u001b[0m\u001b[0mtk\u001b[0m \u001b[0;34m=\u001b[0m \u001b[0mself\u001b[0m\u001b[0;34m.\u001b[0m\u001b[0m__photo\u001b[0m\u001b[0;34m.\u001b[0m\u001b[0mtk\u001b[0m\u001b[0;34m\u001b[0m\u001b[0;34m\u001b[0m\u001b[0m\n\u001b[1;32m    119\u001b[0m         \u001b[0;32mif\u001b[0m \u001b[0mimage\u001b[0m\u001b[0;34m:\u001b[0m\u001b[0;34m\u001b[0m\u001b[0;34m\u001b[0m\u001b[0m\n",
      "\u001b[0;32m~/anaconda3/envs/var_processor/lib/python3.6/tkinter/__init__.py\u001b[0m in \u001b[0;36m__init__\u001b[0;34m(self, name, cnf, master, **kw)\u001b[0m\n\u001b[1;32m   3543\u001b[0m         \u001b[0mValid\u001b[0m \u001b[0mresource\u001b[0m \u001b[0mnames\u001b[0m\u001b[0;34m:\u001b[0m \u001b[0mdata\u001b[0m\u001b[0;34m,\u001b[0m \u001b[0mformat\u001b[0m\u001b[0;34m,\u001b[0m \u001b[0mfile\u001b[0m\u001b[0;34m,\u001b[0m \u001b[0mgamma\u001b[0m\u001b[0;34m,\u001b[0m \u001b[0mheight\u001b[0m\u001b[0;34m,\u001b[0m \u001b[0mpalette\u001b[0m\u001b[0;34m,\u001b[0m\u001b[0;34m\u001b[0m\u001b[0;34m\u001b[0m\u001b[0m\n\u001b[1;32m   3544\u001b[0m         width.\"\"\"\n\u001b[0;32m-> 3545\u001b[0;31m         \u001b[0mImage\u001b[0m\u001b[0;34m.\u001b[0m\u001b[0m__init__\u001b[0m\u001b[0;34m(\u001b[0m\u001b[0mself\u001b[0m\u001b[0;34m,\u001b[0m \u001b[0;34m'photo'\u001b[0m\u001b[0;34m,\u001b[0m \u001b[0mname\u001b[0m\u001b[0;34m,\u001b[0m \u001b[0mcnf\u001b[0m\u001b[0;34m,\u001b[0m \u001b[0mmaster\u001b[0m\u001b[0;34m,\u001b[0m \u001b[0;34m**\u001b[0m\u001b[0mkw\u001b[0m\u001b[0;34m)\u001b[0m\u001b[0;34m\u001b[0m\u001b[0;34m\u001b[0m\u001b[0m\n\u001b[0m\u001b[1;32m   3546\u001b[0m     \u001b[0;32mdef\u001b[0m \u001b[0mblank\u001b[0m\u001b[0;34m(\u001b[0m\u001b[0mself\u001b[0m\u001b[0;34m)\u001b[0m\u001b[0;34m:\u001b[0m\u001b[0;34m\u001b[0m\u001b[0;34m\u001b[0m\u001b[0m\n\u001b[1;32m   3547\u001b[0m         \u001b[0;34m\"\"\"Display a transparent image.\"\"\"\u001b[0m\u001b[0;34m\u001b[0m\u001b[0;34m\u001b[0m\u001b[0m\n",
      "\u001b[0;32m~/anaconda3/envs/var_processor/lib/python3.6/tkinter/__init__.py\u001b[0m in \u001b[0;36m__init__\u001b[0;34m(self, imgtype, name, cnf, master, **kw)\u001b[0m\n\u001b[1;32m   3487\u001b[0m             \u001b[0mmaster\u001b[0m \u001b[0;34m=\u001b[0m \u001b[0m_default_root\u001b[0m\u001b[0;34m\u001b[0m\u001b[0;34m\u001b[0m\u001b[0m\n\u001b[1;32m   3488\u001b[0m             \u001b[0;32mif\u001b[0m \u001b[0;32mnot\u001b[0m \u001b[0mmaster\u001b[0m\u001b[0;34m:\u001b[0m\u001b[0;34m\u001b[0m\u001b[0;34m\u001b[0m\u001b[0m\n\u001b[0;32m-> 3489\u001b[0;31m                 \u001b[0;32mraise\u001b[0m \u001b[0mRuntimeError\u001b[0m\u001b[0;34m(\u001b[0m\u001b[0;34m'Too early to create image'\u001b[0m\u001b[0;34m)\u001b[0m\u001b[0;34m\u001b[0m\u001b[0;34m\u001b[0m\u001b[0m\n\u001b[0m\u001b[1;32m   3490\u001b[0m         \u001b[0mself\u001b[0m\u001b[0;34m.\u001b[0m\u001b[0mtk\u001b[0m \u001b[0;34m=\u001b[0m \u001b[0mgetattr\u001b[0m\u001b[0;34m(\u001b[0m\u001b[0mmaster\u001b[0m\u001b[0;34m,\u001b[0m \u001b[0;34m'tk'\u001b[0m\u001b[0;34m,\u001b[0m \u001b[0mmaster\u001b[0m\u001b[0;34m)\u001b[0m\u001b[0;34m\u001b[0m\u001b[0;34m\u001b[0m\u001b[0m\n\u001b[1;32m   3491\u001b[0m         \u001b[0;32mif\u001b[0m \u001b[0;32mnot\u001b[0m \u001b[0mname\u001b[0m\u001b[0;34m:\u001b[0m\u001b[0;34m\u001b[0m\u001b[0;34m\u001b[0m\u001b[0m\n",
      "\u001b[0;31mRuntimeError\u001b[0m: Too early to create image"
     ]
    }
   ],
   "source": [
    "photo_image = ImageTk.PhotoImage(image=resized)"
   ]
  },
  {
   "cell_type": "code",
   "execution_count": 19,
   "metadata": {},
   "outputs": [],
   "source": [
    "from src.visualisers.camera_gui import display"
   ]
  },
  {
   "cell_type": "markdown",
   "metadata": {},
   "source": [
    "We can use a canvas instead of a label. https://stackoverflow.com/questions/32376679/tkinter-canvas-doesnt-show-entire-photo-image."
   ]
  },
  {
   "cell_type": "code",
   "execution_count": 40,
   "metadata": {},
   "outputs": [],
   "source": [
    "class AudioGUI:\n",
    "    \n",
    "    def __init__(self, sensor=None):\n",
    "        # Setup gui\n",
    "        self.window = tk.Tk()\n",
    "        \n",
    "        # Setup FPS and Quit Button on First Row\n",
    "        button_frame = tk.Frame(self.window)\n",
    "        button_frame.pack(expand=True, fill=tk.BOTH)\n",
    "        # label for fps\n",
    "        self.fps_label = tk.Label(button_frame)\n",
    "        self.fps_label.pack(side=tk.LEFT, padx=5, pady=5)\n",
    "        self.fps_label._frame_times = deque([0]*5)  # arbitrary 5 frame average FPS\n",
    "        # quit button\n",
    "        self.quit_button = tk.Button(button_frame, text='Quit', command=lambda: self.quit_())\n",
    "        self.quit_button.pack(side=tk.RIGHT, padx=5, pady=5)\n",
    "        \n",
    "        # Create a canvas\n",
    "        self.canvas = tk.Canvas(self.window, width=512, height=256)\n",
    "        self.canvas.pack(expand=True, fill=tk.BOTH)\n",
    "        \n",
    "        \"\"\"\n",
    "        # Create a list of panels for the GUI\n",
    "        self.panels = list()\n",
    "        # label for the original sound frame - index 0\n",
    "        original_fft = tk.Label(master=self.window)\n",
    "        original_fft.pack(expand=True, fill=tk.X)\n",
    "        self.panels.append(original_fft)\n",
    "        \"\"\"\n",
    "        \n",
    "        # Setup sensor\n",
    "        if sensor:\n",
    "            self.add_sensor(sensor)\n",
    "        \n",
    "        self.idFrame = None\n",
    "        \n",
    "    def add_sensor(self, sensor):\n",
    "        \"\"\"Add a sensor to the GUI for display.\"\"\"\n",
    "        self.sensor = sensor\n",
    "        # Start sensor if not already started\n",
    "        if not self.sensor.started:\n",
    "            self.sensor.start()\n",
    "    \n",
    "    def update(self):\n",
    "        # Get audio frame\n",
    "        _, data = self.sensor.read()\n",
    "        # Convert to image of histogram\n",
    "        chart_image = convert_to_chart(data)\n",
    "        # display(chart_image, self.original_fft)\n",
    "        pil_image = Image.fromarray(chart_image)\n",
    "        pil_image = pil_image.resize((512, 256))\n",
    "        photo_image = ImageTk.PhotoImage(image=pil_image)\n",
    "        if self.idFrame is None:\n",
    "            self.idFrame = self.canvas.create_image(0, 0, image=photo_image, anchor=tk.NW)\n",
    "        else:\n",
    "            self.canvas.itemconfig(self.idFrame, image=photo_image)\n",
    "            self.canvas.image = photo_image\n",
    "        self.window.after(10, self.update)\n",
    "    \n",
    "    def run(self):\n",
    "        self.update()\n",
    "        self.window.mainloop()\n",
    "        \n",
    "    def quit_(self):\n",
    "        self.sensor.stop()\n",
    "        self.window.destroy()"
   ]
  },
  {
   "cell_type": "code",
   "execution_count": 41,
   "metadata": {},
   "outputs": [
    {
     "name": "stderr",
     "output_type": "stream",
     "text": [
      "ERROR:root:Sampler error occur(l={self.length} and len data={len(data)})\n"
     ]
    }
   ],
   "source": [
    "a_gui = AudioGUI(fftsource)"
   ]
  },
  {
   "cell_type": "code",
   "execution_count": 42,
   "metadata": {},
   "outputs": [],
   "source": [
    "a_gui.run()"
   ]
  },
  {
   "cell_type": "code",
   "execution_count": 23,
   "metadata": {},
   "outputs": [],
   "source": [
    "_, data = a_gui.sensor.read()"
   ]
  },
  {
   "cell_type": "code",
   "execution_count": 24,
   "metadata": {},
   "outputs": [
    {
     "data": {
      "text/plain": [
       "array([  0,   0,   0,   6,   0,  21,  41,   0,  36,  56,  39,  98,  25,\n",
       "       170,  21, 161,  88, 186,  39,  65, 228, 188, 156, 154, 130, 119,\n",
       "       159, 126, 153, 190, 113, 218, 185,  83,  17, 230, 100,  99,  69,\n",
       "        72,  56,  61, 230, 177, 203,  73,  58, 106,  14, 125, 183, 211,\n",
       "       194, 197,   5, 203,  35, 232,  29, 120,  91,   3,  83, 210, 105,\n",
       "        89,  50, 105,  99,  76,  38,  46,  56,  77, 106, 136,  85,  73,\n",
       "        62,  46,  36,  43,  29,  26,  26,  22,  24,  52,  19,  14,  14,\n",
       "        16,  18,  15,  13,  16,  19,  26,  15,  12,  11,  14,  10,   9,\n",
       "         8,   7,   7,   6,   6,   6,   6,   6,   6,   5,   5,   5,   5,\n",
       "         5,   5,   5,   5,   5,   4,   4,   4,   4,   4,   4,   4,   4,\n",
       "         4,   4,   4,   4,   4,   4,   4], dtype=uint8)"
      ]
     },
     "execution_count": 24,
     "metadata": {},
     "output_type": "execute_result"
    }
   ],
   "source": [
    "data"
   ]
  },
  {
   "cell_type": "code",
   "execution_count": 43,
   "metadata": {},
   "outputs": [
    {
     "name": "stderr",
     "output_type": "stream",
     "text": [
      "ERROR:root:Sampler error occur(l={self.length} and len data={len(data)})\n"
     ]
    }
   ],
   "source": [
    "from src.visualisers.audio_gui import AudioGUI as AG\n",
    "\n",
    "a_gui_2 = AG(fftsource)"
   ]
  },
  {
   "cell_type": "code",
   "execution_count": null,
   "metadata": {},
   "outputs": [],
   "source": []
  }
 ],
 "metadata": {
  "kernelspec": {
   "display_name": "Python 3",
   "language": "python",
   "name": "python3"
  },
  "language_info": {
   "codemirror_mode": {
    "name": "ipython",
    "version": 3
   },
   "file_extension": ".py",
   "mimetype": "text/x-python",
   "name": "python",
   "nbconvert_exporter": "python",
   "pygments_lexer": "ipython3",
   "version": "3.6.8"
  }
 },
 "nbformat": 4,
 "nbformat_minor": 2
}
