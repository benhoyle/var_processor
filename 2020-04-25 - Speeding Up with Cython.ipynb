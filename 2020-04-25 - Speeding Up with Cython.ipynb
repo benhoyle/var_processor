{
 "cells": [
  {
   "cell_type": "markdown",
   "metadata": {},
   "source": [
    "# Speeding Up with Cython\n",
    "\n",
    "We should be able to use Cython to speed up our functions.\n",
    "\n",
    "We should also be able to work in 8-bit space - we are not worried about being exact.\n",
    "\n",
    "The only library we are using is numpy so we need to work out how to use Cython with Numpy. Here is an article - https://blog.paperspace.com/faster-numpy-array-processing-ndarray-cython/."
   ]
  },
  {
   "cell_type": "markdown",
   "metadata": {},
   "source": [
    "## Core Classes\n",
    "\n",
    "We have three core classes:\n",
    "* Covariance\n",
    "* Power Iterator\n",
    "* VPU"
   ]
  },
  {
   "cell_type": "markdown",
   "metadata": {},
   "source": [
    "### Covariance\n",
    "\n",
    "We'll start with the ZeroMeanCovarianceUnit.\n",
    "\n",
    "Data:\n",
    "* Size - small integer 8-bit unsigned.\n",
    "* Count - we could limit to 255? (i.e. 8-bit unsigned) At the moment just runs upwards so would be large int.\n",
    "* Square Sum - Numpy L * L 2D array\n",
    "    * The data points x are 1D arrays of -1 to 1. \n",
    "    * x dot x.T results in an L by L matrix. Each i, j th entry is x_i * x_j. So min is -1 and max is 1. So x dot x.T is a 2D array which can be 3 bit (or two binary matrixes - one positive, one negative or one with abs and one with sign information).\n",
    "    * Without scaling the square sum is a 2D integer array where the maximum integer is equal to the number of iterations.\n",
    "    * If there are 256 iterations we go from 8-bit to 16-bit.\n",
    "    * The covariance matrix is the square sum divided by the count. If we have 255 iterations each value could be mulitples of 1/255 - if we have 145 iterations it will be multiples of 1/145.\n",
    "    \n",
    "    \n",
    "Can we have an assumed division in our covariance matrix and have it as modulo bit-length (e.g. 255)? NEED TO DEVELOP THIS. We have iteration batches of bit_length (e.g. 255). When we reach count = 256 we bit shift right (divide by 2) and add. Or if count is an 8-bit int when count = 255 we run and then reset count to 0. Hence, we have a fraction resolution set by bit_depth.\n",
    "\n",
    "This will limit though to adapting to recent signals - we give our old signal and our new signal equal weight - but if our recent signal is very different but we have a normally stable variation (e.g. staring at a light) this will cause our covariance matrix to change. \n",
    "\n",
    "To cope we can change the right shift amounts. E.g. more heavy right shifts decrease our resolution of our updates but increase our resolution of our historic data. Weighting each.\n",
    "\n",
    "A good question is do we need a 16-bit resolution or is a 8-bit resolution functional?\n",
    "\n",
    "*Is this related to our scale system?* We have different covariance matrices representing different scales and then when we want the covariance matrix we combine and divide? Only need 10 log2 matrices. Buffers over time.\n",
    "\n",
    "It is related to our time buffers and time series. The reconstruction is our covariance. See 2020-02-21 - Playing with Time Series Configurations."
   ]
  },
  {
   "cell_type": "markdown",
   "metadata": {},
   "source": [
    "Algorithm:\n",
    "* On first run calculate SS as normal (or minus 0 - maybe minus 128)\n",
    "* At iteration = bit_depth:\n",
    "    * Add strata (our old buffer).\n",
    "    * PBT the values between 0 and 255 to create binary version.\n",
    "    * Add binary version to rolling sum for new strata.\n",
    "    * If iteration = 255^i send estimate back and subtract instead of 128?\n",
    "    \n",
    "This is very very similar to our binary estimation case and reconstruction of predicted input. Coincidence?!\n",
    "\n",
    "255^8 at 1Hz is 566 535 009 millennia. Even at 1MHz this would still be several millennia. (255^4)s in years is 133 years. CPU is 1200MHz. 1.2 * 10^9. for an approximate result, divide the time value by 3.154e+7"
   ]
  },
  {
   "cell_type": "code",
   "execution_count": 4,
   "metadata": {},
   "outputs": [
    {
     "data": {
      "text/plain": [
       "472.36586735924993"
      ]
     },
     "execution_count": 4,
     "metadata": {},
     "output_type": "execute_result"
    }
   ],
   "source": [
    "((255**8)/(1.2*(10**9)))/(3.154*(10**7))"
   ]
  },
  {
   "cell_type": "code",
   "execution_count": 8,
   "metadata": {},
   "outputs": [
    {
     "data": {
      "text/plain": [
       "487.39019429585585"
      ]
     },
     "execution_count": 8,
     "metadata": {},
     "output_type": "execute_result"
    }
   ],
   "source": [
    "(((2**8)**8)/(1.2*(10**9)))/(3.154*(10**7))"
   ]
  },
  {
   "cell_type": "code",
   "execution_count": 13,
   "metadata": {},
   "outputs": [
    {
     "data": {
      "text/plain": [
       "487.39019429585585"
      ]
     },
     "execution_count": 13,
     "metadata": {},
     "output_type": "execute_result"
    }
   ],
   "source": [
    "((2**64)/(1.2*(10**9)))/(3.154*(10**7))"
   ]
  },
  {
   "cell_type": "code",
   "execution_count": 5,
   "metadata": {},
   "outputs": [
    {
     "data": {
      "text/plain": [
       "1.8524151661147055"
      ]
     },
     "execution_count": 5,
     "metadata": {},
     "output_type": "execute_result"
    }
   ],
   "source": [
    "((255**7)/(1.2*(10**9)))/(3.154*(10**7))"
   ]
  },
  {
   "cell_type": "markdown",
   "metadata": {},
   "source": [
    "So 8 sets of buffers would give us enough for 472 years at full CPU cycles."
   ]
  },
  {
   "cell_type": "code",
   "execution_count": 1,
   "metadata": {},
   "outputs": [
    {
     "data": {
      "text/plain": [
       "128.0"
      ]
     },
     "execution_count": 1,
     "metadata": {},
     "output_type": "execute_result"
    }
   ],
   "source": [
    "512/4"
   ]
  },
  {
   "cell_type": "markdown",
   "metadata": {},
   "source": [
    "Can we initialise the square sums as 128? Hence, we can subtract them? And change them?\n",
    "\n",
    "Above 255 = 2^8 where 8 = bit depth so 8 stages at 255 is the same as 2^16. So the stages are 64/bit_depth with max 64."
   ]
  },
  {
   "cell_type": "code",
   "execution_count": 15,
   "metadata": {},
   "outputs": [
    {
     "name": "stdout",
     "output_type": "stream",
     "text": [
      "68\n",
      "64\n",
      "62\n",
      "62\n"
     ]
    }
   ],
   "source": [
    "bd = 68\n",
    "print(bd)\n",
    "if bd > 64: bd = 64\n",
    "print(bd)\n",
    "bd = 62\n",
    "print(bd)\n",
    "if bd > 64: bd = 64\n",
    "print(bd)"
   ]
  },
  {
   "cell_type": "markdown",
   "metadata": {},
   "source": [
    "Init if not 8 bit.\n",
    "```\n",
    "def __init__(self, size, bit_depth=8):\n",
    "        \"\"\"Initialise.\n",
    "\n",
    "        Args:\n",
    "            size: integer setting the 1D size of an input.\n",
    "            bit_depth: number of bits to store representations (multiple of 8) - max 64\n",
    "        \"\"\"\n",
    "        self.size = size\n",
    "        self.count = 0\n",
    "        # Set bit_depth modulo 8\n",
    "        if bit_depth > 64: bit_depth = 64\n",
    "        if bit_depth < 8: bit_depth = 8\n",
    "        stages = 64//bit_depth\n",
    "        # Initialise Square Sum\n",
    "        self.square_sums = np.ones(shape=(size, size, stages))\n",
    "```"
   ]
  },
  {
   "cell_type": "code",
   "execution_count": 20,
   "metadata": {},
   "outputs": [
    {
     "data": {
      "text/plain": [
       "256"
      ]
     },
     "execution_count": 20,
     "metadata": {},
     "output_type": "execute_result"
    }
   ],
   "source": [
    "2**8"
   ]
  },
  {
   "cell_type": "markdown",
   "metadata": {},
   "source": [
    "Does this only have benefit if we actually start to think that our representation space is limited?"
   ]
  },
  {
   "cell_type": "markdown",
   "metadata": {},
   "source": [
    "When using Cython its often better to define lists as 1D numpy arrays. So let's start doing that.\n",
    "\n",
    "```cdef np.array[double, dim=1] x_array```"
   ]
  },
  {
   "cell_type": "code",
   "execution_count": 22,
   "metadata": {},
   "outputs": [
    {
     "data": {
      "text/plain": [
       "array([0., 0., 0., 0., 0., 0., 0., 0.])"
      ]
     },
     "execution_count": 22,
     "metadata": {},
     "output_type": "execute_result"
    }
   ],
   "source": [
    "import numpy as np\n",
    "np.zeros(8)"
   ]
  },
  {
   "cell_type": "code",
   "execution_count": 28,
   "metadata": {},
   "outputs": [
    {
     "name": "stdout",
     "output_type": "stream",
     "text": [
      "[[127 183 235 207]\n",
      " [ 82 234 230  90]\n",
      " [178 115 193 226]\n",
      " [250 142 173 184]] [[171 228  30 215]\n",
      " [233 152 128 218]\n",
      " [141   9 252 124]\n",
      " [200  52 248  28]] [[0 0 1 0]\n",
      " [0 1 1 0]\n",
      " [1 1 0 1]\n",
      " [1 1 0 1]]\n"
     ]
    }
   ],
   "source": [
    "# Can we do 2D PBT?\n",
    "rand_vals_1 = np.random.randint(255, size=(4,4))\n",
    "rand_vals_2 = np.random.randint(255, size=(4,4))\n",
    "binary_values = np.where(rand_vals_1 > rand_vals_2, 1, 0)\n",
    "print(rand_vals_1, rand_vals_2, binary_values)"
   ]
  },
  {
   "cell_type": "code",
   "execution_count": 29,
   "metadata": {},
   "outputs": [
    {
     "data": {
      "text/plain": [
       "array([[128,   0,   1,   0],\n",
       "       [128,   1,   1,   0],\n",
       "       [128,   1,   0,   1],\n",
       "       [128,   1,   0,   1]])"
      ]
     },
     "execution_count": 29,
     "metadata": {},
     "output_type": "execute_result"
    }
   ],
   "source": [
    " binary_values[:, 0] = 128; binary_values"
   ]
  },
  {
   "cell_type": "code",
   "execution_count": 30,
   "metadata": {},
   "outputs": [
    {
     "data": {
      "text/plain": [
       "63"
      ]
     },
     "execution_count": 30,
     "metadata": {},
     "output_type": "execute_result"
    }
   ],
   "source": [
    "127//2"
   ]
  },
  {
   "cell_type": "markdown",
   "metadata": {},
   "source": [
    "When ensuring that we remain within signed 8-bits integers we can divide by 2 before subtracting. But like our other residuals most of the energy is around the mean. So clipping maybe better. We thus clip at -64 and +63 subtract then times by 2.\n",
    "```\n",
    "# Right bit shift the current sum and the next stage sum\n",
    "            # BUT LIKE OUR RESIDUALS WE MIGHT FIND ITS BETTER TO CLIP THAN DIVIDE\n",
    "            current_stage = self.square_sum[:, :, 0]//2\n",
    "            next_stage = self.square_sum[:, :, 1]//2\n",
    "```\n",
    "\n",
    "Clipping will only work if our input signal is already zero mean - "
   ]
  },
  {
   "cell_type": "markdown",
   "metadata": {},
   "source": [
    "One problem is our data may be - or +. Hence, our square sum may have +1 or -1 terms at each iteration. But if we get 254 [1, 1] vectors our square sum will be 254 (or [1, -1] will get you [[254, -254], [-254, 254]])."
   ]
  },
  {
   "cell_type": "code",
   "execution_count": 97,
   "metadata": {},
   "outputs": [
    {
     "name": "stdout",
     "output_type": "stream",
     "text": [
      "(2, 1)\n",
      "[[ 254. -254.]\n",
      " [-254.  254.]] [[-2  2]\n",
      " [ 2 -2]]\n"
     ]
    }
   ],
   "source": [
    "test_array = np.asarray([[1],[-1]]); print(test_array.shape)\n",
    "\n",
    "test_sum = np.zeros(shape=(2,2))\n",
    "for _ in range(0, 254):\n",
    "    test_sum += np.dot(test_array, test_array.T)\n",
    "\n",
    "print(test_sum, test_sum.astype(np.int8))"
   ]
  },
  {
   "cell_type": "code",
   "execution_count": 98,
   "metadata": {},
   "outputs": [
    {
     "name": "stdout",
     "output_type": "stream",
     "text": [
      "(2, 1)\n",
      "[[254. 254.]\n",
      " [254. 254.]] [[-2 -2]\n",
      " [-2 -2]]\n"
     ]
    }
   ],
   "source": [
    "test_array = np.asarray([[1],[1]]); print(test_array.shape)\n",
    "\n",
    "test_sum = np.zeros(shape=(2,2))\n",
    "for _ in range(0, 254):\n",
    "    test_sum += np.dot(test_array, test_array.T)\n",
    "\n",
    "print(test_sum, test_sum.astype(np.int8))"
   ]
  },
  {
   "cell_type": "code",
   "execution_count": 99,
   "metadata": {},
   "outputs": [
    {
     "name": "stdout",
     "output_type": "stream",
     "text": [
      "(2, 1)\n",
      "[[254. 254.]\n",
      " [254. 254.]] [[-2 -2]\n",
      " [-2 -2]]\n"
     ]
    }
   ],
   "source": [
    "test_array = np.asarray([[-1],[-1]]); print(test_array.shape)\n",
    "\n",
    "test_sum = np.zeros(shape=(2,2))\n",
    "for _ in range(0, 254):\n",
    "    test_sum += np.dot(test_array, test_array.T)\n",
    "\n",
    "print(test_sum, test_sum.astype(np.int8))"
   ]
  },
  {
   "cell_type": "markdown",
   "metadata": {},
   "source": [
    "We can just iterate 127 times."
   ]
  },
  {
   "cell_type": "code",
   "execution_count": 100,
   "metadata": {},
   "outputs": [
    {
     "name": "stdout",
     "output_type": "stream",
     "text": [
      "(2, 1)\n",
      "[[ 127. -127.]\n",
      " [-127.  127.]] [[ 127 -127]\n",
      " [-127  127]]\n"
     ]
    }
   ],
   "source": [
    "test_array = np.asarray([[1],[-1]]); print(test_array.shape)\n",
    "\n",
    "test_sum = np.zeros(shape=(2,2))\n",
    "for _ in range(0, 127):\n",
    "    test_sum += np.dot(test_array, test_array.T)\n",
    "\n",
    "print(test_sum, test_sum.astype(np.int8))"
   ]
  },
  {
   "cell_type": "code",
   "execution_count": 108,
   "metadata": {},
   "outputs": [
    {
     "name": "stdout",
     "output_type": "stream",
     "text": [
      "1 127\n",
      "2 63\n",
      "3 42\n",
      "4 31\n",
      "5 25\n",
      "6 21\n",
      "7 18\n",
      "8 15\n",
      "9 14\n",
      "10 12\n",
      "11 11\n",
      "12 10\n",
      "13 9\n",
      "14 9\n",
      "15 8\n",
      "16 7\n",
      "17 7\n",
      "18 7\n",
      "19 6\n",
      "20 6\n",
      "21 6\n",
      "22 5\n",
      "23 5\n",
      "24 5\n",
      "25 5\n",
      "26 4\n",
      "27 4\n",
      "28 4\n",
      "29 4\n",
      "30 4\n",
      "31 4\n",
      "32 3\n",
      "33 3\n",
      "34 3\n",
      "35 3\n",
      "36 3\n",
      "37 3\n",
      "38 3\n",
      "39 3\n",
      "40 3\n",
      "41 3\n",
      "42 3\n",
      "43 2\n",
      "44 2\n",
      "45 2\n",
      "46 2\n",
      "47 2\n",
      "48 2\n",
      "49 2\n",
      "50 2\n",
      "51 2\n",
      "52 2\n",
      "53 2\n",
      "54 2\n",
      "55 2\n",
      "56 2\n",
      "57 2\n",
      "58 2\n",
      "59 2\n",
      "60 2\n",
      "61 2\n",
      "62 2\n",
      "63 2\n",
      "64 1\n",
      "65 1\n",
      "66 1\n",
      "67 1\n",
      "68 1\n",
      "69 1\n",
      "70 1\n",
      "71 1\n",
      "72 1\n",
      "73 1\n",
      "74 1\n",
      "75 1\n",
      "76 1\n",
      "77 1\n",
      "78 1\n",
      "79 1\n",
      "80 1\n",
      "81 1\n",
      "82 1\n",
      "83 1\n",
      "84 1\n",
      "85 1\n",
      "86 1\n",
      "87 1\n",
      "88 1\n",
      "89 1\n",
      "90 1\n",
      "91 1\n",
      "92 1\n",
      "93 1\n",
      "94 1\n",
      "95 1\n",
      "96 1\n",
      "97 1\n",
      "98 1\n",
      "99 1\n",
      "100 1\n",
      "101 1\n",
      "102 1\n",
      "103 1\n",
      "104 1\n",
      "105 1\n",
      "106 1\n",
      "107 1\n",
      "108 1\n",
      "109 1\n",
      "110 1\n",
      "111 1\n",
      "112 1\n",
      "113 1\n",
      "114 1\n",
      "115 1\n",
      "116 1\n",
      "117 1\n",
      "118 1\n",
      "119 1\n",
      "120 1\n",
      "121 1\n",
      "122 1\n",
      "123 1\n",
      "124 1\n",
      "125 1\n",
      "126 1\n"
     ]
    }
   ],
   "source": [
    "# 127 and 128 take the same amount of time\n",
    "for i in range(1, 127):\n",
    "    print(i, 127//i)"
   ]
  },
  {
   "cell_type": "markdown",
   "metadata": {},
   "source": [
    "So we lose accuracy above 64 as a count of 65 and 128 are both multiplied by 1."
   ]
  },
  {
   "cell_type": "code",
   "execution_count": null,
   "metadata": {},
   "outputs": [],
   "source": []
  },
  {
   "cell_type": "markdown",
   "metadata": {},
   "source": [
    "## Reconstruction of Covariance Unit\n",
    "\n",
    "Things to remember:\n",
    "* We have a running total - we need to scale by stage_counter.\n",
    "    * Normally you'd divide by 127 (if max/min are -127/127) so if we have 39 iterations we'd divide by 39.\n",
    "    * But we're assuming we always have 8bit so we need to divide by 39 then times by 127.\n",
    "    * We can approximate by determining the nearest power of 2 to the count (i.e. below the count)"
   ]
  },
  {
   "cell_type": "code",
   "execution_count": 83,
   "metadata": {},
   "outputs": [],
   "source": [
    "\n",
    "class CovarianceUnit:\n",
    "    \"\"\"Variation where the mean is assumed to be 0.\"\"\"\n",
    "\n",
    "    def __init__(self, size):\n",
    "        \"\"\"Initialise.\n",
    "\n",
    "        Args:\n",
    "            size: integer setting the 1D size of an input.\n",
    "        \"\"\"\n",
    "        self.size = size\n",
    "        # Set max value for signed int\n",
    "        self.max_value = 126\n",
    "        self.stages = 8\n",
    "        # Initialise Square Sums\n",
    "        self.square_sum = np.zeros(\n",
    "            shape=(size, size, self.stages), dtype=np.int8\n",
    "        )\n",
    "        # Define counter for each stage\n",
    "        self.stage_counter = np.zeros(self.stages, dtype=np.uint8)\n",
    "\n",
    "    def update(self, data_array):\n",
    "        \"\"\"Add a data array to the covariance data.\n",
    "\n",
    "        This will involve a recursive check.\n",
    "\n",
    "        Args:\n",
    "            data_array is a 1D numpy array of length 'size'.\n",
    "        \"\"\"\n",
    "        # Increment current stage counter\n",
    "        self.stage_counter[0] += 1\n",
    "        # Add square of input array\n",
    "        self.square_sum[:, :, 0] += np.dot(data_array, data_array.T)\n",
    "        self.recursive_update(0)\n",
    "\n",
    "    def recursive_update(self, i):\n",
    "        \"\"\"Update with recursive method.\n",
    "\n",
    "        Args:\n",
    "            i - stage to update - integer.\n",
    "        \"\"\"\n",
    "        # Check i is within range\n",
    "        if i > self.stages:\n",
    "            return\n",
    "        # If i is within range check counter\n",
    "        if self.stage_counter[i] >= 254:\n",
    "            # Right bit shift the current sum and the next stage sum\n",
    "            current_stage = self.square_sum[:, :, i]//2\n",
    "            next_stage = self.square_sum[:, :, i+1]//2\n",
    "            # Subtract estimate from next stage\n",
    "            square_sum_dash = current_stage - next_stage\n",
    "            # Clip at -64 and 63 then times by 2 - returns to int8 space\n",
    "            square_sum_dash = np.clip(square_sum_dash, -63, 63)*2\n",
    "            # PBT self.square_sum[:, :, 0] - BUT WILL THIS BE TERNARY?\n",
    "            rand_ints = np.random.randint(\n",
    "                self.max_value, size=(self.size, self.size)\n",
    "            )\n",
    "            signs = np.sign(square_sum_dash)\n",
    "            pbt_output = np.where(np.abs(square_sum_dash) > rand_ints, 1, 0)\n",
    "            # Add to next stage (with signs returned)\n",
    "            self.square_sum[:, :, i+1] += pbt_output*signs\n",
    "            # Reset the previous counter and stage\n",
    "            self.stage_counter[i] = 0\n",
    "            self.square_sum[:, :, i] = 0 # Is this right as we set it initially to -128\n",
    "            # Increment next stage counter\n",
    "            self.stage_counter[i+1] += 1\n",
    "            self.recursive_update(i+1)\n",
    "        else:\n",
    "            return\n",
    "\n",
    "    @property\n",
    "    def covariance(self):\n",
    "        \"\"\"Compute covariance when requested.\"\"\"\n",
    "        # Reconstruct from square sums\n",
    "        pass\n",
    "\n"
   ]
  },
  {
   "cell_type": "markdown",
   "metadata": {},
   "source": [
    "# Re Test\n",
    "\n",
    "Now we apply the previous tests on the edited classes above.\n",
    "\n",
    "We might need to rejig the tests a little."
   ]
  },
  {
   "cell_type": "code",
   "execution_count": 71,
   "metadata": {},
   "outputs": [],
   "source": [
    "\"\"\"Statistical test that cov unit is determining the covariance.\"\"\"\n",
    "# Generate random positive definite matrix\n",
    "cov = np.random.randn(3, 3)\n",
    "cov = np.dot(cov, cov.T)\n",
    "cov = cov / cov.max()\n",
    "# Generate desired mean\n",
    "mean = np.random.randn(3, 1)"
   ]
  },
  {
   "cell_type": "code",
   "execution_count": 72,
   "metadata": {},
   "outputs": [
    {
     "data": {
      "text/plain": [
       "(array([[ 1.        ,  0.37863808,  0.34018587],\n",
       "        [ 0.37863808,  0.60824758, -0.49372465],\n",
       "        [ 0.34018587, -0.49372465,  0.9502809 ]]), array([[-2.15622656],\n",
       "        [ 0.8393449 ],\n",
       "        [-3.53983336]]))"
      ]
     },
     "execution_count": 72,
     "metadata": {},
     "output_type": "execute_result"
    }
   ],
   "source": [
    "cov, mean"
   ]
  },
  {
   "cell_type": "code",
   "execution_count": 73,
   "metadata": {},
   "outputs": [
    {
     "data": {
      "text/plain": [
       "(array([[127,  48,  43],\n",
       "        [ 48,  77, -62],\n",
       "        [ 43, -62, 120]], dtype=int8), array([[-17],\n",
       "        [106],\n",
       "        [ 63]], dtype=int8))"
      ]
     },
     "execution_count": 73,
     "metadata": {},
     "output_type": "execute_result"
    }
   ],
   "source": [
    "(cov*127).astype(np.int8), (mean*127).astype(np.int8)"
   ]
  },
  {
   "cell_type": "code",
   "execution_count": 74,
   "metadata": {},
   "outputs": [],
   "source": [
    "new_cov = (cov*127).astype(np.int8); new_mean = (mean*127).astype(np.int8)"
   ]
  },
  {
   "cell_type": "code",
   "execution_count": 78,
   "metadata": {},
   "outputs": [
    {
     "data": {
      "text/plain": [
       "array([[ 11.26942767,   0.        ,   0.        ],\n",
       "       [  4.25931125,   7.67191421,   0.        ],\n",
       "       [  3.81563299, -10.19979712,   1.18536223]])"
      ]
     },
     "execution_count": 78,
     "metadata": {},
     "output_type": "execute_result"
    }
   ],
   "source": [
    "# Use Cholesky decomposition to get L\n",
    "L = np.linalg.cholesky(new_cov); L"
   ]
  },
  {
   "cell_type": "code",
   "execution_count": 81,
   "metadata": {},
   "outputs": [
    {
     "data": {
      "text/plain": [
       "array([[-23],\n",
       "       [111],\n",
       "       [ 50]], dtype=int8)"
      ]
     },
     "execution_count": 81,
     "metadata": {},
     "output_type": "execute_result"
    }
   ],
   "source": [
    "(np.dot(L, np.random.randn(3, 1)) + new_mean).astype(np.int8)"
   ]
  },
  {
   "cell_type": "code",
   "execution_count": 84,
   "metadata": {},
   "outputs": [],
   "source": [
    "cov_unit = CovarianceUnit(3)\n",
    "for _ in range(0, 10000):\n",
    "    sample = np.dot(L, np.random.randn(3, 1)) + mean\n",
    "    cov_unit.update(sample.astype(np.int8))"
   ]
  },
  {
   "cell_type": "code",
   "execution_count": 88,
   "metadata": {},
   "outputs": [
    {
     "data": {
      "text/plain": [
       "(array([[   7, -102,   70],\n",
       "        [-102,   55,  -95],\n",
       "        [  70,  -95, -102]], dtype=int8), array([[ 0,  6,  3],\n",
       "        [ 1, -1,  0],\n",
       "        [ 7,  3, -1]], dtype=int8))"
      ]
     },
     "execution_count": 88,
     "metadata": {},
     "output_type": "execute_result"
    }
   ],
   "source": [
    "cov_unit.square_sum[:, :, 0], cov_unit.square_sum[:, :, 1]"
   ]
  },
  {
   "cell_type": "code",
   "execution_count": 89,
   "metadata": {},
   "outputs": [
    {
     "data": {
      "text/plain": [
       "array([55, 39,  0,  0,  0,  0,  0,  0], dtype=uint8)"
      ]
     },
     "execution_count": 89,
     "metadata": {},
     "output_type": "execute_result"
    }
   ],
   "source": [
    "cov_unit.stage_counter"
   ]
  },
  {
   "cell_type": "code",
   "execution_count": 86,
   "metadata": {},
   "outputs": [
    {
     "data": {
      "text/plain": [
       "(array([[ 1.        ,  0.37863808,  0.34018587],\n",
       "        [ 0.37863808,  0.60824758, -0.49372465],\n",
       "        [ 0.34018587, -0.49372465,  0.9502809 ]]), None)"
      ]
     },
     "execution_count": 86,
     "metadata": {},
     "output_type": "execute_result"
    }
   ],
   "source": [
    "cov, cov_unit.covariance"
   ]
  },
  {
   "cell_type": "code",
   "execution_count": null,
   "metadata": {},
   "outputs": [],
   "source": [
    "# Check within 10%\n",
    "assert np.allclose(cov, cov_unit.covariance, rtol=0.10, atol=0.05)"
   ]
  },
  {
   "cell_type": "markdown",
   "metadata": {},
   "source": [
    "---\n",
    "### Test accuracy of covariance unit"
   ]
  },
  {
   "cell_type": "code",
   "execution_count": 213,
   "metadata": {},
   "outputs": [
    {
     "ename": "SyntaxError",
     "evalue": "invalid syntax (<ipython-input-213-10648d2a21c8>, line 56)",
     "output_type": "error",
     "traceback": [
      "\u001b[0;36m  File \u001b[0;32m\"<ipython-input-213-10648d2a21c8>\"\u001b[0;36m, line \u001b[0;32m56\u001b[0m\n\u001b[0;31m    high=self.max_value+1,\u001b[0m\n\u001b[0m       ^\u001b[0m\n\u001b[0;31mSyntaxError\u001b[0m\u001b[0;31m:\u001b[0m invalid syntax\n"
     ]
    }
   ],
   "source": [
    "class CovarianceUnit:\n",
    "    \"\"\"Variation where the mean is assumed to be 0.\"\"\"\n",
    "\n",
    "    def __init__(self, size):\n",
    "        \"\"\"Initialise.\n",
    "\n",
    "        Args:\n",
    "            size: integer setting the 1D size of an input.\n",
    "        \"\"\"\n",
    "        self.size = size\n",
    "        # Set max value for signed int\n",
    "        self.max_value = 127\n",
    "        self.stages = 8\n",
    "        # Initialise Square Sums\n",
    "        self.square_sum = np.zeros(\n",
    "            shape=(size, size, self.stages), dtype=np.int8\n",
    "        )\n",
    "        # Initialise Store for last full values\n",
    "        self.complete = np.zeros(\n",
    "            shape=(size, size, self.stages), dtype=np.int8\n",
    "        )\n",
    "        # Define counter for each stage\n",
    "        self.stage_counter = np.zeros(self.stages, dtype=np.uint8)\n",
    "\n",
    "    def update(self, data_array):\n",
    "        \"\"\"Add a data array to the covariance data.\n",
    "\n",
    "        This will involve a recursive check.\n",
    "\n",
    "        Args:\n",
    "            data_array is a 1D numpy array of length 'size'.\n",
    "        \"\"\"\n",
    "        # Increment current stage counter\n",
    "        self.stage_counter[0] += 1\n",
    "        # Add square of input array\n",
    "        self.square_sum[:, :, 0] += np.dot(data_array, data_array.T)\n",
    "        self.recursive_update(0)\n",
    "\n",
    "    def recursive_update(self, i):\n",
    "        \"\"\"Update with recursive method.\n",
    "\n",
    "        Args:\n",
    "            i - stage to update - integer.\n",
    "        \"\"\"\n",
    "        # Check i is within range\n",
    "        if i > self.stages:\n",
    "            return\n",
    "        # If i is within range check counter\n",
    "        if self.stage_counter[i] >= self.max_value:\n",
    "            # Add to completed estimate\n",
    "            self.complete[:, :, i] = self.square_sum[:, :, i]\n",
    "            # PBT\n",
    "            # Get random integers - from 0 (inclusive) to 128 (exclusive)\n",
    "            rand_ints = np.random.randint(\n",
    "                low=0,\n",
    "                high=self.max_value+1, \n",
    "                size=(self.size, self.size)\n",
    "            )\n",
    "            signs = np.sign(self.square_sum[:, :, i])\n",
    "            pbt_output = np.where(np.abs(self.square_sum[:, :, i]) > rand_ints, 1, 0)\n",
    "            # Add to next stage (with signs returned)\n",
    "            self.square_sum[:, :, i+1] += pbt_output*signs\n",
    "            # Reset the previous counter and stage\n",
    "            self.stage_counter[i] = 0\n",
    "            self.square_sum[:, :, i] = 0\n",
    "            # Increment next stage counter\n",
    "            self.stage_counter[i+1] += 1\n",
    "            self.recursive_update(i+1)\n",
    "        else:\n",
    "            return\n",
    "\n",
    "    @property\n",
    "    def covariance(self):\n",
    "        \"\"\"Compute covariance when requested.\"\"\"\n",
    "        # Reconstruct from square sums\n",
    "        pass\n",
    "\n"
   ]
  },
  {
   "cell_type": "code",
   "execution_count": 214,
   "metadata": {},
   "outputs": [
    {
     "name": "stdout",
     "output_type": "stream",
     "text": [
      "[[ 7.87400787  0.          0.        ]\n",
      " [-9.01700902  4.96926035  0.        ]\n",
      " [ 9.27100927 -3.09970191  5.60715928]]\n",
      "[[ 62 -71  73]\n",
      " [-71 106 -99]\n",
      " [ 73 -99 127]]\n"
     ]
    }
   ],
   "source": [
    "\"\"\"Statistical test that cov unit is determining the covariance.\"\"\"\n",
    "# Generate random positive definite matrix\n",
    "cov = np.random.randn(3, 3)\n",
    "cov = np.dot(cov, cov.T)\n",
    "cov = cov / cov.max()\n",
    "new_cov = (cov*127).astype(np.int8)\n",
    "\n",
    "# Use Cholesky decomposition to get L\n",
    "L = np.linalg.cholesky(new_cov); print(L, new_cov, sep=\"\\n\")"
   ]
  },
  {
   "cell_type": "code",
   "execution_count": 215,
   "metadata": {},
   "outputs": [
    {
     "data": {
      "text/plain": [
       "array([[ 62., -71.,  73.],\n",
       "       [-71., 106., -99.],\n",
       "       [ 73., -99., 127.]])"
      ]
     },
     "execution_count": 215,
     "metadata": {},
     "output_type": "execute_result"
    }
   ],
   "source": [
    "np.dot(L, L.T)"
   ]
  },
  {
   "cell_type": "code",
   "execution_count": 225,
   "metadata": {},
   "outputs": [
    {
     "name": "stdout",
     "output_type": "stream",
     "text": [
      "[[ 0.7041427   0.          0.        ]\n",
      " [-0.79862943  0.44876818  0.        ]\n",
      " [ 0.82129685 -0.29207359  0.49006581]]\n",
      "[[ 0.49581694 -0.56234908  0.57831018]\n",
      " [-0.56234908  0.83920184 -0.78698517]\n",
      " [ 0.57831018 -0.78698517  1.        ]]\n",
      "[[  89.42612275    0.            0.        ]\n",
      " [-101.42593715   56.99355894    0.        ]\n",
      " [ 104.30470026  -37.09334554   62.23835811]]\n"
     ]
    }
   ],
   "source": [
    "# Use Cholesky decomposition to get L\n",
    "L = np.linalg.cholesky(cov); print(L, cov, L*127, sep=\"\\n\")"
   ]
  },
  {
   "cell_type": "code",
   "execution_count": 216,
   "metadata": {},
   "outputs": [
    {
     "data": {
      "text/plain": [
       "array([[[ 45,  -9,   0,   0,   0,   0,   0,   0],\n",
       "        [-20,  -5,   0,   0,   0,   0,   0,   0],\n",
       "        [-28,   8,   0,   0,   0,   0,   0,   0]],\n",
       "\n",
       "       [[-20,  -2,   0,   0,   0,   0,   0,   0],\n",
       "        [-34,   4,   0,   0,   0,   0,   0,   0],\n",
       "        [-45,   1,   0,   0,   0,   0,   0,   0]],\n",
       "\n",
       "       [[-28,  -3,   0,   0,   0,   0,   0,   0],\n",
       "        [-45,   0,   0,   0,   0,   0,   0,   0],\n",
       "        [ 76,   5,   0,   0,   0,   0,   0,   0]]], dtype=int8)"
      ]
     },
     "execution_count": 216,
     "metadata": {},
     "output_type": "execute_result"
    }
   ],
   "source": [
    "cov_unit = CovarianceUnit(3)\n",
    "for _ in range(0, 127**3+10000):\n",
    "    sample = np.dot(L, np.random.uniform(low=-1, size=(3, 1)))\n",
    "    cov_unit.update(sample.astype(np.int8))\n",
    "cov_unit.square_sum"
   ]
  },
  {
   "cell_type": "code",
   "execution_count": 217,
   "metadata": {},
   "outputs": [
    {
     "name": "stdout",
     "output_type": "stream",
     "text": [
      "[[ 62 -71  73]\n",
      " [-71 106 -99]\n",
      " [ 73 -99 127]]\n",
      "[[ 45 -20 -28]\n",
      " [-20 -34 -45]\n",
      " [-28 -45  76]]\n",
      "[[-9 -5  8]\n",
      " [-2  4  1]\n",
      " [-3  0  5]]\n"
     ]
    }
   ],
   "source": [
    "print(new_cov, cov_unit.square_sum[:, :, 0], cov_unit.square_sum[:, :, 1], sep=\"\\n\")"
   ]
  },
  {
   "cell_type": "code",
   "execution_count": 218,
   "metadata": {},
   "outputs": [
    {
     "name": "stdout",
     "output_type": "stream",
     "text": [
      "[[ 62 -71  73]\n",
      " [-71 106 -99]\n",
      " [ 73 -99 127]]\n",
      "\n",
      "[[ -87   -2 -128]\n",
      " [  -2   -9  -87]\n",
      " [-128  -87   28]]\n",
      "\n",
      "[[-3  8 15]\n",
      " [ 7  0 -1]\n",
      " [16 11 -3]]\n",
      "\n",
      "[[-3  2  3]\n",
      " [ 1  1  0]\n",
      " [ 2 -4  2]]\n"
     ]
    }
   ],
   "source": [
    "print(new_cov, cov_unit.complete[:, :, 0], cov_unit.complete[:, :, 1], cov_unit.complete[:, :, 2], sep=\"\\n\\n\")"
   ]
  },
  {
   "cell_type": "markdown",
   "metadata": {},
   "source": [
    "These don't really match - and the values decrease in size with each layer."
   ]
  },
  {
   "cell_type": "code",
   "execution_count": 219,
   "metadata": {},
   "outputs": [
    {
     "name": "stdout",
     "output_type": "stream",
     "text": [
      "[[-0.27100385]\n",
      " [ 2.61107786]\n",
      " [-4.22616834]]\n"
     ]
    }
   ],
   "source": [
    "print(sample)"
   ]
  },
  {
   "cell_type": "code",
   "execution_count": 220,
   "metadata": {},
   "outputs": [
    {
     "data": {
      "text/plain": [
       "array([[ 7.87400787],\n",
       "       [-4.04774867],\n",
       "       [11.77846663]])"
      ]
     },
     "execution_count": 220,
     "metadata": {},
     "output_type": "execute_result"
    }
   ],
   "source": [
    "np.dot(L, np.ones(shape=(3, 1)))"
   ]
  },
  {
   "cell_type": "code",
   "execution_count": 221,
   "metadata": {},
   "outputs": [
    {
     "data": {
      "text/plain": [
       "array([[ -7.87400787],\n",
       "       [  4.04774867],\n",
       "       [-11.77846663]])"
      ]
     },
     "execution_count": 221,
     "metadata": {},
     "output_type": "execute_result"
    }
   ],
   "source": [
    "np.dot(L, -1*np.ones(shape=(3, 1)))"
   ]
  },
  {
   "cell_type": "code",
   "execution_count": 222,
   "metadata": {},
   "outputs": [
    {
     "data": {
      "text/plain": [
       "array([[-6.22160635],\n",
       "       [ 9.93553367],\n",
       "       [-6.14411285]])"
      ]
     },
     "execution_count": 222,
     "metadata": {},
     "output_type": "execute_result"
    }
   ],
   "source": [
    "np.dot(L, np.random.uniform(low=-1, size=(3, 1)))"
   ]
  },
  {
   "cell_type": "markdown",
   "metadata": {},
   "source": [
    "Ah this is why this isn't working - our input samples are not ternary. The max is L\\*1s and min is L\\*-1s. So we can divide by this? Then PBT with uniform numbers. (We still get some numbers slightly bigger than 1 but this should be roughly right?)"
   ]
  },
  {
   "cell_type": "code",
   "execution_count": 224,
   "metadata": {},
   "outputs": [
    {
     "name": "stdout",
     "output_type": "stream",
     "text": [
      "[[-6.99564882e-04]\n",
      " [ 1.05159113e+00]\n",
      " [-1.11060303e-01]]\n",
      "[[-1.]\n",
      " [ 1.]\n",
      " [-1.]]\n",
      "[[0.09915078]\n",
      " [0.25767448]\n",
      " [0.67441018]]\n",
      "[[-0.]\n",
      " [ 1.]\n",
      " [-0.]]\n"
     ]
    }
   ],
   "source": [
    "sample = np.dot(L, np.random.uniform(low=-1, high=1, size=(3, 1))) / np.dot(L, np.ones(shape=(3, 1)))\n",
    "print(sample)\n",
    "\n",
    "rand_vals = np.random.uniform(size=(3,1))\n",
    "signs = np.sign(sample)\n",
    "print(signs, rand_vals, sep=\"\\n\")\n",
    "ternary = np.where(np.abs(sample) > rand_vals, 1, 0)\n",
    "ternary = ternary*signs\n",
    "print(ternary)"
   ]
  },
  {
   "cell_type": "code",
   "execution_count": 285,
   "metadata": {},
   "outputs": [
    {
     "data": {
      "text/plain": [
       "array([[ 0.10170289],\n",
       "       [ 0.31597568],\n",
       "       [-0.28238656]])"
      ]
     },
     "execution_count": 285,
     "metadata": {},
     "output_type": "execute_result"
    }
   ],
   "source": [
    "np.dot(L, np.random.uniform(low=-1, size=(3, 1)))"
   ]
  },
  {
   "cell_type": "markdown",
   "metadata": {},
   "source": [
    "We do need to sample from -1 to 1 otherwise we just get the same positive correlation. Low = -1 allows us to flip the bit. **We don't need the scaling.***"
   ]
  },
  {
   "cell_type": "code",
   "execution_count": null,
   "metadata": {},
   "outputs": [],
   "source": [
    "sq_sum = np.zeros(shape=(3,3))\n",
    "x_sum = np.zeros(shape=(3,1))"
   ]
  },
  {
   "cell_type": "code",
   "execution_count": 296,
   "metadata": {},
   "outputs": [
    {
     "name": "stdout",
     "output_type": "stream",
     "text": [
      "[[ 62 -71  73]\n",
      " [-71 106 -99]\n",
      " [ 73 -99 127]]\n",
      "\n",
      "[[ 24 -13  18]\n",
      " [-13  30 -19]\n",
      " [ 18 -19  35]]\n",
      "\n",
      "[[ 29 -20  14]\n",
      " [-17  40 -27]\n",
      " [ 15 -20  35]]\n",
      "\n",
      "[[ 1 -1  1]\n",
      " [-3  4 -1]\n",
      " [ 2  0  3]]\n",
      "[[ 62 -71  73]\n",
      " [-71 106 -99]\n",
      " [ 73 -99 127]]\n",
      "\n",
      "[[ 42 -22  22]\n",
      " [-22  52 -29]\n",
      " [ 22 -29  56]]\n",
      "\n",
      "[[ 45 -20  20]\n",
      " [-21  50 -28]\n",
      " [ 25 -27  49]]\n",
      "\n",
      "[[ 47 -29  23]\n",
      " [-24  55 -30]\n",
      " [ 23 -30  50]]\n"
     ]
    }
   ],
   "source": [
    "for _ in range(0, 127**3+10):\n",
    "    sample = np.dot(L, np.random.uniform(low=-1, size=(3, 1))) \n",
    "\n",
    "    rand_vals = np.random.uniform(size=(3,1))\n",
    "    signs = np.sign(sample)\n",
    "    ternary = np.where(np.abs(sample) > rand_vals, 1, 0)\n",
    "    ternary = ternary*signs\n",
    "    ternary = ternary.astype(np.int8)\n",
    "    # print(ternary)\n",
    "    cov_unit.update(ternary)\n",
    "    x_sum += ternary\n",
    "    sq_sum += np.dot(ternary, ternary.T)\n",
    "\n",
    "print(new_cov, cov_unit.square_sum[:, :, 0], cov_unit.square_sum[:, :, 1], cov_unit.square_sum[:, :, 2], sep=\"\\n\\n\")\n",
    "print(new_cov, cov_unit.complete[:, :, 0], cov_unit.complete[:, :, 1], cov_unit.complete[:, :, 2], sep=\"\\n\\n\")"
   ]
  },
  {
   "cell_type": "code",
   "execution_count": 295,
   "metadata": {
    "scrolled": true
   },
   "outputs": [
    {
     "name": "stdout",
     "output_type": "stream",
     "text": [
      "[[ 45.7703141  -24.05872067  24.17391633]\n",
      " [-24.05872067  56.94516189 -32.34350879]\n",
      " [ 24.17391633 -32.34350879  60.61152132]] [[1269.98604997]\n",
      " [1270.0486701 ]\n",
      " [1269.98995598]]\n"
     ]
    }
   ],
   "source": [
    "print((sq_sum/(127**3+10))*127, (x_sum/127**3+10)*127)"
   ]
  },
  {
   "cell_type": "markdown",
   "metadata": {},
   "source": [
    "Ah now we are getting close. Large values seem reduced? 127 > 58/59 But accurate representation of the square sum.\n",
    "\n",
    "We seem to be missing negative values from stages 1+. Ah here the sq_sum is +ve. Because both signs being the same will give +ve correlation - we seem to be missing -ve correlation.\n",
    "\n",
    "Maybe go back to a simpler test of just feeding in a constant value? Same and different?\n",
    "\n",
    "Ah - does our input need to be between 0 and 1? Does -ve input cause issues? No because if we remove the mean we should get negative inputs. \n",
    "\n",
    "Is the problem that we haven't got a zero mean? Despite assuming a zero mean.\n",
    "\n",
    "Is it something to do with the scaling - the dividing of L? Yes.\n",
    "\n",
    "Without this the signs work but the values are about 50% off."
   ]
  },
  {
   "cell_type": "code",
   "execution_count": null,
   "metadata": {},
   "outputs": [],
   "source": []
  },
  {
   "cell_type": "code",
   "execution_count": 239,
   "metadata": {},
   "outputs": [],
   "source": [
    "def rand_same(size=2):\n",
    "    a = np.empty([size, 1])\n",
    "    a.fill(np.random.randint(2))\n",
    "    return a\n",
    "\n",
    "def rand_diff(size=2):\n",
    "    a = np.zeros([size, 1])\n",
    "    index = np.random.randint(size)\n",
    "    a[index] = 1\n",
    "    return a"
   ]
  },
  {
   "cell_type": "code",
   "execution_count": 249,
   "metadata": {},
   "outputs": [
    {
     "name": "stdout",
     "output_type": "stream",
     "text": [
      "[[0.]\n",
      " [0.]\n",
      " [0.]] [[0.]\n",
      " [0.]\n",
      " [1.]]\n"
     ]
    }
   ],
   "source": [
    "print(rand_same(size=3), rand_diff(size=3))"
   ]
  },
  {
   "cell_type": "code",
   "execution_count": 231,
   "metadata": {},
   "outputs": [
    {
     "name": "stdout",
     "output_type": "stream",
     "text": [
      "[[32 30 16]\n",
      " [30 51 25]\n",
      " [16 25 28]]\n"
     ]
    }
   ],
   "source": [
    "print(self.square_sum[:, :, 0])"
   ]
  },
  {
   "cell_type": "code",
   "execution_count": 232,
   "metadata": {},
   "outputs": [
    {
     "name": "stdout",
     "output_type": "stream",
     "text": [
      "[[22 89 33]\n",
      " [ 6 83  3]\n",
      " [99 70 52]] [[1 1 1]\n",
      " [1 1 1]\n",
      " [1 1 1]] [[1 0 0]\n",
      " [1 0 1]\n",
      " [0 0 0]] [[1 0 0]\n",
      " [1 0 1]\n",
      " [0 0 0]]\n"
     ]
    }
   ],
   "source": [
    "self = cov_unit\n",
    "rand_ints = np.random.randint(\n",
    "                low=0,\n",
    "                high=self.max_value+1, \n",
    "                size=(self.size, self.size)\n",
    "            )\n",
    "signs = np.sign(self.square_sum[:, :, 0])\n",
    "pbt_output = np.where(np.abs(self.square_sum[:, :, 0]) > rand_ints, 1, 0)\n",
    "# Add to next stage (with signs returned)\n",
    "print(rand_ints, signs, pbt_output, pbt_output*signs)"
   ]
  },
  {
   "cell_type": "code",
   "execution_count": 235,
   "metadata": {},
   "outputs": [
    {
     "name": "stdout",
     "output_type": "stream",
     "text": [
      "[[ 62 -71  73]\n",
      " [-71 106 -99]\n",
      " [ 73 -99 127]]\n",
      "[[ 73  33  81]\n",
      " [ 10  46 117]\n",
      " [ 11  18  62]]\n",
      "[[ 1 -1  1]\n",
      " [-1  1 -1]\n",
      " [ 1 -1  1]]\n",
      "[[0 1 0]\n",
      " [1 1 0]\n",
      " [1 1 1]]\n",
      "[[ 0 -1  0]\n",
      " [-1  1  0]\n",
      " [ 1 -1  1]]\n",
      "[[  69.  -77.   66.]\n",
      " [ -69.  107. -107.]\n",
      " [  83. -103.  127.]]\n"
     ]
    }
   ],
   "source": [
    "self = cov_unit\n",
    "cov_sum = np.zeros(shape=(3,3))\n",
    "for _ in range(0, 127):\n",
    "    rand_ints = np.random.randint(\n",
    "                low=0,\n",
    "                high=self.max_value+1, \n",
    "                size=(self.size, self.size)\n",
    "            )\n",
    "    signs = np.sign(new_cov)\n",
    "    pbt_output = np.where(np.abs(new_cov) > rand_ints, 1, 0)\n",
    "    cov_sum += pbt_output*signs\n",
    "    # Add to next stage (with signs returned)\n",
    "print(new_cov, rand_ints, signs, pbt_output, pbt_output*signs, cov_sum, sep= \"\\n\")"
   ]
  },
  {
   "cell_type": "markdown",
   "metadata": {},
   "source": [
    "So the general PBT sum over consecutive samples does work if we start from the real cov."
   ]
  },
  {
   "cell_type": "code",
   "execution_count": 227,
   "metadata": {},
   "outputs": [
    {
     "data": {
      "text/plain": [
       "array([[-1],\n",
       "       [-1],\n",
       "       [ 0]], dtype=int8)"
      ]
     },
     "execution_count": 227,
     "metadata": {},
     "output_type": "execute_result"
    }
   ],
   "source": [
    "ternary"
   ]
  },
  {
   "cell_type": "code",
   "execution_count": 199,
   "metadata": {},
   "outputs": [
    {
     "data": {
      "text/plain": [
       "array([[0, 0, 0],\n",
       "       [0, 0, 0],\n",
       "       [0, 0, 0]], dtype=int8)"
      ]
     },
     "execution_count": 199,
     "metadata": {},
     "output_type": "execute_result"
    }
   ],
   "source": [
    "cov_unit.complete[:, :, 2]"
   ]
  },
  {
   "cell_type": "markdown",
   "metadata": {},
   "source": [
    "Ah - when we iterate we reset the values"
   ]
  },
  {
   "cell_type": "code",
   "execution_count": 114,
   "metadata": {},
   "outputs": [
    {
     "data": {
      "text/plain": [
       "array([94, 78,  1,  0,  0,  0,  0,  0], dtype=uint8)"
      ]
     },
     "execution_count": 114,
     "metadata": {},
     "output_type": "execute_result"
    }
   ],
   "source": [
    "cov_unit.stage_counter"
   ]
  },
  {
   "cell_type": "code",
   "execution_count": 124,
   "metadata": {},
   "outputs": [
    {
     "data": {
      "text/plain": [
       "(array([0, 1, 2]),)"
      ]
     },
     "execution_count": 124,
     "metadata": {},
     "output_type": "execute_result"
    }
   ],
   "source": [
    "np.nonzero(cov_unit.stage_counter)"
   ]
  },
  {
   "cell_type": "markdown",
   "metadata": {},
   "source": [
    "---\n",
    "\n",
    "# Power Iteration\n",
    "\n",
    "We need to look at this next because we need to see how to return the covariance.\n",
    "\n",
    "For power iterator we have the following data:\n",
    "* ev - this is normally a float numpy 1D array with fractional values\n",
    "* cov - this is normally a float numpy 2D array \n",
    "* scaler - this will have a fractional value greater than 1 (normally greater than 1.4).\n",
    "\n",
    "We can keep ev and cov in signed 8 bit space and take the 1/127 out of the calculations (putting them at the front).\n",
    "\n",
    "We have:\n",
    "* cov^power \\* ev - we can take out (1/127)^2 if power = 1.\n",
    "* ev^T.input_data - we can take out (1/127) - input_data is -1, 0, 1 so so we have the same possible scale at ev but flipped - why we need symmetric scales - clip at -127 to 127.\n",
    "\n",
    "We can either operate in the next power of 2 space - e.g. 16 bit vs 8 bit - the result is stored in 16 bit space to represent a max of 128 \\* 128 (if signed - 255 if unsigned). OR. We can divide both the cov and the ev by 16 - so that the we have max 16\\*16 = 256 (right shift by 3). "
   ]
  },
  {
   "cell_type": "code",
   "execution_count": 32,
   "metadata": {},
   "outputs": [
    {
     "name": "stdout",
     "output_type": "stream",
     "text": [
      "[[127 127]\n",
      " [127 127]]\n"
     ]
    }
   ],
   "source": [
    "cov = 127*np.ones(shape=(2,2), dtype=np.int8); print(cov)"
   ]
  },
  {
   "cell_type": "code",
   "execution_count": 34,
   "metadata": {},
   "outputs": [
    {
     "name": "stdout",
     "output_type": "stream",
     "text": [
      "[[127]\n",
      " [127]]\n",
      "[[2]\n",
      " [2]]\n"
     ]
    }
   ],
   "source": [
    "ev = 127*np.ones(shape=(2,1), dtype=np.int8); print(ev)\n",
    "temp_ev = np.matmul(cov, ev).astype(np.int16); print(temp_ev)"
   ]
  },
  {
   "cell_type": "code",
   "execution_count": 36,
   "metadata": {},
   "outputs": [
    {
     "name": "stdout",
     "output_type": "stream",
     "text": [
      "[[32258]\n",
      " [32258]]\n",
      "Cov dtype=int8, ev dtpye=int8, temp_cov dtype=int16, temp_ev dtype=int16\n"
     ]
    }
   ],
   "source": [
    "temp_cov = cov.astype(np.int16)\n",
    "temp_ev = ev.astype(np.int16)\n",
    "temp_ev = np.matmul(temp_cov, temp_ev); print(temp_ev)\n",
    "print(f\"Cov dtype={cov.dtype}, ev dtpye={ev.dtype}, temp_cov dtype={temp_cov.dtype}, temp_ev dtype={temp_ev.dtype}\")"
   ]
  },
  {
   "cell_type": "code",
   "execution_count": 37,
   "metadata": {},
   "outputs": [
    {
     "name": "stdout",
     "output_type": "stream",
     "text": [
      "679 ns ± 15.5 ns per loop (mean ± std. dev. of 7 runs, 1000000 loops each)\n"
     ]
    }
   ],
   "source": [
    "%%timeit \n",
    "t_c = cov.astype(np.int16)"
   ]
  },
  {
   "cell_type": "code",
   "execution_count": 38,
   "metadata": {},
   "outputs": [
    {
     "data": {
      "text/plain": [
       "32258"
      ]
     },
     "execution_count": 38,
     "metadata": {},
     "output_type": "execute_result"
    }
   ],
   "source": [
    "127*127+127*127"
   ]
  },
  {
   "cell_type": "markdown",
   "metadata": {},
   "source": [
    "I.e. max is bit_depth_max^2 * L. So we need to normalise by bit_depth_max\\*L"
   ]
  },
  {
   "cell_type": "code",
   "execution_count": 41,
   "metadata": {},
   "outputs": [
    {
     "name": "stdout",
     "output_type": "stream",
     "text": [
      "[[127.]\n",
      " [127.]] [[126.0078125]\n",
      " [126.0078125]]\n",
      "[[127]\n",
      " [127]] [[126]\n",
      " [126]]\n"
     ]
    }
   ],
   "source": [
    "print(temp_ev / (2*127), temp_ev / (2*128))\n",
    "print(temp_ev // (2*127), temp_ev // (2*128))"
   ]
  },
  {
   "cell_type": "code",
   "execution_count": 47,
   "metadata": {},
   "outputs": [
    {
     "name": "stdout",
     "output_type": "stream",
     "text": [
      "[[126]\n",
      " [126]] int16 [[126]\n",
      " [126]]\n"
     ]
    }
   ],
   "source": [
    "print(np.right_shift(temp_ev, 8), np.right_shift(temp_ev, 8).dtype, np.right_shift(temp_ev, 8).astype(np.int8))"
   ]
  },
  {
   "cell_type": "code",
   "execution_count": 45,
   "metadata": {},
   "outputs": [
    {
     "name": "stdout",
     "output_type": "stream",
     "text": [
      "1.52 µs ± 28.9 ns per loop (mean ± std. dev. of 7 runs, 1000000 loops each)\n"
     ]
    }
   ],
   "source": [
    "%%timeit\n",
    "np.right_shift(temp_ev, 8)"
   ]
  },
  {
   "cell_type": "code",
   "execution_count": 46,
   "metadata": {},
   "outputs": [
    {
     "name": "stdout",
     "output_type": "stream",
     "text": [
      "1.65 µs ± 27.4 ns per loop (mean ± std. dev. of 7 runs, 1000000 loops each)\n"
     ]
    }
   ],
   "source": [
    "%%timeit\n",
    "temp_ev // (2*128)"
   ]
  },
  {
   "cell_type": "markdown",
   "metadata": {},
   "source": [
    "Pretty much the same."
   ]
  },
  {
   "cell_type": "code",
   "execution_count": 51,
   "metadata": {},
   "outputs": [
    {
     "data": {
      "text/plain": [
       "1"
      ]
     },
     "execution_count": 51,
     "metadata": {},
     "output_type": "execute_result"
    }
   ],
   "source": [
    "np.log2(2).astype(np.uint8)"
   ]
  },
  {
   "cell_type": "code",
   "execution_count": 52,
   "metadata": {},
   "outputs": [
    {
     "name": "stdout",
     "output_type": "stream",
     "text": [
      "[[127 127 127]\n",
      " [127 127 127]\n",
      " [127 127 127]]\n",
      "[[127]\n",
      " [127]\n",
      " [127]]\n",
      "[[3]\n",
      " [3]\n",
      " [3]]\n",
      "[[-17149]\n",
      " [-17149]\n",
      " [-17149]]\n",
      "Cov dtype=int8, ev dtpye=int8, temp_cov dtype=int16, temp_ev dtype=int16\n"
     ]
    }
   ],
   "source": [
    "cov = 127*np.ones(shape=(3,3), dtype=np.int8); print(cov)\n",
    "ev = 127*np.ones(shape=(3,1), dtype=np.int8); print(ev)\n",
    "temp_ev = np.matmul(cov, ev).astype(np.int16); print(temp_ev)\n",
    "temp_cov = cov.astype(np.int16)\n",
    "temp_ev = ev.astype(np.int16)\n",
    "temp_ev = np.matmul(temp_cov, temp_ev); print(temp_ev)\n",
    "print(f\"Cov dtype={cov.dtype}, ev dtpye={ev.dtype}, temp_cov dtype={temp_cov.dtype}, temp_ev dtype={temp_ev.dtype}\")"
   ]
  },
  {
   "cell_type": "markdown",
   "metadata": {},
   "source": [
    "Ah we need to divide ev by L befpre we multiply. (Or right shift if length is a power of 2.)"
   ]
  },
  {
   "cell_type": "code",
   "execution_count": 54,
   "metadata": {},
   "outputs": [
    {
     "name": "stdout",
     "output_type": "stream",
     "text": [
      "[[127 127 127]\n",
      " [127 127 127]\n",
      " [127 127 127]]\n",
      "[[127]\n",
      " [127]\n",
      " [127]]\n",
      "[[3]\n",
      " [3]\n",
      " [3]]\n",
      "[[16002]\n",
      " [16002]\n",
      " [16002]]\n",
      "Cov dtype=int8, ev dtpye=int8, temp_cov dtype=int16, temp_ev dtype=int16\n"
     ]
    }
   ],
   "source": [
    "cov = 127*np.ones(shape=(3,3), dtype=np.int8); print(cov)\n",
    "ev = 127*np.ones(shape=(3,1), dtype=np.int8); print(ev)\n",
    "temp_ev = np.matmul(cov, ev).astype(np.int16); print(temp_ev)\n",
    "temp_cov = cov.astype(np.int16)\n",
    "temp_ev = ev.astype(np.int16) // 3\n",
    "temp_ev = np.matmul(temp_cov, temp_ev); print(temp_ev)\n",
    "print(f\"Cov dtype={cov.dtype}, ev dtpye={ev.dtype}, temp_cov dtype={temp_cov.dtype}, temp_ev dtype={temp_ev.dtype}\")"
   ]
  },
  {
   "cell_type": "code",
   "execution_count": 55,
   "metadata": {},
   "outputs": [
    {
     "name": "stdout",
     "output_type": "stream",
     "text": [
      "[[127 127]\n",
      " [127 127]]\n",
      "[[127]\n",
      " [127]]\n",
      "[[2]\n",
      " [2]]\n",
      "[[16002]\n",
      " [16002]]\n",
      "Cov dtype=int8, ev dtpye=int8, temp_cov dtype=int16, temp_ev dtype=int16\n"
     ]
    }
   ],
   "source": [
    "cov = 127*np.ones(shape=(2,2), dtype=np.int8); print(cov)\n",
    "ev = 127*np.ones(shape=(2,1), dtype=np.int8); print(ev)\n",
    "temp_ev = np.matmul(cov, ev).astype(np.int16); print(temp_ev)\n",
    "temp_cov = cov.astype(np.int16)\n",
    "temp_ev = ev.astype(np.int16) // 2\n",
    "temp_ev = np.matmul(temp_cov, temp_ev); print(temp_ev)\n",
    "print(f\"Cov dtype={cov.dtype}, ev dtpye={ev.dtype}, temp_cov dtype={temp_cov.dtype}, temp_ev dtype={temp_ev.dtype}\")"
   ]
  },
  {
   "cell_type": "markdown",
   "metadata": {},
   "source": [
    "The eigenvalue has a max of bd\\*L. The top_1 will have a max of bd_max^2 * L, the top_1 * ev will have a max bd_max^3\\*L^2, the bottom will have a max of bd^2\\*L.\n",
    "\n",
    "We can divide ev by L to remove the L term. Then we can divide top_1 and bottom by 127 before the final calculation to get bd and bd then we'll have bd^2 / bd > bd which we can represent at the bit depth."
   ]
  },
  {
   "cell_type": "code",
   "execution_count": null,
   "metadata": {},
   "outputs": [],
   "source": [
    "class PowerIterator:\n",
    "    \"\"\"Module to determine an eigenvector using power iteration.\n",
    "    \n",
    "    Operates on 8-bit values. The right shift can be replaced for \"// length\" to allow all lengths\n",
    "    \"\"\"\n",
    "\n",
    "    def __init__(self, length):\n",
    "        \"\"\"Initialise.\n",
    "\n",
    "        Args:\n",
    "            length: integer setting the 1D size of the eigenvector \n",
    "            - needs to be a power of 2.\n",
    "        \"\"\"\n",
    "        # Store shift values for later bit shifting - np.int8 has max 2^7-1\n",
    "        self.shift_val = np.log2(length).astype(np.uint8) # This only works for lengths that are powers of 2\n",
    "        self.ev = np.zeros(shape=(length,1), dtype=np.int8)\n",
    "        # Initialise eigenvector as random vector\n",
    "        # Loop if we get all zeros\n",
    "        while not self.ev.any():\n",
    "            # Set range to 8 bit signed -127 to 127 (to be symmetrical)\n",
    "            self.ev = np.random.randint(255, size=(length, 1))-127\n",
    "        # Define placeholder for covariance matrix\n",
    "        self.cov = np.zeros(shape=(length, length), dtype=np.int8)\n",
    "        # Define eigenvalue\n",
    "        self.rayleigh = np.zeros(1, dtype=np.int8)\n",
    "\n",
    "    def iterate(self):\n",
    "        \"\"\"One pass of iteration.\n",
    "        \n",
    "        Applies power iteration with power = 1.\n",
    "        Casts cov and ev to 16-bit, matmuls then casts\n",
    "        back to 8-bit after scaling.\n",
    "        \"\"\"\n",
    "        # Check cov is not all zero - if all 0 you get nan\n",
    "        if self.cov.any():\n",
    "            # Convert cov and ev to 16-bit\n",
    "            temp_cov = self.cov.astype(np.int16)\n",
    "            # Also shift right to divide by L\n",
    "            temp_ev = np.right_shift(self.ev.astype(np.int16), self.shift_val)\n",
    "            # Just do one multiplication per round\n",
    "            temp_ev = np.matmul(temp_cov, temp_ev)\n",
    "            # Right shift to convert back to 8-bit\n",
    "            # We need to shift by bit_depth_max + length\n",
    "            temp_ev = np.right_shift(temp_ev, 7).astype(np.int8)\n",
    "            self.ev = temp_ev\n",
    "        return temp_ev\n",
    "\n",
    "    @property\n",
    "    def eigenvector(self):\n",
    "        \"\"\"Return the top eigenvector.\"\"\"\n",
    "        return self.ev.copy()\n",
    "\n",
    "    @property\n",
    "    def eigenvalue(self):\n",
    "        \"\"\"Return associated eigenvalue.\"\"\"\n",
    "        # Convert cov and ev to 16-bit\n",
    "        temp_cov = self.cov.astype(np.int16)\n",
    "        # Also shift right to divide by L\n",
    "        temp_ev = np.right_shift(self.ev.astype(np.int16), self.shift_val)\n",
    "        # Compute in 16-bit space \n",
    "        top_1 = np.matmul(temp_ev.T, temp_cov)\n",
    "        bottom = np.matmul(temp_ev.T, temp_ev)\n",
    "        # Scale both to divide by bit_depth_max (i.e. 128 for 8bit)\n",
    "        top_1 = np.right_shift(top_1, 7)\n",
    "        bottom = np.right_shift(bottom, 7)\n",
    "        # Compute eigenvalue as Raleigh Quotient\n",
    "        rayleigh = np.matmul(top_1, temp_ev) / bottom\n",
    "        rayleigh = rayleigh.astype(np.int8)\n",
    "        self.rayleigh = rayleigh\n",
    "        return rayleigh\n",
    "\n",
    "    def load_covariance(self, cov):\n",
    "        \"\"\"Update the covariance matrix.\"\"\"\n",
    "        self.cov = cov\n",
    "        # Put here an update of an existing matrix?\n"
   ]
  },
  {
   "cell_type": "markdown",
   "metadata": {},
   "source": [
    "---\n",
    "# Reference Stuff"
   ]
  },
  {
   "cell_type": "code",
   "execution_count": null,
   "metadata": {},
   "outputs": [],
   "source": [
    "# Version with variable bit depth\n",
    "class CovarianceUnit:\n",
    "    \"\"\"Variation where the mean is assumed to be 0.\"\"\"\n",
    "    \n",
    "    def __init__(self, size, bit_depth=8):\n",
    "        \"\"\"Initialise.\n",
    "\n",
    "        Args:\n",
    "            size: integer setting the 1D size of an input.\n",
    "            bit_depth: number of bits to store representations (multiple of 8) - max 64\n",
    "        \"\"\"\n",
    "        self.size = size\n",
    "        self.bit_depth = bit_depth\n",
    "        self.max_value = 2**bit_depth\n",
    "        # Set bit_depth modulo 8\n",
    "        if bit_depth > 64: bit_depth = 64\n",
    "        if bit_depth < 8: bit_depth = 8\n",
    "        stages = 64//bit_depth\n",
    "        # Set \n",
    "        # Initialise Square Sum\n",
    "        self.square_sum = np.ones(shape=(size, size, stages), dtype=)\n",
    "        # Set to halfway between 0 and bit depth (128 for 8-bit)\n",
    "        self.square_sum = 2**(bit_depth-1)*self.square_sum\n",
    "        # Define counter for each stage\n",
    "        self.stage_counter = np.zeros(stages)\n",
    "        \n",
    "    def update(self, x):\n",
    "        \"\"\"Add a data point x.\n",
    "        \n",
    "        This will involve a recursive check.\n",
    "\n",
    "        x is a 1D numpy array of length 'size'.\n",
    "        \"\"\"\n",
    "        self.stage_counters[0] += 1\n",
    "        self.square_sum[:, :, 0] += np.dot(x, x.T)\n",
    "        # If the count reaches a threshold, can we divide the sums\n",
    "        if self.stage_counters[0] >= (2**bit_depth)-1:\n",
    "            # Subtract estimate from next stage\n",
    "            square_sum_dash = self.square_sum[:, :, 0] - self.square_sum[:, :, 1]\n",
    "            # PBT self.square_sum[:, :, 0] - BUT WILL THIS BE TERNARY? \n",
    "            rand_ints = np.random.randint(\n",
    "                self.max_value, size=(self.size, self.size)\n",
    "            )\n",
    "            signs = np.signs(square_sum_dash)\n",
    "            pbt_output = np.where(self.square_sum[:, :, 0], rand_ints, 1, 0)\n",
    "            # Add to next stage\n",
    "            self.square_sum[:, :, 1] += pbt_output\n",
    "            # Increment next stage counter\n",
    "            self.stage_counters[1] += 1\n",
    "            # Reset the previous counter\n",
    "            self.stage_counters[0] = 0\n",
    "            if self.stage_counters[1] >= (2**bit_depth)-1:\n",
    "                \n",
    "\n",
    "    @property\n",
    "    def covariance(self):\n",
    "        \"\"\"Compute covariance when requested.\"\"\"\n",
    "        # Only return is count is 1 or more\n",
    "        if self.count:\n",
    "            cov = self.square_sum / self.count\n",
    "        else:\n",
    "            cov = self.square_sum\n",
    "        return cov\n"
   ]
  }
 ],
 "metadata": {
  "kernelspec": {
   "display_name": "Python 3",
   "language": "python",
   "name": "python3"
  },
  "language_info": {
   "codemirror_mode": {
    "name": "ipython",
    "version": 3
   },
   "file_extension": ".py",
   "mimetype": "text/x-python",
   "name": "python",
   "nbconvert_exporter": "python",
   "pygments_lexer": "ipython3",
   "version": "3.6.8"
  }
 },
 "nbformat": 4,
 "nbformat_minor": 2
}
