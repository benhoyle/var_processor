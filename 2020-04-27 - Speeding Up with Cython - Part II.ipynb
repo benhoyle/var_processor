{
 "cells": [
  {
   "cell_type": "markdown",
   "metadata": {},
   "source": [
    "# Speeding Up with Cython\n",
    "\n",
    "Let's start a new notebook to keep things clear. "
   ]
  },
  {
   "cell_type": "code",
   "execution_count": 56,
   "metadata": {},
   "outputs": [],
   "source": [
    "%load_ext Cython"
   ]
  },
  {
   "cell_type": "markdown",
   "metadata": {},
   "source": [
    "To \"reconstruct\", we can just take the last estimate from the highest stage.\n",
    "\n",
    "But what happens at the last stage? When we reach 127 we just reset?\n",
    "\n",
    "If we have 8 stages, we have an index of 0 to 7. We are okay until index = 7, i.e. index < stage-1"
   ]
  },
  {
   "cell_type": "code",
   "execution_count": 3,
   "metadata": {},
   "outputs": [],
   "source": [
    "import numpy as np"
   ]
  },
  {
   "cell_type": "code",
   "execution_count": 54,
   "metadata": {},
   "outputs": [],
   "source": [
    "from src.var_processor.pb_threshold import ternary_pbt"
   ]
  },
  {
   "cell_type": "code",
   "execution_count": 55,
   "metadata": {},
   "outputs": [],
   "source": [
    "class CovarianceUnit:\n",
    "    \"\"\"Variation where the mean is assumed to be 0.\"\"\"\n",
    "\n",
    "    def __init__(self, size, stages=8):\n",
    "        \"\"\"Initialise.\n",
    "\n",
    "        Args:\n",
    "            size: integer setting the 1D size of an input.\n",
    "            stages: integer setting the number of stages.\n",
    "        \"\"\"\n",
    "        self.size = size\n",
    "        # Set max value for signed int\n",
    "        self.max_value = 127\n",
    "        self.stages = stages\n",
    "        # Initialise Square Sums\n",
    "        self.square_sum = np.zeros(\n",
    "            shape=(size, size, self.stages), dtype=np.int8\n",
    "        )\n",
    "        # Initialise Store for last full values\n",
    "        self.complete = np.zeros(\n",
    "            shape=(size, size, self.stages), dtype=np.int8\n",
    "        )\n",
    "        # Define counter for each stage\n",
    "        self.stage_counter = np.zeros(self.stages, dtype=np.uint8)\n",
    "        # Define index for current cov\n",
    "        self.cov_index = 0\n",
    "\n",
    "    def update(self, data_array):\n",
    "        \"\"\"Add a data array to the covariance data.\n",
    "\n",
    "        This will involve a recursive check.\n",
    "\n",
    "        Args:\n",
    "            data_array is a 1D numpy array of length 'size'.\n",
    "        \"\"\"\n",
    "        # Increment current stage counter\n",
    "        self.stage_counter[0] += 1\n",
    "        # Add square of input array\n",
    "        self.square_sum[:, :, 0] += np.dot(data_array, data_array.T)\n",
    "        self.recursive_update(0)\n",
    "\n",
    "    def recursive_update(self, i):\n",
    "        \"\"\"Update with recursive method.\n",
    "\n",
    "        Args:\n",
    "            i - stage to update - integer.\n",
    "        \"\"\"\n",
    "        # Check i is within range\n",
    "        if i > (self.stages - 1):\n",
    "            return\n",
    "        if i < self.stages:\n",
    "            # If i is within range check counter\n",
    "            if self.stage_counter[i] >= self.max_value:\n",
    "                # Add to completed estimate\n",
    "                self.complete[:, :, i] = self.square_sum[:, :, i]\n",
    "                # Reset the previous counter and stage\n",
    "                self.stage_counter[i] = 0\n",
    "                self.square_sum[:, :, i] = 0\n",
    "                # Set cov index as highest available\n",
    "                if self.cov_index < i:\n",
    "                    self.cov_index = i\n",
    "                # If higher stages PBT and add to higher stages\n",
    "                if i < (self.stages-1):\n",
    "                    # Apply ternary PBT to square sum\n",
    "                    thresholded = ternary_pbt(self.complete[:, :, i], self.max_value)\n",
    "                    # Add to next square sum\n",
    "                    self.square_sum[:, :, i+1] += thresholded\n",
    "                    # Increment next stage counter\n",
    "                    self.stage_counter[i+1] += 1\n",
    "                    self.recursive_update(i+1)\n",
    "                \n",
    "    @property\n",
    "    def covariance(self):\n",
    "        \"\"\"Compute covariance when requested.\"\"\"\n",
    "        # Return highest non_zero self.complete[:, :, i]\n",
    "        return self.complete[:, :, self.cov_index]"
   ]
  },
  {
   "cell_type": "markdown",
   "metadata": {},
   "source": [
    "## Cython Definition\n",
    "\n",
    "Start with this tutorial: https://cython.readthedocs.io/en/latest/src/userguide/numpy_tutorial.html#numpy-tutorial\n",
    "\n",
    "Here for Numpy interactions - https://cython.readthedocs.io/en/latest/src/userguide/numpy_tutorial.html#efficient-indexing-with-memoryviews\n",
    "\n",
    "Is it worth writing in Cython rather than C or C++? The default ints are 32-bit so our 8-bit restrictions here are no use."
   ]
  },
  {
   "cell_type": "markdown",
   "metadata": {},
   "source": [
    "For an actual implementation:\n",
    "* We could fix the size at 4.\n",
    "* We could fix the stages at 8.\n",
    "* We could fix the max_value at 127."
   ]
  },
  {
   "cell_type": "code",
   "execution_count": 62,
   "metadata": {},
   "outputs": [
    {
     "name": "stdout",
     "output_type": "stream",
     "text": [
      "4294967295\n"
     ]
    }
   ],
   "source": [
    "%%cython\n",
    "\n",
    "cdef unsigned int size\n",
    "size = -1\n",
    "print(size)"
   ]
  },
  {
   "cell_type": "code",
   "execution_count": 63,
   "metadata": {},
   "outputs": [
    {
     "name": "stdout",
     "output_type": "stream",
     "text": [
      "-1\n"
     ]
    }
   ],
   "source": [
    "%%cython\n",
    "\n",
    "cdef int size\n",
    "size = -1\n",
    "print(size)"
   ]
  },
  {
   "cell_type": "markdown",
   "metadata": {},
   "source": [
    "So Cython unsigned integers are by default int32."
   ]
  },
  {
   "cell_type": "code",
   "execution_count": 60,
   "metadata": {},
   "outputs": [
    {
     "ename": "NameError",
     "evalue": "name 'size' is not defined",
     "output_type": "error",
     "traceback": [
      "\u001b[0;31m---------------------------------------------------------------------------\u001b[0m",
      "\u001b[0;31mNameError\u001b[0m                                 Traceback (most recent call last)",
      "\u001b[0;32m<ipython-input-60-8192308e7897>\u001b[0m in \u001b[0;36m<module>\u001b[0;34m\u001b[0m\n\u001b[0;32m----> 1\u001b[0;31m \u001b[0msize\u001b[0m\u001b[0;34m\u001b[0m\u001b[0;34m\u001b[0m\u001b[0m\n\u001b[0m",
      "\u001b[0;31mNameError\u001b[0m: name 'size' is not defined"
     ]
    }
   ],
   "source": [
    "size"
   ]
  },
  {
   "cell_type": "code",
   "execution_count": 55,
   "metadata": {},
   "outputs": [],
   "source": [
    "%%cython \n",
    "\n",
    "cdef class CovarianceUnit:\n",
    "    \"\"\"Variation where the mean is assumed to be 0.\"\"\"\n",
    "    cdef unsigned int8_t size, max_value, stages, cov_index\n",
    "    \n",
    "\n",
    "    cpdef __init__(self, size, stages=8):\n",
    "        \"\"\"Initialise.\n",
    "\n",
    "        Args:\n",
    "            size: integer setting the 1D size of an input.\n",
    "            stages: integer setting the number of stages.\n",
    "        \"\"\"\n",
    "        self.size = size\n",
    "        # Set max value for signed int\n",
    "        self.max_value = 127\n",
    "        self.stages = stages\n",
    "        # Initialise Square Sums\n",
    "        self.square_sum = np.zeros(\n",
    "            shape=(size, size, self.stages), dtype=np.int8\n",
    "        )\n",
    "        # Initialise Store for last full values\n",
    "        self.complete = np.zeros(\n",
    "            shape=(size, size, self.stages), dtype=np.int8\n",
    "        )\n",
    "        # Define counter for each stage\n",
    "        self.stage_counter = np.zeros(self.stages, dtype=np.uint8)\n",
    "        # Define index for current cov\n",
    "        self.cov_index = 0\n",
    "\n",
    "    cdef update(self, data_array):\n",
    "        \"\"\"Add a data array to the covariance data.\n",
    "\n",
    "        This will involve a recursive check.\n",
    "\n",
    "        Args:\n",
    "            data_array is a 1D numpy array of length 'size'.\n",
    "        \"\"\"\n",
    "        # Increment current stage counter\n",
    "        self.stage_counter[0] += 1\n",
    "        # Add square of input array\n",
    "        self.square_sum[:, :, 0] += np.dot(data_array, data_array.T)\n",
    "        self.recursive_update(0)\n",
    "\n",
    "    cdef recursive_update(self, i):\n",
    "        \"\"\"Update with recursive method.\n",
    "\n",
    "        Args:\n",
    "            i - stage to update - integer.\n",
    "        \"\"\"\n",
    "        # Check i is within range\n",
    "        if i > (self.stages - 1):\n",
    "            return\n",
    "        if i < self.stages:\n",
    "            # If i is within range check counter\n",
    "            if self.stage_counter[i] >= self.max_value:\n",
    "                # Add to completed estimate\n",
    "                self.complete[:, :, i] = self.square_sum[:, :, i]\n",
    "                # Reset the previous counter and stage\n",
    "                self.stage_counter[i] = 0\n",
    "                self.square_sum[:, :, i] = 0\n",
    "                # Set cov index as highest available\n",
    "                if self.cov_index < i:\n",
    "                    self.cov_index = i\n",
    "                # If higher stages PBT and add to higher stages\n",
    "                if i < (self.stages-1):\n",
    "                    # Apply ternary PBT to square sum\n",
    "                    thresholded = ternary_pbt(self.complete[:, :, i], self.max_value)\n",
    "                    # Add to next square sum\n",
    "                    self.square_sum[:, :, i+1] += thresholded\n",
    "                    # Increment next stage counter\n",
    "                    self.stage_counter[i+1] += 1\n",
    "                    self.recursive_update(i+1)\n",
    "                \n",
    "    @property\n",
    "    cdef covariance(self):\n",
    "        \"\"\"Compute covariance when requested.\"\"\"\n",
    "        # Return highest non_zero self.complete[:, :, i]\n",
    "        return self.complete[:, :, self.cov_index]"
   ]
  },
  {
   "cell_type": "code",
   "execution_count": null,
   "metadata": {},
   "outputs": [],
   "source": []
  }
 ],
 "metadata": {
  "kernelspec": {
   "display_name": "Python 3",
   "language": "python",
   "name": "python3"
  },
  "language_info": {
   "codemirror_mode": {
    "name": "ipython",
    "version": 3
   },
   "file_extension": ".py",
   "mimetype": "text/x-python",
   "name": "python",
   "nbconvert_exporter": "python",
   "pygments_lexer": "ipython3",
   "version": "3.6.8"
  }
 },
 "nbformat": 4,
 "nbformat_minor": 2
}
