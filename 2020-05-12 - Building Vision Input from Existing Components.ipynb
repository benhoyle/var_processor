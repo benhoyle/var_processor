{
 "cells": [
  {
   "cell_type": "markdown",
   "metadata": {},
   "source": [
    "# Building Vision Input from Existing Components\n",
    "\n",
    "We have most of the code for processing vision from other projects. We just need to bring it together to make a video sensor.\n",
    "\n",
    "One thing we need to do is quickly process video input to convert to a 1D numpy array. \n",
    "\n",
    "Options:\n",
    "* Split visual field.\n",
    "* Lightness / colour (start with L).\n",
    "* Retinotopic mappings.\n",
    "* Area of interest.\n",
    "\n",
    "We'll look at square 2D blocks of sqrt(vec_len). Hence, vec_len is recommended to be a power of 4 - 4, 16 or 64. 4 and 16 are preferable to start.\n",
    "\n",
    "We have a ```VideoSource``` object. We might need to add a BGR to YUV step -  img_out = cv2.cvtColor(img_in, cv2.COLOR_BGR2YUV). In code I set the property 16 to 0 ```self.cam.set(16, 0)```. Ah - 16 indicates whether the image should be converted to RGB. 0 turns this off to get original YUV."
   ]
  },
  {
   "cell_type": "code",
   "execution_count": null,
   "metadata": {},
   "outputs": [],
   "source": [
    "def tile_array(a, b0, b1):\n",
    "    \"\"\"Tile array a in blocks of size b0 * b1\"\"\"\n",
    "    r, c = a.shape                                    # number of rows/columns\n",
    "    rs, cs = a.strides                                # row/column strides\n",
    "    x = as_strided(a, (r, b0, c, b1), (rs, 0, cs, 0)) # view as 4D array\n",
    "    return x.reshape(r*b0, c*b1)  "
   ]
  }
 ],
 "metadata": {
  "kernelspec": {
   "display_name": "Python 3",
   "language": "python",
   "name": "python3"
  },
  "language_info": {
   "codemirror_mode": {
    "name": "ipython",
    "version": 3
   },
   "file_extension": ".py",
   "mimetype": "text/x-python",
   "name": "python",
   "nbconvert_exporter": "python",
   "pygments_lexer": "ipython3",
   "version": "3.6.8"
  }
 },
 "nbformat": 4,
 "nbformat_minor": 2
}
