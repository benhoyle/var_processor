{
 "cells": [
  {
   "cell_type": "markdown",
   "metadata": {},
   "source": [
    "# Testing Covariance\n",
    "\n",
    "A more precise test of our covariance unit is to generate data having a specific distribution and then see whether our covarinace matrix matches our specified matrix.\n",
    "\n",
    "There are two approaches - one using a Cholesky decomposition, the other using an eigenvalue decomposition. See https://stats.stackexchange.com/questions/32169/how-can-i-generate-data-with-a-prespecified-correlation-matrix and https://stats.stackexchange.com/questions/120179/generating-data-with-a-given-sample-covariance-matrix."
   ]
  },
  {
   "cell_type": "code",
   "execution_count": 2,
   "metadata": {},
   "outputs": [],
   "source": [
    "from src.var_processor.covariance import CovarianceUnit\n",
    "import numpy as np"
   ]
  },
  {
   "cell_type": "markdown",
   "metadata": {},
   "source": [
    "We need a positive definite covariance matrix. For this we can:\n",
    "* generate random matrix\n",
    "* multiply it by it's own transposition\n",
    "* you have obtained a positive semi-definite matrix."
   ]
  },
  {
   "cell_type": "code",
   "execution_count": 8,
   "metadata": {},
   "outputs": [],
   "source": [
    "cov = np.random.randn(3,3)\n",
    "cov = np.dot(cov,cov.T)"
   ]
  },
  {
   "cell_type": "code",
   "execution_count": 9,
   "metadata": {},
   "outputs": [
    {
     "data": {
      "text/plain": [
       "array([[ 1.12848561, -0.79697223,  1.6590042 ],\n",
       "       [-0.79697223,  0.82794797, -1.04018027],\n",
       "       [ 1.6590042 , -1.04018027,  4.65298715]])"
      ]
     },
     "execution_count": 9,
     "metadata": {},
     "output_type": "execute_result"
    }
   ],
   "source": [
    "cov"
   ]
  },
  {
   "cell_type": "code",
   "execution_count": 10,
   "metadata": {},
   "outputs": [],
   "source": [
    "mean = 0.5"
   ]
  },
  {
   "cell_type": "code",
   "execution_count": 11,
   "metadata": {},
   "outputs": [],
   "source": [
    "L = np.linalg.cholesky(cov)"
   ]
  },
  {
   "cell_type": "code",
   "execution_count": 12,
   "metadata": {},
   "outputs": [
    {
     "data": {
      "text/plain": [
       "array([[ 1.06230203,  0.        ,  0.        ],\n",
       "       [-0.7502313 ,  0.51487956,  0.        ],\n",
       "       [ 1.5617067 ,  0.25532373,  1.46590216]])"
      ]
     },
     "execution_count": 12,
     "metadata": {},
     "output_type": "execute_result"
    }
   ],
   "source": [
    "L"
   ]
  },
  {
   "cell_type": "markdown",
   "metadata": {},
   "source": [
    "Now we loop 100 times, generating samples and seeing what our mean and covariance equal..."
   ]
  },
  {
   "cell_type": "code",
   "execution_count": 13,
   "metadata": {},
   "outputs": [],
   "source": [
    "cov_unit = CovarianceUnit(3)"
   ]
  },
  {
   "cell_type": "code",
   "execution_count": 29,
   "metadata": {},
   "outputs": [
    {
     "name": "stdout",
     "output_type": "stream",
     "text": [
      "[[0.54730931]\n",
      " [0.47355449]\n",
      " [0.5773568 ]]\n",
      "[[ 1.14993377 -0.78521168  1.68587113]\n",
      " [-0.78521168  0.7942798  -1.05060454]\n",
      " [ 1.68587113 -1.05060454  4.59816267]]\n"
     ]
    }
   ],
   "source": [
    "for _ in range(0, 100):\n",
    "    sample = np.dot(L, np.random.randn(3, 1)) + mean\n",
    "    cov_unit.update(sample)\n",
    "print(cov_unit.mean, cov_unit.covariance, sep=\"\\n\")"
   ]
  },
  {
   "cell_type": "code",
   "execution_count": 31,
   "metadata": {},
   "outputs": [
    {
     "name": "stdout",
     "output_type": "stream",
     "text": [
      "[[0.51125101]\n",
      " [0.49221394]\n",
      " [0.50523693]]\n",
      "[[ 1.1386086  -0.80263796  1.70602671]\n",
      " [-0.80263796  0.82986436 -1.07135361]\n",
      " [ 1.70602671 -1.07135361  4.74586408]]\n"
     ]
    }
   ],
   "source": [
    "for _ in range(0, 10000):\n",
    "    sample = np.dot(L, np.random.randn(3, 1)) + mean\n",
    "    cov_unit.update(sample)\n",
    "print(cov_unit.mean, cov_unit.covariance, sep=\"\\n\")"
   ]
  },
  {
   "cell_type": "code",
   "execution_count": 32,
   "metadata": {},
   "outputs": [
    {
     "name": "stdout",
     "output_type": "stream",
     "text": [
      "[[-0.48874286]\n",
      " [-0.51869883]\n",
      " [-0.49200419]]\n",
      "[[ 1.14307288 -0.81324798  1.66545525]\n",
      " [-0.81324798  0.84053001 -1.04764234]\n",
      " [ 1.66545525 -1.04764234  4.6189823 ]]\n"
     ]
    }
   ],
   "source": [
    "mean = -0.5\n",
    "cov_unit2 = CovarianceUnit(3)\n",
    "for _ in range(0, 10000):\n",
    "    sample = np.dot(L, np.random.randn(3, 1)) + mean\n",
    "    cov_unit2.update(sample)\n",
    "print(cov_unit2.mean, cov_unit2.covariance, sep=\"\\n\")"
   ]
  },
  {
   "cell_type": "markdown",
   "metadata": {},
   "source": [
    "We can use numpy's allclose/isclose to determine if close. https://docs.scipy.org/doc/numpy/reference/generated/numpy.allclose.html#numpy.allclose"
   ]
  },
  {
   "cell_type": "code",
   "execution_count": 39,
   "metadata": {},
   "outputs": [
    {
     "data": {
      "text/plain": [
       "True"
      ]
     },
     "execution_count": 39,
     "metadata": {},
     "output_type": "execute_result"
    }
   ],
   "source": [
    "mean_array = np.ones(shape=(3,1))*0.5\n",
    "# Within 5%\n",
    "np.allclose(mean_array, cov_unit.mean, rtol=0.05)"
   ]
  },
  {
   "cell_type": "code",
   "execution_count": 41,
   "metadata": {},
   "outputs": [
    {
     "data": {
      "text/plain": [
       "True"
      ]
     },
     "execution_count": 41,
     "metadata": {},
     "output_type": "execute_result"
    }
   ],
   "source": [
    "np.allclose(cov, cov_unit.covariance, rtol=0.05)"
   ]
  },
  {
   "cell_type": "code",
   "execution_count": null,
   "metadata": {},
   "outputs": [],
   "source": [
    "def test_covariance_computation():\n",
    "    \"\"\"Statistical test that cov unit is determining the covariance.\"\"\"\n",
    "    # Generate random positive definite matrix\n",
    "    cov = np.random.randn(3,3)\n",
    "    cov = np.dot(cov,cov.T)\n",
    "    # Generate desired mean\n",
    "    mean = np.random.randn(3,1)\n",
    "    # Use Cholesky decomposition to get L\n",
    "    L = np.linalg.cholesky(cov)\n",
    "    cov_unit = CovarianceUnit(3)\n",
    "    for _ in range(0, 1000):\n",
    "        sample = np.dot(L, np.random.randn(3, 1)) + mean\n",
    "        cov_unit.update(sample)\n",
    "    # Check within 5%\n",
    "    assert np.allclose(mean, cov_unit.mean, rtol=0.05)\n",
    "    assert np.allclose(cov, cov_unit.covariance, rtol=0.05)"
   ]
  },
  {
   "cell_type": "code",
   "execution_count": 46,
   "metadata": {},
   "outputs": [
    {
     "data": {
      "text/plain": [
       "array([[0.45475868, 0.0813685 , 0.64410836],\n",
       "       [0.48388041, 0.81378173, 0.6283129 ],\n",
       "       [0.06086568, 0.22582442, 0.82828134]])"
      ]
     },
     "execution_count": 46,
     "metadata": {},
     "output_type": "execute_result"
    }
   ],
   "source": [
    "np.random.uniform(size=(3,3))"
   ]
  },
  {
   "cell_type": "code",
   "execution_count": 53,
   "metadata": {},
   "outputs": [
    {
     "data": {
      "text/plain": [
       "array([[ 0.65029906, -0.24070865,  0.63803126],\n",
       "       [-0.24070865,  0.09457014, -0.23644969],\n",
       "       [ 0.63803126, -0.23644969,  1.        ]])"
      ]
     },
     "execution_count": 53,
     "metadata": {},
     "output_type": "execute_result"
    }
   ],
   "source": [
    "cov = np.random.randn(3, 3)\n",
    "cov = np.dot(cov, cov.T) \n",
    "cov = cov / cov.max()\n",
    "cov"
   ]
  },
  {
   "cell_type": "code",
   "execution_count": 54,
   "metadata": {},
   "outputs": [
    {
     "data": {
      "text/plain": [
       "1.0"
      ]
     },
     "execution_count": 54,
     "metadata": {},
     "output_type": "execute_result"
    }
   ],
   "source": [
    "cov.max()"
   ]
  },
  {
   "cell_type": "code",
   "execution_count": 55,
   "metadata": {},
   "outputs": [
    {
     "data": {
      "text/plain": [
       "array([[ 0.65029906, -0.24070865,  0.63803126],\n",
       "       [-0.24070865,  0.09457014, -0.23644969],\n",
       "       [ 0.63803126, -0.23644969,  1.        ]])"
      ]
     },
     "execution_count": 55,
     "metadata": {},
     "output_type": "execute_result"
    }
   ],
   "source": [
    "cov / cov.max()"
   ]
  },
  {
   "cell_type": "markdown",
   "metadata": {},
   "source": [
    "# Testing Eigenvalue Estimation\n",
    "\n",
    "We can use a specified covariance matrix - determine the eigenvectors using numpy - https://docs.scipy.org/doc/numpy/reference/generated/numpy.linalg.eig.html - and check against those from the power iterator."
   ]
  },
  {
   "cell_type": "code",
   "execution_count": 56,
   "metadata": {},
   "outputs": [],
   "source": [
    "from src.var_processor.power_iterator import PowerIterator"
   ]
  },
  {
   "cell_type": "code",
   "execution_count": 58,
   "metadata": {},
   "outputs": [],
   "source": [
    "# Generate random covariance matrix\n",
    "cov = np.random.randn(3,3)\n",
    "cov = np.dot(cov,cov.T)\n",
    "cov = cov / cov.max()\n",
    "# Generate test power iterator\n",
    "power = PowerIterator(3)\n",
    "power.load_covariance(cov)\n",
    "for _ in range(0, 1000):\n",
    "    power.iterate()\n",
    "evec = power.eigenvector\n",
    "evalue = power.eigenvalue\n",
    "\n",
    "# Use numpy linear algebra to determine eigenvectors and values\n",
    "w, v = np.linalg.eig(cov)"
   ]
  },
  {
   "cell_type": "code",
   "execution_count": 59,
   "metadata": {},
   "outputs": [
    {
     "name": "stdout",
     "output_type": "stream",
     "text": [
      "[[ 0.29804309]\n",
      " [ 0.94252654]\n",
      " [-0.15104319]]\n",
      "[[1.07981685]]\n",
      "[0.00491879 1.07981685 0.93711051]\n",
      "[[ 0.93960362 -0.29804309 -0.16827166]\n",
      " [-0.26178539 -0.94252654  0.20763464]\n",
      " [ 0.22048457  0.15104319  0.96362467]]\n"
     ]
    }
   ],
   "source": [
    "print(evec, evalue, w, v, sep=\"\\n\")"
   ]
  },
  {
   "cell_type": "code",
   "execution_count": 61,
   "metadata": {},
   "outputs": [
    {
     "data": {
      "text/plain": [
       "array([-0.29804309, -0.94252654,  0.15104319])"
      ]
     },
     "execution_count": 61,
     "metadata": {},
     "output_type": "execute_result"
    }
   ],
   "source": [
    "v[:, np.argmax(w)]"
   ]
  },
  {
   "cell_type": "markdown",
   "metadata": {},
   "source": [
    "Pretty good - we then check with abs() and allclose."
   ]
  },
  {
   "cell_type": "code",
   "execution_count": 64,
   "metadata": {},
   "outputs": [],
   "source": [
    "assert np.allclose(abs(evec.T), abs(v[:, np.argmax(w)]), rtol=0.05)"
   ]
  },
  {
   "cell_type": "code",
   "execution_count": 65,
   "metadata": {},
   "outputs": [
    {
     "name": "stdout",
     "output_type": "stream",
     "text": [
      "[[0.29804309 0.94252654 0.15104319]] [0.29804309 0.94252654 0.15104319]\n"
     ]
    }
   ],
   "source": [
    "print(abs(evec.T), abs(v[:, np.argmax(w)]))"
   ]
  },
  {
   "cell_type": "markdown",
   "metadata": {},
   "source": [
    "# VPU\n",
    "\n",
    "Let's revise our VPU. We have the folded two layer structure. Is our project the same as our reconstruct?"
   ]
  },
  {
   "cell_type": "code",
   "execution_count": 66,
   "metadata": {},
   "outputs": [
    {
     "name": "stdout",
     "output_type": "stream",
     "text": [
      "[[ 0.29804309]\n",
      " [ 0.94252654]\n",
      " [-0.15104319]] [[ 0.29804309]\n",
      " [ 0.94252654]\n",
      " [-0.15104319]]\n"
     ]
    }
   ],
   "source": [
    "r = 1\n",
    "print(np.dot(r, evec), r*evec)"
   ]
  },
  {
   "cell_type": "code",
   "execution_count": 69,
   "metadata": {},
   "outputs": [],
   "source": [
    "assert np.array_equal(np.dot(r, evec), r*evec)"
   ]
  },
  {
   "cell_type": "code",
   "execution_count": 70,
   "metadata": {},
   "outputs": [
    {
     "ename": "AttributeError",
     "evalue": "'int' object has no attribute 'T'",
     "output_type": "error",
     "traceback": [
      "\u001b[0;31m---------------------------------------------------------------------------\u001b[0m",
      "\u001b[0;31mAttributeError\u001b[0m                            Traceback (most recent call last)",
      "\u001b[0;32m<ipython-input-70-f12da677c058>\u001b[0m in \u001b[0;36m<module>\u001b[0;34m\u001b[0m\n\u001b[0;32m----> 1\u001b[0;31m \u001b[0mr\u001b[0m\u001b[0;34m.\u001b[0m\u001b[0mT\u001b[0m\u001b[0;34m\u001b[0m\u001b[0;34m\u001b[0m\u001b[0m\n\u001b[0m",
      "\u001b[0;31mAttributeError\u001b[0m: 'int' object has no attribute 'T'"
     ]
    }
   ],
   "source": [
    "r.T"
   ]
  },
  {
   "cell_type": "code",
   "execution_count": 71,
   "metadata": {},
   "outputs": [
    {
     "name": "stdout",
     "output_type": "stream",
     "text": [
      "[0 1 0]\n"
     ]
    }
   ],
   "source": [
    "rand_ints = np.random.randint(2, size=3); print(rand_ints)"
   ]
  },
  {
   "cell_type": "code",
   "execution_count": 72,
   "metadata": {},
   "outputs": [
    {
     "data": {
      "text/plain": [
       "array([0.94252654])"
      ]
     },
     "execution_count": 72,
     "metadata": {},
     "output_type": "execute_result"
    }
   ],
   "source": [
    "np.dot(evec.T, rand_ints)"
   ]
  },
  {
   "cell_type": "code",
   "execution_count": 75,
   "metadata": {},
   "outputs": [
    {
     "data": {
      "text/plain": [
       "(1, 1)"
      ]
     },
     "execution_count": 75,
     "metadata": {},
     "output_type": "execute_result"
    }
   ],
   "source": [
    "one_val_array = np.asarray([[1.25]])\n",
    "one_val_array.shape"
   ]
  },
  {
   "cell_type": "code",
   "execution_count": 76,
   "metadata": {},
   "outputs": [
    {
     "data": {
      "text/plain": [
       "1.25"
      ]
     },
     "execution_count": 76,
     "metadata": {},
     "output_type": "execute_result"
    }
   ],
   "source": [
    "one_val_array.item()"
   ]
  },
  {
   "cell_type": "code",
   "execution_count": 78,
   "metadata": {},
   "outputs": [
    {
     "data": {
      "text/plain": [
       "array([0, 1, 2, 3, 4, 5, 6, 7, 8, 9])"
      ]
     },
     "execution_count": 78,
     "metadata": {},
     "output_type": "execute_result"
    }
   ],
   "source": [
    "np.arange(0, 10)[:10]"
   ]
  },
  {
   "cell_type": "markdown",
   "metadata": {},
   "source": [
    "# Test Time Stage"
   ]
  },
  {
   "cell_type": "code",
   "execution_count": 90,
   "metadata": {},
   "outputs": [],
   "source": [
    "from src.var_processor.stage import Stage, pad_array"
   ]
  },
  {
   "cell_type": "code",
   "execution_count": 80,
   "metadata": {},
   "outputs": [],
   "source": [
    "stages = Stage(3, 10)\n",
    "assert len(stages.vpus) == 10\n",
    "assert not stages.causes.any()\n",
    "assert not stages.pred_inputs.any()\n",
    "assert \"10\" in stages.__repr__()\n",
    "# Check data in\n",
    "for _ in range(0, 100):\n",
    "    data_in = np.random.randint(2, size=(stages.size, 1))\n",
    "    r_backwards = np.random.randint(2, size=(stages.stage_len, 1))\n",
    "    causes1, pred_inputs1 = stages.iterate(data_in, r_backwards)"
   ]
  },
  {
   "cell_type": "code",
   "execution_count": 83,
   "metadata": {},
   "outputs": [
    {
     "name": "stdout",
     "output_type": "stream",
     "text": [
      "[[0. 0. 1. 0. 0. 0. 0. 1. 0. 1.]]\n",
      "[[1. 0. 0. 0. 1. 1. 0. 0. 0. 0. 0. 0. 0. 0. 0. 0. 0. 0. 1. 0. 0. 0. 0. 0.\n",
      "  0. 1. 0. 0. 0. 0.]]\n"
     ]
    }
   ],
   "source": [
    "print(causes1.T, pred_inputs1.T, sep=\"\\n\")"
   ]
  },
  {
   "cell_type": "code",
   "execution_count": 86,
   "metadata": {},
   "outputs": [],
   "source": [
    "# assert stages.causes.any()\n",
    "# assert stages.pred_inputs.any()\n",
    "for _ in range(0, 1000):\n",
    "    data_in = np.random.randint(2, size=(stages.size, 1))\n",
    "    r_backwards = np.random.randint(2, size=(stages.stage_len, 1))\n",
    "    causes2, pred_inputs2 = stages.iterate(data_in, r_backwards)"
   ]
  },
  {
   "cell_type": "code",
   "execution_count": 87,
   "metadata": {},
   "outputs": [
    {
     "name": "stdout",
     "output_type": "stream",
     "text": [
      "[[0. 0. 1. 0. 0. 0. 0. 0. 0. 0.]]\n",
      "[[1. 0. 0. 1. 0. 1. 0. 0. 0. 0. 0. 0. 0. 0. 0. 0. 0. 0. 0. 0. 0. 0. 0. 0.\n",
      "  1. 0. 0. 0. 0. 0.]]\n",
      "[[0. 0. 1. 0. 0. 0. 0. 0. 0. 0.]]\n",
      "[[1. 0. 0. 1. 0. 1. 0. 0. 0. 0. 0. 0. 0. 0. 0. 0. 0. 0. 0. 0. 0. 0. 0. 0.\n",
      "  1. 0. 0. 0. 0. 0.]]\n"
     ]
    }
   ],
   "source": [
    "print(causes1.T, pred_inputs1.T, sep=\"\\n\")\n",
    "print(causes2.T, pred_inputs2.T, sep=\"\\n\")"
   ]
  },
  {
   "cell_type": "markdown",
   "metadata": {},
   "source": [
    "Why are the causes and predicted inputs the same?"
   ]
  },
  {
   "cell_type": "code",
   "execution_count": 89,
   "metadata": {},
   "outputs": [
    {
     "name": "stdout",
     "output_type": "stream",
     "text": [
      "[[1 0 1 0 0 0 0 0 1 1 1 0 0 0 0 1 1 0 1 0 0 0 1 0 0 1 1 0 1 1]] [[1 1 0 0 0 0 0 0 1 0]]\n"
     ]
    }
   ],
   "source": [
    "print(data_in.T, r_backwards.T)"
   ]
  },
  {
   "cell_type": "code",
   "execution_count": 92,
   "metadata": {},
   "outputs": [
    {
     "name": "stdout",
     "output_type": "stream",
     "text": [
      "[[1 0 1 0 0 0 0 0 1 1 1 0 0 0 0 1 1 0 1 0 0 0 1 0 0 1 1 0 1 1]]\n"
     ]
    }
   ],
   "source": [
    "self = stages\n",
    "\n",
    "input_array = pad_array(data_in, self.size); print(input_array.T)"
   ]
  },
  {
   "cell_type": "code",
   "execution_count": 95,
   "metadata": {},
   "outputs": [
    {
     "name": "stdout",
     "output_type": "stream",
     "text": [
      "0\n",
      "3\n",
      "[[1]\n",
      " [0]\n",
      " [1]]\n",
      "[1]\n",
      "[[ 0.79037307]\n",
      " [-0.55754513]\n",
      " [-0.25387761]]\n",
      "0 [[1]] [[0]\n",
      " [0]\n",
      " [0]]\n",
      "3\n",
      "6\n",
      "[[0]\n",
      " [0]\n",
      " [0]]\n",
      "[1]\n",
      "[[ 0.54705236]\n",
      " [-0.67502972]\n",
      " [ 0.49504403]]\n",
      "1 [[0]] [[1]\n",
      " [0]\n",
      " [0]]\n",
      "6\n",
      "9\n",
      "[[0]\n",
      " [0]\n",
      " [1]]\n",
      "[0]\n",
      "[[-0.46236631]\n",
      " [ 0.63620798]\n",
      " [ 0.61762189]]\n",
      "2 [[1]] [[0]\n",
      " [0]\n",
      " [0]]\n",
      "9\n",
      "12\n",
      "[[1]\n",
      " [1]\n",
      " [0]]\n",
      "[0]\n",
      "[[-0.67991935]\n",
      " [ 0.44155816]\n",
      " [-0.58543664]]\n",
      "3 [[0]] [[0]\n",
      " [0]\n",
      " [0]]\n",
      "12\n",
      "15\n",
      "[[0]\n",
      " [0]\n",
      " [0]]\n",
      "[0]\n",
      "[[-0.69689261]\n",
      " [-0.29170901]\n",
      " [-0.65516909]]\n",
      "4 [[0]] [[0]\n",
      " [0]\n",
      " [0]]\n",
      "15\n",
      "18\n",
      "[[1]\n",
      " [1]\n",
      " [0]]\n",
      "[0]\n",
      "[[ 0.46582648]\n",
      " [-0.61812438]\n",
      " [ 0.63318871]]\n",
      "5 [[0]] [[0]\n",
      " [0]\n",
      " [0]]\n",
      "18\n",
      "21\n",
      "[[1]\n",
      " [0]\n",
      " [0]]\n",
      "[0]\n",
      "[[-0.48473432]\n",
      " [ 0.5667841 ]\n",
      " [-0.66617447]]\n",
      "6 [[0]] [[0]\n",
      " [0]\n",
      " [0]]\n",
      "21\n",
      "24\n",
      "[[0]\n",
      " [1]\n",
      " [0]]\n",
      "[0]\n",
      "[[0.27251545]\n",
      " [0.6452655 ]\n",
      " [0.71370005]]\n",
      "7 [[1]] [[0]\n",
      " [0]\n",
      " [0]]\n",
      "24\n",
      "27\n",
      "[[0]\n",
      " [1]\n",
      " [1]]\n",
      "[1]\n",
      "[[ 0.48845576]\n",
      " [-0.61086087]\n",
      " [-0.6231051 ]]\n",
      "8 [[0]] [[0]\n",
      " [0]\n",
      " [0]]\n",
      "27\n",
      "30\n",
      "[[0]\n",
      " [1]\n",
      " [1]]\n",
      "[0]\n",
      "[[-0.66623466]\n",
      " [-0.17333122]\n",
      " [-0.72531901]]\n",
      "9 [[0]] [[0]\n",
      " [0]\n",
      " [0]]\n"
     ]
    }
   ],
   "source": [
    "# Iterate through VPUs, passing data in\n",
    "for i, vpu in enumerate(self.vpus):\n",
    "    start = i*self.vec_len\n",
    "    end = (i+1)*self.vec_len\n",
    "    input_segment = input_array[start:end]\n",
    "    feedback_segment = r_backwards[i]\n",
    "    print(start, end, input_segment, feedback_segment, vpu.pi.ev, sep=\"\\n\", end=\"\\n\")\n",
    "    vpu.update_cov(input_segment)\n",
    "    cause, pred_input = vpu.iterate(\n",
    "                input_segment,\n",
    "                feedback_segment\n",
    "    )\n",
    "    print(i, cause, pred_input)\n",
    "    self.causes[i] = cause\n",
    "    self.pred_inputs[start:end] = pred_input"
   ]
  },
  {
   "cell_type": "code",
   "execution_count": 96,
   "metadata": {},
   "outputs": [
    {
     "data": {
      "text/plain": [
       "array([[1.],\n",
       "       [0.],\n",
       "       [1.],\n",
       "       [0.],\n",
       "       [0.],\n",
       "       [0.],\n",
       "       [0.],\n",
       "       [1.],\n",
       "       [0.],\n",
       "       [0.]])"
      ]
     },
     "execution_count": 96,
     "metadata": {},
     "output_type": "execute_result"
    }
   ],
   "source": [
    "self.causes"
   ]
  },
  {
   "cell_type": "code",
   "execution_count": 97,
   "metadata": {},
   "outputs": [
    {
     "name": "stdout",
     "output_type": "stream",
     "text": [
      "0\n",
      "3\n",
      "[[1]\n",
      " [0]\n",
      " [1]]\n",
      "[1]\n",
      "[[ 0.7905105 ]\n",
      " [-0.55820589]\n",
      " [-0.25199073]]\n",
      "0 [[1]] [[0]\n",
      " [0]\n",
      " [0]]\n",
      "3\n",
      "6\n",
      "[[0]\n",
      " [0]\n",
      " [0]]\n",
      "[1]\n",
      "[[ 0.54751368]\n",
      " [-0.6743897 ]\n",
      " [ 0.4954062 ]]\n",
      "1 [[0]] [[0]\n",
      " [0]\n",
      " [1]]\n",
      "6\n",
      "9\n",
      "[[0]\n",
      " [0]\n",
      " [1]]\n",
      "[0]\n",
      "[[-0.46555767]\n",
      " [ 0.6349305 ]\n",
      " [ 0.61653817]]\n",
      "2 [[1]] [[0]\n",
      " [0]\n",
      " [0]]\n",
      "9\n",
      "12\n",
      "[[1]\n",
      " [1]\n",
      " [0]]\n",
      "[0]\n",
      "[[-0.67968216]\n",
      " [ 0.44081427]\n",
      " [-0.58627208]]\n",
      "3 [[0]] [[0]\n",
      " [0]\n",
      " [0]]\n",
      "12\n",
      "15\n",
      "[[0]\n",
      " [0]\n",
      " [0]]\n",
      "[0]\n",
      "[[-0.69693826]\n",
      " [-0.29126824]\n",
      " [-0.65531662]]\n",
      "4 [[0]] [[0]\n",
      " [0]\n",
      " [0]]\n",
      "15\n",
      "18\n",
      "[[1]\n",
      " [1]\n",
      " [0]]\n",
      "[0]\n",
      "[[ 0.46531548]\n",
      " [-0.61835289]\n",
      " [ 0.63334131]]\n",
      "5 [[0]] [[0]\n",
      " [0]\n",
      " [0]]\n",
      "18\n",
      "21\n",
      "[[1]\n",
      " [0]\n",
      " [0]]\n",
      "[1]\n",
      "[[-0.4866324 ]\n",
      " [ 0.5671122 ]\n",
      " [-0.66450933]]\n",
      "6 [[0]] [[0]\n",
      " [1]\n",
      " [0]]\n",
      "21\n",
      "24\n",
      "[[0]\n",
      " [1]\n",
      " [0]]\n",
      "[1]\n",
      "[[0.27251055]\n",
      " [0.64475252]\n",
      " [0.71416538]]\n",
      "7 [[1]] [[1]\n",
      " [0]\n",
      " [1]]\n",
      "24\n",
      "27\n",
      "[[0]\n",
      " [1]\n",
      " [1]]\n",
      "[1]\n",
      "[[ 0.48832464]\n",
      " [-0.6108484 ]\n",
      " [-0.62322009]]\n",
      "8 [[0]] [[0]\n",
      " [0]\n",
      " [0]]\n",
      "27\n",
      "30\n",
      "[[0]\n",
      " [1]\n",
      " [1]]\n",
      "[1]\n",
      "[[-0.66579186]\n",
      " [-0.17365174]\n",
      " [-0.72564886]]\n",
      "9 [[0]] [[0]\n",
      " [0]\n",
      " [0]]\n"
     ]
    }
   ],
   "source": [
    "data_in = np.random.randint(2, size=(stages.size, 1))\n",
    "r_backwards = np.random.randint(2, size=(stages.stage_len, 1))\n",
    "for i, vpu in enumerate(self.vpus):\n",
    "    start = i*self.vec_len\n",
    "    end = (i+1)*self.vec_len\n",
    "    input_segment = input_array[start:end]\n",
    "    feedback_segment = r_backwards[i]\n",
    "    print(start, end, input_segment, feedback_segment, vpu.pi.ev, sep=\"\\n\", end=\"\\n\")\n",
    "    vpu.update_cov(input_segment)\n",
    "    cause, pred_input = vpu.iterate(\n",
    "                input_segment,\n",
    "                feedback_segment\n",
    "    )\n",
    "    print(i, cause, pred_input)\n",
    "    self.causes[i] = cause\n",
    "    self.pred_inputs[start:end] = pred_input"
   ]
  },
  {
   "cell_type": "code",
   "execution_count": 99,
   "metadata": {},
   "outputs": [
    {
     "data": {
      "text/plain": [
       "array([[0., 0., 0., 0., 0., 1., 0., 0., 0., 0., 0., 0., 0., 0., 0., 0.,\n",
       "        0., 0., 0., 1., 0., 1., 0., 1., 0., 0., 0., 0., 0., 0.]])"
      ]
     },
     "execution_count": 99,
     "metadata": {},
     "output_type": "execute_result"
    }
   ],
   "source": [
    "self.pred_inputs.T"
   ]
  },
  {
   "cell_type": "code",
   "execution_count": 100,
   "metadata": {},
   "outputs": [
    {
     "data": {
      "text/plain": [
       "array([[1., 0., 1., 0., 0., 0., 0., 1., 0., 0.]])"
      ]
     },
     "execution_count": 100,
     "metadata": {},
     "output_type": "execute_result"
    }
   ],
   "source": [
    "self.causes.T"
   ]
  },
  {
   "cell_type": "code",
   "execution_count": 101,
   "metadata": {},
   "outputs": [
    {
     "data": {
      "text/plain": [
       "array([0, 1, 2, 3, 4, 5, 6, 7, 8])"
      ]
     },
     "execution_count": 101,
     "metadata": {},
     "output_type": "execute_result"
    }
   ],
   "source": [
    "np.arange(0,10)[:-1]"
   ]
  },
  {
   "cell_type": "code",
   "execution_count": null,
   "metadata": {},
   "outputs": [],
   "source": [
    "assert not np.array_equal(causes1, causes2)\n",
    "assert not np.array_equal(pred_inputs1, pred_inputs2)"
   ]
  }
 ],
 "metadata": {
  "kernelspec": {
   "display_name": "Python 3",
   "language": "python",
   "name": "python3"
  },
  "language_info": {
   "codemirror_mode": {
    "name": "ipython",
    "version": 3
   },
   "file_extension": ".py",
   "mimetype": "text/x-python",
   "name": "python",
   "nbconvert_exporter": "python",
   "pygments_lexer": "ipython3",
   "version": "3.6.8"
  }
 },
 "nbformat": 4,
 "nbformat_minor": 2
}
