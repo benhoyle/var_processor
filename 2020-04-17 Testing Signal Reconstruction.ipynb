{
 "cells": [
  {
   "cell_type": "markdown",
   "metadata": {},
   "source": [
    "# Testing VPU & Signal Reconstruction\n",
    "\n",
    "The aim of this blog post is to test that we can correctly reconstruct a simple signal. And also to better understand the data of each stage."
   ]
  },
  {
   "cell_type": "markdown",
   "metadata": {},
   "source": [
    "## Test Binary Vectors\n",
    "Let's test first by randomly selecting between [0, 0] and [1, 1] vectors."
   ]
  },
  {
   "cell_type": "code",
   "execution_count": 1,
   "metadata": {},
   "outputs": [],
   "source": [
    "from src.var_processor.vpu import VPU, VPUBinary\n",
    "import random\n",
    "import numpy as np"
   ]
  },
  {
   "cell_type": "code",
   "execution_count": 2,
   "metadata": {},
   "outputs": [
    {
     "data": {
      "text/plain": [
       "0.46799349226432885"
      ]
     },
     "execution_count": 2,
     "metadata": {},
     "output_type": "execute_result"
    }
   ],
   "source": [
    "random.random()"
   ]
  },
  {
   "cell_type": "code",
   "execution_count": 3,
   "metadata": {},
   "outputs": [],
   "source": [
    "def rand_same():\n",
    "    a = np.empty([2, 1])\n",
    "    a.fill(np.random.randint(2))\n",
    "    return a"
   ]
  },
  {
   "cell_type": "code",
   "execution_count": 4,
   "metadata": {},
   "outputs": [],
   "source": [
    "def rand_diff():\n",
    "    a = np.zeros([2, 1])\n",
    "    index = np.random.randint(2)\n",
    "    a[index] = 1\n",
    "    return a"
   ]
  },
  {
   "cell_type": "code",
   "execution_count": 5,
   "metadata": {},
   "outputs": [
    {
     "name": "stdout",
     "output_type": "stream",
     "text": [
      "[[1.]\n",
      " [1.]] (2, 1)\n"
     ]
    }
   ],
   "source": [
    "print(rand_same(), rand_same().shape)"
   ]
  },
  {
   "cell_type": "code",
   "execution_count": 6,
   "metadata": {},
   "outputs": [
    {
     "name": "stdout",
     "output_type": "stream",
     "text": [
      "[[1.]\n",
      " [0.]] (2, 1)\n"
     ]
    }
   ],
   "source": [
    "print(rand_diff(), rand_diff().shape)"
   ]
  },
  {
   "cell_type": "code",
   "execution_count": 7,
   "metadata": {},
   "outputs": [
    {
     "name": "stdout",
     "output_type": "stream",
     "text": [
      "[[0. 0.]\n",
      " [0. 0.]] [[0.81341381]\n",
      " [0.58168546]]\n",
      "[[0.24586054 0.24586054]\n",
      " [0.24586054 0.24586054]] [[0.70710678]\n",
      " [0.70710678]]\n"
     ]
    }
   ],
   "source": [
    "vpu = VPU(2)\n",
    "print(vpu.cu.covariance, vpu.pi.ev)\n",
    "for _ in range(0, 1000):\n",
    "    vpu.update_cov(rand_same())\n",
    "    vpu.pi.iterate(cov=vpu.cu.covariance)\n",
    "print(vpu.cu.covariance, vpu.pi.ev)"
   ]
  },
  {
   "cell_type": "code",
   "execution_count": 8,
   "metadata": {},
   "outputs": [
    {
     "name": "stdout",
     "output_type": "stream",
     "text": [
      "[[0.49172109]] [[0.70710678]\n",
      " [0.70710678]]\n"
     ]
    }
   ],
   "source": [
    "print(vpu.pi.eigenvalue, vpu.pi.eigenvector)"
   ]
  },
  {
   "cell_type": "code",
   "execution_count": 9,
   "metadata": {},
   "outputs": [
    {
     "data": {
      "text/plain": [
       "array([[0.70122827]])"
      ]
     },
     "execution_count": 9,
     "metadata": {},
     "output_type": "execute_result"
    }
   ],
   "source": [
    "np.sqrt(vpu.pi.eigenvalue)"
   ]
  },
  {
   "cell_type": "code",
   "execution_count": 10,
   "metadata": {},
   "outputs": [
    {
     "data": {
      "text/plain": [
       "array([[0.49584326],\n",
       "       [0.49584326]])"
      ]
     },
     "execution_count": 10,
     "metadata": {},
     "output_type": "execute_result"
    }
   ],
   "source": [
    "np.dot(vpu.pi.eigenvector, np.sqrt(vpu.pi.eigenvalue))"
   ]
  },
  {
   "cell_type": "markdown",
   "metadata": {},
   "source": [
    "Does the above expression thus give you something to do with the probability for the vector?"
   ]
  },
  {
   "cell_type": "code",
   "execution_count": 11,
   "metadata": {},
   "outputs": [
    {
     "data": {
      "text/plain": [
       "array([[0.96384326],\n",
       "       [0.96384326]])"
      ]
     },
     "execution_count": 11,
     "metadata": {},
     "output_type": "execute_result"
    }
   ],
   "source": [
    "np.dot(vpu.pi.eigenvector, np.sqrt(vpu.pi.eigenvalue))+vpu.cu.mean"
   ]
  },
  {
   "cell_type": "markdown",
   "metadata": {},
   "source": [
    "We can use this to same with x = 1 or 0? Or x = -1, or 1?"
   ]
  },
  {
   "cell_type": "code",
   "execution_count": 12,
   "metadata": {},
   "outputs": [
    {
     "name": "stdout",
     "output_type": "stream",
     "text": [
      "[[0.96384326]\n",
      " [0.96384326]] [[-0.02784326]\n",
      " [-0.02784326]]\n"
     ]
    }
   ],
   "source": [
    "print(\n",
    "    np.dot(vpu.pi.eigenvector, np.sqrt(vpu.pi.eigenvalue))+vpu.cu.mean,\n",
    "    -1*np.dot(vpu.pi.eigenvector, np.sqrt(vpu.pi.eigenvalue))+vpu.cu.mean\n",
    ")"
   ]
  },
  {
   "cell_type": "markdown",
   "metadata": {},
   "source": [
    "Yes - x = -1 or 1 or random value within this range."
   ]
  },
  {
   "cell_type": "code",
   "execution_count": 26,
   "metadata": {},
   "outputs": [
    {
     "name": "stdout",
     "output_type": "stream",
     "text": [
      "[[0.24691728 0.24691728]\n",
      " [0.24691728 0.24691728]] [0.24691728 0.24691728]\n",
      "[[0.70710678]\n",
      " [0.70710678]] 0.7071067811865475\n"
     ]
    }
   ],
   "source": [
    "# Adapt to test\n",
    "\n",
    "vpu = VPU(2)\n",
    "for _ in range(0, 1000):\n",
    "    vpu.update_cov(rand_same())\n",
    "    vpu.pi.iterate(cov=vpu.cu.covariance)\n",
    "# Check all values of covariance matrix are the same\n",
    "print(vpu.cu.covariance, vpu.cu.covariance[0])\n",
    "assert np.allclose(vpu.cu.covariance, vpu.cu.covariance[0])\n",
    "# Check eigenvector has values of root 2\n",
    "print(vpu.pi.eigenvector, 1/np.sqrt(2))\n",
    "assert np.allclose(vpu.pi.eigenvector, 1/np.sqrt(2))\n",
    "sample_1 = np.dot(\n",
    "        vpu.pi.eigenvector, np.sqrt(vpu.pi.eigenvalue))+vpu.cu.mean\n",
    "sample_minus1 = -1*np.dot(\n",
    "        vpu.pi.eigenvector, np.sqrt(vpu.pi.eigenvalue))+vpu.cu.mean\n",
    "assert np.allclose(sample_1, np.array([1, 1]), rtol=0.05, atol=0.05)\n",
    "assert np.allclose(sample_minus1, np.array([0, 0]), rtol=0.05, atol=0.05)"
   ]
  },
  {
   "cell_type": "code",
   "execution_count": 24,
   "metadata": {},
   "outputs": [
    {
     "data": {
      "text/plain": [
       "0.7071067811865475"
      ]
     },
     "execution_count": 24,
     "metadata": {},
     "output_type": "execute_result"
    }
   ],
   "source": [
    "1/np.sqrt(2)"
   ]
  },
  {
   "cell_type": "code",
   "execution_count": 13,
   "metadata": {},
   "outputs": [
    {
     "name": "stdout",
     "output_type": "stream",
     "text": [
      "[[0. 0.]\n",
      " [0. 0.]]\n",
      "[[0.79083108]\n",
      " [0.61203448]]\n",
      "\n",
      "[[ 0.24667776 -0.24667776]\n",
      " [-0.24667776  0.24667776]]\n",
      "[[ 0.70710678]\n",
      " [-0.70710678]]\n",
      "[[0.49335551]]\n",
      "\n",
      "[[0.486]\n",
      " [0.514]]\n",
      "[[ 0.49666665]\n",
      " [-0.49666665]]\n",
      "[[0.98266665]\n",
      " [0.01733335]]\n",
      "\n"
     ]
    }
   ],
   "source": [
    "vpu = VPU(2)\n",
    "print(vpu.cu.covariance, vpu.pi.ev, sep=\"\\n\", end=\"\\n\\n\")\n",
    "for _ in range(0, 1000):\n",
    "    vpu.update_cov(rand_diff())\n",
    "    vpu.pi.iterate(cov=vpu.cu.covariance)\n",
    "print(vpu.cu.covariance, vpu.pi.ev, vpu.pi.eigenvalue, sep=\"\\n\", end=\"\\n\\n\")\n",
    "print(\n",
    "    vpu.cu.mean,\n",
    "    np.dot(vpu.pi.eigenvector, np.sqrt(vpu.pi.eigenvalue)), \n",
    "    np.dot(vpu.pi.eigenvector, np.sqrt(vpu.pi.eigenvalue))+vpu.cu.mean,\n",
    "    sep=\"\\n\",\n",
    "    end=\"\\n\\n\"\n",
    ")"
   ]
  },
  {
   "cell_type": "markdown",
   "metadata": {},
   "source": [
    "How would we get a sample of [0, 1] if x = 0 then we just have mean. Ah - x needs to be between -1 and 1."
   ]
  },
  {
   "cell_type": "code",
   "execution_count": 14,
   "metadata": {},
   "outputs": [
    {
     "name": "stdout",
     "output_type": "stream",
     "text": [
      "[[0.]\n",
      " [1.]] [[-0.70710678]]\n"
     ]
    }
   ],
   "source": [
    "# Forward Pass\n",
    "a = rand_diff()\n",
    "print(a, np.dot(vpu.pi.eigenvector.T, a))"
   ]
  },
  {
   "cell_type": "code",
   "execution_count": 15,
   "metadata": {},
   "outputs": [
    {
     "data": {
      "text/plain": [
       "array([[0.98266665],\n",
       "       [0.01733335]])"
      ]
     },
     "execution_count": 15,
     "metadata": {},
     "output_type": "execute_result"
    }
   ],
   "source": [
    "np.dot(vpu.pi.eigenvector, np.sqrt(vpu.pi.eigenvalue))+vpu.cu.mean"
   ]
  },
  {
   "cell_type": "code",
   "execution_count": 16,
   "metadata": {},
   "outputs": [
    {
     "data": {
      "text/plain": [
       "array([[-0.01066665],\n",
       "       [ 1.01066665]])"
      ]
     },
     "execution_count": 16,
     "metadata": {},
     "output_type": "execute_result"
    }
   ],
   "source": [
    "-1*np.dot(vpu.pi.eigenvector, np.sqrt(vpu.pi.eigenvalue))+vpu.cu.mean"
   ]
  },
  {
   "cell_type": "code",
   "execution_count": 34,
   "metadata": {},
   "outputs": [
    {
     "name": "stdout",
     "output_type": "stream",
     "text": [
      "[ 0.24607419 -0.24607419] [ 0.24607419 -0.24607419]\n",
      "[[ 0.70710678]\n",
      " [-0.70710678]] 0.7071067811865475\n",
      "[[ 1.02705866]\n",
      " [-0.02705866]] [[0.96505866]\n",
      " [0.03494134]]\n"
     ]
    }
   ],
   "source": [
    "# Adapt to test\n",
    "\n",
    "vpu = VPU(2)\n",
    "for _ in range(0, 1000):\n",
    "    vpu.update_cov(rand_diff())\n",
    "    vpu.pi.iterate(cov=vpu.cu.covariance)\n",
    "# Check diagonal values of covariance matrix are the same\n",
    "# Use https://docs.scipy.org/doc/numpy/reference/generated/numpy.diagonal.html\n",
    "print(vpu.cu.covariance[0], -1*vpu.cu.covariance[-1])\n",
    "assert np.allclose(vpu.cu.covariance[0], -1*vpu.cu.covariance[-1])\n",
    "# Check eigenvector has values of root 2\n",
    "print(vpu.pi.eigenvector, 1/np.sqrt(2))\n",
    "assert np.allclose(np.abs(vpu.pi.eigenvector), 1/np.sqrt(2))\n",
    "# Check different signs\n",
    "assert np.allclose(vpu.pi.eigenvector[0], -1*vpu.pi.eigenvector[1])\n",
    "sample_1 = np.dot(\n",
    "        vpu.pi.eigenvector, np.sqrt(vpu.pi.eigenvalue))+vpu.cu.mean\n",
    "sample_minus1 = -1*np.dot(\n",
    "        vpu.pi.eigenvector, np.sqrt(vpu.pi.eigenvalue))+vpu.cu.mean\n",
    "print(sample_1, np.flipud(sample_minus1))\n",
    "assert np.allclose(sample_1, np.flipud(sample_minus1), rtol=0.1, atol=0.1)"
   ]
  },
  {
   "cell_type": "markdown",
   "metadata": {},
   "source": [
    "## Test Reconstruction\n",
    "\n",
    "So we do a forward pass - get the output r, reconstruct then subtract."
   ]
  },
  {
   "cell_type": "code",
   "execution_count": 35,
   "metadata": {},
   "outputs": [],
   "source": [
    "# Setup VPU\n",
    "vpu = VPU(2)\n",
    "for _ in range(0, 1000):\n",
    "    vpu.update_cov(rand_same())\n",
    "    vpu.pi.iterate(cov=vpu.cu.covariance)"
   ]
  },
  {
   "cell_type": "code",
   "execution_count": 40,
   "metadata": {},
   "outputs": [
    {
     "name": "stdout",
     "output_type": "stream",
     "text": [
      "[[1.]\n",
      " [1.]] [[1.41421356]]\n"
     ]
    }
   ],
   "source": [
    "# Test forward pass with no processing\n",
    "ran = rand_same()\n",
    "r = vpu.forward(ran)\n",
    "print(ran, r)"
   ]
  },
  {
   "cell_type": "markdown",
   "metadata": {},
   "source": [
    "So [0, 0] r = 0 and for [1, 1] r = 1.414."
   ]
  },
  {
   "cell_type": "code",
   "execution_count": 41,
   "metadata": {},
   "outputs": [
    {
     "data": {
      "text/plain": [
       "array([[0.509],\n",
       "       [0.509]])"
      ]
     },
     "execution_count": 41,
     "metadata": {},
     "output_type": "execute_result"
    }
   ],
   "source": [
    "vpu.cu.mean"
   ]
  },
  {
   "cell_type": "code",
   "execution_count": 68,
   "metadata": {},
   "outputs": [
    {
     "name": "stdout",
     "output_type": "stream",
     "text": [
      "[[0.]\n",
      " [0.]] [[-0.7198347]]\n"
     ]
    }
   ],
   "source": [
    "# Test forward pass with mean removal\n",
    "ran = rand_same()\n",
    "r = vpu.forward(ran-vpu.cu.mean)\n",
    "print(ran, r)"
   ]
  },
  {
   "cell_type": "markdown",
   "metadata": {},
   "source": [
    "Now we have [0, 0] = -0.7198, [1, 1] = 0.69437886."
   ]
  },
  {
   "cell_type": "code",
   "execution_count": 52,
   "metadata": {},
   "outputs": [
    {
     "name": "stdout",
     "output_type": "stream",
     "text": [
      "[[0.70710678]\n",
      " [0.70710678]] [[0.49364388]]\n"
     ]
    },
    {
     "data": {
      "text/plain": [
       "array([[1.00641736],\n",
       "       [1.00641736]])"
      ]
     },
     "execution_count": 52,
     "metadata": {},
     "output_type": "execute_result"
    }
   ],
   "source": [
    "print(vpu.pi.eigenvector, vpu.pi.eigenvalue)\n",
    "vpu.pi.eigenvector / np.sqrt(vpu.pi.eigenvalue)"
   ]
  },
  {
   "cell_type": "code",
   "execution_count": 59,
   "metadata": {},
   "outputs": [
    {
     "name": "stdout",
     "output_type": "stream",
     "text": [
      "[[0.]\n",
      " [0.]] [[-1.02453288]]\n"
     ]
    }
   ],
   "source": [
    "# Test forward pass with mean removal and divide by eigenvalue - SAME\n",
    "ran = rand_same()\n",
    "r = vpu.forward((ran-vpu.cu.mean)/np.sqrt(vpu.pi.eigenvalue))\n",
    "print(ran, r)"
   ]
  },
  {
   "cell_type": "markdown",
   "metadata": {},
   "source": [
    "Now we have outputs between -1 and 1."
   ]
  },
  {
   "cell_type": "code",
   "execution_count": 67,
   "metadata": {},
   "outputs": [
    {
     "name": "stdout",
     "output_type": "stream",
     "text": [
      "[[0.]\n",
      " [1.]] [[-0.01811551]]\n"
     ]
    }
   ],
   "source": [
    "# Test forward pass with mean removal and divide by eigenvalue - DIFFERENCES\n",
    "ran = rand_diff()\n",
    "r = vpu.forward((ran-vpu.cu.mean)/np.sqrt(vpu.pi.eigenvalue))\n",
    "print(ran, r)"
   ]
  },
  {
   "cell_type": "markdown",
   "metadata": {},
   "source": [
    "Non-feature outputs are then 0."
   ]
  },
  {
   "cell_type": "markdown",
   "metadata": {},
   "source": [
    "### Test Signal Reconstruction Over Time\n",
    "\n",
    "Let's say we have a random 8-bit static signal - [28, 234] - let's experiment with putting this through the system and looking at the output over 255 time steps."
   ]
  },
  {
   "cell_type": "code",
   "execution_count": 115,
   "metadata": {},
   "outputs": [
    {
     "name": "stdout",
     "output_type": "stream",
     "text": [
      "[[19]\n",
      " [76]]\n"
     ]
    }
   ],
   "source": [
    "data_in = np.random.randint(255, size=(2, 1)); print(data_in)"
   ]
  },
  {
   "cell_type": "code",
   "execution_count": 116,
   "metadata": {},
   "outputs": [
    {
     "name": "stdout",
     "output_type": "stream",
     "text": [
      "[[128.99215686]\n",
      " [129.31764706]]\n"
     ]
    }
   ],
   "source": [
    "# Determine signal mean - we'll do a test version\n",
    "signal_mean = np.random.randint(255, size=(2, 255)).mean(axis=1).reshape(2,1); print(signal_mean)"
   ]
  },
  {
   "cell_type": "code",
   "execution_count": 117,
   "metadata": {},
   "outputs": [
    {
     "name": "stdout",
     "output_type": "stream",
     "text": [
      "[[-109.99215686]\n",
      " [ -53.31764706]]\n"
     ]
    }
   ],
   "source": [
    "# Subtract mean and binary threshold +ve and -ve\n",
    "zero_mean = data_in - signal_mean; print(zero_mean)"
   ]
  },
  {
   "cell_type": "markdown",
   "metadata": {},
   "source": [
    "To cope with the sign we can just - get an array indicating the sign, threshold the absolute, then re-apply the sign.\n",
    "\n",
    "Use - https://docs.scipy.org/doc/numpy/reference/generated/numpy.sign.html.\n",
    "\n",
    "But we need to know the range for determining - does this require symmetric ranges either side of the mean? It will be 255-min_mean"
   ]
  },
  {
   "cell_type": "code",
   "execution_count": 118,
   "metadata": {},
   "outputs": [
    {
     "name": "stdout",
     "output_type": "stream",
     "text": [
      "[[-1.]\n",
      " [-1.]]\n"
     ]
    }
   ],
   "source": [
    "signs = np.sign(zero_mean); print(signs)"
   ]
  },
  {
   "cell_type": "code",
   "execution_count": 119,
   "metadata": {},
   "outputs": [
    {
     "name": "stdout",
     "output_type": "stream",
     "text": [
      "126\n"
     ]
    }
   ],
   "source": [
    "pbt_range = int(255-signal_mean.min()); print(pbt_range)"
   ]
  },
  {
   "cell_type": "code",
   "execution_count": 120,
   "metadata": {},
   "outputs": [
    {
     "name": "stdout",
     "output_type": "stream",
     "text": [
      "[[1]\n",
      " [1]]\n"
     ]
    }
   ],
   "source": [
    "rand_vals = np.random.randint(pbt_range, size=data_in.shape)\n",
    "binary_values = np.where(np.abs(zero_mean) > rand_vals, 1, 0)\n",
    "print(binary_values)"
   ]
  },
  {
   "cell_type": "code",
   "execution_count": 151,
   "metadata": {},
   "outputs": [],
   "source": [
    "# Turn into a short function\n",
    "def signal_pre_processor(signal, mean):\n",
    "    \"\"\"Remove mean and convert to range {-1, 0, 1}\"\"\"\n",
    "    zero_mean = signal - mean\n",
    "    signs = np.sign(zero_mean)\n",
    "    rand_vals = np.random.uniform(size=zero_mean.shape)*mean\n",
    "    binary_values = np.where(np.abs(zero_mean) > rand_vals, 1, 0)\n",
    "    return binary_values*signs"
   ]
  },
  {
   "cell_type": "code",
   "execution_count": 155,
   "metadata": {},
   "outputs": [
    {
     "data": {
      "text/plain": [
       "array([[-1.],\n",
       "       [-0.]])"
      ]
     },
     "execution_count": 155,
     "metadata": {},
     "output_type": "execute_result"
    }
   ],
   "source": [
    "signal_pre_processor(data_in, signal_mean)"
   ]
  },
  {
   "cell_type": "code",
   "execution_count": 131,
   "metadata": {},
   "outputs": [
    {
     "name": "stdout",
     "output_type": "stream",
     "text": [
      "[[18.99215686]\n",
      " [70.31764706]]\n"
     ]
    }
   ],
   "source": [
    "summed = signal_pre_processor(data_in, signal_mean)\n",
    "for _ in range(0, int(signal_mean.min())):\n",
    "    summed += signal_pre_processor(data_in, signal_mean)\n",
    "print(summed+signal_mean)"
   ]
  },
  {
   "cell_type": "markdown",
   "metadata": {},
   "source": [
    "Why are we getting 225 and 80? Something to do with the pbt_range? No - we need to make sure we are summing over the signal mean and then adding the mean.\n",
    "\n",
    "This can likely be a scalar mean. But if our signals are all different? \n",
    "\n",
    "Need to evaluate each element in multiples of the mean value.\n",
    "\n",
    "We can add this to the sensor routine? DONE"
   ]
  },
  {
   "cell_type": "code",
   "execution_count": 135,
   "metadata": {},
   "outputs": [
    {
     "name": "stdout",
     "output_type": "stream",
     "text": [
      "[[1.]\n",
      " [1.]]\n",
      "[[126.00784314]\n",
      " [125.68235294]]\n"
     ]
    }
   ],
   "source": [
    "print(255 // signal_mean, 255 % signal_mean, sep=\"\\n\")"
   ]
  },
  {
   "cell_type": "code",
   "execution_count": 136,
   "metadata": {},
   "outputs": [
    {
     "name": "stdout",
     "output_type": "stream",
     "text": [
      "[[26.]\n",
      " [26.]]\n",
      "[[113.20392157]\n",
      " [104.74117647]]\n"
     ]
    }
   ],
   "source": [
    "print(3467 // signal_mean, 3467 % signal_mean, sep=\"\\n\")"
   ]
  },
  {
   "cell_type": "code",
   "execution_count": 137,
   "metadata": {},
   "outputs": [
    {
     "name": "stdout",
     "output_type": "stream",
     "text": [
      "[[-3018.]\n",
      " [-1495.]]\n"
     ]
    }
   ],
   "source": [
    "summed = signal_pre_processor(data_in, signal_mean)\n",
    "for _ in range(0, 3467):\n",
    "    summed += signal_pre_processor(data_in, signal_mean)\n",
    "print(summed)"
   ]
  },
  {
   "cell_type": "code",
   "execution_count": 143,
   "metadata": {},
   "outputs": [
    {
     "data": {
      "text/plain": [
       "array([[16.70535865],\n",
       "       [73.55477358]])"
      ]
     },
     "execution_count": 143,
     "metadata": {},
     "output_type": "execute_result"
    }
   ],
   "source": [
    "(summed / (3467 / signal_mean))+signal_mean"
   ]
  },
  {
   "cell_type": "markdown",
   "metadata": {},
   "source": [
    "So we just divide the sum by the (total count / signal mean).\n",
    "\n",
    "To determine we can generate a random number between 0 and 1 and times by the signal mean."
   ]
  },
  {
   "cell_type": "code",
   "execution_count": 150,
   "metadata": {},
   "outputs": [
    {
     "name": "stdout",
     "output_type": "stream",
     "text": [
      "[[-109.99215686]\n",
      " [ -53.31764706]]\n",
      "[[ 66.18549605]\n",
      " [125.70555556]]\n",
      "[[1]\n",
      " [0]]\n"
     ]
    }
   ],
   "source": [
    "rand_vals = np.random.uniform(size=zero_mean.shape)*signal_mean\n",
    "binary_values = np.where(np.abs(zero_mean) > rand_vals, 1, 0)\n",
    "print(zero_mean, rand_vals, binary_values, sep=\"\\n\")"
   ]
  },
  {
   "cell_type": "markdown",
   "metadata": {},
   "source": [
    "The above is now added to sensor. Anyway back to reconstruction.\n",
    "\n",
    "# Reconstructing a Static Signal"
   ]
  },
  {
   "cell_type": "code",
   "execution_count": null,
   "metadata": {},
   "outputs": [],
   "source": []
  }
 ],
 "metadata": {
  "kernelspec": {
   "display_name": "Python 3",
   "language": "python",
   "name": "python3"
  },
  "language_info": {
   "codemirror_mode": {
    "name": "ipython",
    "version": 3
   },
   "file_extension": ".py",
   "mimetype": "text/x-python",
   "name": "python",
   "nbconvert_exporter": "python",
   "pygments_lexer": "ipython3",
   "version": "3.6.8"
  }
 },
 "nbformat": 4,
 "nbformat_minor": 2
}
