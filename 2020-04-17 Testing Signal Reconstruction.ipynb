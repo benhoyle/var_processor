{
 "cells": [
  {
   "cell_type": "markdown",
   "metadata": {},
   "source": [
    "The aim of this blog post is to test that we can correctly reconstruct a simple signal. And also to better understand the data of each stage.\n",
    "\n",
    "Let's test first by randomly selecting between [0, 0] and [1, 1] vectors."
   ]
  },
  {
   "cell_type": "code",
   "execution_count": 1,
   "metadata": {},
   "outputs": [],
   "source": [
    "from src.var_processor.vpu import VPU, VPUBinary\n",
    "import random\n",
    "import numpy as np"
   ]
  },
  {
   "cell_type": "code",
   "execution_count": 2,
   "metadata": {},
   "outputs": [
    {
     "data": {
      "text/plain": [
       "0.46799349226432885"
      ]
     },
     "execution_count": 2,
     "metadata": {},
     "output_type": "execute_result"
    }
   ],
   "source": [
    "random.random()"
   ]
  },
  {
   "cell_type": "code",
   "execution_count": 3,
   "metadata": {},
   "outputs": [],
   "source": [
    "def rand_same():\n",
    "    a = np.empty([2, 1])\n",
    "    a.fill(np.random.randint(2))\n",
    "    return a"
   ]
  },
  {
   "cell_type": "code",
   "execution_count": 4,
   "metadata": {},
   "outputs": [],
   "source": [
    "def rand_diff():\n",
    "    a = np.zeros([2, 1])\n",
    "    index = np.random.randint(2)\n",
    "    a[index] = 1\n",
    "    return a"
   ]
  },
  {
   "cell_type": "code",
   "execution_count": 5,
   "metadata": {},
   "outputs": [
    {
     "name": "stdout",
     "output_type": "stream",
     "text": [
      "[[1.]\n",
      " [1.]] (2, 1)\n"
     ]
    }
   ],
   "source": [
    "print(rand_same(), rand_same().shape)"
   ]
  },
  {
   "cell_type": "code",
   "execution_count": 6,
   "metadata": {},
   "outputs": [
    {
     "name": "stdout",
     "output_type": "stream",
     "text": [
      "[[1.]\n",
      " [0.]] (2, 1)\n"
     ]
    }
   ],
   "source": [
    "print(rand_diff(), rand_diff().shape)"
   ]
  },
  {
   "cell_type": "code",
   "execution_count": 7,
   "metadata": {},
   "outputs": [
    {
     "name": "stdout",
     "output_type": "stream",
     "text": [
      "[[0. 0.]\n",
      " [0. 0.]] [[0.81341381]\n",
      " [0.58168546]]\n",
      "[[0.24586054 0.24586054]\n",
      " [0.24586054 0.24586054]] [[0.70710678]\n",
      " [0.70710678]]\n"
     ]
    }
   ],
   "source": [
    "vpu = VPU(2)\n",
    "print(vpu.cu.covariance, vpu.pi.ev)\n",
    "for _ in range(0, 1000):\n",
    "    vpu.update_cov(rand_same())\n",
    "    vpu.pi.iterate(cov=vpu.cu.covariance)\n",
    "print(vpu.cu.covariance, vpu.pi.ev)"
   ]
  },
  {
   "cell_type": "code",
   "execution_count": 8,
   "metadata": {},
   "outputs": [
    {
     "name": "stdout",
     "output_type": "stream",
     "text": [
      "[[0.49172109]] [[0.70710678]\n",
      " [0.70710678]]\n"
     ]
    }
   ],
   "source": [
    "print(vpu.pi.eigenvalue, vpu.pi.eigenvector)"
   ]
  },
  {
   "cell_type": "code",
   "execution_count": 9,
   "metadata": {},
   "outputs": [
    {
     "data": {
      "text/plain": [
       "array([[0.70122827]])"
      ]
     },
     "execution_count": 9,
     "metadata": {},
     "output_type": "execute_result"
    }
   ],
   "source": [
    "np.sqrt(vpu.pi.eigenvalue)"
   ]
  },
  {
   "cell_type": "code",
   "execution_count": 10,
   "metadata": {},
   "outputs": [
    {
     "data": {
      "text/plain": [
       "array([[0.49584326],\n",
       "       [0.49584326]])"
      ]
     },
     "execution_count": 10,
     "metadata": {},
     "output_type": "execute_result"
    }
   ],
   "source": [
    "np.dot(vpu.pi.eigenvector, np.sqrt(vpu.pi.eigenvalue))"
   ]
  },
  {
   "cell_type": "markdown",
   "metadata": {},
   "source": [
    "Does the above expression thus give you something to do with the probability for the vector?"
   ]
  },
  {
   "cell_type": "code",
   "execution_count": 11,
   "metadata": {},
   "outputs": [
    {
     "data": {
      "text/plain": [
       "array([[0.96384326],\n",
       "       [0.96384326]])"
      ]
     },
     "execution_count": 11,
     "metadata": {},
     "output_type": "execute_result"
    }
   ],
   "source": [
    "np.dot(vpu.pi.eigenvector, np.sqrt(vpu.pi.eigenvalue))+vpu.cu.mean"
   ]
  },
  {
   "cell_type": "markdown",
   "metadata": {},
   "source": [
    "We can use this to same with x = 1 or 0? Or x = -1, or 1?"
   ]
  },
  {
   "cell_type": "code",
   "execution_count": 12,
   "metadata": {},
   "outputs": [
    {
     "name": "stdout",
     "output_type": "stream",
     "text": [
      "[[0.96384326]\n",
      " [0.96384326]] [[-0.02784326]\n",
      " [-0.02784326]]\n"
     ]
    }
   ],
   "source": [
    "print(\n",
    "    np.dot(vpu.pi.eigenvector, np.sqrt(vpu.pi.eigenvalue))+vpu.cu.mean,\n",
    "    -1*np.dot(vpu.pi.eigenvector, np.sqrt(vpu.pi.eigenvalue))+vpu.cu.mean\n",
    ")"
   ]
  },
  {
   "cell_type": "markdown",
   "metadata": {},
   "source": [
    "Yes - x = -1 or 1 or random value within this range."
   ]
  },
  {
   "cell_type": "code",
   "execution_count": 26,
   "metadata": {},
   "outputs": [
    {
     "name": "stdout",
     "output_type": "stream",
     "text": [
      "[[0.24691728 0.24691728]\n",
      " [0.24691728 0.24691728]] [0.24691728 0.24691728]\n",
      "[[0.70710678]\n",
      " [0.70710678]] 0.7071067811865475\n"
     ]
    }
   ],
   "source": [
    "# Adapt to test\n",
    "\n",
    "vpu = VPU(2)\n",
    "for _ in range(0, 1000):\n",
    "    vpu.update_cov(rand_same())\n",
    "    vpu.pi.iterate(cov=vpu.cu.covariance)\n",
    "# Check all values of covariance matrix are the same\n",
    "print(vpu.cu.covariance, vpu.cu.covariance[0])\n",
    "assert np.allclose(vpu.cu.covariance, vpu.cu.covariance[0])\n",
    "# Check eigenvector has values of root 2\n",
    "print(vpu.pi.eigenvector, 1/np.sqrt(2))\n",
    "assert np.allclose(vpu.pi.eigenvector, 1/np.sqrt(2))\n",
    "sample_1 = np.dot(\n",
    "        vpu.pi.eigenvector, np.sqrt(vpu.pi.eigenvalue))+vpu.cu.mean\n",
    "sample_minus1 = -1*np.dot(\n",
    "        vpu.pi.eigenvector, np.sqrt(vpu.pi.eigenvalue))+vpu.cu.mean\n",
    "assert np.allclose(sample_1, np.array([1, 1]), rtol=0.05, atol=0.05)\n",
    "assert np.allclose(sample_minus1, np.array([0, 0]), rtol=0.05, atol=0.05)"
   ]
  },
  {
   "cell_type": "code",
   "execution_count": 24,
   "metadata": {},
   "outputs": [
    {
     "data": {
      "text/plain": [
       "0.7071067811865475"
      ]
     },
     "execution_count": 24,
     "metadata": {},
     "output_type": "execute_result"
    }
   ],
   "source": [
    "1/np.sqrt(2)"
   ]
  },
  {
   "cell_type": "code",
   "execution_count": 13,
   "metadata": {},
   "outputs": [
    {
     "name": "stdout",
     "output_type": "stream",
     "text": [
      "[[0. 0.]\n",
      " [0. 0.]]\n",
      "[[0.79083108]\n",
      " [0.61203448]]\n",
      "\n",
      "[[ 0.24667776 -0.24667776]\n",
      " [-0.24667776  0.24667776]]\n",
      "[[ 0.70710678]\n",
      " [-0.70710678]]\n",
      "[[0.49335551]]\n",
      "\n",
      "[[0.486]\n",
      " [0.514]]\n",
      "[[ 0.49666665]\n",
      " [-0.49666665]]\n",
      "[[0.98266665]\n",
      " [0.01733335]]\n",
      "\n"
     ]
    }
   ],
   "source": [
    "vpu = VPU(2)\n",
    "print(vpu.cu.covariance, vpu.pi.ev, sep=\"\\n\", end=\"\\n\\n\")\n",
    "for _ in range(0, 1000):\n",
    "    vpu.update_cov(rand_diff())\n",
    "    vpu.pi.iterate(cov=vpu.cu.covariance)\n",
    "print(vpu.cu.covariance, vpu.pi.ev, vpu.pi.eigenvalue, sep=\"\\n\", end=\"\\n\\n\")\n",
    "print(\n",
    "    vpu.cu.mean,\n",
    "    np.dot(vpu.pi.eigenvector, np.sqrt(vpu.pi.eigenvalue)), \n",
    "    np.dot(vpu.pi.eigenvector, np.sqrt(vpu.pi.eigenvalue))+vpu.cu.mean,\n",
    "    sep=\"\\n\",\n",
    "    end=\"\\n\\n\"\n",
    ")"
   ]
  },
  {
   "cell_type": "markdown",
   "metadata": {},
   "source": [
    "How would we get a sample of [0, 1] if x = 0 then we just have mean. Ah - x needs to be between -1 and 1."
   ]
  },
  {
   "cell_type": "code",
   "execution_count": 14,
   "metadata": {},
   "outputs": [
    {
     "name": "stdout",
     "output_type": "stream",
     "text": [
      "[[0.]\n",
      " [1.]] [[-0.70710678]]\n"
     ]
    }
   ],
   "source": [
    "# Forward Pass\n",
    "a = rand_diff()\n",
    "print(a, np.dot(vpu.pi.eigenvector.T, a))"
   ]
  },
  {
   "cell_type": "code",
   "execution_count": 15,
   "metadata": {},
   "outputs": [
    {
     "data": {
      "text/plain": [
       "array([[0.98266665],\n",
       "       [0.01733335]])"
      ]
     },
     "execution_count": 15,
     "metadata": {},
     "output_type": "execute_result"
    }
   ],
   "source": [
    "np.dot(vpu.pi.eigenvector, np.sqrt(vpu.pi.eigenvalue))+vpu.cu.mean"
   ]
  },
  {
   "cell_type": "code",
   "execution_count": 16,
   "metadata": {},
   "outputs": [
    {
     "data": {
      "text/plain": [
       "array([[-0.01066665],\n",
       "       [ 1.01066665]])"
      ]
     },
     "execution_count": 16,
     "metadata": {},
     "output_type": "execute_result"
    }
   ],
   "source": [
    "-1*np.dot(vpu.pi.eigenvector, np.sqrt(vpu.pi.eigenvalue))+vpu.cu.mean"
   ]
  },
  {
   "cell_type": "code",
   "execution_count": 34,
   "metadata": {},
   "outputs": [
    {
     "name": "stdout",
     "output_type": "stream",
     "text": [
      "[ 0.24607419 -0.24607419] [ 0.24607419 -0.24607419]\n",
      "[[ 0.70710678]\n",
      " [-0.70710678]] 0.7071067811865475\n",
      "[[ 1.02705866]\n",
      " [-0.02705866]] [[0.96505866]\n",
      " [0.03494134]]\n"
     ]
    }
   ],
   "source": [
    "# Adapt to test\n",
    "\n",
    "vpu = VPU(2)\n",
    "for _ in range(0, 1000):\n",
    "    vpu.update_cov(rand_diff())\n",
    "    vpu.pi.iterate(cov=vpu.cu.covariance)\n",
    "# Check diagonal values of covariance matrix are the same\n",
    "# Use https://docs.scipy.org/doc/numpy/reference/generated/numpy.diagonal.html\n",
    "print(vpu.cu.covariance[0], -1*vpu.cu.covariance[-1])\n",
    "assert np.allclose(vpu.cu.covariance[0], -1*vpu.cu.covariance[-1])\n",
    "# Check eigenvector has values of root 2\n",
    "print(vpu.pi.eigenvector, 1/np.sqrt(2))\n",
    "assert np.allclose(np.abs(vpu.pi.eigenvector), 1/np.sqrt(2))\n",
    "# Check different signs\n",
    "assert np.allclose(vpu.pi.eigenvector[0], -1*vpu.pi.eigenvector[1])\n",
    "sample_1 = np.dot(\n",
    "        vpu.pi.eigenvector, np.sqrt(vpu.pi.eigenvalue))+vpu.cu.mean\n",
    "sample_minus1 = -1*np.dot(\n",
    "        vpu.pi.eigenvector, np.sqrt(vpu.pi.eigenvalue))+vpu.cu.mean\n",
    "print(sample_1, np.flipud(sample_minus1))\n",
    "assert np.allclose(sample_1, np.flipud(sample_minus1), rtol=0.1, atol=0.1)"
   ]
  },
  {
   "cell_type": "code",
   "execution_count": null,
   "metadata": {},
   "outputs": [],
   "source": []
  }
 ],
 "metadata": {
  "kernelspec": {
   "display_name": "Python 3",
   "language": "python",
   "name": "python3"
  },
  "language_info": {
   "codemirror_mode": {
    "name": "ipython",
    "version": 3
   },
   "file_extension": ".py",
   "mimetype": "text/x-python",
   "name": "python",
   "nbconvert_exporter": "python",
   "pygments_lexer": "ipython3",
   "version": "3.6.8"
  }
 },
 "nbformat": 4,
 "nbformat_minor": 2
}
