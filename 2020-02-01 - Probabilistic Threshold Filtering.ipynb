{
 "cells": [
  {
   "cell_type": "markdown",
   "metadata": {},
   "source": [
    "This notebook will look at developing a probabilistic binary threshold filter. The idea is to provide a binary threshold with a degree of randomness, where the magnitude of the input value influences how probable a 1 or 0 is.\n",
    "\n",
    "The filter will be designed to work on numpy arrays of varying sizes."
   ]
  },
  {
   "cell_type": "markdown",
   "metadata": {},
   "source": [
    "## Random Numbers\n",
    "\n",
    "We need a set of random numbers to compare our input to. The range will depend on our input. If our input is 8-bit, our highest value is 256, 16-bit, 2^16 etc.\n",
    "\n",
    "So we can have a variable bit_size that indicates the bit size of the input and our highest value is 2^bit_size."
   ]
  },
  {
   "cell_type": "code",
   "execution_count": 3,
   "metadata": {},
   "outputs": [
    {
     "data": {
      "text/plain": [
       "'1.16.2'"
      ]
     },
     "execution_count": 3,
     "metadata": {},
     "output_type": "execute_result"
    }
   ],
   "source": [
    "import numpy as np\n",
    "np.version.version"
   ]
  },
  {
   "cell_type": "code",
   "execution_count": 7,
   "metadata": {},
   "outputs": [
    {
     "data": {
      "text/plain": [
       "<Version('1.16.2')>"
      ]
     },
     "execution_count": 7,
     "metadata": {},
     "output_type": "execute_result"
    }
   ],
   "source": [
    "from packaging import version\n",
    "version.parse(np.version.version)"
   ]
  },
  {
   "cell_type": "code",
   "execution_count": 11,
   "metadata": {},
   "outputs": [
    {
     "name": "stdout",
     "output_type": "stream",
     "text": [
      "[[ 18 210  69  95 241]\n",
      " [250 212  48 173 119]\n",
      " [142  12 162 105  43]\n",
      " [ 16 100  86 248 171]\n",
      " [ 10  57 178 108  28]]\n"
     ]
    }
   ],
   "source": [
    "# This only works for numpy v.1.17+\n",
    "\n",
    "# These variables will be set based on the input properties\n",
    "# Set bit_size\n",
    "bit_size = 8\n",
    "# Set size\n",
    "input_size = (5, 5)\n",
    "\n",
    "# Set highest integer value\n",
    "high = 2**bit_size\n",
    "\n",
    "# Code to account for different numpy versions\n",
    "if version.parse(np.version.version) < version.parse(\"1.17.0\"):\n",
    "    rand_ints = np.random.randint(high, size=input_size)\n",
    "else:\n",
    "    # Setup a random number generator\n",
    "    rng = np.random.default_rng()\n",
    "    rand_ints = rng.integers(high, size=input_size)\n",
    "print(rand_ints)"
   ]
  },
  {
   "cell_type": "markdown",
   "metadata": {},
   "source": [
    "We can also set the data type based on what category bit_size falls into."
   ]
  },
  {
   "cell_type": "code",
   "execution_count": 12,
   "metadata": {},
   "outputs": [],
   "source": [
    "def get_rand_ints(bit_size, input_size):\n",
    "    \"\"\"Output a set of random integers of size input_size\n",
    "    of the indicated bit size.\"\"\"\n",
    "    # Set highest integer value\n",
    "    high = 2**bit_size\n",
    "\n",
    "    # Code to account for different numpy versions\n",
    "    if version.parse(np.version.version) < version.parse(\"1.17.0\"):\n",
    "        rand_ints = np.random.randint(high, size=input_size)\n",
    "    else:\n",
    "        # Setup a random number generator\n",
    "        rng = np.random.default_rng()\n",
    "        rand_ints = rng.integers(high, size=input_size)\n",
    "    return rand_ints"
   ]
  },
  {
   "cell_type": "code",
   "execution_count": 13,
   "metadata": {},
   "outputs": [
    {
     "data": {
      "text/plain": [
       "array([[ 88, 176,  60,  65, 223],\n",
       "       [252,  25, 154, 137,  81],\n",
       "       [159,  38, 182, 241,  14],\n",
       "       [219, 133,  88,  89, 119],\n",
       "       [243, 160, 184,  23, 142]])"
      ]
     },
     "execution_count": 13,
     "metadata": {},
     "output_type": "execute_result"
    }
   ],
   "source": [
    "get_rand_ints(8, (5,5))"
   ]
  },
  {
   "cell_type": "markdown",
   "metadata": {},
   "source": [
    "## Comparison\n",
    "\n",
    "Code to compare an input and output binary values."
   ]
  },
  {
   "cell_type": "code",
   "execution_count": 17,
   "metadata": {},
   "outputs": [
    {
     "name": "stdout",
     "output_type": "stream",
     "text": [
      "[[ 56 183 225  88   1]\n",
      " [100  64 118  85 195]\n",
      " [163 252 165  25  16]\n",
      " [ 98 111 214  72   4]\n",
      " [183  92 125  10 137]] \n",
      " [[215 237 192 165   6]\n",
      " [104  47 252  60  63]\n",
      " [103 204 227 174 128]\n",
      " [147  36 207 204  26]\n",
      " [209 225 211 222  57]] \n",
      " [[False False  True False False]\n",
      " [False  True False  True  True]\n",
      " [ True  True False False False]\n",
      " [False  True  True False False]\n",
      " [False False False False  True]]\n"
     ]
    }
   ],
   "source": [
    "input_values = get_rand_ints(8, (5,5))\n",
    "rand_ints = get_rand_ints(8, (5,5))\n",
    "print(input_values, '\\n', rand_ints, '\\n', input_values>rand_ints)"
   ]
  },
  {
   "cell_type": "code",
   "execution_count": 19,
   "metadata": {},
   "outputs": [
    {
     "name": "stdout",
     "output_type": "stream",
     "text": [
      "[[207  25  32  95 141]\n",
      " [226  85   4   4 227]\n",
      " [157 136 105  94  68]\n",
      " [177 212 143  47 149]\n",
      " [109  33  51  74 177]] \n",
      " [[184 110 107  54 137]\n",
      " [173 203 157   3 221]\n",
      " [ 10  29  21  14   2]\n",
      " [150   5 232  38 185]\n",
      " [177 157  29 222 237]] \n",
      " [[1 0 0 1 1]\n",
      " [1 0 0 1 1]\n",
      " [1 1 1 1 1]\n",
      " [1 1 0 1 0]\n",
      " [0 0 1 0 0]]\n"
     ]
    }
   ],
   "source": [
    "input_values = get_rand_ints(8, (5,5))\n",
    "rand_ints = get_rand_ints(8, (5,5))\n",
    "print(input_values, '\\n', rand_ints, '\\n', np.where(input_values>rand_ints, 1, 0))"
   ]
  },
  {
   "cell_type": "code",
   "execution_count": 21,
   "metadata": {},
   "outputs": [
    {
     "name": "stdout",
     "output_type": "stream",
     "text": [
      "int64 8\n"
     ]
    }
   ],
   "source": [
    "print(input_values.dtype, input_values.dtype.itemsize)"
   ]
  },
  {
   "cell_type": "code",
   "execution_count": 23,
   "metadata": {},
   "outputs": [
    {
     "name": "stdout",
     "output_type": "stream",
     "text": [
      "int8 1\n"
     ]
    }
   ],
   "source": [
    "new_array = np.array([100, 100], dtype=np.int8)\n",
    "print(new_array.dtype, new_array.dtype.itemsize)"
   ]
  },
  {
   "cell_type": "markdown",
   "metadata": {},
   "source": [
    "Ah itemsize is in bytes."
   ]
  },
  {
   "cell_type": "code",
   "execution_count": 33,
   "metadata": {},
   "outputs": [],
   "source": [
    "def pb_threshold(input_values):\n",
    "    \"\"\"Apply a probablistic binary threshold to the input_values\"\"\"\n",
    "    input_size = input_values.size\n",
    "    data_type = input_values.dtype\n",
    "    bit_size = data_type.itemsize*8\n",
    "    rand_ints = get_rand_ints(bit_size, input_size)\n",
    "    print(input_values, '\\n', rand_ints, '\\n', np.where(input_values>rand_ints, 1, 0))\n",
    "    binary_values = np.where(input_values>rand_ints, 1, 0)\n",
    "    return binary_values"
   ]
  },
  {
   "cell_type": "code",
   "execution_count": 40,
   "metadata": {},
   "outputs": [
    {
     "name": "stdout",
     "output_type": "stream",
     "text": [
      "[155] \n",
      " [74] \n",
      " [1]\n"
     ]
    },
    {
     "data": {
      "text/plain": [
       "array([1])"
      ]
     },
     "execution_count": 40,
     "metadata": {},
     "output_type": "execute_result"
    }
   ],
   "source": [
    "pb_threshold(np.array([155], dtype=np.uint8))"
   ]
  },
  {
   "cell_type": "markdown",
   "metadata": {},
   "source": [
    "Ah we need to beware of signed and unsigned values. Here we assume all values are unsigned."
   ]
  }
 ],
 "metadata": {
  "kernelspec": {
   "display_name": "Python 3",
   "language": "python",
   "name": "python3"
  },
  "language_info": {
   "codemirror_mode": {
    "name": "ipython",
    "version": 3
   },
   "file_extension": ".py",
   "mimetype": "text/x-python",
   "name": "python",
   "nbconvert_exporter": "python",
   "pygments_lexer": "ipython3",
   "version": "3.6.8"
  }
 },
 "nbformat": 4,
 "nbformat_minor": 2
}
