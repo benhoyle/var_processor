{
 "cells": [
  {
   "cell_type": "markdown",
   "metadata": {},
   "source": [
    "In this notebook, we'll look at building a visualiser to view the VPU applied en-mass to FFT data."
   ]
  },
  {
   "cell_type": "markdown",
   "metadata": {},
   "source": [
    "We can make our SensorSource objects iterables that return a next frame of data - https://www.programiz.com/python-programming/iterator ```__iter__``` just returns self (with any initialisation) and ```__next__``` returns self.read().\n",
    "\n",
    "Our SensorSource objects also need a way of returning the size of the frame."
   ]
  },
  {
   "cell_type": "markdown",
   "metadata": {},
   "source": [
    "# Testing Sensor Sources"
   ]
  },
  {
   "cell_type": "code",
   "execution_count": 2,
   "metadata": {},
   "outputs": [
    {
     "name": "stdout",
     "output_type": "stream",
     "text": [
      "True\n",
      "(480, 640, 3)\n"
     ]
    }
   ],
   "source": [
    "from src.sources.capture import VideoSource\n",
    "\n",
    "video = VideoSource()\n",
    "video.start()\n",
    "grabbed, frame = video.read()\n",
    "print(grabbed)\n",
    "print(frame.shape)\n",
    "\n",
    "video.stop()"
   ]
  },
  {
   "cell_type": "code",
   "execution_count": 4,
   "metadata": {},
   "outputs": [
    {
     "name": "stdout",
     "output_type": "stream",
     "text": [
      "[!] Asynchroneous capturing has already been started.\n",
      "(65536,)\n"
     ]
    }
   ],
   "source": [
    "from src.sources.capture import AudioSource\n",
    "import time\n",
    "import numpy as np\n",
    "\n",
    "audio = AudioSource()\n",
    "audio.start()\n",
    "time.sleep(0.5)\n",
    "# Test read\n",
    "length1, samples1 = audio.read()\n",
    "assert length1\n",
    "assert samples1.any()\n",
    "# Check starting and getting a frame\n",
    "audio.start()\n",
    "time.sleep(0.5)\n",
    "length2, samples2 = audio.read()\n",
    "assert length2\n",
    "assert not np.array_equal(samples1, samples2)\n",
    "print(samples2.shape)\n",
    "# Test stopping\n",
    "audio.stop()\n",
    "assert not audio.started"
   ]
  },
  {
   "cell_type": "code",
   "execution_count": 5,
   "metadata": {},
   "outputs": [
    {
     "data": {
      "text/plain": [
       "True"
      ]
     },
     "execution_count": 5,
     "metadata": {},
     "output_type": "execute_result"
    }
   ],
   "source": [
    "from src.sources.capture import CombinedSource, SensorSource\n",
    "\n",
    "combined = CombinedSource()\n",
    "type(combined.sources) == dict"
   ]
  },
  {
   "cell_type": "code",
   "execution_count": 6,
   "metadata": {},
   "outputs": [
    {
     "data": {
      "text/plain": [
       "0"
      ]
     },
     "execution_count": 6,
     "metadata": {},
     "output_type": "execute_result"
    }
   ],
   "source": [
    "len(combined.sources)"
   ]
  },
  {
   "cell_type": "code",
   "execution_count": 7,
   "metadata": {},
   "outputs": [],
   "source": [
    "assert type(combined.sources) == dict\n",
    "assert len(combined.sources) == 0\n",
    "# Adding a source\n",
    "combined.add_source(SensorSource())"
   ]
  },
  {
   "cell_type": "code",
   "execution_count": 8,
   "metadata": {},
   "outputs": [
    {
     "data": {
      "text/plain": [
       "'SensorSource'"
      ]
     },
     "execution_count": 8,
     "metadata": {},
     "output_type": "execute_result"
    }
   ],
   "source": [
    "list(combined.sources.items())[0][0]"
   ]
  },
  {
   "cell_type": "code",
   "execution_count": 9,
   "metadata": {
    "scrolled": true
   },
   "outputs": [
    {
     "name": "stdout",
     "output_type": "stream",
     "text": [
      "{'audio': array([     0,      0,      0, ...,  -8800,  -8815, -10055], dtype=int16), 'video': array([[[181, 174, 127],\n",
      "        [181, 174, 127],\n",
      "        [182, 174, 130],\n",
      "        ...,\n",
      "        [255, 255, 255],\n",
      "        [255, 255, 255],\n",
      "        [255, 255, 255]],\n",
      "\n",
      "       [[181, 174, 127],\n",
      "        [181, 174, 127],\n",
      "        [184, 174, 130],\n",
      "        ...,\n",
      "        [255, 255, 255],\n",
      "        [255, 255, 255],\n",
      "        [255, 255, 255]],\n",
      "\n",
      "       [[183, 173, 127],\n",
      "        [183, 173, 127],\n",
      "        [184, 174, 130],\n",
      "        ...,\n",
      "        [255, 255, 255],\n",
      "        [255, 255, 255],\n",
      "        [255, 255, 255]],\n",
      "\n",
      "       ...,\n",
      "\n",
      "       [[129, 108,  82],\n",
      "        [129, 108,  82],\n",
      "        [128, 107,  88],\n",
      "        ...,\n",
      "        [ 58,  52,  62],\n",
      "        [ 58,  55,  56],\n",
      "        [ 59,  57,  57]],\n",
      "\n",
      "       [[128, 107,  81],\n",
      "        [129, 108,  82],\n",
      "        [128, 107,  88],\n",
      "        ...,\n",
      "        [ 54,  51,  58],\n",
      "        [ 58,  53,  54],\n",
      "        [ 60,  55,  56]],\n",
      "\n",
      "       [[128, 108,  79],\n",
      "        [128, 108,  79],\n",
      "        [128, 110,  81],\n",
      "        ...,\n",
      "        [ 50,  50,  57],\n",
      "        [ 54,  54,  54],\n",
      "        [ 54,  54,  54]]], dtype=uint8)}\n"
     ]
    }
   ],
   "source": [
    "from src.sources.capture import AVCapture\n",
    "\n",
    "av = AVCapture()\n",
    "av.start()\n",
    "time.sleep(0.25)\n",
    "data = av.read()\n",
    "print(data)\n",
    "av.stop()"
   ]
  },
  {
   "cell_type": "markdown",
   "metadata": {},
   "source": [
    "# Test Covariance Unit"
   ]
  },
  {
   "cell_type": "code",
   "execution_count": 49,
   "metadata": {},
   "outputs": [
    {
     "name": "stdout",
     "output_type": "stream",
     "text": [
      "[[0.]\n",
      " [0.]]\n",
      "[[0. 0.]\n",
      " [0. 0.]]\n",
      "[[nan nan]\n",
      " [nan nan]]\n",
      "---\n",
      "[[1.]\n",
      " [1.]]\n",
      "[[0. 0.]\n",
      " [0. 0.]]\n",
      "[[0. 0.]\n",
      " [0. 0.]]\n",
      "---\n",
      "[[4.]\n",
      " [4.]]\n",
      "[[0.66666667 0.66666667]\n",
      " [0.66666667 0.66666667]]\n",
      "[[0.33333333 0.33333333]\n",
      " [0.33333333 0.33333333]]\n",
      "---\n"
     ]
    },
    {
     "name": "stderr",
     "output_type": "stream",
     "text": [
      "/home/ben/projects/var_processor/src/var_processor/covariance.py:40: RuntimeWarning: invalid value encountered in true_divide\n",
      "  return self.square_sum / self.count\n"
     ]
    }
   ],
   "source": [
    "from src.var_processor.covariance import CovarianceUnit\n",
    "cov_unit = CovarianceUnit(2)\n",
    "print(cov_unit.x_sum, cov_unit.square_sum, cov_unit.covariance, sep=\"\\n\", end=\"\\n---\\n\")\n",
    "assert not cov_unit.x_sum.any()\n",
    "assert not cov_unit.square_sum.any()\n",
    "# Test updating with data\n",
    "ones = np.ones(shape=(2,1))\n",
    "cov_unit.update(ones)\n",
    "assert cov_unit.count == 1\n",
    "assert np.array_equal(cov_unit.x_sum, ones)\n",
    "assert np.array_equal(cov_unit.mean, ones)\n",
    "assert not cov_unit.covariance.any()\n",
    "print(cov_unit.x_sum, cov_unit.square_sum, cov_unit.covariance, sep=\"\\n\", end=\"\\n---\\n\")\n",
    "threes = ones*3\n",
    "cov_unit.update(threes)\n",
    "assert cov_unit.count == 2\n",
    "assert np.array_equal(cov_unit.x_sum, ones+threes)\n",
    "assert cov_unit.square_sum.any()\n",
    "assert np.array_equal(cov_unit.mean, ones*2)\n",
    "assert cov_unit.covariance.any()\n",
    "print(cov_unit.x_sum, cov_unit.square_sum, cov_unit.covariance, sep=\"\\n\", end=\"\\n---\\n\")"
   ]
  },
  {
   "cell_type": "code",
   "execution_count": 10,
   "metadata": {},
   "outputs": [
    {
     "data": {
      "text/plain": [
       "array([[0.89852016],\n",
       "       [0.43893226]])"
      ]
     },
     "execution_count": 10,
     "metadata": {},
     "output_type": "execute_result"
    }
   ],
   "source": [
    "from src.var_processor.power_iterator import PowerIterator\n",
    "\n",
    "power = PowerIterator(2)\n",
    "power.ev"
   ]
  },
  {
   "cell_type": "code",
   "execution_count": 11,
   "metadata": {},
   "outputs": [
    {
     "name": "stdout",
     "output_type": "stream",
     "text": [
      "[[0.24691358]\n",
      " [1.        ]]\n",
      "[[1.01018031]] [[ 0.20104366]\n",
      " [-0.00913835]]\n",
      "[[1.01018031]] [[ 0.20104366]\n",
      " [-0.00913835]]\n"
     ]
    }
   ],
   "source": [
    "from src.var_processor.vpu import VPU\n",
    "\n",
    "# Intialise VPU\n",
    "vpu = VPU(2)\n",
    "# Test Iteration\n",
    "in_1 = np.random.randint(255, size=(2, 1))\n",
    "in_1 = in_1 / in_1.max()\n",
    "print(in_1)\n",
    "r, residual = vpu.iterate(in_1)\n",
    "print(r, residual)\n",
    "r, residual = vpu.iterate(in_1)\n",
    "print(r, residual)"
   ]
  },
  {
   "cell_type": "code",
   "execution_count": 12,
   "metadata": {},
   "outputs": [
    {
     "name": "stdout",
     "output_type": "stream",
     "text": [
      "[[0.37425228]] [[1.18382669]\n",
      " [0.66755374]]\n"
     ]
    }
   ],
   "source": [
    "for _ in range(0, 100):\n",
    "    in_1 = np.random.randint(255, size=(2, 1))\n",
    "    in_1 = in_1 / in_1.max()\n",
    "    vpu.update_cov(in_1)\n",
    "r, residual = vpu.iterate(in_1)\n",
    "print(r, residual)"
   ]
  },
  {
   "cell_type": "code",
   "execution_count": 13,
   "metadata": {},
   "outputs": [
    {
     "data": {
      "text/plain": [
       "array([[ 0.10436427, -0.05691703],\n",
       "       [-0.05691703,  0.09511006]])"
      ]
     },
     "execution_count": 13,
     "metadata": {},
     "output_type": "execute_result"
    }
   ],
   "source": [
    "vpu.cu.covariance"
   ]
  },
  {
   "cell_type": "code",
   "execution_count": 14,
   "metadata": {},
   "outputs": [
    {
     "data": {
      "text/plain": [
       "array([[-0.4911839],\n",
       "       [ 0.8710559]])"
      ]
     },
     "execution_count": 14,
     "metadata": {},
     "output_type": "execute_result"
    }
   ],
   "source": [
    "vpu.pi.eigenvector"
   ]
  },
  {
   "cell_type": "code",
   "execution_count": 15,
   "metadata": {},
   "outputs": [
    {
     "data": {
      "text/plain": [
       "array([[ 0.10436427, -0.05691703],\n",
       "       [-0.05691703,  0.09511006]])"
      ]
     },
     "execution_count": 15,
     "metadata": {},
     "output_type": "execute_result"
    }
   ],
   "source": [
    "vpu.pi.cov"
   ]
  },
  {
   "cell_type": "code",
   "execution_count": 16,
   "metadata": {},
   "outputs": [
    {
     "name": "stdout",
     "output_type": "stream",
     "text": [
      "[[-0.10083996]\n",
      " [ 0.11080291]]\n"
     ]
    }
   ],
   "source": [
    "self = vpu.pi\n",
    "self.ev = np.matmul(np.power(self.cov, 1), self.ev)\n",
    "# Scale to have unit length (convert to integer values?)\n",
    "# self.ev = self.ev / np.linalg.norm(self.ev)\n",
    "print(self.ev)"
   ]
  },
  {
   "cell_type": "code",
   "execution_count": 17,
   "metadata": {},
   "outputs": [
    {
     "data": {
      "text/plain": [
       "array([[ 0.10436427, -0.05691703],\n",
       "       [-0.05691703,  0.09511006]])"
      ]
     },
     "execution_count": 17,
     "metadata": {},
     "output_type": "execute_result"
    }
   ],
   "source": [
    "np.power(self.cov, 1)"
   ]
  },
  {
   "cell_type": "code",
   "execution_count": 18,
   "metadata": {},
   "outputs": [
    {
     "data": {
      "text/plain": [
       "array([[-0.10083996],\n",
       "       [ 0.11080291]])"
      ]
     },
     "execution_count": 18,
     "metadata": {},
     "output_type": "execute_result"
    }
   ],
   "source": [
    "self.ev"
   ]
  },
  {
   "cell_type": "markdown",
   "metadata": {},
   "source": [
    "Ah this is it - if self.ev becomes nan it stays as nan. Need a check to prevent this"
   ]
  },
  {
   "cell_type": "code",
   "execution_count": 104,
   "metadata": {},
   "outputs": [
    {
     "name": "stdout",
     "output_type": "stream",
     "text": [
      "[[-0.71491043]] [[0.49987684]\n",
      " [0.48890307]]\n",
      "[[ 0.22997666 -0.01745778]\n",
      " [-0.01745778  0.231134  ]]\n",
      "[[nan nan]\n",
      " [nan nan]]\n"
     ]
    }
   ],
   "source": [
    "# Intialise VPU\n",
    "vpu2 = VPU(2)\n",
    "# Test Iteration\n",
    "for _ in range(0, 100):\n",
    "    data_in = np.random.randint(2, size=(2, 1))\n",
    "    cause, residual = vpu2.iterate(data_in)\n",
    "print(cause, residual)\n",
    "print(vpu2.cu.covariance)\n",
    "assert vpu2.cu.covariance.any()\n",
    "assert cause.any()\n",
    "assert residual.any()\n",
    "vpu2.reset()\n",
    "# assert not vpu2.cu.covariance.any()\n",
    "print(vpu2.cu.covariance)\n"
   ]
  },
  {
   "cell_type": "markdown",
   "metadata": {},
   "source": [
    "# Sensor Object"
   ]
  },
  {
   "cell_type": "markdown",
   "metadata": {},
   "source": [
    "The input into each VPU is a vector of N. Whatever the stage.\n",
    "\n",
    "Class object. \n",
    "* Internal variables (for init)\n",
    "    * vec_len - vector length (N)\n",
    "    * time_len - length of time buffering (M)\n",
    "* Methods\n",
    "    * generate_stage - create a new time stage.\n",
    "    * get_frame - get a frame of data from the sensor. \n",
    "        * Return:\n",
    "            * frame\n",
    "    \n",
    "\n",
    "\n",
    "Stage.\n",
    "* Internal variables (for init)\n",
    "    * vec_len - vector length (N)\n",
    "* Methods\n",
    "    * __init__ - initialise a set of VPUs for one time stage. \n",
    "        * Input\n",
    "            * stage_len - number of stages (k)\n",
    "            * vec_len - vector length (N)\n",
    "    * forward - input data and update VPUs.\n",
    "        * Input:\n",
    "            * stage_in - array of input data for stage.\n",
    "        * Return:  \n",
    "            * updated Rs and residuals for the stage as numpy array\n",
    "    * get_cause - get the Rs from all individual VPUs. In binary form or float form?\n",
    "        * Return:\n",
    "            * causes - numpy array of Rs\n",
    "\n",
    "We might actually want a \"stage\" object. generate_stage and process_stage are \"stage\" methods.\n",
    "\n",
    "Time stages = logN(sensor_resolution)\n",
    "\n",
    "We need a common way of getting the sensor_resolution. First time stage has sensor_resolution/N VPUs.\n",
    "\n",
    "See:\n",
    "* https://github.com/benhoyle/predictive_coding/blob/master/2019-10-28%20SpaceTime%20Grid%20object%20development.ipynb\n",
    "* https://github.com/benhoyle/predictive_coding/blob/master/Time%20Filtering.ipynb"
   ]
  },
  {
   "cell_type": "markdown",
   "metadata": {},
   "source": [
    "Below is very similar to our \"layer\" in the predictive_coding brain code. But we are flattening everything to 1D."
   ]
  },
  {
   "cell_type": "code",
   "execution_count": 19,
   "metadata": {},
   "outputs": [],
   "source": [
    "from src.var_processor.vpu import VPU\n",
    "\n",
    "class TimeStage:\n",
    "    \"\"\"Object to represent a time stage of processing.\"\"\"\n",
    "    \n",
    "    def __init__(self, vec_len, stage_len):\n",
    "        \"\"\"Initialise stage.\n",
    "        \n",
    "        Arg:\n",
    "            vec_len - length of each 1D vector processed by the VPUs.\n",
    "            stage_len - integer indicating number of VPUs.\n",
    "        \"\"\"\n",
    "        self.vec_len = vec_len\n",
    "        self.stage_len = stage_len\n",
    "        self.size = self.vec_len*self.stage_len\n",
    "        self.vpus = [VPU(vec_len) for _ in range(0, stage_len)]\n",
    "        # Create a blank array for the causes\n",
    "        self.causes = np.zeros(shape=(stage_len, 1))\n",
    "        # Create a blank array for the residuals\n",
    "        self.residuals = np.zeros(shape=(self.size, 1))\n",
    "        \n",
    "    def forward(self, stage_in):\n",
    "        \"\"\"Pass data to the stage for processing.\n",
    "        \n",
    "        Arg:\n",
    "            stage_in - 1D numpy array with data to process.\n",
    "        \"\"\"\n",
    "        # Create blank array to hold / pad data\n",
    "        \n",
    "        input_array = np.zeros(shape=(self.size, 1))\n",
    "        # Check data is of right size\n",
    "        if stage_in.shape[0] > self.size:\n",
    "            # Crop input\n",
    "            input_array = stage_in[:self.size]\n",
    "        elif stage_in.shape[0] < self.size:\n",
    "            input_array[:self.size] = stage_in\n",
    "        else:\n",
    "            input_array = stage_in\n",
    "        # Iterate through VPUs, passing data in\n",
    "        # Create a blank array for the causes\n",
    "        causes = np.zeros\n",
    "        for i, vpu in enumerate(self.vpus):\n",
    "            start = i*self.vec_len\n",
    "            end = (i+1)*self.vec_len\n",
    "            r, residual = vpu.iterate(input_array[start:end])\n",
    "            self.causes[i] = r\n",
    "            self.residuals[start:end] = residual\n",
    "        \n",
    "    def get_causes(self):\n",
    "        \"\"\"Return output of VPUs as array.\"\"\"\n",
    "        return self.causes\n",
    "    \n",
    "    def get_residuals(self):\n",
    "        \"\"\"Return residual output as array.\"\"\"\n",
    "        return self.residuals\n",
    "    \n",
    "    def __repr__(self):\n",
    "        \"\"\"Print layer information.\"\"\"\n",
    "        string = f\"There are {self.stage_len} units \\n\"\n",
    "        string += f\"with dimensionality {self.vec_len}x1\"\n",
    "        return string\n",
    "            \n",
    "        "
   ]
  },
  {
   "cell_type": "code",
   "execution_count": 20,
   "metadata": {},
   "outputs": [
    {
     "name": "stdout",
     "output_type": "stream",
     "text": [
      "There are 10 units \n",
      "with dimensionality 3x1\n"
     ]
    }
   ],
   "source": [
    "stages = TimeStage(3, 10)\n",
    "assert len(stages.vpus) == 10\n",
    "assert not stages.causes.any()\n",
    "assert not stages.residuals.any()\n",
    "print(stages)"
   ]
  },
  {
   "cell_type": "code",
   "execution_count": 78,
   "metadata": {},
   "outputs": [
    {
     "name": "stdout",
     "output_type": "stream",
     "text": [
      "[[0 1 1 1 1 0 0 0 0 1 0 0 1 1 1 0 0 0 0 1 0 1 1 1 1 1 0 1 0 0]]\n"
     ]
    }
   ],
   "source": [
    "data_in = np.random.randint(2, size=(stages.size, 1))\n",
    "print(data_in.T)\n",
    "\n",
    "stages.forward(data_in)"
   ]
  },
  {
   "cell_type": "code",
   "execution_count": 79,
   "metadata": {},
   "outputs": [
    {
     "data": {
      "text/plain": [
       "array([[1.16255087],\n",
       "       [1.18229776],\n",
       "       [0.        ],\n",
       "       [0.69690351],\n",
       "       [1.65516967],\n",
       "       [0.        ],\n",
       "       [0.55931224],\n",
       "       [1.27483635],\n",
       "       [0.95252383],\n",
       "       [0.6175415 ]])"
      ]
     },
     "execution_count": 79,
     "metadata": {},
     "output_type": "execute_result"
    }
   ],
   "source": [
    "stages.causes"
   ]
  },
  {
   "cell_type": "code",
   "execution_count": 80,
   "metadata": {
    "scrolled": true
   },
   "outputs": [
    {
     "data": {
      "text/plain": [
       "array([[-0.65255676],\n",
       "       [ 0.24554551],\n",
       "       [ 0.40292996],\n",
       "       [ 0.20690901],\n",
       "       [ 0.395263  ],\n",
       "       [-0.63492349],\n",
       "       [ 0.        ],\n",
       "       [ 0.        ],\n",
       "       [ 0.        ],\n",
       "       [ 0.51432549],\n",
       "       [-0.08843269],\n",
       "       [-0.49190897],\n",
       "       [ 0.41373736],\n",
       "       [ 0.12016362],\n",
       "       [-0.27348761],\n",
       "       [ 0.        ],\n",
       "       [ 0.        ],\n",
       "       [ 0.        ],\n",
       "       [-0.30632323],\n",
       "       [ 0.68716982],\n",
       "       [-0.34804244],\n",
       "       [ 0.11131143],\n",
       "       [ 0.10060479],\n",
       "       [ 1.16287605],\n",
       "       [ 0.64792454],\n",
       "       [ 0.4447738 ],\n",
       "       [-0.68925206],\n",
       "       [ 0.6186425 ],\n",
       "       [-0.25279038],\n",
       "       [-0.41475412]])"
      ]
     },
     "execution_count": 80,
     "metadata": {},
     "output_type": "execute_result"
    }
   ],
   "source": [
    "stages.residuals"
   ]
  },
  {
   "cell_type": "markdown",
   "metadata": {},
   "source": [
    "We need a method to \"bed in\" the covariance - we need to input data for a certain number of iterations."
   ]
  },
  {
   "cell_type": "code",
   "execution_count": 82,
   "metadata": {},
   "outputs": [
    {
     "data": {
      "text/plain": [
       "False"
      ]
     },
     "execution_count": 82,
     "metadata": {},
     "output_type": "execute_result"
    }
   ],
   "source": [
    "\"9\" in stages.__repr__()"
   ]
  },
  {
   "cell_type": "code",
   "execution_count": null,
   "metadata": {},
   "outputs": [],
   "source": [
    "for _ in range(0, 100):\n",
    "    in_1 = np.random.randint(255, size=(2, 1))\n",
    "    in_1 = in_1 / in_1.max()\n",
    "    vpu.update_cov(in_1)"
   ]
  },
  {
   "cell_type": "code",
   "execution_count": null,
   "metadata": {},
   "outputs": [],
   "source": [
    "class Sensor:\n",
    "    \"\"\"Object to process a 1D sensor signal.\"\"\"\n",
    "\n",
    "    def __init__(self, sensor_source):\n",
    "        \"\"\"Initialise sensor.\n",
    "\n",
    "        Arg:\n",
    "            sensor_source - SensorSource object that outputs a\n",
    "            vector of sensor readings when iterated.\n",
    "        \"\"\"\n",
    "        "
   ]
  }
 ],
 "metadata": {
  "kernelspec": {
   "display_name": "Python 3",
   "language": "python",
   "name": "python3"
  },
  "language_info": {
   "codemirror_mode": {
    "name": "ipython",
    "version": 3
   },
   "file_extension": ".py",
   "mimetype": "text/x-python",
   "name": "python",
   "nbconvert_exporter": "python",
   "pygments_lexer": "ipython3",
   "version": "3.6.8"
  }
 },
 "nbformat": 4,
 "nbformat_minor": 2
}
