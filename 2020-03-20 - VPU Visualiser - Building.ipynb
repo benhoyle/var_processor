{
 "cells": [
  {
   "cell_type": "markdown",
   "metadata": {},
   "source": [
    "In this notebook, we'll look at building a visualiser to view the VPU applied en-mass to FFT data."
   ]
  },
  {
   "cell_type": "markdown",
   "metadata": {},
   "source": [
    "We can make our SensorSource objects iterables that return a next frame of data - https://www.programiz.com/python-programming/iterator ```__iter__``` just returns self (with any initialisation) and ```__next__``` returns self.read().\n",
    "\n",
    "Our SensorSource objects also need a way of returning the size of the frame."
   ]
  },
  {
   "cell_type": "markdown",
   "metadata": {},
   "source": [
    "# Testing Sensor Sources"
   ]
  },
  {
   "cell_type": "code",
   "execution_count": 1,
   "metadata": {},
   "outputs": [
    {
     "name": "stdout",
     "output_type": "stream",
     "text": [
      "True\n",
      "(480, 640, 3)\n"
     ]
    }
   ],
   "source": [
    "from src.sources.capture import VideoSource\n",
    "\n",
    "video = VideoSource()\n",
    "video.start()\n",
    "grabbed, frame = video.read()\n",
    "print(grabbed)\n",
    "print(frame.shape)\n",
    "\n",
    "video.stop()"
   ]
  },
  {
   "cell_type": "code",
   "execution_count": 2,
   "metadata": {},
   "outputs": [
    {
     "name": "stdout",
     "output_type": "stream",
     "text": [
      "[!] Asynchroneous capturing has already been started.\n",
      "(65536,)\n"
     ]
    }
   ],
   "source": [
    "from src.sources.capture import AudioSource\n",
    "import time\n",
    "import numpy as np\n",
    "\n",
    "audio = AudioSource()\n",
    "audio.start()\n",
    "time.sleep(0.5)\n",
    "# Test read\n",
    "length1, samples1 = audio.read()\n",
    "assert length1\n",
    "assert samples1.any()\n",
    "# Check starting and getting a frame\n",
    "audio.start()\n",
    "time.sleep(0.5)\n",
    "length2, samples2 = audio.read()\n",
    "assert length2\n",
    "assert not np.array_equal(samples1, samples2)\n",
    "print(samples2.shape)\n",
    "# Test stopping\n",
    "audio.stop()\n",
    "assert not audio.started"
   ]
  },
  {
   "cell_type": "code",
   "execution_count": 3,
   "metadata": {},
   "outputs": [
    {
     "data": {
      "text/plain": [
       "True"
      ]
     },
     "execution_count": 3,
     "metadata": {},
     "output_type": "execute_result"
    }
   ],
   "source": [
    "from src.sources.capture import CombinedSource, SensorSource\n",
    "\n",
    "combined = CombinedSource()\n",
    "type(combined.sources) == dict"
   ]
  },
  {
   "cell_type": "code",
   "execution_count": 4,
   "metadata": {},
   "outputs": [
    {
     "data": {
      "text/plain": [
       "0"
      ]
     },
     "execution_count": 4,
     "metadata": {},
     "output_type": "execute_result"
    }
   ],
   "source": [
    "len(combined.sources)"
   ]
  },
  {
   "cell_type": "code",
   "execution_count": 5,
   "metadata": {},
   "outputs": [],
   "source": [
    "assert type(combined.sources) == dict\n",
    "assert len(combined.sources) == 0\n",
    "# Adding a source\n",
    "combined.add_source(SensorSource())"
   ]
  },
  {
   "cell_type": "code",
   "execution_count": 6,
   "metadata": {},
   "outputs": [
    {
     "data": {
      "text/plain": [
       "'SensorSource'"
      ]
     },
     "execution_count": 6,
     "metadata": {},
     "output_type": "execute_result"
    }
   ],
   "source": [
    "list(combined.sources.items())[0][0]"
   ]
  },
  {
   "cell_type": "code",
   "execution_count": 7,
   "metadata": {
    "scrolled": true
   },
   "outputs": [
    {
     "name": "stdout",
     "output_type": "stream",
     "text": [
      "{'audio': array([    0,     0,     0, ...,  9282, 11614, 11899], dtype=int16), 'video': array([[[168, 166, 125],\n",
      "        [168, 166, 125],\n",
      "        [169, 163, 125],\n",
      "        ...,\n",
      "        [255, 255, 255],\n",
      "        [255, 255, 255],\n",
      "        [255, 255, 255]],\n",
      "\n",
      "       [[170, 164, 127],\n",
      "        [170, 164, 127],\n",
      "        [169, 163, 125],\n",
      "        ...,\n",
      "        [255, 255, 255],\n",
      "        [255, 255, 255],\n",
      "        [255, 255, 255]],\n",
      "\n",
      "       [[170, 164, 127],\n",
      "        [169, 163, 125],\n",
      "        [169, 163, 125],\n",
      "        ...,\n",
      "        [255, 255, 255],\n",
      "        [255, 255, 255],\n",
      "        [255, 255, 255]],\n",
      "\n",
      "       ...,\n",
      "\n",
      "       [[114, 104,  80],\n",
      "        [114, 104,  80],\n",
      "        [114, 103,  82],\n",
      "        ...,\n",
      "        [103,  88,  91],\n",
      "        [101,  90,  88],\n",
      "        [101,  90,  88]],\n",
      "\n",
      "       [[114, 104,  80],\n",
      "        [113, 102,  79],\n",
      "        [113, 102,  81],\n",
      "        ...,\n",
      "        [104,  90,  92],\n",
      "        [101,  91,  86],\n",
      "        [102,  92,  87]],\n",
      "\n",
      "       [[115, 105,  73],\n",
      "        [115, 105,  73],\n",
      "        [112, 104,  73],\n",
      "        ...,\n",
      "        [103,  88,  91],\n",
      "        [101,  91,  86],\n",
      "        [102,  92,  87]]], dtype=uint8)}\n"
     ]
    }
   ],
   "source": [
    "from src.sources.capture import AVCapture\n",
    "\n",
    "av = AVCapture()\n",
    "av.start()\n",
    "time.sleep(0.25)\n",
    "data = av.read()\n",
    "print(data)\n",
    "av.stop()"
   ]
  },
  {
   "cell_type": "markdown",
   "metadata": {},
   "source": [
    "# Test Covariance Unit"
   ]
  },
  {
   "cell_type": "code",
   "execution_count": 8,
   "metadata": {},
   "outputs": [
    {
     "name": "stdout",
     "output_type": "stream",
     "text": [
      "[[0.]\n",
      " [0.]]\n",
      "[[0. 0.]\n",
      " [0. 0.]]\n",
      "[[0. 0.]\n",
      " [0. 0.]]\n",
      "---\n",
      "[[1.]\n",
      " [1.]]\n",
      "[[0. 0.]\n",
      " [0. 0.]]\n",
      "[[0. 0.]\n",
      " [0. 0.]]\n",
      "---\n",
      "[[4.]\n",
      " [4.]]\n",
      "[[0.66666667 0.66666667]\n",
      " [0.66666667 0.66666667]]\n",
      "[[0.33333333 0.33333333]\n",
      " [0.33333333 0.33333333]]\n",
      "---\n"
     ]
    }
   ],
   "source": [
    "from src.var_processor.covariance import CovarianceUnit\n",
    "cov_unit = CovarianceUnit(2)\n",
    "print(cov_unit.x_sum, cov_unit.square_sum, cov_unit.covariance, sep=\"\\n\", end=\"\\n---\\n\")\n",
    "assert not cov_unit.x_sum.any()\n",
    "assert not cov_unit.square_sum.any()\n",
    "# Test updating with data\n",
    "ones = np.ones(shape=(2,1))\n",
    "cov_unit.update(ones)\n",
    "assert cov_unit.count == 1\n",
    "assert np.array_equal(cov_unit.x_sum, ones)\n",
    "assert np.array_equal(cov_unit.mean, ones)\n",
    "assert not cov_unit.covariance.any()\n",
    "print(cov_unit.x_sum, cov_unit.square_sum, cov_unit.covariance, sep=\"\\n\", end=\"\\n---\\n\")\n",
    "threes = ones*3\n",
    "cov_unit.update(threes)\n",
    "assert cov_unit.count == 2\n",
    "assert np.array_equal(cov_unit.x_sum, ones+threes)\n",
    "assert cov_unit.square_sum.any()\n",
    "assert np.array_equal(cov_unit.mean, ones*2)\n",
    "assert cov_unit.covariance.any()\n",
    "print(cov_unit.x_sum, cov_unit.square_sum, cov_unit.covariance, sep=\"\\n\", end=\"\\n---\\n\")"
   ]
  },
  {
   "cell_type": "code",
   "execution_count": 9,
   "metadata": {},
   "outputs": [
    {
     "data": {
      "text/plain": [
       "array([[0.86279936],\n",
       "       [0.5055465 ]])"
      ]
     },
     "execution_count": 9,
     "metadata": {},
     "output_type": "execute_result"
    }
   ],
   "source": [
    "from src.var_processor.power_iterator import PowerIterator\n",
    "\n",
    "power = PowerIterator(2)\n",
    "power.ev"
   ]
  },
  {
   "cell_type": "code",
   "execution_count": 10,
   "metadata": {},
   "outputs": [
    {
     "name": "stdout",
     "output_type": "stream",
     "text": [
      "[[0.35507246]\n",
      " [1.        ]]\n",
      "[[1.02462119]] [[-0.22718288]\n",
      " [ 0.15689426]]\n",
      "[[1.02462119]] [[-0.22718288]\n",
      " [ 0.15689426]]\n"
     ]
    }
   ],
   "source": [
    "from src.var_processor.vpu import VPU\n",
    "\n",
    "# Intialise VPU\n",
    "vpu = VPU(2)\n",
    "# Test Iteration\n",
    "in_1 = np.random.randint(255, size=(2, 1))\n",
    "in_1 = in_1 / in_1.max()\n",
    "print(in_1)\n",
    "r, residual = vpu.iterate(in_1)\n",
    "print(r, residual)\n",
    "r, residual = vpu.iterate(in_1)\n",
    "print(r, residual)"
   ]
  },
  {
   "cell_type": "code",
   "execution_count": 11,
   "metadata": {},
   "outputs": [
    {
     "name": "stdout",
     "output_type": "stream",
     "text": [
      "[[0.9990324]] [[0.16566375]\n",
      " [0.00098527]]\n"
     ]
    }
   ],
   "source": [
    "for _ in range(0, 100):\n",
    "    in_1 = np.random.randint(255, size=(2, 1))\n",
    "    in_1 = in_1 / in_1.max()\n",
    "    vpu.update_cov(in_1)\n",
    "r, residual = vpu.iterate(in_1)\n",
    "print(r, residual)"
   ]
  },
  {
   "cell_type": "code",
   "execution_count": 12,
   "metadata": {},
   "outputs": [
    {
     "data": {
      "text/plain": [
       "array([[ 0.09394926, -0.06520071],\n",
       "       [-0.06520071,  0.09860119]])"
      ]
     },
     "execution_count": 12,
     "metadata": {},
     "output_type": "execute_result"
    }
   ],
   "source": [
    "vpu.cu.covariance"
   ]
  },
  {
   "cell_type": "code",
   "execution_count": 13,
   "metadata": {},
   "outputs": [
    {
     "data": {
      "text/plain": [
       "array([[-0.00594728],\n",
       "       [ 0.99998231]])"
      ]
     },
     "execution_count": 13,
     "metadata": {},
     "output_type": "execute_result"
    }
   ],
   "source": [
    "vpu.pi.eigenvector"
   ]
  },
  {
   "cell_type": "code",
   "execution_count": 14,
   "metadata": {},
   "outputs": [
    {
     "data": {
      "text/plain": [
       "array([[ 0.09394926, -0.06520071],\n",
       "       [-0.06520071,  0.09860119]])"
      ]
     },
     "execution_count": 14,
     "metadata": {},
     "output_type": "execute_result"
    }
   ],
   "source": [
    "vpu.pi.cov"
   ]
  },
  {
   "cell_type": "code",
   "execution_count": 15,
   "metadata": {},
   "outputs": [
    {
     "name": "stdout",
     "output_type": "stream",
     "text": [
      "[[-0.0657583 ]\n",
      " [ 0.09898721]]\n"
     ]
    }
   ],
   "source": [
    "self = vpu.pi\n",
    "self.ev = np.matmul(np.power(self.cov, 1), self.ev)\n",
    "# Scale to have unit length (convert to integer values?)\n",
    "# self.ev = self.ev / np.linalg.norm(self.ev)\n",
    "print(self.ev)"
   ]
  },
  {
   "cell_type": "code",
   "execution_count": 16,
   "metadata": {},
   "outputs": [
    {
     "data": {
      "text/plain": [
       "array([[ 0.09394926, -0.06520071],\n",
       "       [-0.06520071,  0.09860119]])"
      ]
     },
     "execution_count": 16,
     "metadata": {},
     "output_type": "execute_result"
    }
   ],
   "source": [
    "np.power(self.cov, 1)"
   ]
  },
  {
   "cell_type": "code",
   "execution_count": 17,
   "metadata": {},
   "outputs": [
    {
     "data": {
      "text/plain": [
       "array([[-0.0657583 ],\n",
       "       [ 0.09898721]])"
      ]
     },
     "execution_count": 17,
     "metadata": {},
     "output_type": "execute_result"
    }
   ],
   "source": [
    "self.ev"
   ]
  },
  {
   "cell_type": "markdown",
   "metadata": {},
   "source": [
    "Ah this is it - if self.ev becomes nan it stays as nan. Need a check to prevent this"
   ]
  },
  {
   "cell_type": "code",
   "execution_count": 18,
   "metadata": {},
   "outputs": [
    {
     "name": "stdout",
     "output_type": "stream",
     "text": [
      "[[0.03363139]] [[1.02320872]\n",
      " [0.97566021]]\n",
      "[[ 0.22984049 -0.03108702]\n",
      " [-0.03108702  0.23272918]]\n",
      "[[0. 0.]\n",
      " [0. 0.]]\n"
     ]
    }
   ],
   "source": [
    "# Intialise VPU\n",
    "vpu2 = VPU(2)\n",
    "# Test Iteration\n",
    "for _ in range(0, 100):\n",
    "    data_in = np.random.randint(2, size=(2, 1))\n",
    "    cause, residual = vpu2.iterate(data_in)\n",
    "print(cause, residual)\n",
    "print(vpu2.cu.covariance)\n",
    "assert vpu2.cu.covariance.any()\n",
    "assert cause.any()\n",
    "assert residual.any()\n",
    "vpu2.reset()\n",
    "# assert not vpu2.cu.covariance.any()\n",
    "print(vpu2.cu.covariance)\n"
   ]
  },
  {
   "cell_type": "markdown",
   "metadata": {},
   "source": [
    "## BufferVPU"
   ]
  },
  {
   "cell_type": "code",
   "execution_count": 19,
   "metadata": {},
   "outputs": [],
   "source": [
    "from src.var_processor.vpu import BufferVPU"
   ]
  },
  {
   "cell_type": "code",
   "execution_count": 20,
   "metadata": {},
   "outputs": [],
   "source": [
    "vpu = BufferVPU(2, 4)\n",
    "assert vpu.buffer.shape == (2, 4)\n",
    "assert vpu.cu.covariance.shape == (8, 8)\n",
    "assert vpu.pi.ev.shape == (8, 1)"
   ]
  },
  {
   "cell_type": "code",
   "execution_count": 23,
   "metadata": {},
   "outputs": [
    {
     "name": "stdout",
     "output_type": "stream",
     "text": [
      "[[0.]\n",
      " [0.]\n",
      " [0.]\n",
      " [1.]\n",
      " [0.]\n",
      " [0.]\n",
      " [0.]\n",
      " [0.]] (8, 1)\n"
     ]
    }
   ],
   "source": [
    "reshaped = vpu.buffer.reshape(-1, 1)\n",
    "print(reshaped, reshaped.shape)"
   ]
  },
  {
   "cell_type": "code",
   "execution_count": 21,
   "metadata": {},
   "outputs": [
    {
     "ename": "ValueError",
     "evalue": "non-broadcastable output operand with shape (8,1) doesn't match the broadcast shape (8,8)",
     "output_type": "error",
     "traceback": [
      "\u001b[0;31m---------------------------------------------------------------------------\u001b[0m",
      "\u001b[0;31mValueError\u001b[0m                                Traceback (most recent call last)",
      "\u001b[0;32m<ipython-input-21-ba54bf06a774>\u001b[0m in \u001b[0;36m<module>\u001b[0;34m\u001b[0m\n\u001b[1;32m      2\u001b[0m \u001b[0;32mfor\u001b[0m \u001b[0m_\u001b[0m \u001b[0;32min\u001b[0m \u001b[0mrange\u001b[0m\u001b[0;34m(\u001b[0m\u001b[0;36m0\u001b[0m\u001b[0;34m,\u001b[0m \u001b[0;36m100\u001b[0m\u001b[0;34m)\u001b[0m\u001b[0;34m:\u001b[0m\u001b[0;34m\u001b[0m\u001b[0;34m\u001b[0m\u001b[0m\n\u001b[1;32m      3\u001b[0m     \u001b[0mdata_in\u001b[0m \u001b[0;34m=\u001b[0m \u001b[0mnp\u001b[0m\u001b[0;34m.\u001b[0m\u001b[0mrandom\u001b[0m\u001b[0;34m.\u001b[0m\u001b[0mrandint\u001b[0m\u001b[0;34m(\u001b[0m\u001b[0;36m2\u001b[0m\u001b[0;34m,\u001b[0m \u001b[0msize\u001b[0m\u001b[0;34m=\u001b[0m\u001b[0;34m(\u001b[0m\u001b[0;36m2\u001b[0m\u001b[0;34m,\u001b[0m \u001b[0;36m1\u001b[0m\u001b[0;34m)\u001b[0m\u001b[0;34m)\u001b[0m\u001b[0;34m\u001b[0m\u001b[0;34m\u001b[0m\u001b[0m\n\u001b[0;32m----> 4\u001b[0;31m     \u001b[0mcause\u001b[0m\u001b[0;34m,\u001b[0m \u001b[0mresidual\u001b[0m \u001b[0;34m=\u001b[0m \u001b[0mvpu\u001b[0m\u001b[0;34m.\u001b[0m\u001b[0miterate\u001b[0m\u001b[0;34m(\u001b[0m\u001b[0mdata_in\u001b[0m\u001b[0;34m)\u001b[0m\u001b[0;34m\u001b[0m\u001b[0;34m\u001b[0m\u001b[0m\n\u001b[0m\u001b[1;32m      5\u001b[0m \u001b[0mold_cov\u001b[0m \u001b[0;34m=\u001b[0m \u001b[0mvpu\u001b[0m\u001b[0;34m.\u001b[0m\u001b[0mcu\u001b[0m\u001b[0;34m.\u001b[0m\u001b[0mcovariance\u001b[0m\u001b[0;34m\u001b[0m\u001b[0;34m\u001b[0m\u001b[0m\n\u001b[1;32m      6\u001b[0m \u001b[0;32massert\u001b[0m \u001b[0mold_cov\u001b[0m\u001b[0;34m.\u001b[0m\u001b[0many\u001b[0m\u001b[0;34m(\u001b[0m\u001b[0;34m)\u001b[0m\u001b[0;34m\u001b[0m\u001b[0;34m\u001b[0m\u001b[0m\n",
      "\u001b[0;32m~/projects/var_processor/src/var_processor/vpu.py\u001b[0m in \u001b[0;36miterate\u001b[0;34m(self, input_data)\u001b[0m\n\u001b[1;32m    122\u001b[0m         \u001b[0mself\u001b[0m\u001b[0;34m.\u001b[0m\u001b[0mbuffer\u001b[0m\u001b[0;34m[\u001b[0m\u001b[0;34m...\u001b[0m\u001b[0;34m,\u001b[0m \u001b[0;34m-\u001b[0m\u001b[0;36m1\u001b[0m\u001b[0;34m]\u001b[0m \u001b[0;34m=\u001b[0m \u001b[0minput_data\u001b[0m\u001b[0;34m.\u001b[0m\u001b[0mflatten\u001b[0m\u001b[0;34m(\u001b[0m\u001b[0;34m)\u001b[0m\u001b[0;34m\u001b[0m\u001b[0;34m\u001b[0m\u001b[0m\n\u001b[1;32m    123\u001b[0m         \u001b[0;31m# Flatten buffer and provide as input to parent method\u001b[0m\u001b[0;34m\u001b[0m\u001b[0;34m\u001b[0m\u001b[0;34m\u001b[0m\u001b[0m\n\u001b[0;32m--> 124\u001b[0;31m         \u001b[0;32mreturn\u001b[0m \u001b[0msuper\u001b[0m\u001b[0;34m(\u001b[0m\u001b[0mBufferVPU\u001b[0m\u001b[0;34m,\u001b[0m \u001b[0mself\u001b[0m\u001b[0;34m)\u001b[0m\u001b[0;34m.\u001b[0m\u001b[0miterate\u001b[0m\u001b[0;34m(\u001b[0m\u001b[0mself\u001b[0m\u001b[0;34m.\u001b[0m\u001b[0mbuffer\u001b[0m\u001b[0;34m.\u001b[0m\u001b[0mflatten\u001b[0m\u001b[0;34m(\u001b[0m\u001b[0;34m)\u001b[0m\u001b[0;34m)\u001b[0m\u001b[0;34m\u001b[0m\u001b[0;34m\u001b[0m\u001b[0m\n\u001b[0m\u001b[1;32m    125\u001b[0m \u001b[0;34m\u001b[0m\u001b[0m\n\u001b[1;32m    126\u001b[0m \u001b[0;34m\u001b[0m\u001b[0m\n",
      "\u001b[0;32m~/projects/var_processor/src/var_processor/vpu.py\u001b[0m in \u001b[0;36miterate\u001b[0;34m(self, input_data)\u001b[0m\n\u001b[1;32m     50\u001b[0m         \"\"\"\n\u001b[1;32m     51\u001b[0m         \u001b[0;31m# Update covariance matrix\u001b[0m\u001b[0;34m\u001b[0m\u001b[0;34m\u001b[0m\u001b[0;34m\u001b[0m\u001b[0m\n\u001b[0;32m---> 52\u001b[0;31m         \u001b[0mself\u001b[0m\u001b[0;34m.\u001b[0m\u001b[0mupdate_cov\u001b[0m\u001b[0;34m(\u001b[0m\u001b[0minput_data\u001b[0m\u001b[0;34m)\u001b[0m\u001b[0;34m\u001b[0m\u001b[0;34m\u001b[0m\u001b[0m\n\u001b[0m\u001b[1;32m     53\u001b[0m         \u001b[0mcov\u001b[0m \u001b[0;34m=\u001b[0m \u001b[0mself\u001b[0m\u001b[0;34m.\u001b[0m\u001b[0mcu\u001b[0m\u001b[0;34m.\u001b[0m\u001b[0mcovariance\u001b[0m\u001b[0;34m\u001b[0m\u001b[0;34m\u001b[0m\u001b[0m\n\u001b[1;32m     54\u001b[0m         \u001b[0;31m# Power iterate\u001b[0m\u001b[0;34m\u001b[0m\u001b[0;34m\u001b[0m\u001b[0;34m\u001b[0m\u001b[0m\n",
      "\u001b[0;32m~/projects/var_processor/src/var_processor/vpu.py\u001b[0m in \u001b[0;36mupdate_cov\u001b[0;34m(self, input_data)\u001b[0m\n\u001b[1;32m     72\u001b[0m             \u001b[0minput_data\u001b[0m\u001b[0;34m:\u001b[0m \u001b[0;36m1\u001b[0m\u001b[0mD\u001b[0m \u001b[0mnumpy\u001b[0m \u001b[0marray\u001b[0m \u001b[0mof\u001b[0m \u001b[0mlength\u001b[0m \u001b[0mself\u001b[0m\u001b[0;34m.\u001b[0m\u001b[0msize\u001b[0m\u001b[0;34m.\u001b[0m\u001b[0;34m\u001b[0m\u001b[0;34m\u001b[0m\u001b[0m\n\u001b[1;32m     73\u001b[0m         \"\"\"\n\u001b[0;32m---> 74\u001b[0;31m         \u001b[0mself\u001b[0m\u001b[0;34m.\u001b[0m\u001b[0mcu\u001b[0m\u001b[0;34m.\u001b[0m\u001b[0mupdate\u001b[0m\u001b[0;34m(\u001b[0m\u001b[0minput_data\u001b[0m\u001b[0;34m)\u001b[0m\u001b[0;34m\u001b[0m\u001b[0;34m\u001b[0m\u001b[0m\n\u001b[0m\u001b[1;32m     75\u001b[0m \u001b[0;34m\u001b[0m\u001b[0m\n\u001b[1;32m     76\u001b[0m     \u001b[0;32mdef\u001b[0m \u001b[0mprocess_r\u001b[0m\u001b[0;34m(\u001b[0m\u001b[0mself\u001b[0m\u001b[0;34m,\u001b[0m \u001b[0mr\u001b[0m\u001b[0;34m)\u001b[0m\u001b[0;34m:\u001b[0m\u001b[0;34m\u001b[0m\u001b[0;34m\u001b[0m\u001b[0m\n",
      "\u001b[0;32m~/projects/var_processor/src/var_processor/covariance.py\u001b[0m in \u001b[0;36mupdate\u001b[0;34m(self, x)\u001b[0m\n\u001b[1;32m     25\u001b[0m         \"\"\"\n\u001b[1;32m     26\u001b[0m         \u001b[0mself\u001b[0m\u001b[0;34m.\u001b[0m\u001b[0mcount\u001b[0m \u001b[0;34m+=\u001b[0m \u001b[0;36m1\u001b[0m\u001b[0;34m\u001b[0m\u001b[0;34m\u001b[0m\u001b[0m\n\u001b[0;32m---> 27\u001b[0;31m         \u001b[0mself\u001b[0m\u001b[0;34m.\u001b[0m\u001b[0mx_sum\u001b[0m \u001b[0;34m+=\u001b[0m \u001b[0mx\u001b[0m\u001b[0;34m\u001b[0m\u001b[0;34m\u001b[0m\u001b[0m\n\u001b[0m\u001b[1;32m     28\u001b[0m         \u001b[0mx_dash\u001b[0m \u001b[0;34m=\u001b[0m \u001b[0mself\u001b[0m\u001b[0;34m.\u001b[0m\u001b[0mx_sum\u001b[0m \u001b[0;34m-\u001b[0m \u001b[0mself\u001b[0m\u001b[0;34m.\u001b[0m\u001b[0mcount\u001b[0m\u001b[0;34m*\u001b[0m\u001b[0mx\u001b[0m\u001b[0;34m\u001b[0m\u001b[0;34m\u001b[0m\u001b[0m\n\u001b[1;32m     29\u001b[0m         \u001b[0mscale_factor\u001b[0m \u001b[0;34m=\u001b[0m \u001b[0mself\u001b[0m\u001b[0;34m.\u001b[0m\u001b[0mcount\u001b[0m\u001b[0;34m*\u001b[0m\u001b[0;34m(\u001b[0m\u001b[0mself\u001b[0m\u001b[0;34m.\u001b[0m\u001b[0mcount\u001b[0m\u001b[0;34m+\u001b[0m\u001b[0;36m1\u001b[0m\u001b[0;34m)\u001b[0m\u001b[0;34m\u001b[0m\u001b[0;34m\u001b[0m\u001b[0m\n",
      "\u001b[0;31mValueError\u001b[0m: non-broadcastable output operand with shape (8,1) doesn't match the broadcast shape (8,8)"
     ]
    }
   ],
   "source": [
    "# Test Iteration\n",
    "for _ in range(0, 100):\n",
    "    data_in = np.random.randint(2, size=(2, 1))\n",
    "    cause, residual = vpu.iterate(data_in)\n",
    "old_cov = vpu.cu.covariance\n",
    "assert old_cov.any()\n",
    "vpu.reset()\n",
    "new_cov = vpu.cu.covariance\n",
    "assert not np.array_equal(old_cov, new_cov)"
   ]
  },
  {
   "cell_type": "markdown",
   "metadata": {},
   "source": [
    "# Sensor Object"
   ]
  },
  {
   "cell_type": "markdown",
   "metadata": {},
   "source": [
    "The input into each VPU is a vector of N. Whatever the stage.\n",
    "\n",
    "Class object. \n",
    "* Internal variables (for init)\n",
    "    * vec_len - vector length (N)\n",
    "    * time_len - length of time buffering (M)\n",
    "* Methods\n",
    "    * generate_stage - create a new time stage.\n",
    "    * get_frame - get a frame of data from the sensor. \n",
    "        * Return:\n",
    "            * frame\n",
    "    \n",
    "\n",
    "\n",
    "Stage.\n",
    "* Internal variables (for init)\n",
    "    * vec_len - vector length (N)\n",
    "* Methods\n",
    "    * __init__ - initialise a set of VPUs for one time stage. \n",
    "        * Input\n",
    "            * stage_len - number of stages (k)\n",
    "            * vec_len - vector length (N)\n",
    "    * forward - input data and update VPUs.\n",
    "        * Input:\n",
    "            * stage_in - array of input data for stage.\n",
    "        * Return:  \n",
    "            * updated Rs and residuals for the stage as numpy array\n",
    "    * get_cause - get the Rs from all individual VPUs. In binary form or float form?\n",
    "        * Return:\n",
    "            * causes - numpy array of Rs\n",
    "\n",
    "We might actually want a \"stage\" object. generate_stage and process_stage are \"stage\" methods.\n",
    "\n",
    "Time stages = logN(sensor_resolution)\n",
    "\n",
    "We need a common way of getting the sensor_resolution. First time stage has sensor_resolution/N VPUs.\n",
    "\n",
    "See:\n",
    "* https://github.com/benhoyle/predictive_coding/blob/master/2019-10-28%20SpaceTime%20Grid%20object%20development.ipynb\n",
    "* https://github.com/benhoyle/predictive_coding/blob/master/Time%20Filtering.ipynb"
   ]
  },
  {
   "cell_type": "markdown",
   "metadata": {},
   "source": [
    "Below is very similar to our \"layer\" in the predictive_coding brain code. But we are flattening everything to 1D."
   ]
  },
  {
   "cell_type": "code",
   "execution_count": null,
   "metadata": {},
   "outputs": [],
   "source": [
    "from src.var_processor.vpu import VPU\n",
    "\n",
    "class TimeStage:\n",
    "    \"\"\"Object to represent a time stage of processing.\"\"\"\n",
    "    \n",
    "    def __init__(self, vec_len, stage_len):\n",
    "        \"\"\"Initialise stage.\n",
    "        \n",
    "        Arg:\n",
    "            vec_len - length of each 1D vector processed by the VPUs.\n",
    "            stage_len - integer indicating number of VPUs.\n",
    "        \"\"\"\n",
    "        self.vec_len = vec_len\n",
    "        self.stage_len = stage_len\n",
    "        self.size = self.vec_len*self.stage_len\n",
    "        self.vpus = [VPU(vec_len) for _ in range(0, stage_len)]\n",
    "        # Create a blank array for the causes\n",
    "        self.causes = np.zeros(shape=(stage_len, 1))\n",
    "        # Create a blank array for the residuals\n",
    "        self.residuals = np.zeros(shape=(self.size, 1))\n",
    "        \n",
    "    def forward(self, stage_in):\n",
    "        \"\"\"Pass data to the stage for processing.\n",
    "        \n",
    "        Arg:\n",
    "            stage_in - 1D numpy array with data to process.\n",
    "        \"\"\"\n",
    "        # Create blank array to hold / pad data\n",
    "        \n",
    "        input_array = np.zeros(shape=(self.size, 1))\n",
    "        # Check data is of right size\n",
    "        if stage_in.shape[0] > self.size:\n",
    "            # Crop input\n",
    "            input_array = stage_in[:self.size]\n",
    "        elif stage_in.shape[0] < self.size:\n",
    "            input_array[:self.size] = stage_in\n",
    "        else:\n",
    "            input_array = stage_in\n",
    "        # Iterate through VPUs, passing data in\n",
    "        # Create a blank array for the causes\n",
    "        causes = np.zeros\n",
    "        for i, vpu in enumerate(self.vpus):\n",
    "            start = i*self.vec_len\n",
    "            end = (i+1)*self.vec_len\n",
    "            r, residual = vpu.iterate(input_array[start:end])\n",
    "            self.causes[i] = r\n",
    "            self.residuals[start:end] = residual\n",
    "        \n",
    "    def get_causes(self):\n",
    "        \"\"\"Return output of VPUs as array.\"\"\"\n",
    "        return self.causes\n",
    "    \n",
    "    def get_residuals(self):\n",
    "        \"\"\"Return residual output as array.\"\"\"\n",
    "        return self.residuals\n",
    "    \n",
    "    def __repr__(self):\n",
    "        \"\"\"Print layer information.\"\"\"\n",
    "        string = f\"There are {self.stage_len} units \\n\"\n",
    "        string += f\"with dimensionality {self.vec_len}x1\"\n",
    "        return string\n",
    "            \n",
    "        "
   ]
  },
  {
   "cell_type": "code",
   "execution_count": null,
   "metadata": {},
   "outputs": [],
   "source": [
    "stages = TimeStage(3, 10)\n",
    "assert len(stages.vpus) == 10\n",
    "assert not stages.causes.any()\n",
    "assert not stages.residuals.any()\n",
    "print(stages)"
   ]
  },
  {
   "cell_type": "code",
   "execution_count": null,
   "metadata": {},
   "outputs": [],
   "source": [
    "data_in = np.random.randint(2, size=(stages.size, 1))\n",
    "print(data_in.T)\n",
    "\n",
    "stages.forward(data_in)"
   ]
  },
  {
   "cell_type": "code",
   "execution_count": null,
   "metadata": {},
   "outputs": [],
   "source": [
    "stages.causes"
   ]
  },
  {
   "cell_type": "code",
   "execution_count": null,
   "metadata": {
    "scrolled": true
   },
   "outputs": [],
   "source": [
    "stages.residuals"
   ]
  },
  {
   "cell_type": "markdown",
   "metadata": {},
   "source": [
    "We need a method to \"bed in\" the covariance - we need to input data for a certain number of iterations."
   ]
  },
  {
   "cell_type": "code",
   "execution_count": null,
   "metadata": {},
   "outputs": [],
   "source": [
    "\"9\" in stages.__repr__()"
   ]
  },
  {
   "cell_type": "code",
   "execution_count": null,
   "metadata": {},
   "outputs": [],
   "source": [
    "for _ in range(0, 100):\n",
    "    in_1 = np.random.randint(255, size=(2, 1))\n",
    "    in_1 = in_1 / in_1.max()\n",
    "    vpu.update_cov(in_1)"
   ]
  },
  {
   "cell_type": "code",
   "execution_count": null,
   "metadata": {},
   "outputs": [],
   "source": [
    "class Sensor:\n",
    "    \"\"\"Object to process a 1D sensor signal.\"\"\"\n",
    "\n",
    "    def __init__(self, sensor_source):\n",
    "        \"\"\"Initialise sensor.\n",
    "\n",
    "        Arg:\n",
    "            sensor_source - SensorSource object that outputs a\n",
    "            vector of sensor readings when iterated.\n",
    "        \"\"\"\n",
    "        "
   ]
  }
 ],
 "metadata": {
  "kernelspec": {
   "display_name": "Python 3",
   "language": "python",
   "name": "python3"
  },
  "language_info": {
   "codemirror_mode": {
    "name": "ipython",
    "version": 3
   },
   "file_extension": ".py",
   "mimetype": "text/x-python",
   "name": "python",
   "nbconvert_exporter": "python",
   "pygments_lexer": "ipython3",
   "version": "3.6.8"
  }
 },
 "nbformat": 4,
 "nbformat_minor": 2
}
