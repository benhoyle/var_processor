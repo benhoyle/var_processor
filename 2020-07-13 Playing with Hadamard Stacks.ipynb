{
 "cells": [
  {
   "cell_type": "code",
   "execution_count": 1,
   "metadata": {},
   "outputs": [],
   "source": [
    "import numpy as np\n",
    "from scipy.linalg import hadamard"
   ]
  },
  {
   "cell_type": "code",
   "execution_count": 2,
   "metadata": {},
   "outputs": [],
   "source": [
    "H_256 = hadamard(256)"
   ]
  },
  {
   "cell_type": "code",
   "execution_count": 3,
   "metadata": {},
   "outputs": [
    {
     "data": {
      "text/plain": [
       "array([[ 1,  1,  1, ...,  1,  1,  1],\n",
       "       [ 1, -1,  1, ..., -1,  1, -1],\n",
       "       [ 1,  1, -1, ...,  1, -1, -1],\n",
       "       ...,\n",
       "       [ 1, -1,  1, ..., -1,  1, -1],\n",
       "       [ 1,  1, -1, ...,  1, -1, -1],\n",
       "       [ 1, -1, -1, ..., -1, -1,  1]])"
      ]
     },
     "execution_count": 3,
     "metadata": {},
     "output_type": "execute_result"
    }
   ],
   "source": [
    "H_256"
   ]
  },
  {
   "cell_type": "code",
   "execution_count": 4,
   "metadata": {},
   "outputs": [],
   "source": [
    "rand_256 = np.random.randint(2, size=(256,1))"
   ]
  },
  {
   "cell_type": "code",
   "execution_count": 6,
   "metadata": {},
   "outputs": [
    {
     "data": {
      "text/plain": [
       "array([[1, 1, 1, 1, 0, 0, 1, 0, 0, 0, 0, 0, 0, 0, 1, 1, 0, 1, 1, 1, 1, 0,\n",
       "        0, 0, 0, 0, 1, 1, 1, 1, 0, 1, 1, 0, 1, 1, 0, 0, 1, 1, 0, 0, 0, 1,\n",
       "        0, 1, 1, 1, 1, 1, 1, 1, 0, 1, 0, 1, 1, 1, 1, 0, 0, 1, 0, 0, 0, 1,\n",
       "        1, 0, 1, 0, 1, 1, 1, 0, 0, 0, 1, 0, 0, 1, 0, 1, 0, 1, 1, 0, 0, 0,\n",
       "        0, 1, 0, 0, 0, 1, 1, 0, 0, 1, 1, 0, 1, 1, 0, 1, 1, 0, 1, 1, 0, 1,\n",
       "        0, 0, 1, 1, 0, 0, 0, 0, 0, 0, 1, 1, 0, 0, 0, 0, 1, 0, 1, 1, 0, 0,\n",
       "        1, 1, 1, 1, 0, 0, 0, 1, 1, 1, 0, 0, 0, 1, 0, 0, 1, 1, 0, 1, 0, 0,\n",
       "        0, 1, 1, 1, 0, 0, 0, 1, 0, 0, 0, 1, 0, 0, 0, 0, 0, 1, 1, 1, 0, 0,\n",
       "        0, 1, 0, 0, 1, 0, 1, 1, 0, 1, 1, 0, 1, 0, 1, 0, 1, 0, 0, 0, 0, 0,\n",
       "        1, 1, 0, 0, 0, 0, 1, 0, 0, 0, 1, 1, 0, 0, 0, 0, 1, 1, 1, 0, 0, 1,\n",
       "        0, 1, 1, 1, 0, 1, 0, 1, 0, 0, 1, 1, 0, 0, 0, 1, 0, 1, 0, 1, 1, 1,\n",
       "        1, 0, 0, 0, 0, 0, 1, 0, 1, 0, 0, 1, 1, 0]])"
      ]
     },
     "execution_count": 6,
     "metadata": {},
     "output_type": "execute_result"
    }
   ],
   "source": [
    "rand_256.T"
   ]
  },
  {
   "cell_type": "code",
   "execution_count": 7,
   "metadata": {},
   "outputs": [],
   "source": [
    "y = np.dot(H_256, rand_256)"
   ]
  },
  {
   "cell_type": "code",
   "execution_count": 8,
   "metadata": {},
   "outputs": [
    {
     "data": {
      "text/plain": [
       "array([[119,  -9,   5,  -3,  -3,  -3,   7,  -1,  11,  -1,   1,  -3,  13,\n",
       "         -7,  23, -21,  -3,  -3, -13,  11, -13,   3,  -3,   5,  13,   9,\n",
       "         -5, -17,  -1,   3,   9,   5,  -1,   3,   1,  13, -15, -11,  -1,\n",
       "         -5,   7,   7,   1,  -7,   5,  -3,   3,   3,  -3,  25,   7,  -5,\n",
       "          7,   3,  21,  -7,   9,  -7,  -5,   3,  -1,   7,  -3,  13,   9,\n",
       "         -7,  -1,  -1,  -5,  -5, -19,  -3,   5,   1,   3,  -1,   3,   7,\n",
       "          5,   9,  -5,   3,   1,  -7,   5,  -3,  15,  23,  -5,   7,   9,\n",
       "          5,  17,   5,  -5,  -1,   1,  -3,   3,  -1,   7,   3, -11,   1,\n",
       "          1,   1,  11,  -5,   3,  -5,   1,  -7,  11,  -9,  -3,  -7,   1,\n",
       "         -3,   7,   3,   7,  -1,   1,   9,  -7,  -7,  -1,  -1,   7,   3,\n",
       "         -7,  -3,  17,   5,  -1,  -5,   3,   3,  -3,   5,   9,  -7, -25,\n",
       "         -1,   9,  13, -13,  -1,  -5,   7,   9,  -3,   1,   1,   3,  -5,\n",
       "         -1,  -1,  -3, -11,  -5,   3,  -7,  -7,   1, -15,  -5, -13,  -5,\n",
       "         -1,   1,  -3,  13, -15,  -9,   3,  -3, -11,   3,   3,   3,   3,\n",
       "         13,   5,   1,  -3,  -1, -13,   3,  -1,  -3,   1,   5,   1, -25,\n",
       "          3,  11,  15,   9,  13,   1,   9,  -5,   3,  19,  -5,   1,   9,\n",
       "        -13,  -1, -11,   1,  -7, -19,  15,   3,   3,   3,  -3,  13,   5,\n",
       "          5,  -5,  11,  -7,   9,  -1,  -1,   3,  -5,   5,  -3,  -7,  -3,\n",
       "          7,  -5,  -1,   3,   1,   5,  -9,  -1,  13, -11,   9,   9, -13,\n",
       "          3,   3,  -9,   1,   5,   1,   5,  -5,  -1]])"
      ]
     },
     "execution_count": 8,
     "metadata": {},
     "output_type": "execute_result"
    }
   ],
   "source": [
    "y.T"
   ]
  },
  {
   "cell_type": "code",
   "execution_count": 9,
   "metadata": {},
   "outputs": [],
   "source": [
    "def pair_transform(vec1, vec2):\n",
    "    \"\"\"Apply the H_2 transform.\"\"\"\n",
    "    y_1 = vec1 + vec2\n",
    "    y_2 = vec1 - vec2\n",
    "    return np.concatenate([y_1, y_2])"
   ]
  },
  {
   "cell_type": "code",
   "execution_count": 12,
   "metadata": {},
   "outputs": [
    {
     "data": {
      "text/plain": [
       "array([[2],\n",
       "       [2],\n",
       "       [0],\n",
       "       [0]])"
      ]
     },
     "execution_count": 12,
     "metadata": {},
     "output_type": "execute_result"
    }
   ],
   "source": [
    "pair_transform(rand_256[0:2], rand_256[2:4])"
   ]
  },
  {
   "cell_type": "markdown",
   "metadata": {},
   "source": [
    "Shape = (4, 1)"
   ]
  },
  {
   "cell_type": "code",
   "execution_count": 14,
   "metadata": {},
   "outputs": [
    {
     "name": "stdout",
     "output_type": "stream",
     "text": [
      "128 [[1]\n",
      " [1]]\n"
     ]
    }
   ],
   "source": [
    "segments = np.split(rand_256, rand_256.shape[0]/2)\n",
    "print(len(segments), segments[0])"
   ]
  },
  {
   "cell_type": "code",
   "execution_count": null,
   "metadata": {},
   "outputs": [],
   "source": [
    "# segments = np.split(input_vector, length/2)\n",
    "\n",
    "def recursive_transform(input_vector):\n",
    "    \"\"\"Recursively apply a Hadamard tranform.\"\"\"\n",
    "    # Split input into 2\n",
    "    length = input_vector.shape[0]\n",
    "    if length > 2:\n",
    "        transformed = recursive_transform(input_vector[0:length/2])\n",
    "    else:\n",
    "        transformed = pair_transform(input_vector[:1], input_vector[1:])\n",
    "    # If input length is 2\n",
    "    ## return Transform(split_input)\n",
    "    # Else\n",
    "    ## Recursion\n",
    "    pass\n",
    "\n",
    "def iterative_transform(pair_list):\n",
    "    \"\"\"Iteratively apply a Hadamard tranform.\"\"\"\n",
    "    running_transform = None\n",
    "    for segment in segments:\n",
    "        transformed = pair_transform(segment[:1], segment[1:])\n",
    "        if running_transform in not None:\n",
    "            running_transform\n"
   ]
  }
 ],
 "metadata": {
  "kernelspec": {
   "display_name": "Python 3",
   "language": "python",
   "name": "python3"
  },
  "language_info": {
   "codemirror_mode": {
    "name": "ipython",
    "version": 3
   },
   "file_extension": ".py",
   "mimetype": "text/x-python",
   "name": "python",
   "nbconvert_exporter": "python",
   "pygments_lexer": "ipython3",
   "version": "3.7.9"
  }
 },
 "nbformat": 4,
 "nbformat_minor": 2
}
