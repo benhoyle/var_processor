{
 "cells": [
  {
   "cell_type": "markdown",
   "metadata": {},
   "source": [
    "Start with differences. Start from the standard decomposition GUI. \n",
    "\n",
    "Also the differences can be generated as per:\n",
    "```residual_surfaces = [s - u for s, u in zip(self.surfaces, upsampled_surfaces)]```\n",
    "\n",
    "We can use the old pyramid code."
   ]
  },
  {
   "cell_type": "code",
   "execution_count": 1,
   "metadata": {},
   "outputs": [],
   "source": [
    "import numpy as np\n",
    "from src.var_processor.surface_stage import decompose\n",
    "\n",
    "def create_decom_pyramid(image):\n",
    "    \"\"\"Create a decomposition image pyramid from the image.\"\"\"\n",
    "    # Convert to 16-bit signed to allow decomposition\n",
    "    image = image.astype(np.int16)\n",
    "    rows, cols = image.shape\n",
    "    scales = min(rows, cols).bit_length()-1\n",
    "    # Create list to hold scales\n",
    "    pyramid = []\n",
    "    current_image = image\n",
    "    for _ in range(scales):\n",
    "        # Decompose\n",
    "        surfaces = decompose(current_image)\n",
    "        # Save surfaces in pyramid\n",
    "        pyramid.append(surfaces)\n",
    "        current_image = surfaces[0]\n",
    "    return pyramid"
   ]
  },
  {
   "cell_type": "code",
   "execution_count": 2,
   "metadata": {},
   "outputs": [],
   "source": [
    "import cv2\n",
    "from src.visualisers.camera_gui import DecomposeFrame, BasicCameraGUI\n",
    "\n",
    "class DeComGUI(BasicCameraGUI):\n",
    "    \"\"\"GUI to look at decompositions.\"\"\"\n",
    "\n",
    "    def __init__(self, src=0):\n",
    "        # Call parent init\n",
    "        super().__init__(src)\n",
    "\n",
    "        # Determine decomposition stages for now\n",
    "        (readsuccessful, frame) = self.cam.read()\n",
    "        image = frame[:, :, 0]\n",
    "        rows, cols = image.shape\n",
    "        self.num_of_stages = min(rows, cols).bit_length()-1\n",
    "\n",
    "        # Create a frame for each stage and pack vertically\n",
    "        self.frames = [\n",
    "            DecomposeFrame(self.window, width=128, height=128)\n",
    "            for _ in range(self.num_of_stages)]\n",
    "\n",
    "    def update_image(self):\n",
    "        # Get frame\n",
    "        (readsuccessful, frame) = self.cam.read()\n",
    "        image = frame[:, :, 0]\n",
    "        # Reduce to a power of 2\n",
    "        image = reduce_to_2(image)\n",
    "        # Generate pyramid\n",
    "        pyramid = create_decom_pyramid(image)\n",
    "        # Display\n",
    "        for frame, surfaces in zip(self.frames, pyramid):\n",
    "            images = [surfaces[0].astype(np.uint8)]\n",
    "            images += [\n",
    "                cv2.applyColorMap((i + 128).astype(np.uint8), cv2.COLORMAP_JET) for i in surfaces[1:]\n",
    "            ]\n",
    "            frame.update(images)\n",
    "        return image\n"
   ]
  },
  {
   "cell_type": "code",
   "execution_count": 3,
   "metadata": {},
   "outputs": [],
   "source": [
    "decom = DeComGUI()\n",
    "# decom.run()"
   ]
  },
  {
   "cell_type": "markdown",
   "metadata": {},
   "source": [
    "Note that frame rate is down to 22 for this. Also low-resolution images aren't displayed very well."
   ]
  },
  {
   "cell_type": "code",
   "execution_count": 4,
   "metadata": {},
   "outputs": [],
   "source": [
    "self = decom\n",
    "(readsuccessful, frame) = self.cam.read()\n",
    "image = frame[:, :, 0]\n",
    "# Generate pyramid\n",
    "pyramid = create_decom_pyramid(image)"
   ]
  },
  {
   "cell_type": "code",
   "execution_count": 5,
   "metadata": {},
   "outputs": [
    {
     "name": "stdout",
     "output_type": "stream",
     "text": [
      "[(240, 320), (240, 320), (240, 320), (240, 320)]\n",
      "[(120, 160), (120, 160), (120, 160), (120, 160)]\n",
      "[(60, 80), (60, 80), (60, 80), (60, 80)]\n",
      "[(30, 40), (30, 40), (30, 40), (30, 40)]\n",
      "[(15, 20), (15, 20), (15, 20), (15, 20)]\n",
      "[(7, 10), (7, 10), (7, 10), (7, 10)]\n",
      "[(3, 5), (3, 5), (3, 5), (3, 5)]\n",
      "[(1, 2), (1, 2), (1, 2), (1, 2)]\n"
     ]
    }
   ],
   "source": [
    "for surfaces in pyramid:\n",
    "    print([s.shape for s in surfaces])"
   ]
  },
  {
   "cell_type": "markdown",
   "metadata": {},
   "source": [
    "We need reduce_to_2 function to allow upsampling and downsampling size matches."
   ]
  },
  {
   "cell_type": "code",
   "execution_count": 6,
   "metadata": {},
   "outputs": [],
   "source": [
    "from src.sources.video_helper import reduce_to_2"
   ]
  },
  {
   "cell_type": "code",
   "execution_count": 7,
   "metadata": {},
   "outputs": [
    {
     "name": "stdout",
     "output_type": "stream",
     "text": [
      "[(128, 128), (128, 128), (128, 128), (128, 128)]\n",
      "[(64, 64), (64, 64), (64, 64), (64, 64)]\n",
      "[(32, 32), (32, 32), (32, 32), (32, 32)]\n",
      "[(16, 16), (16, 16), (16, 16), (16, 16)]\n",
      "[(8, 8), (8, 8), (8, 8), (8, 8)]\n",
      "[(4, 4), (4, 4), (4, 4), (4, 4)]\n",
      "[(2, 2), (2, 2), (2, 2), (2, 2)]\n",
      "[(1, 1), (1, 1), (1, 1), (1, 1)]\n"
     ]
    }
   ],
   "source": [
    "self = decom\n",
    "(readsuccessful, frame) = self.cam.read()\n",
    "image = frame[:, :, 0]\n",
    "# Reduce to a power of 2\n",
    "reduced = reduce_to_2(image)\n",
    "# Generate pyramid\n",
    "pyramid = create_decom_pyramid(reduced)\n",
    "for surfaces in pyramid:\n",
    "    print([s.shape for s in surfaces])"
   ]
  },
  {
   "cell_type": "markdown",
   "metadata": {},
   "source": [
    "Actually this loses a lot of the detail 240 > 128. We coul;d actually just pad using mirrored or continue. But this isn't as much of a problem once we split the visual field and use the polar mapping."
   ]
  },
  {
   "cell_type": "code",
   "execution_count": null,
   "metadata": {},
   "outputs": [],
   "source": []
  },
  {
   "cell_type": "code",
   "execution_count": 8,
   "metadata": {},
   "outputs": [
    {
     "name": "stderr",
     "output_type": "stream",
     "text": [
      "Exception in Tkinter callback\n",
      "Traceback (most recent call last):\n",
      "  File \"/home/ben/anaconda3/envs/ml_platform_3_7/lib/python3.7/tkinter/__init__.py\", line 1705, in __call__\n",
      "    return self.func(*args)\n",
      "  File \"/home/ben/anaconda3/envs/ml_platform_3_7/lib/python3.7/tkinter/__init__.py\", line 749, in callit\n",
      "    func(*args)\n",
      "  File \"/home/ben/Projects/var_processor/src/visualisers/camera_gui.py\", line 89, in <lambda>\n",
      "    self.window.after(20, func=lambda: self.update_all())\n",
      "  File \"/home/ben/Projects/var_processor/src/visualisers/camera_gui.py\", line 88, in update_all\n",
      "    self.update_fps()\n",
      "  File \"/home/ben/Projects/var_processor/src/visualisers/camera_gui.py\", line 82, in update_fps\n",
      "    self.fps_label.configure(text=f'FPS: {fps}')\n",
      "  File \"/home/ben/anaconda3/envs/ml_platform_3_7/lib/python3.7/tkinter/__init__.py\", line 1485, in configure\n",
      "    return self._configure('configure', cnf, kw)\n",
      "  File \"/home/ben/anaconda3/envs/ml_platform_3_7/lib/python3.7/tkinter/__init__.py\", line 1476, in _configure\n",
      "    self.tk.call(_flatten((self._w, cmd)) + self._options(cnf))\n",
      "_tkinter.TclError: invalid command name \".!frame.!label\"\n"
     ]
    }
   ],
   "source": [
    "decom.run()"
   ]
  },
  {
   "cell_type": "code",
   "execution_count": null,
   "metadata": {},
   "outputs": [],
   "source": [
    "def upsample(pyramid):\n",
    "    \"\"\"Upsample pyramid.\"\"\"\n",
    "    # Add the 1x1 pixel reconstruction to the rebuilt list\n",
    "    upsampled = [pyramid[-1]]\n",
    "    # Check for 1D pyramid\n",
    "    one_d = True if pyramid[0].shape[1] == 1 else False\n",
    "    # Interate through the images and add reconstructed versions\n",
    "    for image in reversed(pyramid[1:]):\n",
    "        rows, cols = image.shape\n",
    "        new_rows = rows*2\n",
    "        # Set cols to 1 if one_d else double size\n",
    "        new_cols = 1 if one_d else cols*2\n",
    "        upsampled.append(cv2.pyrUp(image, dstsize=(new_cols, new_rows)))\n",
    "    return upsampled"
   ]
  },
  {
   "cell_type": "code",
   "execution_count": null,
   "metadata": {},
   "outputs": [],
   "source": [
    "class DiffGUI(BasicCameraGUI):\n",
    "    \"\"\"GUI to look at decompositions.\"\"\"\n",
    "\n",
    "    def __init__(self, src=0):\n",
    "        # Call parent init\n",
    "        super().__init__(src)\n",
    "\n",
    "        # Determine decomposition stages for now\n",
    "        (readsuccessful, frame) = self.cam.read()\n",
    "        image = frame[:, :, 0]\n",
    "        rows, cols = image.shape\n",
    "        self.num_of_stages = min(rows, cols).bit_length()-1\n",
    "\n",
    "        # Create a frame for each stage and pack vertically\n",
    "        self.frames = [\n",
    "            DecomposeFrame(self.window, width=128, height=128)\n",
    "            for _ in range(self.num_of_stages)]\n",
    "\n",
    "    def update_image(self):\n",
    "        # Get frame\n",
    "        (readsuccessful, frame) = self.cam.read()\n",
    "        image = frame[:, :, 0]\n",
    "        # Generate pyramid\n",
    "        pyramid = create_decom_pyramid(image)\n",
    "        \n",
    "        # Display\n",
    "        for frame, surfaces in zip(self.frames, pyramid):\n",
    "            images = [surfaces[0].astype(np.uint8)]\n",
    "            images += [\n",
    "                cv2.applyColorMap((i + 128).astype(np.uint8), cv2.COLORMAP_JET) for i in surfaces[1:]\n",
    "            ]\n",
    "            frame.update(images)\n",
    "        return image"
   ]
  }
 ],
 "metadata": {
  "kernelspec": {
   "display_name": "Python 3",
   "language": "python",
   "name": "python3"
  },
  "language_info": {
   "codemirror_mode": {
    "name": "ipython",
    "version": 3
   },
   "file_extension": ".py",
   "mimetype": "text/x-python",
   "name": "python",
   "nbconvert_exporter": "python",
   "pygments_lexer": "ipython3",
   "version": "3.7.9"
  }
 },
 "nbformat": 4,
 "nbformat_minor": 4
}
