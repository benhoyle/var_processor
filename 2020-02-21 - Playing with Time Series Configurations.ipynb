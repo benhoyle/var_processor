{
 "cells": [
  {
   "cell_type": "markdown",
   "metadata": {},
   "source": [
    "What seems to work?\n",
    "* PB Thresholding on input.\n",
    "* Loop over buffers - using zip pairs or t+1 ~(zipped pairs maybe better for custom pairings).\n",
    "\n",
    "What needs adjusting?\n",
    "* What exactly the outputs and inputs are? Binary signals or probabilities? Subtracted feedback or something else?\n"
   ]
  },
  {
   "cell_type": "code",
   "execution_count": 6,
   "metadata": {},
   "outputs": [],
   "source": [
    "from src.var_processor.pb_threshold import pb_threshold\n",
    "import numpy as np"
   ]
  },
  {
   "cell_type": "code",
   "execution_count": 7,
   "metadata": {},
   "outputs": [],
   "source": [
    "def check_size(self, frame):\n",
    "    \"\"\"Check size of input matches array shape.\"\"\"\n",
    "    if frame.shape == self.forward_array.shape[0:2]:\n",
    "        return True\n",
    "    else:\n",
    "        return False\n",
    "\n",
    "def add_to_array(array, frame):\n",
    "    \"\"\"Add a frame to a rolling array.\"\"\"\n",
    "    array = np.roll(array, -1, axis=2)\n",
    "    # Add frame to end of buffer\n",
    "    array[..., -1] = frame\n",
    "    return array\n",
    "\n",
    "def process_array(array):\n",
    "    \"\"\"Process an array.\"\"\"\n",
    "    # Start with just averaging - could be convolution\n",
    "    return np.mean(array, axis=2)\n",
    "\n",
    "\n",
    "class Buffer:\n",
    "    \"\"\"Object for a time buffer.\"\"\"\n",
    "\n",
    "    def __init__(self, rows, cols, length):\n",
    "        \"\"\"Initialise object.\n",
    "\n",
    "        Assumes 8-bit values (for now).\n",
    "        \"\"\"\n",
    "        # Set up an array to store a rolling window of inputs\n",
    "        self.forward_array = np.zeros(shape=(rows, cols, length), dtype=np.uint8)\n",
    "        # Initialise feedback mean\n",
    "        self.backward_array = np.zeros(shape=(rows, cols, length), dtype=np.uint8)  \n",
    "\n",
    "    def feedforward(self, frame):\n",
    "        \"\"\"Add a frame to the buffer in FF mode.\"\"\"\n",
    "        self.forward_array = add_to_array(self.forward_array, frame)\n",
    "        return None\n",
    "    \n",
    "    def feedback(self, frame):\n",
    "        \"\"\"Add a frame to the buffer in FB mode.\"\"\"\n",
    "        self.backward_array = add_to_array(self.backward_array, frame)\n",
    "        return None\n",
    "\n",
    "    @property\n",
    "    def latest(self):\n",
    "        \"\"\"Return latest entry in buffer.\"\"\"\n",
    "        return self.forward_array[..., -1]\n",
    "    \n",
    "    @property\n",
    "    def ff_output(self):\n",
    "        \"\"\"Provide feedforward output.\"\"\"\n",
    "        average = process_array(self.forward_array)\n",
    "        # Convert to 8-bit for thresholding\n",
    "        converted = (average*255).astype(np.uint8)\n",
    "        # Add non-linearity\n",
    "        binary = pb_threshold(converted)\n",
    "        return binary\n",
    "        \n",
    "    @property\n",
    "    def fb_output(self):\n",
    "        \"\"\"Provide feedback / reconstruction output.\"\"\"\n",
    "        average = process_array(self.backward_array)\n",
    "        # Subtract input - this is just the latest frame\n",
    "        difference = average - self.latest  # This is float64\n",
    "        # Clip to 0 to 1\n",
    "        clipped = np.clip(difference, 0, 1)\n",
    "        # Convert to 8-bit integer\n",
    "        converted = (clipped*255).astype(np.uint8)\n",
    "        # Add non-linearity\n",
    "        binary = pb_threshold(converted)\n",
    "        return binary\n",
    "        \n",
    "    def iterate(self, input_frame, input_feedback):\n",
    "        \"\"\"Perform both a forward and backward pass.\"\"\"\n",
    "        self.feedforward(input_frame)\n",
    "        self.feedback(input_feedback)\n",
    "        return self.ff_output, self.fb_output\n"
   ]
  },
  {
   "cell_type": "code",
   "execution_count": 8,
   "metadata": {},
   "outputs": [],
   "source": [
    "b = Buffer(4, 1, 2)\n",
    "a = np.arange(0, 4).reshape(4, 1)\n",
    "b.feedforward(a)\n",
    "assert np.array_equal(b.latest, a)\n",
    "b.feedforward(a)\n",
    "assert np.array_equal(b.latest, a)\n",
    "b.feedforward(a)\n",
    "assert np.array_equal(b.latest, a)\n",
    "average = b.ff_output\n",
    "assert average.shape == a.shape\n",
    "assert average.max() <= 1\n",
    "assert average.min() >= 0\n",
    "b.feedback(a)\n",
    "fb_output = b.fb_output\n",
    "assert fb_output.shape == a.shape\n",
    "assert fb_output.max() <= 1\n",
    "assert fb_output.min() >= 0"
   ]
  },
  {
   "cell_type": "markdown",
   "metadata": {},
   "source": [
    "How do we do the pb_threshold with float64 data representing the difference?\n",
    "\n",
    "Average has a maximum of 1 and fb has a max of 1 so the range is -1 > 1. Ah so we times by 128 and add 128 to get 8-bit values? But would this affect the suppression of values less than 0?\n",
    "\n",
    "Do we want instead to clip the negative values to 0 then scale? No - if we just times by 255 this will happen as values less than 0 will be clipped? but then we would have a range of -255 to 255 > 8 bit. And if our positive values stop at 128 then they'd be compared with 255 values...\n",
    "\n",
    "So we need to clip then times by 255 then threshold as 8-bit values?"
   ]
  },
  {
   "cell_type": "code",
   "execution_count": 9,
   "metadata": {},
   "outputs": [],
   "source": [
    "self = b\n",
    "average = process_array(self.forward_array)"
   ]
  },
  {
   "cell_type": "code",
   "execution_count": 10,
   "metadata": {},
   "outputs": [
    {
     "data": {
      "text/plain": [
       "array([[0.],\n",
       "       [1.],\n",
       "       [2.],\n",
       "       [3.]])"
      ]
     },
     "execution_count": 10,
     "metadata": {},
     "output_type": "execute_result"
    }
   ],
   "source": [
    "average"
   ]
  },
  {
   "cell_type": "code",
   "execution_count": 11,
   "metadata": {},
   "outputs": [
    {
     "data": {
      "text/plain": [
       "array([[[0, 0]],\n",
       "\n",
       "       [[1, 1]],\n",
       "\n",
       "       [[2, 2]],\n",
       "\n",
       "       [[3, 3]]], dtype=uint8)"
      ]
     },
     "execution_count": 11,
     "metadata": {},
     "output_type": "execute_result"
    }
   ],
   "source": [
    "self.forward_array"
   ]
  },
  {
   "cell_type": "code",
   "execution_count": 12,
   "metadata": {},
   "outputs": [
    {
     "name": "stdout",
     "output_type": "stream",
     "text": [
      "float64\n"
     ]
    }
   ],
   "source": [
    "print(average.dtype)"
   ]
  },
  {
   "cell_type": "code",
   "execution_count": 13,
   "metadata": {},
   "outputs": [
    {
     "name": "stdout",
     "output_type": "stream",
     "text": [
      "64\n"
     ]
    }
   ],
   "source": [
    "data_type = average.dtype\n",
    "bit_size = data_type.itemsize*8; print(bit_size)"
   ]
  },
  {
   "cell_type": "code",
   "execution_count": 14,
   "metadata": {},
   "outputs": [
    {
     "data": {
      "text/plain": [
       "8"
      ]
     },
     "execution_count": 14,
     "metadata": {},
     "output_type": "execute_result"
    }
   ],
   "source": [
    "data_type.itemsize"
   ]
  },
  {
   "cell_type": "code",
   "execution_count": 15,
   "metadata": {},
   "outputs": [
    {
     "data": {
      "text/plain": [
       "1"
      ]
     },
     "execution_count": 15,
     "metadata": {},
     "output_type": "execute_result"
    }
   ],
   "source": [
    "self.forward_array.dtype.itemsize"
   ]
  },
  {
   "cell_type": "code",
   "execution_count": 16,
   "metadata": {},
   "outputs": [
    {
     "name": "stdout",
     "output_type": "stream",
     "text": [
      "[[0.]\n",
      " [0.]\n",
      " [0.]\n",
      " [0.]] [[0.]\n",
      " [0.]\n",
      " [0.]\n",
      " [0.]] [[0]\n",
      " [0]\n",
      " [0]\n",
      " [0]] [[0]\n",
      " [0]\n",
      " [0]\n",
      " [0]]\n"
     ]
    }
   ],
   "source": [
    "# Subtract input - this is just the latest frame\n",
    "difference = average - self.latest  # This is float64\n",
    "# Clip to 0 to 1\n",
    "clipped = np.clip(difference, 0, 1)\n",
    "# Convert to 8-bit integer\n",
    "converted = (clipped*255).astype(np.uint8)\n",
    "# Add non-linearity\n",
    "binary = pb_threshold(converted)\n",
    "print(difference, clipped, converted, binary)"
   ]
  },
  {
   "cell_type": "code",
   "execution_count": 17,
   "metadata": {},
   "outputs": [],
   "source": [
    "b = Buffer(4, 1, 2)"
   ]
  },
  {
   "cell_type": "code",
   "execution_count": 18,
   "metadata": {},
   "outputs": [
    {
     "name": "stdout",
     "output_type": "stream",
     "text": [
      "[[133]\n",
      " [ 38]\n",
      " [ 22]\n",
      " [182]]\n"
     ]
    }
   ],
   "source": [
    "a = np.random.randint(255, size=(4,1)); print(a)\n",
    "b.feedforward(a)\n",
    "assert np.array_equal(b.latest, a)\n",
    "b.feedforward(a)\n",
    "assert np.array_equal(b.latest, a)\n",
    "b.feedforward(a)\n",
    "assert np.array_equal(b.latest, a)\n",
    "average = b.ff_output\n",
    "assert average.shape == a.shape\n",
    "assert average.max() <= 1\n",
    "assert average.min() >= 0\n",
    "b.feedback(a)\n",
    "fb_output = b.fb_output\n",
    "assert fb_output.shape == a.shape\n",
    "assert fb_output.max() <= 1\n",
    "assert fb_output.min() >= 0"
   ]
  },
  {
   "cell_type": "code",
   "execution_count": 19,
   "metadata": {},
   "outputs": [
    {
     "name": "stdout",
     "output_type": "stream",
     "text": [
      "[[1]\n",
      " [1]\n",
      " [1]\n",
      " [0]] [[0]\n",
      " [0]\n",
      " [0]\n",
      " [0]]\n"
     ]
    }
   ],
   "source": [
    "print(average, fb_output)"
   ]
  },
  {
   "cell_type": "markdown",
   "metadata": {},
   "source": [
    "# Connecting the Buffers Together\n",
    "\n",
    "Our time series objects don't need to have any flags or counts with the buffer above.\n",
    "\n",
    "We look at the averaging as a form of reversable down and up sampling - which just equates to an integrator followed by a threshold.\n",
    "\n",
    "So we convert binary pulses into a fraction representing the average frequency, which is also an estimate of the intensity in a set range (e.g. 8 bit), then we convert that into a binary pulse."
   ]
  },
  {
   "cell_type": "code",
   "execution_count": 20,
   "metadata": {},
   "outputs": [
    {
     "name": "stdout",
     "output_type": "stream",
     "text": [
      "[0, 1, 2, 3, 4]\n",
      "0 1\n",
      "1 2\n",
      "2 3\n",
      "3 4\n"
     ]
    }
   ],
   "source": [
    "base_list = range(0,5)\n",
    "print([i for i in base_list])\n",
    "for e1, e2 in zip(base_list[:-1], base_list[1:]):\n",
    "    print(e1, e2)"
   ]
  },
  {
   "cell_type": "code",
   "execution_count": 33,
   "metadata": {},
   "outputs": [],
   "source": [
    "class TimeSeries:\n",
    "    \"\"\"Generate a cascade of time buffers.\"\"\"\n",
    "\n",
    "    def __init__(self, rows, cols, length, stages):\n",
    "        \"\"\"Initialise list for buffer series.\n",
    "        \n",
    "        Args:\n",
    "            rows - integer indicating input array (frame) height in rows.\n",
    "            cols - integer indicating input array (frame) width in cols.\n",
    "            length - integer indicating number of time steps to buffer.\n",
    "            stages - integer indicating the number of buffer stages.\n",
    "        \"\"\"\n",
    "        self.time_series = list()\n",
    "        self.shape = (rows, cols, length)\n",
    "        # Generate series of buffers\n",
    "        self.time_series = [Buffer(*self.shape) for i in range(0, stages)]\n",
    "        return None\n",
    "\n",
    "    def add(self, frame):\n",
    "        \"\"\"Add frame for processing.\n",
    "        \n",
    "        This runs for each time iteration and passes information between buffers.\n",
    "        \"\"\"\n",
    "        # Define variable to hold data passed forward \n",
    "        feedforward = frame\n",
    "        # Iterate through pairs of buffers in series \n",
    "        for buffer_ff, buffer_fb in zip(self.time_series[:-1], self.time_series[1:]):\n",
    "            feedback = buffer_fb.fb_output\n",
    "            # Get feedforward and feedback for buffer\n",
    "            feedforward, _ = buffer_ff.iterate(feedforward, feedback)\n",
    "        return None\n",
    "    \n",
    "    @property\n",
    "    def ff_output(self):\n",
    "        \"\"\"Provide feedforward output of all arrays.\"\"\"\n",
    "        return np.asarray([buffer.ff_output for buffer in self.time_series]) \n",
    "        \n",
    "    @property\n",
    "    def fb_output(self):\n",
    "        \"\"\"Provide feedback / reconstruction output.\"\"\"\n",
    "        return np.asarray([buffer.fb_output for buffer in self.time_series]) \n",
    "\n",
    "    @property\n",
    "    def latest(self):\n",
    "        \"\"\"Get last entry of each buffer as array.\"\"\"\n",
    "        return np.asarray([buffer.latest for buffer in self.time_series]) "
   ]
  },
  {
   "cell_type": "code",
   "execution_count": 76,
   "metadata": {},
   "outputs": [],
   "source": [
    "ts = TimeSeries(4,3,6,8)"
   ]
  },
  {
   "cell_type": "markdown",
   "metadata": {},
   "source": [
    "So this creates 8 buffers in series that take a 2D input of 4 rows and 3 columns and are adapted to store 6 samples."
   ]
  },
  {
   "cell_type": "code",
   "execution_count": 77,
   "metadata": {},
   "outputs": [
    {
     "name": "stdout",
     "output_type": "stream",
     "text": [
      "[[[0 0 0]\n",
      "  [0 0 0]\n",
      "  [0 0 0]\n",
      "  [0 0 0]]\n",
      "\n",
      " [[0 0 0]\n",
      "  [0 0 0]\n",
      "  [0 0 0]\n",
      "  [0 0 0]]\n",
      "\n",
      " [[0 0 0]\n",
      "  [0 0 0]\n",
      "  [0 0 0]\n",
      "  [0 0 0]]\n",
      "\n",
      " [[0 0 0]\n",
      "  [0 0 0]\n",
      "  [0 0 0]\n",
      "  [0 0 0]]\n",
      "\n",
      " [[0 0 0]\n",
      "  [0 0 0]\n",
      "  [0 0 0]\n",
      "  [0 0 0]]\n",
      "\n",
      " [[0 0 0]\n",
      "  [0 0 0]\n",
      "  [0 0 0]\n",
      "  [0 0 0]]\n",
      "\n",
      " [[0 0 0]\n",
      "  [0 0 0]\n",
      "  [0 0 0]\n",
      "  [0 0 0]]\n",
      "\n",
      " [[0 0 0]\n",
      "  [0 0 0]\n",
      "  [0 0 0]\n",
      "  [0 0 0]]] [[[0 0 0]\n",
      "  [0 0 0]\n",
      "  [0 0 0]\n",
      "  [0 0 0]]\n",
      "\n",
      " [[0 0 0]\n",
      "  [0 0 0]\n",
      "  [0 0 0]\n",
      "  [0 0 0]]\n",
      "\n",
      " [[0 0 0]\n",
      "  [0 0 0]\n",
      "  [0 0 0]\n",
      "  [0 0 0]]\n",
      "\n",
      " [[0 0 0]\n",
      "  [0 0 0]\n",
      "  [0 0 0]\n",
      "  [0 0 0]]\n",
      "\n",
      " [[0 0 0]\n",
      "  [0 0 0]\n",
      "  [0 0 0]\n",
      "  [0 0 0]]\n",
      "\n",
      " [[0 0 0]\n",
      "  [0 0 0]\n",
      "  [0 0 0]\n",
      "  [0 0 0]]\n",
      "\n",
      " [[0 0 0]\n",
      "  [0 0 0]\n",
      "  [0 0 0]\n",
      "  [0 0 0]]\n",
      "\n",
      " [[0 0 0]\n",
      "  [0 0 0]\n",
      "  [0 0 0]\n",
      "  [0 0 0]]] [[[0 0 0]\n",
      "  [0 0 0]\n",
      "  [0 0 0]\n",
      "  [0 0 0]]\n",
      "\n",
      " [[0 0 0]\n",
      "  [0 0 0]\n",
      "  [0 0 0]\n",
      "  [0 0 0]]\n",
      "\n",
      " [[0 0 0]\n",
      "  [0 0 0]\n",
      "  [0 0 0]\n",
      "  [0 0 0]]\n",
      "\n",
      " [[0 0 0]\n",
      "  [0 0 0]\n",
      "  [0 0 0]\n",
      "  [0 0 0]]\n",
      "\n",
      " [[0 0 0]\n",
      "  [0 0 0]\n",
      "  [0 0 0]\n",
      "  [0 0 0]]\n",
      "\n",
      " [[0 0 0]\n",
      "  [0 0 0]\n",
      "  [0 0 0]\n",
      "  [0 0 0]]\n",
      "\n",
      " [[0 0 0]\n",
      "  [0 0 0]\n",
      "  [0 0 0]\n",
      "  [0 0 0]]\n",
      "\n",
      " [[0 0 0]\n",
      "  [0 0 0]\n",
      "  [0 0 0]\n",
      "  [0 0 0]]]\n"
     ]
    }
   ],
   "source": [
    "print(ts.ff_output, ts.fb_output, ts.latest)"
   ]
  },
  {
   "cell_type": "code",
   "execution_count": 78,
   "metadata": {},
   "outputs": [
    {
     "data": {
      "text/plain": [
       "(8, 4, 3)"
      ]
     },
     "execution_count": 78,
     "metadata": {},
     "output_type": "execute_result"
    }
   ],
   "source": [
    "ts.ff_output.shape"
   ]
  },
  {
   "cell_type": "code",
   "execution_count": 79,
   "metadata": {},
   "outputs": [],
   "source": [
    "def test_timeseries():\n",
    "    \"\"\"Test the time series object.\"\"\"\n",
    "    ts = TimeSeries(4,3,6,8)\n",
    "    # Check everything is initialised to 0\n",
    "    assert np.array_equal(ts.ff_output, np.zeros((8, 4,3)))\n",
    "    assert np.array_equal(ts.fb_output, np.zeros((8, 4,3)))\n",
    "    assert np.array_equal(ts.latest, np.zeros((8, 4,3)))\n",
    "    a = np.random.randint(255, size=(4,3), dtype=np.uint8)\n",
    "    pb_a = pb_threshold(a)\n",
    "    ts.add(pb_a)"
   ]
  },
  {
   "cell_type": "code",
   "execution_count": 98,
   "metadata": {},
   "outputs": [
    {
     "name": "stdout",
     "output_type": "stream",
     "text": [
      "[0 1 2 3]\n",
      "(1, 1, 4)\n"
     ]
    },
    {
     "data": {
      "text/plain": [
       "array([[1.5]])"
      ]
     },
     "execution_count": 98,
     "metadata": {},
     "output_type": "execute_result"
    }
   ],
   "source": [
    "a = np.arange(0, 4, dtype=np.uint8); print(a)\n",
    "b = a.reshape(1,1,-1); print(b.shape)\n",
    "process_array(b)"
   ]
  },
  {
   "cell_type": "code",
   "execution_count": 99,
   "metadata": {},
   "outputs": [],
   "source": [
    "def test_processarray():\n",
    "    \"\"\"Test process array function.\"\"\"\n",
    "    a = np.arange(0, 4, dtype=np.uint8); \n",
    "    b = a.reshape(1,1,-1); \n",
    "    assert process_array(b) == 1.5"
   ]
  },
  {
   "cell_type": "code",
   "execution_count": 100,
   "metadata": {},
   "outputs": [],
   "source": [
    "test_processarray()"
   ]
  },
  {
   "cell_type": "code",
   "execution_count": 80,
   "metadata": {},
   "outputs": [],
   "source": [
    "test_timeseries()"
   ]
  },
  {
   "cell_type": "code",
   "execution_count": 81,
   "metadata": {},
   "outputs": [],
   "source": [
    "a = np.random.randint(255, size=(4,3), dtype=np.uint8)\n",
    "pb_a = pb_threshold(a)\n",
    "ts.add(pb_a)"
   ]
  },
  {
   "cell_type": "code",
   "execution_count": 82,
   "metadata": {},
   "outputs": [
    {
     "name": "stdout",
     "output_type": "stream",
     "text": [
      "[[[0 0 0]\n",
      "  [0 0 0]\n",
      "  [0 1 0]\n",
      "  [0 0 1]]\n",
      "\n",
      " [[0 0 0]\n",
      "  [0 0 0]\n",
      "  [0 0 0]\n",
      "  [0 0 0]]\n",
      "\n",
      " [[0 0 0]\n",
      "  [0 0 0]\n",
      "  [0 0 0]\n",
      "  [0 0 0]]\n",
      "\n",
      " [[0 0 0]\n",
      "  [0 0 0]\n",
      "  [0 0 0]\n",
      "  [0 0 0]]\n",
      "\n",
      " [[0 0 0]\n",
      "  [0 0 0]\n",
      "  [0 0 0]\n",
      "  [0 0 0]]\n",
      "\n",
      " [[0 0 0]\n",
      "  [0 0 0]\n",
      "  [0 0 0]\n",
      "  [0 0 0]]\n",
      "\n",
      " [[0 0 0]\n",
      "  [0 0 0]\n",
      "  [0 0 0]\n",
      "  [0 0 0]]\n",
      "\n",
      " [[0 0 0]\n",
      "  [0 0 0]\n",
      "  [0 0 0]\n",
      "  [0 0 0]]] [[[0 0 0]\n",
      "  [0 0 0]\n",
      "  [0 0 0]\n",
      "  [0 0 0]]\n",
      "\n",
      " [[0 0 0]\n",
      "  [0 0 0]\n",
      "  [0 0 0]\n",
      "  [0 0 0]]\n",
      "\n",
      " [[0 0 0]\n",
      "  [0 0 0]\n",
      "  [0 0 0]\n",
      "  [0 0 0]]\n",
      "\n",
      " [[0 0 0]\n",
      "  [0 0 0]\n",
      "  [0 0 0]\n",
      "  [0 0 0]]\n",
      "\n",
      " [[0 0 0]\n",
      "  [0 0 0]\n",
      "  [0 0 0]\n",
      "  [0 0 0]]\n",
      "\n",
      " [[0 0 0]\n",
      "  [0 0 0]\n",
      "  [0 0 0]\n",
      "  [0 0 0]]\n",
      "\n",
      " [[0 0 0]\n",
      "  [0 0 0]\n",
      "  [0 0 0]\n",
      "  [0 0 0]]\n",
      "\n",
      " [[0 0 0]\n",
      "  [0 0 0]\n",
      "  [0 0 0]\n",
      "  [0 0 0]]] [[[1 0 0]\n",
      "  [0 1 0]\n",
      "  [0 1 1]\n",
      "  [0 1 1]]\n",
      "\n",
      " [[0 0 0]\n",
      "  [0 0 0]\n",
      "  [0 0 0]\n",
      "  [0 0 0]]\n",
      "\n",
      " [[0 0 0]\n",
      "  [0 0 0]\n",
      "  [0 0 0]\n",
      "  [0 0 0]]\n",
      "\n",
      " [[0 0 0]\n",
      "  [0 0 0]\n",
      "  [0 0 0]\n",
      "  [0 0 0]]\n",
      "\n",
      " [[0 0 0]\n",
      "  [0 0 0]\n",
      "  [0 0 0]\n",
      "  [0 0 0]]\n",
      "\n",
      " [[0 0 0]\n",
      "  [0 0 0]\n",
      "  [0 0 0]\n",
      "  [0 0 0]]\n",
      "\n",
      " [[0 0 0]\n",
      "  [0 0 0]\n",
      "  [0 0 0]\n",
      "  [0 0 0]]\n",
      "\n",
      " [[0 0 0]\n",
      "  [0 0 0]\n",
      "  [0 0 0]\n",
      "  [0 0 0]]]\n"
     ]
    }
   ],
   "source": [
    "print(ts.ff_output, ts.fb_output, ts.latest)"
   ]
  },
  {
   "cell_type": "code",
   "execution_count": 84,
   "metadata": {},
   "outputs": [],
   "source": [
    "for i in range(0, 100):\n",
    "    a = np.random.randint(255, size=(4,3), dtype=np.uint8)\n",
    "    pb_a = pb_threshold(a)\n",
    "    ts.add(pb_a)"
   ]
  },
  {
   "cell_type": "code",
   "execution_count": 85,
   "metadata": {},
   "outputs": [
    {
     "name": "stdout",
     "output_type": "stream",
     "text": [
      "[[[0 1 1]\n",
      "  [1 0 1]\n",
      "  [0 0 1]\n",
      "  [1 1 0]]\n",
      "\n",
      " [[0 1 0]\n",
      "  [0 0 0]\n",
      "  [0 0 1]\n",
      "  [1 1 0]]\n",
      "\n",
      " [[1 1 0]\n",
      "  [1 1 1]\n",
      "  [1 1 1]\n",
      "  [1 0 1]]\n",
      "\n",
      " [[0 1 0]\n",
      "  [0 1 1]\n",
      "  [0 1 1]\n",
      "  [1 0 0]]\n",
      "\n",
      " [[0 0 1]\n",
      "  [1 1 1]\n",
      "  [1 0 0]\n",
      "  [0 0 0]]\n",
      "\n",
      " [[1 0 1]\n",
      "  [1 1 1]\n",
      "  [1 0 0]\n",
      "  [0 0 0]]\n",
      "\n",
      " [[1 0 1]\n",
      "  [1 1 0]\n",
      "  [1 1 0]\n",
      "  [1 0 0]]\n",
      "\n",
      " [[0 0 0]\n",
      "  [0 0 0]\n",
      "  [0 0 0]\n",
      "  [0 0 0]]]\n",
      "\n",
      "[[[0 0 0]\n",
      "  [0 0 0]\n",
      "  [0 0 0]\n",
      "  [0 0 0]]\n",
      "\n",
      " [[0 0 0]\n",
      "  [0 0 0]\n",
      "  [0 0 0]\n",
      "  [0 0 0]]\n",
      "\n",
      " [[0 0 0]\n",
      "  [0 0 0]\n",
      "  [0 0 0]\n",
      "  [0 0 0]]\n",
      "\n",
      " [[0 0 0]\n",
      "  [0 0 0]\n",
      "  [0 0 0]\n",
      "  [0 0 0]]\n",
      "\n",
      " [[0 0 0]\n",
      "  [0 0 0]\n",
      "  [0 0 0]\n",
      "  [0 0 0]]\n",
      "\n",
      " [[0 0 0]\n",
      "  [0 0 0]\n",
      "  [0 0 0]\n",
      "  [0 0 0]]\n",
      "\n",
      " [[0 0 0]\n",
      "  [0 0 0]\n",
      "  [0 0 0]\n",
      "  [0 0 0]]\n",
      "\n",
      " [[0 0 0]\n",
      "  [0 0 0]\n",
      "  [0 0 0]\n",
      "  [0 0 0]]]\n",
      "\n",
      "[[[0 0 0]\n",
      "  [0 1 1]\n",
      "  [1 0 0]\n",
      "  [1 0 1]]\n",
      "\n",
      " [[0 0 0]\n",
      "  [0 0 1]\n",
      "  [0 1 1]\n",
      "  [1 0 0]]\n",
      "\n",
      " [[1 1 1]\n",
      "  [1 0 1]\n",
      "  [0 0 1]\n",
      "  [1 0 1]]\n",
      "\n",
      " [[0 1 1]\n",
      "  [0 0 1]\n",
      "  [0 0 1]\n",
      "  [1 0 0]]\n",
      "\n",
      " [[0 1 1]\n",
      "  [1 1 1]\n",
      "  [0 1 0]\n",
      "  [0 0 0]]\n",
      "\n",
      " [[0 1 1]\n",
      "  [0 1 1]\n",
      "  [1 0 0]\n",
      "  [1 0 0]]\n",
      "\n",
      " [[1 1 1]\n",
      "  [0 1 1]\n",
      "  [0 0 0]\n",
      "  [1 0 0]]\n",
      "\n",
      " [[0 0 0]\n",
      "  [0 0 0]\n",
      "  [0 0 0]\n",
      "  [0 0 0]]]\n"
     ]
    }
   ],
   "source": [
    "print(ts.ff_output, ts.fb_output, ts.latest, sep=\"\\n\\n\")"
   ]
  },
  {
   "cell_type": "markdown",
   "metadata": {},
   "source": [
    "Feedback output is always 0. Is this because the data is random and there are no patterns? Or because a bug in the clipping code?"
   ]
  },
  {
   "cell_type": "code",
   "execution_count": 89,
   "metadata": {},
   "outputs": [
    {
     "name": "stdout",
     "output_type": "stream",
     "text": [
      "(4, 3, 6)\n",
      "\n",
      "[[[0 1 0 1 0 0]\n",
      "  [0 0 1 1 0 0]\n",
      "  [1 1 0 0 1 0]]\n",
      "\n",
      " [[1 0 1 0 0 0]\n",
      "  [1 0 1 0 0 1]\n",
      "  [0 1 1 1 0 1]]\n",
      "\n",
      " [[0 0 1 1 0 1]\n",
      "  [1 0 0 1 0 0]\n",
      "  [1 1 1 1 0 0]]\n",
      "\n",
      " [[1 1 0 0 1 1]\n",
      "  [1 1 0 0 1 0]\n",
      "  [1 1 0 1 0 1]]]\n"
     ]
    }
   ],
   "source": [
    "print(ts.time_series[0].forward_array.shape, ts.time_series[0].forward_array, sep=\"\\n\\n\")"
   ]
  },
  {
   "cell_type": "code",
   "execution_count": 86,
   "metadata": {},
   "outputs": [
    {
     "data": {
      "text/plain": [
       "array([[0.33333333, 0.33333333, 0.5       ],\n",
       "       [0.33333333, 0.5       , 0.66666667],\n",
       "       [0.5       , 0.33333333, 0.66666667],\n",
       "       [0.66666667, 0.5       , 0.66666667]])"
      ]
     },
     "execution_count": 86,
     "metadata": {},
     "output_type": "execute_result"
    }
   ],
   "source": [
    "process_array(ts.time_series[0].forward_array)"
   ]
  },
  {
   "cell_type": "code",
   "execution_count": 90,
   "metadata": {},
   "outputs": [
    {
     "name": "stdout",
     "output_type": "stream",
     "text": [
      "[[0 0 1]\n",
      " [1 1 0]\n",
      " [0 1 1]\n",
      " [1 1 1]]\n",
      "[[1 0 1]\n",
      " [0 0 1]\n",
      " [0 0 1]\n",
      " [1 1 1]]\n",
      "[[0 1 0]\n",
      " [1 1 1]\n",
      " [1 0 1]\n",
      " [0 0 0]]\n",
      "[[1 1 0]\n",
      " [0 0 1]\n",
      " [1 1 1]\n",
      " [0 0 1]]\n",
      "[[0 0 1]\n",
      " [0 0 0]\n",
      " [0 0 0]\n",
      " [1 1 0]]\n",
      "[[0 0 0]\n",
      " [0 1 1]\n",
      " [1 0 0]\n",
      " [1 0 1]]\n"
     ]
    }
   ],
   "source": [
    "for i in range(0,6):\n",
    "    print(ts.time_series[0].forward_array[:,:, i])"
   ]
  },
  {
   "cell_type": "code",
   "execution_count": null,
   "metadata": {},
   "outputs": [],
   "source": []
  }
 ],
 "metadata": {
  "kernelspec": {
   "display_name": "Python 3",
   "language": "python",
   "name": "python3"
  },
  "language_info": {
   "codemirror_mode": {
    "name": "ipython",
    "version": 3
   },
   "file_extension": ".py",
   "mimetype": "text/x-python",
   "name": "python",
   "nbconvert_exporter": "python",
   "pygments_lexer": "ipython3",
   "version": "3.6.8"
  }
 },
 "nbformat": 4,
 "nbformat_minor": 2
}
