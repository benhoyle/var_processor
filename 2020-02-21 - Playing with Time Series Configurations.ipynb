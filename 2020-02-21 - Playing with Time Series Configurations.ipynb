{
 "cells": [
  {
   "cell_type": "markdown",
   "metadata": {},
   "source": [
    "What seems to work?\n",
    "* PB Thresholding on input.\n",
    "* Loop over buffers - using zip pairs or t+1 ~(zipped pairs maybe better for custom pairings).\n",
    "\n",
    "What needs adjusting?\n",
    "* What exactly the outputs and inputs are? Binary signals or probabilities? Subtracted feedback or something else?\n"
   ]
  },
  {
   "cell_type": "code",
   "execution_count": null,
   "metadata": {},
   "outputs": [],
   "source": [
    "from src.var_processor.pb_threshold import pb_threshold"
   ]
  },
  {
   "cell_type": "code",
   "execution_count": 6,
   "metadata": {},
   "outputs": [
    {
     "data": {
      "text/plain": [
       "True"
      ]
     },
     "execution_count": 6,
     "metadata": {},
     "output_type": "execute_result"
    }
   ],
   "source": [
    "(3,3) == (3, 3, 1)[0:2]"
   ]
  },
  {
   "cell_type": "code",
   "execution_count": null,
   "metadata": {},
   "outputs": [],
   "source": [
    "def check_size(self, frame):\n",
    "    \"\"\"Check size of input matches array shape.\"\"\"\n",
    "    if frame.shape == self.forward_array.shape[0:2]:\n",
    "        return True\n",
    "    else:\n",
    "        return False\n",
    "\n",
    "def add_to_array(array, frame):\n",
    "    \"\"\"Add a frame to a rolling array.\"\"\"\n",
    "    array = np.roll(array, -1, axis=2)\n",
    "    # Add frame to end of buffer\n",
    "    array[..., -1] = frame\n",
    "    return array\n",
    "\n",
    "def process_array(array):\n",
    "    \"\"\"Process an array.\"\"\"\n",
    "    # Start with just averaging - could be convolution\n",
    "    return np.mean(array, axis=2)\n",
    "\n",
    "\n",
    "class Buffer:\n",
    "    \"\"\"Object for a time buffer.\"\"\"\n",
    "\n",
    "    def __init__(self, rows, cols, length):\n",
    "        \"\"\"Initialise object.\n",
    "\n",
    "        Assumes 8-bit values (for now).\n",
    "        \"\"\"\n",
    "        # Set up an array to store a rolling window of inputs\n",
    "        self.forward_array = np.zeros(shape=(rows, cols, length), dtype=np.uint8)\n",
    "        # Initialise feedback mean\n",
    "        self.backward_array = np.zeros(shape=(rows, cols, length), dtype=np.uint8)\n",
    "\n",
    "    def feedforward(self, frame):\n",
    "        \"\"\"Add a frame to the buffer in FF mode.\"\"\"\n",
    "        self.forward_array = add_to_array(self.forward_array, frame)\n",
    "        return None\n",
    "    \n",
    "    def feedback(self, frame):\n",
    "        \"\"\"Add a frame to the buffer in FB mode.\"\"\"\n",
    "        self.backward_array = add_to_array(self.backward_array, frame)\n",
    "        return None\n",
    "\n",
    "    @property\n",
    "    def ff_output(self):\n",
    "        \"\"\"Provide feedforward output.\"\"\"\n",
    "        average = np.mean(self.forward_array, axis=2)\n",
    "        # Add non-linearity\n",
    "        \n",
    "    \n",
    "    @property\n",
    "    def fb_output(self):\n",
    "        \"\"\"Provide feedback / reconstruction output.\"\"\"\n",
    "        average = np.mean(self.forward_array, axis=2)\n",
    "        # Add non-linearity\n",
    "        binary = pb_threshold()\n",
    "\n",
    "    @property\n",
    "    def latest(self):\n",
    "        \"\"\"Return latest entry in buffer.\"\"\"\n",
    "        return self.array[..., -1]\n",
    "\n",
    "    \n",
    "\n",
    "    @property\n",
    "    def output(self):\n",
    "        \"\"\"Output the adjusted theta.\"\"\"\n",
    "        # Calculate difference\n",
    "        adjusted = (self.average - self.feedback_theta).astype(np.int8)\n",
    "        # Limit to positive values in fixed range\n",
    "        clipped = np.clip(adjusted, 0, np.max(adjusted)).astype(np.uint8)\n",
    "        return clipped\n"
   ]
  }
 ],
 "metadata": {
  "kernelspec": {
   "display_name": "Python 3",
   "language": "python",
   "name": "python3"
  },
  "language_info": {
   "codemirror_mode": {
    "name": "ipython",
    "version": 3
   },
   "file_extension": ".py",
   "mimetype": "text/x-python",
   "name": "python",
   "nbconvert_exporter": "python",
   "pygments_lexer": "ipython3",
   "version": "3.6.8"
  }
 },
 "nbformat": 4,
 "nbformat_minor": 2
}
