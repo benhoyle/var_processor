{
 "cells": [
  {
   "cell_type": "markdown",
   "metadata": {},
   "source": [
    "# Visualising Input Reconstruction\n",
    "\n",
    "Here's a plan:\n",
    "* We need to visualise the input - as a 1D bar similar to our previous visualisations (VPU visualiser). We need this displayed in real time.\n",
    "* We also need to visualise the predictions over time - it would be good to plot on the same graph as the input to compare so maybe we do make this a line graph. \n",
    "* We want to plot the different sums of predictions across different stacks - we should be more accurate as the stacks increase.\n",
    "* We might also want some comparison over time - the input, reconstructions and errors as 2D plots.\n",
    "\n",
    "See \n",
    "\n",
    "https://jakevdp.github.io/PythonDataScienceHandbook/04.01-simple-line-plots.html\n",
    "https://python-graph-gallery.com/122-multiple-lines-chart/\n",
    "\n",
    "We also need to sort the mean - this maybe done on the sensor side."
   ]
  },
  {
   "cell_type": "code",
   "execution_count": 1,
   "metadata": {},
   "outputs": [],
   "source": [
    "import numpy as np"
   ]
  },
  {
   "cell_type": "code",
   "execution_count": 2,
   "metadata": {},
   "outputs": [],
   "source": [
    "import matplotlib.pyplot as plt\n",
    "from src.var_processor.sensor import Sensor\n",
    "from src.sources.fft import FFTSource"
   ]
  },
  {
   "cell_type": "markdown",
   "metadata": {},
   "source": [
    "Start by creating an audio FFT sensor source.\n",
    "\n",
    "See here for additional materials - http://localhost:8888/notebooks/2020-03-22%20-%20Visualising%20Causes.ipynb."
   ]
  },
  {
   "cell_type": "code",
   "execution_count": 3,
   "metadata": {},
   "outputs": [],
   "source": [
    "audio = FFTSource(res_factor=2)\n",
    "sensor = Sensor(audio, 4)"
   ]
  },
  {
   "cell_type": "code",
   "execution_count": 4,
   "metadata": {},
   "outputs": [
    {
     "data": {
      "text/plain": [
       "256"
      ]
     },
     "execution_count": 4,
     "metadata": {},
     "output_type": "execute_result"
    }
   ],
   "source": [
    "sensor.get_data_length()"
   ]
  },
  {
   "cell_type": "code",
   "execution_count": 5,
   "metadata": {},
   "outputs": [],
   "source": [
    "_, initial_frame = sensor.source.read()"
   ]
  },
  {
   "cell_type": "code",
   "execution_count": 6,
   "metadata": {},
   "outputs": [
    {
     "data": {
      "text/plain": [
       "(274,)"
      ]
     },
     "execution_count": 6,
     "metadata": {},
     "output_type": "execute_result"
    }
   ],
   "source": [
    "initial_frame.shape"
   ]
  },
  {
   "cell_type": "code",
   "execution_count": 7,
   "metadata": {},
   "outputs": [
    {
     "data": {
      "text/plain": [
       "[<matplotlib.lines.Line2D at 0x7f5713655908>]"
      ]
     },
     "execution_count": 7,
     "metadata": {},
     "output_type": "execute_result"
    },
    {
     "data": {
      "image/png": "[encoded data removed]",
      "text/plain": [
       "<Figure size 432x288 with 1 Axes>"
      ]
     },
     "metadata": {
      "needs_background": "light"
     },
     "output_type": "display_data"
    }
   ],
   "source": [
    "plt.plot(initial_frame)"
   ]
  },
  {
   "cell_type": "code",
   "execution_count": 8,
   "metadata": {},
   "outputs": [
    {
     "data": {
      "text/plain": [
       "[<matplotlib.lines.Line2D at 0x7f57135e0cf8>]"
      ]
     },
     "execution_count": 8,
     "metadata": {},
     "output_type": "execute_result"
    },
    {
     "data": {
      "image/png": "[encoded data removed]",
      "text/plain": [
       "<Figure size 432x288 with 1 Axes>"
      ]
     },
     "metadata": {
      "needs_background": "light"
     },
     "output_type": "display_data"
    }
   ],
   "source": [
    "plt.plot(sensor.mean)"
   ]
  },
  {
   "cell_type": "code",
   "execution_count": 9,
   "metadata": {},
   "outputs": [
    {
     "data": {
      "text/plain": [
       "0"
      ]
     },
     "execution_count": 9,
     "metadata": {},
     "output_type": "execute_result"
    }
   ],
   "source": [
    "sensor.count"
   ]
  },
  {
   "cell_type": "code",
   "execution_count": 10,
   "metadata": {},
   "outputs": [
    {
     "data": {
      "text/plain": [
       "True"
      ]
     },
     "execution_count": 10,
     "metadata": {},
     "output_type": "execute_result"
    }
   ],
   "source": [
    "not sensor.signal_mean.all()"
   ]
  },
  {
   "cell_type": "code",
   "execution_count": 11,
   "metadata": {},
   "outputs": [
    {
     "data": {
      "text/plain": [
       "array([[0, 0, 0, 0, 0, 0, 0, 0, 0, 0, 0, 0, 0, 0, 0, 0, 0, 0, 0, 0, 0, 0,\n",
       "        0, 0, 0, 0, 0, 0, 0, 0, 0, 0, 0, 0, 0, 0, 0, 0, 0, 0, 0, 0, 0, 0,\n",
       "        0, 0, 0, 0, 0, 0, 0, 0, 0, 0, 0, 0, 0, 0, 0, 0, 0, 0, 0, 0, 0, 0,\n",
       "        0, 0, 0, 0, 0, 0, 0, 0, 0, 0, 0, 0, 0, 0, 0, 0, 0, 0, 0, 0, 0, 0,\n",
       "        0, 0, 0, 0, 0, 0, 0, 0, 0, 0, 0, 0, 0, 0, 0, 0, 0, 0, 0, 0, 0, 0,\n",
       "        0, 0, 0, 0, 0, 0, 0, 0, 0, 0, 0, 0, 0, 0, 0, 0, 0, 0, 0, 0, 0, 0,\n",
       "        0, 0, 0, 0, 0, 0, 0, 0, 0, 0, 0, 0, 0, 0, 0, 0, 0, 0, 0, 0, 0, 0,\n",
       "        0, 0, 0, 0, 0, 0, 0, 0, 0, 0, 0, 0, 0, 0, 0, 0, 0, 0, 0, 0, 0, 0,\n",
       "        0, 0, 0, 0, 0, 0, 0, 0, 0, 0, 0, 0, 0, 0, 0, 0, 0, 0, 0, 0, 0, 0,\n",
       "        0, 0, 0, 0, 0, 0, 0, 0, 0, 0, 0, 0, 0, 0, 0, 0, 0, 0, 0, 0, 0, 0,\n",
       "        0, 0, 0, 0, 0, 0, 0, 0, 0, 0, 0, 0, 0, 0, 0, 0, 0, 0, 0, 0, 0, 0,\n",
       "        0, 0, 0, 0, 0, 0, 0, 0, 0, 0, 0, 0, 0, 0]], dtype=uint8)"
      ]
     },
     "execution_count": 11,
     "metadata": {},
     "output_type": "execute_result"
    }
   ],
   "source": [
    "sensor.mean.T"
   ]
  },
  {
   "cell_type": "code",
   "execution_count": 12,
   "metadata": {},
   "outputs": [
    {
     "data": {
      "text/plain": [
       "dtype('uint8')"
      ]
     },
     "execution_count": 12,
     "metadata": {},
     "output_type": "execute_result"
    }
   ],
   "source": [
    "self = sensor\n",
    "_, initial_frame = self.source.read()\n",
    "initial_frame.dtype"
   ]
  },
  {
   "cell_type": "code",
   "execution_count": 13,
   "metadata": {},
   "outputs": [],
   "source": [
    "for _ in range(0, 500):\n",
    "    frame = sensor.get_frame()"
   ]
  },
  {
   "cell_type": "code",
   "execution_count": 14,
   "metadata": {},
   "outputs": [
    {
     "data": {
      "text/plain": [
       "[<matplotlib.lines.Line2D at 0x7f57135c7c88>]"
      ]
     },
     "execution_count": 14,
     "metadata": {},
     "output_type": "execute_result"
    },
    {
     "data": {
      "image/png": "[encoded data removed]",
      "text/plain": [
       "<Figure size 432x288 with 1 Axes>"
      ]
     },
     "metadata": {
      "needs_background": "light"
     },
     "output_type": "display_data"
    }
   ],
   "source": [
    "plt.plot(sensor.mean)"
   ]
  },
  {
   "cell_type": "code",
   "execution_count": 15,
   "metadata": {},
   "outputs": [
    {
     "name": "stdout",
     "output_type": "stream",
     "text": [
      "float64 uint8\n"
     ]
    }
   ],
   "source": [
    "from src.var_processor.sensor import resize\n",
    "\n",
    "flattened = initial_frame.reshape(-1, 1)\n",
    "# Resize to nearest power of vec_len\n",
    "output = resize(flattened, self.power_len)\n",
    "print(output.dtype, flattened.dtype)"
   ]
  },
  {
   "cell_type": "code",
   "execution_count": 16,
   "metadata": {},
   "outputs": [
    {
     "data": {
      "text/plain": [
       "array([[ 0,  0,  0,  0,  0,  1,  0,  0,  0,  0, -1,  0,  0,  0,  0,  0,\n",
       "         1,  1,  0,  0,  0,  0,  0,  1,  0,  0,  1,  0,  1,  1,  1,  0,\n",
       "         0,  1, -1, -1,  0,  0,  0,  0,  0, -1,  0, -1,  0, -1,  0,  0,\n",
       "        -1,  0,  0,  0,  0,  0,  0,  0,  0,  0,  0,  0,  0, -1,  0,  0,\n",
       "         0,  0,  0,  0,  0,  0,  0,  0,  0, -1,  0,  0,  0,  0,  0,  0,\n",
       "         1,  0,  0,  0,  0,  0,  1,  0,  0,  0,  0,  0,  0,  0,  0,  0,\n",
       "         0,  0,  0,  0,  0,  0,  0,  0, -1,  0,  0, -1,  0,  0,  0,  0,\n",
       "         0,  0,  0,  0,  0,  0,  0,  0,  0,  0,  0,  0,  0,  0,  0,  0,\n",
       "         0,  0,  0,  0,  0,  0,  0,  0,  0,  1,  0,  0,  0,  0,  0,  0,\n",
       "         0,  0,  0,  0,  0,  0,  0,  0, -1,  0,  1,  0,  0,  0,  0,  0,\n",
       "         1,  1,  0,  0,  0,  0,  0,  0,  0,  0,  0,  0,  0,  0,  0,  0,\n",
       "         0,  0,  0,  0,  0,  0,  0,  0,  0,  0,  0,  0,  0,  0,  1,  0,\n",
       "         0,  0,  0,  0,  0,  0,  0,  0,  0,  0,  0,  0,  0,  0,  0,  0,\n",
       "         0,  0,  0,  0,  0,  0,  0,  0,  1,  0,  0,  0,  0,  0,  0,  0,\n",
       "         0,  0,  0,  0,  0,  0,  0,  0,  0,  0,  0,  0,  0,  0,  0,  0,\n",
       "         0,  0,  0,  0,  0,  0,  0,  0,  0,  0,  0,  0,  0,  0,  0,  0]],\n",
       "      dtype=int8)"
      ]
     },
     "execution_count": 16,
     "metadata": {},
     "output_type": "execute_result"
    }
   ],
   "source": [
    "frame.T"
   ]
  },
  {
   "cell_type": "code",
   "execution_count": 17,
   "metadata": {},
   "outputs": [
    {
     "data": {
      "text/plain": [
       "[<matplotlib.lines.Line2D at 0x7f571352f588>]"
      ]
     },
     "execution_count": 17,
     "metadata": {},
     "output_type": "execute_result"
    },
    {
     "data": {
      "image/png": "[encoded data removed]",
      "text/plain": [
       "<Figure size 432x288 with 1 Axes>"
      ]
     },
     "metadata": {
      "needs_background": "light"
     },
     "output_type": "display_data"
    }
   ],
   "source": [
    "plt.plot(frame)"
   ]
  },
  {
   "cell_type": "markdown",
   "metadata": {},
   "source": [
    "So when visualising, we can have:\n",
    "* input data;\n",
    "* mean;\n",
    "* reconstructions."
   ]
  },
  {
   "cell_type": "markdown",
   "metadata": {},
   "source": [
    "Let'f first convert our stack wrapper into a sheet class that implements a plurality of stacks.\n",
    "\n",
    "We could generate an abstract class that has the shared interfaces, then keep expanding this."
   ]
  },
  {
   "cell_type": "markdown",
   "metadata": {},
   "source": [
    "## Class Recap\n",
    "\n",
    "We have the following data structures:\n",
    "* Covariance\n",
    "* Power Iterator\n",
    "* VPU\n",
    "* Stage\n",
    "* Stack\n",
    "* Sheet\n",
    "* Sensor"
   ]
  },
  {
   "cell_type": "code",
   "execution_count": 18,
   "metadata": {},
   "outputs": [],
   "source": [
    "from src.var_processor.sheet import Sheet"
   ]
  },
  {
   "cell_type": "code",
   "execution_count": 19,
   "metadata": {},
   "outputs": [
    {
     "data": {
      "text/plain": [
       "array([[1., 1., 1., 1.],\n",
       "       [1., 1., 1., 1.],\n",
       "       [1., 1., 1., 1.],\n",
       "       [1., 1., 1., 1.],\n",
       "       [1., 1., 1., 1.],\n",
       "       [1., 1., 1., 1.],\n",
       "       [1., 1., 1., 1.],\n",
       "       [1., 1., 1., 1.],\n",
       "       [1., 1., 1., 1.],\n",
       "       [1., 1., 1., 1.],\n",
       "       [1., 1., 1., 1.],\n",
       "       [1., 1., 1., 1.],\n",
       "       [1., 1., 1., 1.],\n",
       "       [1., 1., 1., 1.],\n",
       "       [1., 1., 1., 1.],\n",
       "       [1., 1., 1., 1.],\n",
       "       [1., 1., 1., 1.],\n",
       "       [1., 1., 1., 1.],\n",
       "       [1., 1., 1., 1.],\n",
       "       [1., 1., 1., 1.]])"
      ]
     },
     "execution_count": 19,
     "metadata": {},
     "output_type": "execute_result"
    }
   ],
   "source": [
    "test = np.zeros(shape=(20, 4, 25))\n",
    "addition = np.ones(shape=(20, 4))\n",
    "test[:, :, 15] = addition\n",
    "test[..., 15]"
   ]
  },
  {
   "cell_type": "code",
   "execution_count": 20,
   "metadata": {},
   "outputs": [
    {
     "data": {
      "text/plain": [
       "(20,)"
      ]
     },
     "execution_count": 20,
     "metadata": {},
     "output_type": "execute_result"
    }
   ],
   "source": [
    "test[:, 3, :].mean(axis=1).shape"
   ]
  },
  {
   "cell_type": "code",
   "execution_count": 21,
   "metadata": {},
   "outputs": [
    {
     "data": {
      "text/plain": [
       "array([0.04, 0.04, 0.04, 0.04, 0.04, 0.04, 0.04, 0.04, 0.04, 0.04, 0.04,\n",
       "       0.04, 0.04, 0.04, 0.04, 0.04, 0.04, 0.04, 0.04, 0.04])"
      ]
     },
     "execution_count": 21,
     "metadata": {},
     "output_type": "execute_result"
    }
   ],
   "source": [
    "test[:, 3, :].mean(axis=1)"
   ]
  },
  {
   "cell_type": "markdown",
   "metadata": {},
   "source": [
    "We can use this example here to cycle through plot styles - https://matplotlib.org/examples/color/color_cycle_demo.html. Or here - the later reply with two examples is good.\n",
    "https://stackoverflow.com/questions/4971269/how-to-pick-a-new-color-for-each-plotted-line-within-a-figure-in-matplotlib\n",
    "```\n",
    "color=iter(cm.rainbow(np.linspace(0,1,n)))\n",
    "for i in range(n):\n",
    "   c=next(color)\n",
    "   plt.plot(x, y,c=c)\n",
    "```"
   ]
  },
  {
   "cell_type": "code",
   "execution_count": 22,
   "metadata": {},
   "outputs": [
    {
     "name": "stdout",
     "output_type": "stream",
     "text": [
      "[[1. 1. 1. 1.]\n",
      " [1. 1. 1. 1.]\n",
      " [1. 1. 1. 1.]\n",
      " [1. 1. 1. 1.]\n",
      " [1. 1. 1. 1.]\n",
      " [1. 1. 1. 1.]\n",
      " [1. 1. 1. 1.]\n",
      " [1. 1. 1. 1.]\n",
      " [1. 1. 1. 1.]\n",
      " [1. 1. 1. 1.]\n",
      " [1. 1. 1. 1.]\n",
      " [1. 1. 1. 1.]\n",
      " [1. 1. 1. 1.]\n",
      " [1. 1. 1. 1.]\n",
      " [1. 1. 1. 1.]\n",
      " [1. 1. 1. 1.]\n",
      " [1. 1. 1. 1.]\n",
      " [1. 1. 1. 1.]\n",
      " [1. 1. 1. 1.]\n",
      " [1. 1. 1. 1.]]\n",
      "4\n"
     ]
    }
   ],
   "source": [
    "sums = test.sum(axis=2); print(sums)\n",
    "sums_list = list(sums.T); print(len(sums_list))"
   ]
  },
  {
   "cell_type": "code",
   "execution_count": 23,
   "metadata": {},
   "outputs": [
    {
     "data": {
      "text/plain": [
       "((20, 4), [0, 1, 2, 3])"
      ]
     },
     "execution_count": 23,
     "metadata": {},
     "output_type": "execute_result"
    }
   ],
   "source": [
    "sums.shape, list(range(0, sums.shape[1]))"
   ]
  },
  {
   "cell_type": "code",
   "execution_count": 24,
   "metadata": {
    "scrolled": true
   },
   "outputs": [
    {
     "data": {
      "text/plain": [
       "((20,),\n",
       " array([3., 3., 3., 3., 3., 3., 3., 3., 3., 3., 3., 3., 3., 3., 3., 3., 3.,\n",
       "        3., 3., 3.]))"
      ]
     },
     "execution_count": 24,
     "metadata": {},
     "output_type": "execute_result"
    }
   ],
   "source": [
    "sums[:, 0:3].sum(axis=1).shape, sums[:, 0:3].sum(axis=1)"
   ]
  },
  {
   "cell_type": "code",
   "execution_count": 25,
   "metadata": {},
   "outputs": [],
   "source": [
    "totals = list()\n",
    "for i in range(0, sums.shape[1]):\n",
    "    totals.append(sums[:, 0:i+1].sum(axis=1))"
   ]
  },
  {
   "cell_type": "code",
   "execution_count": 26,
   "metadata": {},
   "outputs": [],
   "source": [
    "totals = [sums[:, 0:i+1].sum(axis=1) for i in range(0, sums.shape[1])]"
   ]
  },
  {
   "cell_type": "code",
   "execution_count": 27,
   "metadata": {},
   "outputs": [],
   "source": [
    "import time\n",
    "from matplotlib.pyplot import cm\n",
    "import numpy as np\n",
    "import matplotlib.pyplot as plt\n",
    "from matplotlib.animation import FuncAnimation\n",
    "from src.var_processor.sheet import Sheet"
   ]
  },
  {
   "cell_type": "code",
   "execution_count": 28,
   "metadata": {},
   "outputs": [
    {
     "data": {
      "text/plain": [
       "(6, 4)"
      ]
     },
     "execution_count": 28,
     "metadata": {},
     "output_type": "execute_result"
    }
   ],
   "source": [
    "cm.rainbow(np.linspace(0, 1, 4+2)).shape"
   ]
  },
  {
   "cell_type": "code",
   "execution_count": 29,
   "metadata": {},
   "outputs": [
    {
     "name": "stdout",
     "output_type": "stream",
     "text": [
      "[0.5 0.  1.  1. ]\n",
      "[0.1        0.58778525 0.95105652 1.        ]\n",
      "[0.3        0.95105652 0.80901699 1.        ]\n",
      "[0.7        0.95105652 0.58778525 1.        ]\n",
      "[1.         0.58778525 0.30901699 1.        ]\n",
      "[1.0000000e+00 1.2246468e-16 6.1232340e-17 1.0000000e+00]\n"
     ]
    }
   ],
   "source": [
    "for color in cm.rainbow(np.linspace(0, 1, 4+2)):\n",
    "    print(color)"
   ]
  },
  {
   "cell_type": "code",
   "execution_count": 30,
   "metadata": {},
   "outputs": [],
   "source": [
    "class SheetVisualizer:\n",
    "    \"\"\"Object to visualise a set of stacks.\"\"\"\n",
    "\n",
    "    def __init__(self, sheet, sensor, buf_length=127):\n",
    "        \"\"\"Initialise.\n",
    "\n",
    "        Args:\n",
    "            sheet: a sheet object.\n",
    "            sensor: a sensor object.\n",
    "        \"\"\"\n",
    "        assert isinstance(sheet, Sheet)\n",
    "        assert isinstance(sensor, Sensor)\n",
    "        self.sheet = sheet\n",
    "        self.sensor = sensor\n",
    "        self.buf_length = buf_length\n",
    "        # Start sensor if not started\n",
    "        if not self.sensor.source.started:\n",
    "            self.sensor.start()\n",
    "        # Initialise single subplot\n",
    "        self.figure, self.ax = plt.subplots()\n",
    "        # Initialising animation\n",
    "        self.animation = FuncAnimation(\n",
    "            self.figure, self.update, save_count=200)\n",
    "        # Initialise X Axis\n",
    "        self.x_range = np.arange(0, sheet.input_len)\n",
    "        # Set buffer for inputs\n",
    "        self.input_buffers = np.zeros(\n",
    "            shape=(sheet.input_len, sheet.stack_len, self.buf_length),\n",
    "            dtype=np.int8\n",
    "        )\n",
    "        # Set count\n",
    "        self.count = 0\n",
    "        # Initialise Labels, Colors and Linestyles\n",
    "        self.labels = [\"Raw Input\", \"Sensor Mean\"]\n",
    "        self.labels = self.labels + [f\"Input for Stack {i}\" for i in range(0, self.sheet.stack_len)]\n",
    "        self.colors = cm.rainbow(np.linspace(0, 1, self.sheet.stack_len+2))\n",
    "        self.linestyles = [\"-\", \"--\", \":\", \":\", \":\", \":\"]\n",
    "        # Initialise Data Plots\n",
    "        # Set variable to store lines to update\n",
    "        self.lines = [None for i in range(0, self.sheet.stack_len+2)]                         \n",
    "        # Start with blank data                         \n",
    "        zero_y = np.zeros(shape=(sheet.stack_len+2, sheet.input_len))\n",
    "        self.set_plots(zero_y)  \n",
    "        # Add legend\n",
    "        self.ax.legend()\n",
    "        self.ax.set_ylim(0, 256)\n",
    "\n",
    "    def set_plots(self, y_data):\n",
    "        \"\"\"Plot one or more lines on an axis.\n",
    "    \n",
    "        Args:\n",
    "            y_data - list of 1D numpy arrays for y.\n",
    "        \"\"\"\n",
    "        for i, y in enumerate(y_data):\n",
    "            if self.lines[i] is None:\n",
    "                self.lines[i], = self.ax.plot(\n",
    "                    self.x_range,\n",
    "                    y,\n",
    "                    color=self.colors[i],\n",
    "                    label=self.labels[i],\n",
    "                    linestyle=self.linestyles[i]\n",
    "                )\n",
    "            else:\n",
    "                self.lines[i].set_ydata(y)                             \n",
    "                                 \n",
    "    def update(self, frame):\n",
    "        \"\"\"Update the visualisations.\"\"\"\n",
    "        # Get mean-removed input data\n",
    "        input_data, raw_frame = self.sensor.get_frame_plus_raw()\n",
    "        causes, stack_inputs = self.sheet.iterate(input_data)\n",
    "        self.input_buffers[:, :, self.count] = stack_inputs\n",
    "        # Sum across samples in buffer\n",
    "        sums = self.input_buffers.sum(axis=2).astype(np.int16)\n",
    "        # Get mean and mean multiplier for reconstruction\n",
    "        mean = self.sensor.mean\n",
    "        mean_min = np.minimum(mean, 255-mean)\n",
    "        # Total across more and more stacks for each reconstruction\n",
    "        totals = [\n",
    "            mean + (sums[:, 0:i+1].sum(axis=1).reshape(-1, 1)*mean_min)//127 \n",
    "            for i in range(0, sums.shape[1])\n",
    "        ]\n",
    "        # Get y_data as list\n",
    "        y_data = [raw_frame, mean] + totals\n",
    "        # Update plots\n",
    "        self.set_plots(y_data)\n",
    "        # Increment Count and wrap if necessary\n",
    "        self.count = (self.count + 1) % self.buf_length\n",
    "        # time.sleep(0.25)\n",
    "        return self.figure\n",
    "\n",
    "    def show(self):\n",
    "        \"\"\"Show the visualisations.\"\"\"\n",
    "        plt.show()"
   ]
  },
  {
   "cell_type": "markdown",
   "metadata": {},
   "source": [
    "We need to use set_data for the ydata.\n",
    "\n",
    "We also need to multiply by the mean and add the mean back to our estimates"
   ]
  },
  {
   "cell_type": "code",
   "execution_count": 31,
   "metadata": {},
   "outputs": [
    {
     "data": {
      "application/javascript": [
       "/* Put everything inside the global mpl namespace */\n",
       "window.mpl = {};\n",
       "\n",
       "\n",
       "mpl.get_websocket_type = function() {\n",
       "    if (typeof(WebSocket) !== 'undefined') {\n",
       "        return WebSocket;\n",
       "    } else if (typeof(MozWebSocket) !== 'undefined') {\n",
       "        return MozWebSocket;\n",
       "    } else {\n",
       "        alert('Your browser does not have WebSocket support.' +\n",
       "              'Please try Chrome, Safari or Firefox ≥ 6. ' +\n",
       "              'Firefox 4 and 5 are also supported but you ' +\n",
       "              'have to enable WebSockets in about:config.');\n",
       "    };\n",
       "}\n",
       "\n",
       "mpl.figure = function(figure_id, websocket, ondownload, parent_element) {\n",
       "    this.id = figure_id;\n",
       "\n",
       "    this.ws = websocket;\n",
       "\n",
       "    this.supports_binary = (this.ws.binaryType != undefined);\n",
       "\n",
       "    if (!this.supports_binary) {\n",
       "        var warnings = document.getElementById(\"mpl-warnings\");\n",
       "        if (warnings) {\n",
       "            warnings.style.display = 'block';\n",
       "            warnings.textContent = (\n",
       "                \"This browser does not support binary websocket messages. \" +\n",
       "                    \"Performance may be slow.\");\n",
       "        }\n",
       "    }\n",
       "\n",
       "    this.imageObj = new Image();\n",
       "\n",
       "    this.context = undefined;\n",
       "    this.message = undefined;\n",
       "    this.canvas = undefined;\n",
       "    this.rubberband_canvas = undefined;\n",
       "    this.rubberband_context = undefined;\n",
       "    this.format_dropdown = undefined;\n",
       "\n",
       "    this.image_mode = 'full';\n",
       "\n",
       "    this.root = $('<div/>');\n",
       "    this._root_extra_style(this.root)\n",
       "    this.root.attr('style', 'display: inline-block');\n",
       "\n",
       "    $(parent_element).append(this.root);\n",
       "\n",
       "    this._init_header(this);\n",
       "    this._init_canvas(this);\n",
       "    this._init_toolbar(this);\n",
       "\n",
       "    var fig = this;\n",
       "\n",
       "    this.waiting = false;\n",
       "\n",
       "    this.ws.onopen =  function () {\n",
       "            fig.send_message(\"supports_binary\", {value: fig.supports_binary});\n",
       "            fig.send_message(\"send_image_mode\", {});\n",
       "            if (mpl.ratio != 1) {\n",
       "                fig.send_message(\"set_dpi_ratio\", {'dpi_ratio': mpl.ratio});\n",
       "            }\n",
       "            fig.send_message(\"refresh\", {});\n",
       "        }\n",
       "\n",
       "    this.imageObj.onload = function() {\n",
       "            if (fig.image_mode == 'full') {\n",
       "                // Full images could contain transparency (where diff images\n",
       "                // almost always do), so we need to clear the canvas so that\n",
       "                // there is no ghosting.\n",
       "                fig.context.clearRect(0, 0, fig.canvas.width, fig.canvas.height);\n",
       "            }\n",
       "            fig.context.drawImage(fig.imageObj, 0, 0);\n",
       "        };\n",
       "\n",
       "    this.imageObj.onunload = function() {\n",
       "        fig.ws.close();\n",
       "    }\n",
       "\n",
       "    this.ws.onmessage = this._make_on_message_function(this);\n",
       "\n",
       "    this.ondownload = ondownload;\n",
       "}\n",
       "\n",
       "mpl.figure.prototype._init_header = function() {\n",
       "    var titlebar = $(\n",
       "        '<div class=\"ui-dialog-titlebar ui-widget-header ui-corner-all ' +\n",
       "        'ui-helper-clearfix\"/>');\n",
       "    var titletext = $(\n",
       "        '<div class=\"ui-dialog-title\" style=\"width: 100%; ' +\n",
       "        'text-align: center; padding: 3px;\"/>');\n",
       "    titlebar.append(titletext)\n",
       "    this.root.append(titlebar);\n",
       "    this.header = titletext[0];\n",
       "}\n",
       "\n",
       "\n",
       "\n",
       "mpl.figure.prototype._canvas_extra_style = function(canvas_div) {\n",
       "\n",
       "}\n",
       "\n",
       "\n",
       "mpl.figure.prototype._root_extra_style = function(canvas_div) {\n",
       "\n",
       "}\n",
       "\n",
       "mpl.figure.prototype._init_canvas = function() {\n",
       "    var fig = this;\n",
       "\n",
       "    var canvas_div = $('<div/>');\n",
       "\n",
       "    canvas_div.attr('style', 'position: relative; clear: both; outline: 0');\n",
       "\n",
       "    function canvas_keyboard_event(event) {\n",
       "        return fig.key_event(event, event['data']);\n",
       "    }\n",
       "\n",
       "    canvas_div.keydown('key_press', canvas_keyboard_event);\n",
       "    canvas_div.keyup('key_release', canvas_keyboard_event);\n",
       "    this.canvas_div = canvas_div\n",
       "    this._canvas_extra_style(canvas_div)\n",
       "    this.root.append(canvas_div);\n",
       "\n",
       "    var canvas = $('<canvas/>');\n",
       "    canvas.addClass('mpl-canvas');\n",
       "    canvas.attr('style', \"left: 0; top: 0; z-index: 0; outline: 0\")\n",
       "\n",
       "    this.canvas = canvas[0];\n",
       "    this.context = canvas[0].getContext(\"2d\");\n",
       "\n",
       "    var backingStore = this.context.backingStorePixelRatio ||\n",
       "\tthis.context.webkitBackingStorePixelRatio ||\n",
       "\tthis.context.mozBackingStorePixelRatio ||\n",
       "\tthis.context.msBackingStorePixelRatio ||\n",
       "\tthis.context.oBackingStorePixelRatio ||\n",
       "\tthis.context.backingStorePixelRatio || 1;\n",
       "\n",
       "    mpl.ratio = (window.devicePixelRatio || 1) / backingStore;\n",
       "\n",
       "    var rubberband = $('<canvas/>');\n",
       "    rubberband.attr('style', \"position: absolute; left: 0; top: 0; z-index: 1;\")\n",
       "\n",
       "    var pass_mouse_events = true;\n",
       "\n",
       "    canvas_div.resizable({\n",
       "        start: function(event, ui) {\n",
       "            pass_mouse_events = false;\n",
       "        },\n",
       "        resize: function(event, ui) {\n",
       "            fig.request_resize(ui.size.width, ui.size.height);\n",
       "        },\n",
       "        stop: function(event, ui) {\n",
       "            pass_mouse_events = true;\n",
       "            fig.request_resize(ui.size.width, ui.size.height);\n",
       "        },\n",
       "    });\n",
       "\n",
       "    function mouse_event_fn(event) {\n",
       "        if (pass_mouse_events)\n",
       "            return fig.mouse_event(event, event['data']);\n",
       "    }\n",
       "\n",
       "    rubberband.mousedown('button_press', mouse_event_fn);\n",
       "    rubberband.mouseup('button_release', mouse_event_fn);\n",
       "    // Throttle sequential mouse events to 1 every 20ms.\n",
       "    rubberband.mousemove('motion_notify', mouse_event_fn);\n",
       "\n",
       "    rubberband.mouseenter('figure_enter', mouse_event_fn);\n",
       "    rubberband.mouseleave('figure_leave', mouse_event_fn);\n",
       "\n",
       "    canvas_div.on(\"wheel\", function (event) {\n",
       "        event = event.originalEvent;\n",
       "        event['data'] = 'scroll'\n",
       "        if (event.deltaY < 0) {\n",
       "            event.step = 1;\n",
       "        } else {\n",
       "            event.step = -1;\n",
       "        }\n",
       "        mouse_event_fn(event);\n",
       "    });\n",
       "\n",
       "    canvas_div.append(canvas);\n",
       "    canvas_div.append(rubberband);\n",
       "\n",
       "    this.rubberband = rubberband;\n",
       "    this.rubberband_canvas = rubberband[0];\n",
       "    this.rubberband_context = rubberband[0].getContext(\"2d\");\n",
       "    this.rubberband_context.strokeStyle = \"#000000\";\n",
       "\n",
       "    this._resize_canvas = function(width, height) {\n",
       "        // Keep the size of the canvas, canvas container, and rubber band\n",
       "        // canvas in synch.\n",
       "        canvas_div.css('width', width)\n",
       "        canvas_div.css('height', height)\n",
       "\n",
       "        canvas.attr('width', width * mpl.ratio);\n",
       "        canvas.attr('height', height * mpl.ratio);\n",
       "        canvas.attr('style', 'width: ' + width + 'px; height: ' + height + 'px;');\n",
       "\n",
       "        rubberband.attr('width', width);\n",
       "        rubberband.attr('height', height);\n",
       "    }\n",
       "\n",
       "    // Set the figure to an initial 600x600px, this will subsequently be updated\n",
       "    // upon first draw.\n",
       "    this._resize_canvas(600, 600);\n",
       "\n",
       "    // Disable right mouse context menu.\n",
       "    $(this.rubberband_canvas).bind(\"contextmenu\",function(e){\n",
       "        return false;\n",
       "    });\n",
       "\n",
       "    function set_focus () {\n",
       "        canvas.focus();\n",
       "        canvas_div.focus();\n",
       "    }\n",
       "\n",
       "    window.setTimeout(set_focus, 100);\n",
       "}\n",
       "\n",
       "mpl.figure.prototype._init_toolbar = function() {\n",
       "    var fig = this;\n",
       "\n",
       "    var nav_element = $('<div/>')\n",
       "    nav_element.attr('style', 'width: 100%');\n",
       "    this.root.append(nav_element);\n",
       "\n",
       "    // Define a callback function for later on.\n",
       "    function toolbar_event(event) {\n",
       "        return fig.toolbar_button_onclick(event['data']);\n",
       "    }\n",
       "    function toolbar_mouse_event(event) {\n",
       "        return fig.toolbar_button_onmouseover(event['data']);\n",
       "    }\n",
       "\n",
       "    for(var toolbar_ind in mpl.toolbar_items) {\n",
       "        var name = mpl.toolbar_items[toolbar_ind][0];\n",
       "        var tooltip = mpl.toolbar_items[toolbar_ind][1];\n",
       "        var image = mpl.toolbar_items[toolbar_ind][2];\n",
       "        var method_name = mpl.toolbar_items[toolbar_ind][3];\n",
       "\n",
       "        if (!name) {\n",
       "            // put a spacer in here.\n",
       "            continue;\n",
       "        }\n",
       "        var button = $('<button/>');\n",
       "        button.addClass('ui-button ui-widget ui-state-default ui-corner-all ' +\n",
       "                        'ui-button-icon-only');\n",
       "        button.attr('role', 'button');\n",
       "        button.attr('aria-disabled', 'false');\n",
       "        button.click(method_name, toolbar_event);\n",
       "        button.mouseover(tooltip, toolbar_mouse_event);\n",
       "\n",
       "        var icon_img = $('<span/>');\n",
       "        icon_img.addClass('ui-button-icon-primary ui-icon');\n",
       "        icon_img.addClass(image);\n",
       "        icon_img.addClass('ui-corner-all');\n",
       "\n",
       "        var tooltip_span = $('<span/>');\n",
       "        tooltip_span.addClass('ui-button-text');\n",
       "        tooltip_span.html(tooltip);\n",
       "\n",
       "        button.append(icon_img);\n",
       "        button.append(tooltip_span);\n",
       "\n",
       "        nav_element.append(button);\n",
       "    }\n",
       "\n",
       "    var fmt_picker_span = $('<span/>');\n",
       "\n",
       "    var fmt_picker = $('<select/>');\n",
       "    fmt_picker.addClass('mpl-toolbar-option ui-widget ui-widget-content');\n",
       "    fmt_picker_span.append(fmt_picker);\n",
       "    nav_element.append(fmt_picker_span);\n",
       "    this.format_dropdown = fmt_picker[0];\n",
       "\n",
       "    for (var ind in mpl.extensions) {\n",
       "        var fmt = mpl.extensions[ind];\n",
       "        var option = $(\n",
       "            '<option/>', {selected: fmt === mpl.default_extension}).html(fmt);\n",
       "        fmt_picker.append(option)\n",
       "    }\n",
       "\n",
       "    // Add hover states to the ui-buttons\n",
       "    $( \".ui-button\" ).hover(\n",
       "        function() { $(this).addClass(\"ui-state-hover\");},\n",
       "        function() { $(this).removeClass(\"ui-state-hover\");}\n",
       "    );\n",
       "\n",
       "    var status_bar = $('<span class=\"mpl-message\"/>');\n",
       "    nav_element.append(status_bar);\n",
       "    this.message = status_bar[0];\n",
       "}\n",
       "\n",
       "mpl.figure.prototype.request_resize = function(x_pixels, y_pixels) {\n",
       "    // Request matplotlib to resize the figure. Matplotlib will then trigger a resize in the client,\n",
       "    // which will in turn request a refresh of the image.\n",
       "    this.send_message('resize', {'width': x_pixels, 'height': y_pixels});\n",
       "}\n",
       "\n",
       "mpl.figure.prototype.send_message = function(type, properties) {\n",
       "    properties['type'] = type;\n",
       "    properties['figure_id'] = this.id;\n",
       "    this.ws.send(JSON.stringify(properties));\n",
       "}\n",
       "\n",
       "mpl.figure.prototype.send_draw_message = function() {\n",
       "    if (!this.waiting) {\n",
       "        this.waiting = true;\n",
       "        this.ws.send(JSON.stringify({type: \"draw\", figure_id: this.id}));\n",
       "    }\n",
       "}\n",
       "\n",
       "\n",
       "mpl.figure.prototype.handle_save = function(fig, msg) {\n",
       "    var format_dropdown = fig.format_dropdown;\n",
       "    var format = format_dropdown.options[format_dropdown.selectedIndex].value;\n",
       "    fig.ondownload(fig, format);\n",
       "}\n",
       "\n",
       "\n",
       "mpl.figure.prototype.handle_resize = function(fig, msg) {\n",
       "    var size = msg['size'];\n",
       "    if (size[0] != fig.canvas.width || size[1] != fig.canvas.height) {\n",
       "        fig._resize_canvas(size[0], size[1]);\n",
       "        fig.send_message(\"refresh\", {});\n",
       "    };\n",
       "}\n",
       "\n",
       "mpl.figure.prototype.handle_rubberband = function(fig, msg) {\n",
       "    var x0 = msg['x0'] / mpl.ratio;\n",
       "    var y0 = (fig.canvas.height - msg['y0']) / mpl.ratio;\n",
       "    var x1 = msg['x1'] / mpl.ratio;\n",
       "    var y1 = (fig.canvas.height - msg['y1']) / mpl.ratio;\n",
       "    x0 = Math.floor(x0) + 0.5;\n",
       "    y0 = Math.floor(y0) + 0.5;\n",
       "    x1 = Math.floor(x1) + 0.5;\n",
       "    y1 = Math.floor(y1) + 0.5;\n",
       "    var min_x = Math.min(x0, x1);\n",
       "    var min_y = Math.min(y0, y1);\n",
       "    var width = Math.abs(x1 - x0);\n",
       "    var height = Math.abs(y1 - y0);\n",
       "\n",
       "    fig.rubberband_context.clearRect(\n",
       "        0, 0, fig.canvas.width, fig.canvas.height);\n",
       "\n",
       "    fig.rubberband_context.strokeRect(min_x, min_y, width, height);\n",
       "}\n",
       "\n",
       "mpl.figure.prototype.handle_figure_label = function(fig, msg) {\n",
       "    // Updates the figure title.\n",
       "    fig.header.textContent = msg['label'];\n",
       "}\n",
       "\n",
       "mpl.figure.prototype.handle_cursor = function(fig, msg) {\n",
       "    var cursor = msg['cursor'];\n",
       "    switch(cursor)\n",
       "    {\n",
       "    case 0:\n",
       "        cursor = 'pointer';\n",
       "        break;\n",
       "    case 1:\n",
       "        cursor = 'default';\n",
       "        break;\n",
       "    case 2:\n",
       "        cursor = 'crosshair';\n",
       "        break;\n",
       "    case 3:\n",
       "        cursor = 'move';\n",
       "        break;\n",
       "    }\n",
       "    fig.rubberband_canvas.style.cursor = cursor;\n",
       "}\n",
       "\n",
       "mpl.figure.prototype.handle_message = function(fig, msg) {\n",
       "    fig.message.textContent = msg['message'];\n",
       "}\n",
       "\n",
       "mpl.figure.prototype.handle_draw = function(fig, msg) {\n",
       "    // Request the server to send over a new figure.\n",
       "    fig.send_draw_message();\n",
       "}\n",
       "\n",
       "mpl.figure.prototype.handle_image_mode = function(fig, msg) {\n",
       "    fig.image_mode = msg['mode'];\n",
       "}\n",
       "\n",
       "mpl.figure.prototype.updated_canvas_event = function() {\n",
       "    // Called whenever the canvas gets updated.\n",
       "    this.send_message(\"ack\", {});\n",
       "}\n",
       "\n",
       "// A function to construct a web socket function for onmessage handling.\n",
       "// Called in the figure constructor.\n",
       "mpl.figure.prototype._make_on_message_function = function(fig) {\n",
       "    return function socket_on_message(evt) {\n",
       "        if (evt.data instanceof Blob) {\n",
       "            /* FIXME: We get \"Resource interpreted as Image but\n",
       "             * transferred with MIME type text/plain:\" errors on\n",
       "             * Chrome.  But how to set the MIME type?  It doesn't seem\n",
       "             * to be part of the websocket stream */\n",
       "            evt.data.type = \"image/png\";\n",
       "\n",
       "            /* Free the memory for the previous frames */\n",
       "            if (fig.imageObj.src) {\n",
       "                (window.URL || window.webkitURL).revokeObjectURL(\n",
       "                    fig.imageObj.src);\n",
       "            }\n",
       "\n",
       "            fig.imageObj.src = (window.URL || window.webkitURL).createObjectURL(\n",
       "                evt.data);\n",
       "            fig.updated_canvas_event();\n",
       "            fig.waiting = false;\n",
       "            return;\n",
       "        }\n",
       "        else if (typeof evt.data === 'string' && evt.data.slice(0, 21) == \"data:image/png;base64\") {\n",
       "            fig.imageObj.src = evt.data;\n",
       "            fig.updated_canvas_event();\n",
       "            fig.waiting = false;\n",
       "            return;\n",
       "        }\n",
       "\n",
       "        var msg = JSON.parse(evt.data);\n",
       "        var msg_type = msg['type'];\n",
       "\n",
       "        // Call the  \"handle_{type}\" callback, which takes\n",
       "        // the figure and JSON message as its only arguments.\n",
       "        try {\n",
       "            var callback = fig[\"handle_\" + msg_type];\n",
       "        } catch (e) {\n",
       "            console.log(\"No handler for the '\" + msg_type + \"' message type: \", msg);\n",
       "            return;\n",
       "        }\n",
       "\n",
       "        if (callback) {\n",
       "            try {\n",
       "                // console.log(\"Handling '\" + msg_type + \"' message: \", msg);\n",
       "                callback(fig, msg);\n",
       "            } catch (e) {\n",
       "                console.log(\"Exception inside the 'handler_\" + msg_type + \"' callback:\", e, e.stack, msg);\n",
       "            }\n",
       "        }\n",
       "    };\n",
       "}\n",
       "\n",
       "// from http://stackoverflow.com/questions/1114465/getting-mouse-location-in-canvas\n",
       "mpl.findpos = function(e) {\n",
       "    //this section is from http://www.quirksmode.org/js/events_properties.html\n",
       "    var targ;\n",
       "    if (!e)\n",
       "        e = window.event;\n",
       "    if (e.target)\n",
       "        targ = e.target;\n",
       "    else if (e.srcElement)\n",
       "        targ = e.srcElement;\n",
       "    if (targ.nodeType == 3) // defeat Safari bug\n",
       "        targ = targ.parentNode;\n",
       "\n",
       "    // jQuery normalizes the pageX and pageY\n",
       "    // pageX,Y are the mouse positions relative to the document\n",
       "    // offset() returns the position of the element relative to the document\n",
       "    var x = e.pageX - $(targ).offset().left;\n",
       "    var y = e.pageY - $(targ).offset().top;\n",
       "\n",
       "    return {\"x\": x, \"y\": y};\n",
       "};\n",
       "\n",
       "/*\n",
       " * return a copy of an object with only non-object keys\n",
       " * we need this to avoid circular references\n",
       " * http://stackoverflow.com/a/24161582/3208463\n",
       " */\n",
       "function simpleKeys (original) {\n",
       "  return Object.keys(original).reduce(function (obj, key) {\n",
       "    if (typeof original[key] !== 'object')\n",
       "        obj[key] = original[key]\n",
       "    return obj;\n",
       "  }, {});\n",
       "}\n",
       "\n",
       "mpl.figure.prototype.mouse_event = function(event, name) {\n",
       "    var canvas_pos = mpl.findpos(event)\n",
       "\n",
       "    if (name === 'button_press')\n",
       "    {\n",
       "        this.canvas.focus();\n",
       "        this.canvas_div.focus();\n",
       "    }\n",
       "\n",
       "    var x = canvas_pos.x * mpl.ratio;\n",
       "    var y = canvas_pos.y * mpl.ratio;\n",
       "\n",
       "    this.send_message(name, {x: x, y: y, button: event.button,\n",
       "                             step: event.step,\n",
       "                             guiEvent: simpleKeys(event)});\n",
       "\n",
       "    /* This prevents the web browser from automatically changing to\n",
       "     * the text insertion cursor when the button is pressed.  We want\n",
       "     * to control all of the cursor setting manually through the\n",
       "     * 'cursor' event from matplotlib */\n",
       "    event.preventDefault();\n",
       "    return false;\n",
       "}\n",
       "\n",
       "mpl.figure.prototype._key_event_extra = function(event, name) {\n",
       "    // Handle any extra behaviour associated with a key event\n",
       "}\n",
       "\n",
       "mpl.figure.prototype.key_event = function(event, name) {\n",
       "\n",
       "    // Prevent repeat events\n",
       "    if (name == 'key_press')\n",
       "    {\n",
       "        if (event.which === this._key)\n",
       "            return;\n",
       "        else\n",
       "            this._key = event.which;\n",
       "    }\n",
       "    if (name == 'key_release')\n",
       "        this._key = null;\n",
       "\n",
       "    var value = '';\n",
       "    if (event.ctrlKey && event.which != 17)\n",
       "        value += \"ctrl+\";\n",
       "    if (event.altKey && event.which != 18)\n",
       "        value += \"alt+\";\n",
       "    if (event.shiftKey && event.which != 16)\n",
       "        value += \"shift+\";\n",
       "\n",
       "    value += 'k';\n",
       "    value += event.which.toString();\n",
       "\n",
       "    this._key_event_extra(event, name);\n",
       "\n",
       "    this.send_message(name, {key: value,\n",
       "                             guiEvent: simpleKeys(event)});\n",
       "    return false;\n",
       "}\n",
       "\n",
       "mpl.figure.prototype.toolbar_button_onclick = function(name) {\n",
       "    if (name == 'download') {\n",
       "        this.handle_save(this, null);\n",
       "    } else {\n",
       "        this.send_message(\"toolbar_button\", {name: name});\n",
       "    }\n",
       "};\n",
       "\n",
       "mpl.figure.prototype.toolbar_button_onmouseover = function(tooltip) {\n",
       "    this.message.textContent = tooltip;\n",
       "};\n",
       "mpl.toolbar_items = [[\"Home\", \"Reset original view\", \"fa fa-home icon-home\", \"home\"], [\"Back\", \"Back to previous view\", \"fa fa-arrow-left icon-arrow-left\", \"back\"], [\"Forward\", \"Forward to next view\", \"fa fa-arrow-right icon-arrow-right\", \"forward\"], [\"\", \"\", \"\", \"\"], [\"Pan\", \"Pan axes with left mouse, zoom with right\", \"fa fa-arrows icon-move\", \"pan\"], [\"Zoom\", \"Zoom to rectangle\", \"fa fa-square-o icon-check-empty\", \"zoom\"], [\"\", \"\", \"\", \"\"], [\"Download\", \"Download plot\", \"fa fa-floppy-o icon-save\", \"download\"]];\n",
       "\n",
       "mpl.extensions = [\"eps\", \"jpeg\", \"pdf\", \"png\", \"ps\", \"raw\", \"svg\", \"tif\"];\n",
       "\n",
       "mpl.default_extension = \"png\";var comm_websocket_adapter = function(comm) {\n",
       "    // Create a \"websocket\"-like object which calls the given IPython comm\n",
       "    // object with the appropriate methods. Currently this is a non binary\n",
       "    // socket, so there is still some room for performance tuning.\n",
       "    var ws = {};\n",
       "\n",
       "    ws.close = function() {\n",
       "        comm.close()\n",
       "    };\n",
       "    ws.send = function(m) {\n",
       "        //console.log('sending', m);\n",
       "        comm.send(m);\n",
       "    };\n",
       "    // Register the callback with on_msg.\n",
       "    comm.on_msg(function(msg) {\n",
       "        //console.log('receiving', msg['content']['data'], msg);\n",
       "        // Pass the mpl event to the overridden (by mpl) onmessage function.\n",
       "        ws.onmessage(msg['content']['data'])\n",
       "    });\n",
       "    return ws;\n",
       "}\n",
       "\n",
       "mpl.mpl_figure_comm = function(comm, msg) {\n",
       "    // This is the function which gets called when the mpl process\n",
       "    // starts-up an IPython Comm through the \"matplotlib\" channel.\n",
       "\n",
       "    var id = msg.content.data.id;\n",
       "    // Get hold of the div created by the display call when the Comm\n",
       "    // socket was opened in Python.\n",
       "    var element = $(\"#\" + id);\n",
       "    var ws_proxy = comm_websocket_adapter(comm)\n",
       "\n",
       "    function ondownload(figure, format) {\n",
       "        window.open(figure.imageObj.src);\n",
       "    }\n",
       "\n",
       "    var fig = new mpl.figure(id, ws_proxy,\n",
       "                           ondownload,\n",
       "                           element.get(0));\n",
       "\n",
       "    // Call onopen now - mpl needs it, as it is assuming we've passed it a real\n",
       "    // web socket which is closed, not our websocket->open comm proxy.\n",
       "    ws_proxy.onopen();\n",
       "\n",
       "    fig.parent_element = element.get(0);\n",
       "    fig.cell_info = mpl.find_output_cell(\"<div id='\" + id + \"'></div>\");\n",
       "    if (!fig.cell_info) {\n",
       "        console.error(\"Failed to find cell for figure\", id, fig);\n",
       "        return;\n",
       "    }\n",
       "\n",
       "    var output_index = fig.cell_info[2]\n",
       "    var cell = fig.cell_info[0];\n",
       "\n",
       "};\n",
       "\n",
       "mpl.figure.prototype.handle_close = function(fig, msg) {\n",
       "    var width = fig.canvas.width/mpl.ratio\n",
       "    fig.root.unbind('remove')\n",
       "\n",
       "    // Update the output cell to use the data from the current canvas.\n",
       "    fig.push_to_output();\n",
       "    var dataURL = fig.canvas.toDataURL();\n",
       "    // Re-enable the keyboard manager in IPython - without this line, in FF,\n",
       "    // the notebook keyboard shortcuts fail.\n",
       "    IPython.keyboard_manager.enable()\n",
       "    $(fig.parent_element).html('<img src=\"' + dataURL + '\" width=\"' + width + '\">');\n",
       "    fig.close_ws(fig, msg);\n",
       "}\n",
       "\n",
       "mpl.figure.prototype.close_ws = function(fig, msg){\n",
       "    fig.send_message('closing', msg);\n",
       "    // fig.ws.close()\n",
       "}\n",
       "\n",
       "mpl.figure.prototype.push_to_output = function(remove_interactive) {\n",
       "    // Turn the data on the canvas into data in the output cell.\n",
       "    var width = this.canvas.width/mpl.ratio\n",
       "    var dataURL = this.canvas.toDataURL();\n",
       "    this.cell_info[1]['text/html'] = '<img src=\"' + dataURL + '\" width=\"' + width + '\">';\n",
       "}\n",
       "\n",
       "mpl.figure.prototype.updated_canvas_event = function() {\n",
       "    // Tell IPython that the notebook contents must change.\n",
       "    IPython.notebook.set_dirty(true);\n",
       "    this.send_message(\"ack\", {});\n",
       "    var fig = this;\n",
       "    // Wait a second, then push the new image to the DOM so\n",
       "    // that it is saved nicely (might be nice to debounce this).\n",
       "    setTimeout(function () { fig.push_to_output() }, 1000);\n",
       "}\n",
       "\n",
       "mpl.figure.prototype._init_toolbar = function() {\n",
       "    var fig = this;\n",
       "\n",
       "    var nav_element = $('<div/>')\n",
       "    nav_element.attr('style', 'width: 100%');\n",
       "    this.root.append(nav_element);\n",
       "\n",
       "    // Define a callback function for later on.\n",
       "    function toolbar_event(event) {\n",
       "        return fig.toolbar_button_onclick(event['data']);\n",
       "    }\n",
       "    function toolbar_mouse_event(event) {\n",
       "        return fig.toolbar_button_onmouseover(event['data']);\n",
       "    }\n",
       "\n",
       "    for(var toolbar_ind in mpl.toolbar_items){\n",
       "        var name = mpl.toolbar_items[toolbar_ind][0];\n",
       "        var tooltip = mpl.toolbar_items[toolbar_ind][1];\n",
       "        var image = mpl.toolbar_items[toolbar_ind][2];\n",
       "        var method_name = mpl.toolbar_items[toolbar_ind][3];\n",
       "\n",
       "        if (!name) { continue; };\n",
       "\n",
       "        var button = $('<button class=\"btn btn-default\" href=\"#\" title=\"' + name + '\"><i class=\"fa ' + image + ' fa-lg\"></i></button>');\n",
       "        button.click(method_name, toolbar_event);\n",
       "        button.mouseover(tooltip, toolbar_mouse_event);\n",
       "        nav_element.append(button);\n",
       "    }\n",
       "\n",
       "    // Add the status bar.\n",
       "    var status_bar = $('<span class=\"mpl-message\" style=\"text-align:right; float: right;\"/>');\n",
       "    nav_element.append(status_bar);\n",
       "    this.message = status_bar[0];\n",
       "\n",
       "    // Add the close button to the window.\n",
       "    var buttongrp = $('<div class=\"btn-group inline pull-right\"></div>');\n",
       "    var button = $('<button class=\"btn btn-mini btn-primary\" href=\"#\" title=\"Stop Interaction\"><i class=\"fa fa-power-off icon-remove icon-large\"></i></button>');\n",
       "    button.click(function (evt) { fig.handle_close(fig, {}); } );\n",
       "    button.mouseover('Stop Interaction', toolbar_mouse_event);\n",
       "    buttongrp.append(button);\n",
       "    var titlebar = this.root.find($('.ui-dialog-titlebar'));\n",
       "    titlebar.prepend(buttongrp);\n",
       "}\n",
       "\n",
       "mpl.figure.prototype._root_extra_style = function(el){\n",
       "    var fig = this\n",
       "    el.on(\"remove\", function(){\n",
       "\tfig.close_ws(fig, {});\n",
       "    });\n",
       "}\n",
       "\n",
       "mpl.figure.prototype._canvas_extra_style = function(el){\n",
       "    // this is important to make the div 'focusable\n",
       "    el.attr('tabindex', 0)\n",
       "    // reach out to IPython and tell the keyboard manager to turn it's self\n",
       "    // off when our div gets focus\n",
       "\n",
       "    // location in version 3\n",
       "    if (IPython.notebook.keyboard_manager) {\n",
       "        IPython.notebook.keyboard_manager.register_events(el);\n",
       "    }\n",
       "    else {\n",
       "        // location in version 2\n",
       "        IPython.keyboard_manager.register_events(el);\n",
       "    }\n",
       "\n",
       "}\n",
       "\n",
       "mpl.figure.prototype._key_event_extra = function(event, name) {\n",
       "    var manager = IPython.notebook.keyboard_manager;\n",
       "    if (!manager)\n",
       "        manager = IPython.keyboard_manager;\n",
       "\n",
       "    // Check for shift+enter\n",
       "    if (event.shiftKey && event.which == 13) {\n",
       "        this.canvas_div.blur();\n",
       "        event.shiftKey = false;\n",
       "        // Send a \"J\" for go to next cell\n",
       "        event.which = 74;\n",
       "        event.keyCode = 74;\n",
       "        manager.command_mode();\n",
       "        manager.handle_keydown(event);\n",
       "    }\n",
       "}\n",
       "\n",
       "mpl.figure.prototype.handle_save = function(fig, msg) {\n",
       "    fig.ondownload(fig, null);\n",
       "}\n",
       "\n",
       "\n",
       "mpl.find_output_cell = function(html_output) {\n",
       "    // Return the cell and output element which can be found *uniquely* in the notebook.\n",
       "    // Note - this is a bit hacky, but it is done because the \"notebook_saving.Notebook\"\n",
       "    // IPython event is triggered only after the cells have been serialised, which for\n",
       "    // our purposes (turning an active figure into a static one), is too late.\n",
       "    var cells = IPython.notebook.get_cells();\n",
       "    var ncells = cells.length;\n",
       "    for (var i=0; i<ncells; i++) {\n",
       "        var cell = cells[i];\n",
       "        if (cell.cell_type === 'code'){\n",
       "            for (var j=0; j<cell.output_area.outputs.length; j++) {\n",
       "                var data = cell.output_area.outputs[j];\n",
       "                if (data.data) {\n",
       "                    // IPython >= 3 moved mimebundle to data attribute of output\n",
       "                    data = data.data;\n",
       "                }\n",
       "                if (data['text/html'] == html_output) {\n",
       "                    return [cell, data, j];\n",
       "                }\n",
       "            }\n",
       "        }\n",
       "    }\n",
       "}\n",
       "\n",
       "// Register the function which deals with the matplotlib target/channel.\n",
       "// The kernel may be null if the page has been refreshed.\n",
       "if (IPython.notebook.kernel != null) {\n",
       "    IPython.notebook.kernel.comm_manager.register_target('matplotlib', mpl.mpl_figure_comm);\n",
       "}\n"
      ],
      "text/plain": [
       "<IPython.core.display.Javascript object>"
      ]
     },
     "metadata": {},
     "output_type": "display_data"
    },
    {
     "data": {
      "text/html": [
       "<img src=\"data:image/png;base64,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\" width=\"913\">"
      ],
      "text/plain": [
       "<IPython.core.display.HTML object>"
      ]
     },
     "metadata": {},
     "output_type": "display_data"
    }
   ],
   "source": [
    "%matplotlib notebook\n",
    "sheet = Sheet(4, 256)\n",
    "sheet_vis = SheetVisualizer(sheet, sensor)\n",
    "sheet_vis.show()"
   ]
  },
  {
   "cell_type": "markdown",
   "metadata": {},
   "source": [
    "The visualisation now works but is quite confusing!\n",
    "\n",
    "Some initial observations:\n",
    "* There is a time delay between the reconstructions.\n",
    "* The reconstructions are stacked - later stacks tend to add to earlier ones rather than correct for them.\n",
    "* Part of the specialness is in the reconstruction - just summing over time is not the only option and leads to predicting the past. It takes about 127 repetitions to adjust.\n",
    "* But the underlying predictions are binary for any one time period.\n",
    "* This is also closed loop prediction.\n",
    "* Remember that the input for stack 1 is the residual; the input for stack 0 is the binary input.\n",
    "* The lower causes are like low-resolution associations at a macro scale.\n",
    "* You can get fairly close by just recording a mean of the signal - is this what the thalamus is doing?\n",
    "* Each has different speeds - the mean is slow to respond and almost static.\n",
    "* **Another plot with errors would be useful - raw_input - mean, raw_input - each of stack_inputs_reconstructions.**\n",
    "\n",
    "Are there any spatial predictions across the spectrum - e.g. if a signal is seen in one set of frequencies does that lead to a prediction in another area?"
   ]
  },
  {
   "cell_type": "code",
   "execution_count": null,
   "metadata": {},
   "outputs": [],
   "source": [
    "def plot_eigenvectors(stack, spacer_len=0):\n",
    "        \"\"\"Plot the eigenvectors in the stack.\n",
    "\n",
    "        Args:\n",
    "            spacer_len - integer setting a spacing between eigenvectors.\n",
    "        \"\"\"\n",
    "        evs = stack.get_eigenvectors()\n",
    "        # Define result arrays with extra spacing\n",
    "        result_arrays = [\n",
    "            np.zeros((stack.vec_len+spacer_len)*len(stage))\n",
    "            for stage in evs]\n",
    "        for result_array, stage_vpus in zip(result_arrays, evs):\n",
    "            i = 0\n",
    "            for vpu in stage_vpus:\n",
    "                result_array[i:i+stack.vec_len] = vpu.ravel()\n",
    "                i += stack.vec_len+spacer_len\n",
    "        fig, axes = plt.subplots(len(evs), 1)\n",
    "        for ax, result_array in zip(axes, result_arrays):\n",
    "            ax.bar(np.arange(0, result_array.shape[0]), result_array)\n",
    "            ax.set_xticks(\n",
    "                np.arange(-0.5, result_array.shape[0], stack.vec_len+spacer_len)\n",
    "            )\n",
    "            ax.xaxis.grid(True)\n",
    "            ax.set_xticklabels([])\n",
    "        fig.subplots_adjust(hspace=0.2)\n",
    "        plt.show()"
   ]
  },
  {
   "cell_type": "code",
   "execution_count": null,
   "metadata": {},
   "outputs": [],
   "source": [
    "plot_eigenvectors(sheet_vis.sheet.stacks[0])"
   ]
  },
  {
   "cell_type": "code",
   "execution_count": null,
   "metadata": {},
   "outputs": [],
   "source": [
    "plot_eigenvectors(sheet_vis.sheet.stacks[1])"
   ]
  },
  {
   "cell_type": "code",
   "execution_count": null,
   "metadata": {},
   "outputs": [],
   "source": [
    "plot_eigenvectors(sheet_vis.sheet.stacks[2])"
   ]
  },
  {
   "cell_type": "code",
   "execution_count": null,
   "metadata": {},
   "outputs": [],
   "source": [
    "self = sheet_vis\n",
    "# Get mean-removed input data\n",
    "input_data, raw_frame = self.sensor.get_frame_plus_raw()\n",
    "causes, stack_inputs = self.sheet.iterate(input_data)\n",
    "self.input_buffers[:, :, self.count] = stack_inputs\n",
    "# Sum across samples in buffer\n",
    "sums = self.input_buffers.sum(axis=2).astype(np.int32)\n",
    "# Get mean and mean multiplier for reconstruction\n",
    "mean = self.sensor.mean\n",
    "mean_min = np.minimum(mean, 255-mean)\n",
    "# Total across more and more stacks for each reconstruction\n",
    "totals = [\n",
    "        mean + (sums[:, 0:i+1].sum(axis=1).reshape(-1, 1)*mean_min)//127\n",
    "        for i in range(0, sums.shape[1])\n",
    "]\n",
    "# Get y_data as list\n",
    "y_data = [raw_frame, mean] + totals\n",
    "# Update plots\n",
    "self.set_plots(y_data)\n",
    "# Increment Count and wrap if necessary\n",
    "self.count = (self.count + 1) % self.buf_length"
   ]
  },
  {
   "cell_type": "code",
   "execution_count": null,
   "metadata": {},
   "outputs": [],
   "source": [
    "input_data.T, raw_frame.T"
   ]
  },
  {
   "cell_type": "markdown",
   "metadata": {},
   "source": [
    "So the input and the raw frame are being computed correctly but the mean isn't - it's set to 0"
   ]
  },
  {
   "cell_type": "code",
   "execution_count": null,
   "metadata": {},
   "outputs": [],
   "source": [
    "self.sensor.sum.T"
   ]
  },
  {
   "cell_type": "code",
   "execution_count": null,
   "metadata": {},
   "outputs": [],
   "source": [
    "self.sensor.signal_mean.T"
   ]
  },
  {
   "cell_type": "code",
   "execution_count": null,
   "metadata": {},
   "outputs": [],
   "source": [
    "self.sensor.count"
   ]
  },
  {
   "cell_type": "code",
   "execution_count": null,
   "metadata": {},
   "outputs": [],
   "source": [
    "(self.sensor.sum//self.sensor.count).T"
   ]
  },
  {
   "cell_type": "code",
   "execution_count": null,
   "metadata": {
    "scrolled": true
   },
   "outputs": [],
   "source": [
    "(self.sensor.sum//self.sensor.count).astype(np.uint8).T"
   ]
  },
  {
   "cell_type": "code",
   "execution_count": null,
   "metadata": {},
   "outputs": [],
   "source": [
    "self.sensor.signal_mean.T"
   ]
  },
  {
   "cell_type": "code",
   "execution_count": null,
   "metadata": {
    "scrolled": true
   },
   "outputs": [],
   "source": [
    "mean_min.shape"
   ]
  },
  {
   "cell_type": "code",
   "execution_count": null,
   "metadata": {},
   "outputs": [],
   "source": [
    "_, initial_frame = self.sensor.source.read()\n",
    "flattened = initial_frame.reshape(-1, 1)\n",
    "# Resize to nearest power of vec_len\n",
    "output = resize(flattened, self.sensor.power_len).astype(np.uint8)\n",
    "mean_2 = self.sensor.update_mean(output)"
   ]
  },
  {
   "cell_type": "code",
   "execution_count": null,
   "metadata": {},
   "outputs": [],
   "source": [
    "output.T"
   ]
  },
  {
   "cell_type": "code",
   "execution_count": null,
   "metadata": {},
   "outputs": [],
   "source": [
    "mean_2.T"
   ]
  },
  {
   "cell_type": "code",
   "execution_count": null,
   "metadata": {},
   "outputs": [],
   "source": [
    "from src.var_processor.sensor import signal_adjust\n",
    "\n",
    "signed = signal_adjust(output, mean_2)"
   ]
  },
  {
   "cell_type": "code",
   "execution_count": null,
   "metadata": {},
   "outputs": [],
   "source": [
    "(output - mean_2).astype(np.int16).T"
   ]
  },
  {
   "cell_type": "code",
   "execution_count": null,
   "metadata": {},
   "outputs": [],
   "source": [
    "mean_2.T"
   ]
  },
  {
   "cell_type": "code",
   "execution_count": null,
   "metadata": {},
   "outputs": [],
   "source": [
    "signed.T"
   ]
  },
  {
   "cell_type": "code",
   "execution_count": null,
   "metadata": {},
   "outputs": [],
   "source": [
    "(sums[:, 0:i+1].sum(axis=1)).shape"
   ]
  },
  {
   "cell_type": "code",
   "execution_count": null,
   "metadata": {},
   "outputs": [],
   "source": [
    "(sums[:, 0:i+1].sum(axis=1)*mean_min).shape"
   ]
  },
  {
   "cell_type": "code",
   "execution_count": null,
   "metadata": {},
   "outputs": [],
   "source": [
    "input_data, raw_frame = self.sensor.get_frame_plus_raw()\n",
    "fig, ax = plt.subplots()\n",
    "line, = ax.plot(raw_frame)"
   ]
  },
  {
   "cell_type": "code",
   "execution_count": null,
   "metadata": {},
   "outputs": [],
   "source": [
    "totals = [\n",
    "            mean + (sums[:, 0:i+1].sum(axis=1).reshape(-1, 1)*mean_min)//127 \n",
    "            for i in range(0, sums.shape[1])\n",
    "        ]"
   ]
  },
  {
   "cell_type": "code",
   "execution_count": null,
   "metadata": {},
   "outputs": [],
   "source": [
    "(sums[:, 0:i+1].sum(axis=1).reshape(-1, 1)*mean_min).T"
   ]
  },
  {
   "cell_type": "code",
   "execution_count": null,
   "metadata": {},
   "outputs": [],
   "source": [
    "sums[:, 0:3].sum(axis=1).reshape(-1, 1).T"
   ]
  },
  {
   "cell_type": "markdown",
   "metadata": {},
   "source": [
    "The sums are zero! Why?\n",
    "\n",
    "Input_data is zero."
   ]
  },
  {
   "cell_type": "code",
   "execution_count": null,
   "metadata": {},
   "outputs": [],
   "source": [
    "input_data, raw_frame = self.sensor.get_frame_plus_raw()"
   ]
  },
  {
   "cell_type": "code",
   "execution_count": null,
   "metadata": {},
   "outputs": [],
   "source": [
    "input_data.T"
   ]
  },
  {
   "cell_type": "code",
   "execution_count": null,
   "metadata": {},
   "outputs": [],
   "source": [
    "# Get frame and flatten to 1D array\n",
    "_, initial_frame = self.sensor.source.read()\n",
    "flattened = initial_frame.reshape(-1, 1)\n",
    "# Resize to nearest power of vec_len\n",
    "output = resize(flattened, self.sensor.power_len).astype(np.uint8)\n",
    "mean = self.sensor.update_mean(output)\n",
    "signed = signal_adjust(output, mean)"
   ]
  },
  {
   "cell_type": "markdown",
   "metadata": {},
   "source": [
    "Below could all be tested by looking for non-zero values."
   ]
  },
  {
   "cell_type": "code",
   "execution_count": null,
   "metadata": {},
   "outputs": [],
   "source": [
    "initial_frame.T"
   ]
  },
  {
   "cell_type": "code",
   "execution_count": null,
   "metadata": {},
   "outputs": [],
   "source": [
    "flattened.T"
   ]
  },
  {
   "cell_type": "code",
   "execution_count": null,
   "metadata": {},
   "outputs": [],
   "source": [
    "output.T"
   ]
  },
  {
   "cell_type": "code",
   "execution_count": null,
   "metadata": {},
   "outputs": [],
   "source": [
    "mean.T"
   ]
  },
  {
   "cell_type": "code",
   "execution_count": null,
   "metadata": {},
   "outputs": [],
   "source": [
    "signed.T"
   ]
  },
  {
   "cell_type": "markdown",
   "metadata": {},
   "source": [
    "So the issue is signal_adjust."
   ]
  },
  {
   "cell_type": "code",
   "execution_count": null,
   "metadata": {},
   "outputs": [],
   "source": [
    "signal_max = 255\n",
    "signal = output\n",
    "signal = signal.astype(np.int16)\n",
    "mean = signal.astype(np.int16)\n",
    "zero_mean = signal - mean\n",
    "# Get signs\n",
    "signs = np.sign(zero_mean)\n",
    "# PBThreshold - outputs values {-1, 0, 1}\n",
    "# We want symmetric mean for reconstruction\n",
    "signal_max = np.minimum(mean, (signal_max - mean))\n",
    "rand_vals = np.random.uniform(size=zero_mean.shape)*mean\n",
    "binary_values = np.where(np.abs(zero_mean) > rand_vals, 1, 0)\n",
    "# Re-add in signs\n",
    "signed = binary_values*signs\n",
    "signal_adjust_output = signed.astype(np.int8)"
   ]
  },
  {
   "cell_type": "code",
   "execution_count": null,
   "metadata": {},
   "outputs": [],
   "source": [
    "signal.T"
   ]
  },
  {
   "cell_type": "code",
   "execution_count": null,
   "metadata": {},
   "outputs": [],
   "source": [
    "mean.T"
   ]
  },
  {
   "cell_type": "code",
   "execution_count": null,
   "metadata": {},
   "outputs": [],
   "source": [
    "zero_mean.T"
   ]
  },
  {
   "cell_type": "markdown",
   "metadata": {},
   "source": [
    "Why is the signal equal to the mean! Goddamn copy and paste!"
   ]
  }
 ],
 "metadata": {
  "kernelspec": {
   "display_name": "Python 3",
   "language": "python",
   "name": "python3"
  },
  "language_info": {
   "codemirror_mode": {
    "name": "ipython",
    "version": 3
   },
   "file_extension": ".py",
   "mimetype": "text/x-python",
   "name": "python",
   "nbconvert_exporter": "python",
   "pygments_lexer": "ipython3",
   "version": "3.6.8"
  }
 },
 "nbformat": 4,
 "nbformat_minor": 2
}
